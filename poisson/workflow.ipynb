{
 "cells": [
  {
   "cell_type": "code",
   "execution_count": 99,
   "metadata": {},
   "outputs": [],
   "source": [
    "import os\n",
    "import sys\n",
    "sys.path.append(os.path.dirname(os.path.realpath(os.getcwd())))\n",
    "import pandas as pd\n",
    "import numpy as np\n",
    "import matplotlib.pyplot as plt\n",
    "from cmdstanpy import CmdStanModel, cmdstan_path\n",
    "import pickle\n",
    "import json\n",
    "from sklearn.preprocessing import PowerTransformer, StandardScaler\n",
    "import arviz as az\n",
    "import pystan\n",
    "from sklearn.metrics import mean_squared_error"
   ]
  },
  {
   "cell_type": "code",
   "execution_count": 100,
   "metadata": {
    "scrolled": false
   },
   "outputs": [
    {
     "data": {
      "text/html": [
       "<div>\n",
       "<style scoped>\n",
       "    .dataframe tbody tr th:only-of-type {\n",
       "        vertical-align: middle;\n",
       "    }\n",
       "\n",
       "    .dataframe tbody tr th {\n",
       "        vertical-align: top;\n",
       "    }\n",
       "\n",
       "    .dataframe thead th {\n",
       "        text-align: right;\n",
       "    }\n",
       "</style>\n",
       "<table border=\"1\" class=\"dataframe\">\n",
       "  <thead>\n",
       "    <tr style=\"text-align: right;\">\n",
       "      <th></th>\n",
       "      <th>s1</th>\n",
       "      <th>s2</th>\n",
       "      <th>s3</th>\n",
       "      <th>s4</th>\n",
       "      <th>s5</th>\n",
       "      <th>s6</th>\n",
       "      <th>s7</th>\n",
       "      <th>s8</th>\n",
       "      <th>s9</th>\n",
       "      <th>s10</th>\n",
       "      <th>...</th>\n",
       "      <th>s90</th>\n",
       "      <th>s91</th>\n",
       "      <th>s92</th>\n",
       "      <th>s93</th>\n",
       "      <th>s94</th>\n",
       "      <th>s95</th>\n",
       "      <th>s96</th>\n",
       "      <th>s97</th>\n",
       "      <th>s98</th>\n",
       "      <th>s99</th>\n",
       "    </tr>\n",
       "  </thead>\n",
       "  <tbody>\n",
       "    <tr>\n",
       "      <th>0</th>\n",
       "      <td>NaN</td>\n",
       "      <td>NaN</td>\n",
       "      <td>NaN</td>\n",
       "      <td>NaN</td>\n",
       "      <td>NaN</td>\n",
       "      <td>NaN</td>\n",
       "      <td>NaN</td>\n",
       "      <td>NaN</td>\n",
       "      <td>NaN</td>\n",
       "      <td>NaN</td>\n",
       "      <td>...</td>\n",
       "      <td>NaN</td>\n",
       "      <td>4.0</td>\n",
       "      <td>NaN</td>\n",
       "      <td>11.0</td>\n",
       "      <td>NaN</td>\n",
       "      <td>NaN</td>\n",
       "      <td>NaN</td>\n",
       "      <td>NaN</td>\n",
       "      <td>NaN</td>\n",
       "      <td>1.0</td>\n",
       "    </tr>\n",
       "    <tr>\n",
       "      <th>1</th>\n",
       "      <td>NaN</td>\n",
       "      <td>NaN</td>\n",
       "      <td>NaN</td>\n",
       "      <td>NaN</td>\n",
       "      <td>NaN</td>\n",
       "      <td>NaN</td>\n",
       "      <td>NaN</td>\n",
       "      <td>NaN</td>\n",
       "      <td>NaN</td>\n",
       "      <td>NaN</td>\n",
       "      <td>...</td>\n",
       "      <td>2.0</td>\n",
       "      <td>113.0</td>\n",
       "      <td>21.0</td>\n",
       "      <td>54.0</td>\n",
       "      <td>80.0</td>\n",
       "      <td>NaN</td>\n",
       "      <td>NaN</td>\n",
       "      <td>54.0</td>\n",
       "      <td>14.0</td>\n",
       "      <td>20.0</td>\n",
       "    </tr>\n",
       "    <tr>\n",
       "      <th>2</th>\n",
       "      <td>NaN</td>\n",
       "      <td>NaN</td>\n",
       "      <td>NaN</td>\n",
       "      <td>NaN</td>\n",
       "      <td>NaN</td>\n",
       "      <td>NaN</td>\n",
       "      <td>NaN</td>\n",
       "      <td>NaN</td>\n",
       "      <td>NaN</td>\n",
       "      <td>NaN</td>\n",
       "      <td>...</td>\n",
       "      <td>33.0</td>\n",
       "      <td>56.0</td>\n",
       "      <td>13.0</td>\n",
       "      <td>15.0</td>\n",
       "      <td>40.0</td>\n",
       "      <td>NaN</td>\n",
       "      <td>81.0</td>\n",
       "      <td>32.0</td>\n",
       "      <td>50.0</td>\n",
       "      <td>4.0</td>\n",
       "    </tr>\n",
       "    <tr>\n",
       "      <th>3</th>\n",
       "      <td>NaN</td>\n",
       "      <td>NaN</td>\n",
       "      <td>NaN</td>\n",
       "      <td>NaN</td>\n",
       "      <td>NaN</td>\n",
       "      <td>NaN</td>\n",
       "      <td>NaN</td>\n",
       "      <td>NaN</td>\n",
       "      <td>NaN</td>\n",
       "      <td>NaN</td>\n",
       "      <td>...</td>\n",
       "      <td>99.0</td>\n",
       "      <td>11.0</td>\n",
       "      <td>NaN</td>\n",
       "      <td>20.0</td>\n",
       "      <td>NaN</td>\n",
       "      <td>30.0</td>\n",
       "      <td>57.0</td>\n",
       "      <td>80.0</td>\n",
       "      <td>33.0</td>\n",
       "      <td>NaN</td>\n",
       "    </tr>\n",
       "    <tr>\n",
       "      <th>4</th>\n",
       "      <td>NaN</td>\n",
       "      <td>NaN</td>\n",
       "      <td>NaN</td>\n",
       "      <td>NaN</td>\n",
       "      <td>NaN</td>\n",
       "      <td>NaN</td>\n",
       "      <td>NaN</td>\n",
       "      <td>NaN</td>\n",
       "      <td>NaN</td>\n",
       "      <td>NaN</td>\n",
       "      <td>...</td>\n",
       "      <td>69.0</td>\n",
       "      <td>71.0</td>\n",
       "      <td>NaN</td>\n",
       "      <td>69.0</td>\n",
       "      <td>22.0</td>\n",
       "      <td>NaN</td>\n",
       "      <td>41.0</td>\n",
       "      <td>43.0</td>\n",
       "      <td>NaN</td>\n",
       "      <td>NaN</td>\n",
       "    </tr>\n",
       "    <tr>\n",
       "      <th>5</th>\n",
       "      <td>NaN</td>\n",
       "      <td>NaN</td>\n",
       "      <td>NaN</td>\n",
       "      <td>NaN</td>\n",
       "      <td>NaN</td>\n",
       "      <td>NaN</td>\n",
       "      <td>NaN</td>\n",
       "      <td>NaN</td>\n",
       "      <td>NaN</td>\n",
       "      <td>NaN</td>\n",
       "      <td>...</td>\n",
       "      <td>21.0</td>\n",
       "      <td>53.0</td>\n",
       "      <td>NaN</td>\n",
       "      <td>100.0</td>\n",
       "      <td>NaN</td>\n",
       "      <td>NaN</td>\n",
       "      <td>NaN</td>\n",
       "      <td>3.0</td>\n",
       "      <td>NaN</td>\n",
       "      <td>12.0</td>\n",
       "    </tr>\n",
       "    <tr>\n",
       "      <th>6</th>\n",
       "      <td>NaN</td>\n",
       "      <td>NaN</td>\n",
       "      <td>NaN</td>\n",
       "      <td>NaN</td>\n",
       "      <td>8.0</td>\n",
       "      <td>NaN</td>\n",
       "      <td>NaN</td>\n",
       "      <td>NaN</td>\n",
       "      <td>NaN</td>\n",
       "      <td>NaN</td>\n",
       "      <td>...</td>\n",
       "      <td>97.0</td>\n",
       "      <td>38.0</td>\n",
       "      <td>NaN</td>\n",
       "      <td>61.0</td>\n",
       "      <td>NaN</td>\n",
       "      <td>NaN</td>\n",
       "      <td>NaN</td>\n",
       "      <td>NaN</td>\n",
       "      <td>NaN</td>\n",
       "      <td>NaN</td>\n",
       "    </tr>\n",
       "    <tr>\n",
       "      <th>7</th>\n",
       "      <td>NaN</td>\n",
       "      <td>NaN</td>\n",
       "      <td>NaN</td>\n",
       "      <td>NaN</td>\n",
       "      <td>4.0</td>\n",
       "      <td>NaN</td>\n",
       "      <td>NaN</td>\n",
       "      <td>NaN</td>\n",
       "      <td>NaN</td>\n",
       "      <td>NaN</td>\n",
       "      <td>...</td>\n",
       "      <td>12.0</td>\n",
       "      <td>NaN</td>\n",
       "      <td>NaN</td>\n",
       "      <td>37.0</td>\n",
       "      <td>NaN</td>\n",
       "      <td>NaN</td>\n",
       "      <td>NaN</td>\n",
       "      <td>NaN</td>\n",
       "      <td>NaN</td>\n",
       "      <td>NaN</td>\n",
       "    </tr>\n",
       "    <tr>\n",
       "      <th>8</th>\n",
       "      <td>NaN</td>\n",
       "      <td>NaN</td>\n",
       "      <td>NaN</td>\n",
       "      <td>NaN</td>\n",
       "      <td>NaN</td>\n",
       "      <td>NaN</td>\n",
       "      <td>NaN</td>\n",
       "      <td>NaN</td>\n",
       "      <td>NaN</td>\n",
       "      <td>NaN</td>\n",
       "      <td>...</td>\n",
       "      <td>NaN</td>\n",
       "      <td>NaN</td>\n",
       "      <td>NaN</td>\n",
       "      <td>57.0</td>\n",
       "      <td>NaN</td>\n",
       "      <td>NaN</td>\n",
       "      <td>NaN</td>\n",
       "      <td>NaN</td>\n",
       "      <td>NaN</td>\n",
       "      <td>NaN</td>\n",
       "    </tr>\n",
       "    <tr>\n",
       "      <th>9</th>\n",
       "      <td>NaN</td>\n",
       "      <td>NaN</td>\n",
       "      <td>3.0</td>\n",
       "      <td>3.0</td>\n",
       "      <td>NaN</td>\n",
       "      <td>6.0</td>\n",
       "      <td>NaN</td>\n",
       "      <td>NaN</td>\n",
       "      <td>NaN</td>\n",
       "      <td>NaN</td>\n",
       "      <td>...</td>\n",
       "      <td>NaN</td>\n",
       "      <td>NaN</td>\n",
       "      <td>NaN</td>\n",
       "      <td>52.0</td>\n",
       "      <td>NaN</td>\n",
       "      <td>NaN</td>\n",
       "      <td>NaN</td>\n",
       "      <td>NaN</td>\n",
       "      <td>NaN</td>\n",
       "      <td>NaN</td>\n",
       "    </tr>\n",
       "    <tr>\n",
       "      <th>10</th>\n",
       "      <td>NaN</td>\n",
       "      <td>NaN</td>\n",
       "      <td>9.0</td>\n",
       "      <td>2.0</td>\n",
       "      <td>NaN</td>\n",
       "      <td>NaN</td>\n",
       "      <td>NaN</td>\n",
       "      <td>NaN</td>\n",
       "      <td>NaN</td>\n",
       "      <td>NaN</td>\n",
       "      <td>...</td>\n",
       "      <td>NaN</td>\n",
       "      <td>NaN</td>\n",
       "      <td>NaN</td>\n",
       "      <td>11.0</td>\n",
       "      <td>NaN</td>\n",
       "      <td>NaN</td>\n",
       "      <td>NaN</td>\n",
       "      <td>NaN</td>\n",
       "      <td>NaN</td>\n",
       "      <td>NaN</td>\n",
       "    </tr>\n",
       "    <tr>\n",
       "      <th>11</th>\n",
       "      <td>9.0</td>\n",
       "      <td>22.0</td>\n",
       "      <td>17.0</td>\n",
       "      <td>NaN</td>\n",
       "      <td>1.0</td>\n",
       "      <td>NaN</td>\n",
       "      <td>NaN</td>\n",
       "      <td>NaN</td>\n",
       "      <td>NaN</td>\n",
       "      <td>NaN</td>\n",
       "      <td>...</td>\n",
       "      <td>NaN</td>\n",
       "      <td>NaN</td>\n",
       "      <td>NaN</td>\n",
       "      <td>NaN</td>\n",
       "      <td>NaN</td>\n",
       "      <td>NaN</td>\n",
       "      <td>NaN</td>\n",
       "      <td>NaN</td>\n",
       "      <td>NaN</td>\n",
       "      <td>NaN</td>\n",
       "    </tr>\n",
       "    <tr>\n",
       "      <th>12</th>\n",
       "      <td>28.0</td>\n",
       "      <td>14.0</td>\n",
       "      <td>37.0</td>\n",
       "      <td>NaN</td>\n",
       "      <td>NaN</td>\n",
       "      <td>NaN</td>\n",
       "      <td>NaN</td>\n",
       "      <td>NaN</td>\n",
       "      <td>NaN</td>\n",
       "      <td>NaN</td>\n",
       "      <td>...</td>\n",
       "      <td>NaN</td>\n",
       "      <td>NaN</td>\n",
       "      <td>NaN</td>\n",
       "      <td>NaN</td>\n",
       "      <td>NaN</td>\n",
       "      <td>NaN</td>\n",
       "      <td>NaN</td>\n",
       "      <td>NaN</td>\n",
       "      <td>NaN</td>\n",
       "      <td>NaN</td>\n",
       "    </tr>\n",
       "    <tr>\n",
       "      <th>13</th>\n",
       "      <td>26.0</td>\n",
       "      <td>7.0</td>\n",
       "      <td>16.0</td>\n",
       "      <td>NaN</td>\n",
       "      <td>NaN</td>\n",
       "      <td>1.0</td>\n",
       "      <td>NaN</td>\n",
       "      <td>NaN</td>\n",
       "      <td>NaN</td>\n",
       "      <td>NaN</td>\n",
       "      <td>...</td>\n",
       "      <td>NaN</td>\n",
       "      <td>NaN</td>\n",
       "      <td>NaN</td>\n",
       "      <td>NaN</td>\n",
       "      <td>NaN</td>\n",
       "      <td>NaN</td>\n",
       "      <td>NaN</td>\n",
       "      <td>NaN</td>\n",
       "      <td>NaN</td>\n",
       "      <td>NaN</td>\n",
       "    </tr>\n",
       "    <tr>\n",
       "      <th>14</th>\n",
       "      <td>34.0</td>\n",
       "      <td>12.0</td>\n",
       "      <td>NaN</td>\n",
       "      <td>NaN</td>\n",
       "      <td>1.0</td>\n",
       "      <td>NaN</td>\n",
       "      <td>NaN</td>\n",
       "      <td>NaN</td>\n",
       "      <td>NaN</td>\n",
       "      <td>NaN</td>\n",
       "      <td>...</td>\n",
       "      <td>NaN</td>\n",
       "      <td>NaN</td>\n",
       "      <td>NaN</td>\n",
       "      <td>NaN</td>\n",
       "      <td>NaN</td>\n",
       "      <td>NaN</td>\n",
       "      <td>NaN</td>\n",
       "      <td>NaN</td>\n",
       "      <td>NaN</td>\n",
       "      <td>NaN</td>\n",
       "    </tr>\n",
       "    <tr>\n",
       "      <th>15</th>\n",
       "      <td>33.0</td>\n",
       "      <td>8.0</td>\n",
       "      <td>39.0</td>\n",
       "      <td>NaN</td>\n",
       "      <td>NaN</td>\n",
       "      <td>NaN</td>\n",
       "      <td>NaN</td>\n",
       "      <td>NaN</td>\n",
       "      <td>NaN</td>\n",
       "      <td>NaN</td>\n",
       "      <td>...</td>\n",
       "      <td>NaN</td>\n",
       "      <td>NaN</td>\n",
       "      <td>NaN</td>\n",
       "      <td>NaN</td>\n",
       "      <td>NaN</td>\n",
       "      <td>NaN</td>\n",
       "      <td>NaN</td>\n",
       "      <td>NaN</td>\n",
       "      <td>NaN</td>\n",
       "      <td>NaN</td>\n",
       "    </tr>\n",
       "    <tr>\n",
       "      <th>16</th>\n",
       "      <td>32.0</td>\n",
       "      <td>25.0</td>\n",
       "      <td>17.0</td>\n",
       "      <td>NaN</td>\n",
       "      <td>NaN</td>\n",
       "      <td>NaN</td>\n",
       "      <td>NaN</td>\n",
       "      <td>NaN</td>\n",
       "      <td>19.0</td>\n",
       "      <td>NaN</td>\n",
       "      <td>...</td>\n",
       "      <td>NaN</td>\n",
       "      <td>NaN</td>\n",
       "      <td>NaN</td>\n",
       "      <td>NaN</td>\n",
       "      <td>NaN</td>\n",
       "      <td>NaN</td>\n",
       "      <td>NaN</td>\n",
       "      <td>NaN</td>\n",
       "      <td>NaN</td>\n",
       "      <td>NaN</td>\n",
       "    </tr>\n",
       "    <tr>\n",
       "      <th>17</th>\n",
       "      <td>55.0</td>\n",
       "      <td>96.0</td>\n",
       "      <td>36.0</td>\n",
       "      <td>NaN</td>\n",
       "      <td>NaN</td>\n",
       "      <td>NaN</td>\n",
       "      <td>NaN</td>\n",
       "      <td>NaN</td>\n",
       "      <td>59.0</td>\n",
       "      <td>NaN</td>\n",
       "      <td>...</td>\n",
       "      <td>NaN</td>\n",
       "      <td>NaN</td>\n",
       "      <td>NaN</td>\n",
       "      <td>NaN</td>\n",
       "      <td>NaN</td>\n",
       "      <td>NaN</td>\n",
       "      <td>NaN</td>\n",
       "      <td>NaN</td>\n",
       "      <td>NaN</td>\n",
       "      <td>NaN</td>\n",
       "    </tr>\n",
       "    <tr>\n",
       "      <th>18</th>\n",
       "      <td>24.0</td>\n",
       "      <td>50.0</td>\n",
       "      <td>53.0</td>\n",
       "      <td>NaN</td>\n",
       "      <td>NaN</td>\n",
       "      <td>NaN</td>\n",
       "      <td>NaN</td>\n",
       "      <td>NaN</td>\n",
       "      <td>28.0</td>\n",
       "      <td>NaN</td>\n",
       "      <td>...</td>\n",
       "      <td>NaN</td>\n",
       "      <td>NaN</td>\n",
       "      <td>NaN</td>\n",
       "      <td>NaN</td>\n",
       "      <td>NaN</td>\n",
       "      <td>NaN</td>\n",
       "      <td>NaN</td>\n",
       "      <td>NaN</td>\n",
       "      <td>NaN</td>\n",
       "      <td>NaN</td>\n",
       "    </tr>\n",
       "    <tr>\n",
       "      <th>19</th>\n",
       "      <td>74.0</td>\n",
       "      <td>16.0</td>\n",
       "      <td>8.0</td>\n",
       "      <td>NaN</td>\n",
       "      <td>NaN</td>\n",
       "      <td>NaN</td>\n",
       "      <td>NaN</td>\n",
       "      <td>NaN</td>\n",
       "      <td>10.0</td>\n",
       "      <td>NaN</td>\n",
       "      <td>...</td>\n",
       "      <td>NaN</td>\n",
       "      <td>NaN</td>\n",
       "      <td>NaN</td>\n",
       "      <td>NaN</td>\n",
       "      <td>NaN</td>\n",
       "      <td>NaN</td>\n",
       "      <td>NaN</td>\n",
       "      <td>NaN</td>\n",
       "      <td>NaN</td>\n",
       "      <td>NaN</td>\n",
       "    </tr>\n",
       "    <tr>\n",
       "      <th>20</th>\n",
       "      <td>57.0</td>\n",
       "      <td>NaN</td>\n",
       "      <td>6.0</td>\n",
       "      <td>NaN</td>\n",
       "      <td>NaN</td>\n",
       "      <td>NaN</td>\n",
       "      <td>NaN</td>\n",
       "      <td>4.0</td>\n",
       "      <td>12.0</td>\n",
       "      <td>NaN</td>\n",
       "      <td>...</td>\n",
       "      <td>NaN</td>\n",
       "      <td>NaN</td>\n",
       "      <td>NaN</td>\n",
       "      <td>NaN</td>\n",
       "      <td>NaN</td>\n",
       "      <td>NaN</td>\n",
       "      <td>NaN</td>\n",
       "      <td>NaN</td>\n",
       "      <td>NaN</td>\n",
       "      <td>NaN</td>\n",
       "    </tr>\n",
       "    <tr>\n",
       "      <th>21</th>\n",
       "      <td>27.0</td>\n",
       "      <td>NaN</td>\n",
       "      <td>NaN</td>\n",
       "      <td>NaN</td>\n",
       "      <td>NaN</td>\n",
       "      <td>NaN</td>\n",
       "      <td>NaN</td>\n",
       "      <td>38.0</td>\n",
       "      <td>19.0</td>\n",
       "      <td>NaN</td>\n",
       "      <td>...</td>\n",
       "      <td>NaN</td>\n",
       "      <td>NaN</td>\n",
       "      <td>NaN</td>\n",
       "      <td>NaN</td>\n",
       "      <td>NaN</td>\n",
       "      <td>NaN</td>\n",
       "      <td>NaN</td>\n",
       "      <td>NaN</td>\n",
       "      <td>NaN</td>\n",
       "      <td>NaN</td>\n",
       "    </tr>\n",
       "    <tr>\n",
       "      <th>22</th>\n",
       "      <td>NaN</td>\n",
       "      <td>NaN</td>\n",
       "      <td>NaN</td>\n",
       "      <td>NaN</td>\n",
       "      <td>NaN</td>\n",
       "      <td>NaN</td>\n",
       "      <td>NaN</td>\n",
       "      <td>34.0</td>\n",
       "      <td>10.0</td>\n",
       "      <td>NaN</td>\n",
       "      <td>...</td>\n",
       "      <td>NaN</td>\n",
       "      <td>NaN</td>\n",
       "      <td>NaN</td>\n",
       "      <td>NaN</td>\n",
       "      <td>NaN</td>\n",
       "      <td>NaN</td>\n",
       "      <td>NaN</td>\n",
       "      <td>NaN</td>\n",
       "      <td>NaN</td>\n",
       "      <td>NaN</td>\n",
       "    </tr>\n",
       "    <tr>\n",
       "      <th>23</th>\n",
       "      <td>NaN</td>\n",
       "      <td>NaN</td>\n",
       "      <td>NaN</td>\n",
       "      <td>NaN</td>\n",
       "      <td>NaN</td>\n",
       "      <td>NaN</td>\n",
       "      <td>NaN</td>\n",
       "      <td>50.0</td>\n",
       "      <td>26.0</td>\n",
       "      <td>NaN</td>\n",
       "      <td>...</td>\n",
       "      <td>NaN</td>\n",
       "      <td>NaN</td>\n",
       "      <td>NaN</td>\n",
       "      <td>NaN</td>\n",
       "      <td>NaN</td>\n",
       "      <td>NaN</td>\n",
       "      <td>NaN</td>\n",
       "      <td>NaN</td>\n",
       "      <td>NaN</td>\n",
       "      <td>NaN</td>\n",
       "    </tr>\n",
       "    <tr>\n",
       "      <th>24</th>\n",
       "      <td>NaN</td>\n",
       "      <td>NaN</td>\n",
       "      <td>NaN</td>\n",
       "      <td>NaN</td>\n",
       "      <td>NaN</td>\n",
       "      <td>NaN</td>\n",
       "      <td>NaN</td>\n",
       "      <td>23.0</td>\n",
       "      <td>13.0</td>\n",
       "      <td>NaN</td>\n",
       "      <td>...</td>\n",
       "      <td>NaN</td>\n",
       "      <td>NaN</td>\n",
       "      <td>NaN</td>\n",
       "      <td>NaN</td>\n",
       "      <td>NaN</td>\n",
       "      <td>NaN</td>\n",
       "      <td>NaN</td>\n",
       "      <td>NaN</td>\n",
       "      <td>NaN</td>\n",
       "      <td>NaN</td>\n",
       "    </tr>\n",
       "    <tr>\n",
       "      <th>25</th>\n",
       "      <td>NaN</td>\n",
       "      <td>NaN</td>\n",
       "      <td>NaN</td>\n",
       "      <td>NaN</td>\n",
       "      <td>NaN</td>\n",
       "      <td>NaN</td>\n",
       "      <td>NaN</td>\n",
       "      <td>17.0</td>\n",
       "      <td>51.0</td>\n",
       "      <td>NaN</td>\n",
       "      <td>...</td>\n",
       "      <td>NaN</td>\n",
       "      <td>NaN</td>\n",
       "      <td>NaN</td>\n",
       "      <td>NaN</td>\n",
       "      <td>NaN</td>\n",
       "      <td>NaN</td>\n",
       "      <td>NaN</td>\n",
       "      <td>NaN</td>\n",
       "      <td>NaN</td>\n",
       "      <td>NaN</td>\n",
       "    </tr>\n",
       "    <tr>\n",
       "      <th>26</th>\n",
       "      <td>NaN</td>\n",
       "      <td>NaN</td>\n",
       "      <td>NaN</td>\n",
       "      <td>NaN</td>\n",
       "      <td>NaN</td>\n",
       "      <td>NaN</td>\n",
       "      <td>NaN</td>\n",
       "      <td>21.0</td>\n",
       "      <td>8.0</td>\n",
       "      <td>NaN</td>\n",
       "      <td>...</td>\n",
       "      <td>NaN</td>\n",
       "      <td>NaN</td>\n",
       "      <td>NaN</td>\n",
       "      <td>NaN</td>\n",
       "      <td>NaN</td>\n",
       "      <td>NaN</td>\n",
       "      <td>NaN</td>\n",
       "      <td>NaN</td>\n",
       "      <td>NaN</td>\n",
       "      <td>NaN</td>\n",
       "    </tr>\n",
       "    <tr>\n",
       "      <th>27</th>\n",
       "      <td>NaN</td>\n",
       "      <td>NaN</td>\n",
       "      <td>NaN</td>\n",
       "      <td>NaN</td>\n",
       "      <td>NaN</td>\n",
       "      <td>NaN</td>\n",
       "      <td>NaN</td>\n",
       "      <td>23.0</td>\n",
       "      <td>NaN</td>\n",
       "      <td>NaN</td>\n",
       "      <td>...</td>\n",
       "      <td>NaN</td>\n",
       "      <td>NaN</td>\n",
       "      <td>NaN</td>\n",
       "      <td>NaN</td>\n",
       "      <td>NaN</td>\n",
       "      <td>NaN</td>\n",
       "      <td>NaN</td>\n",
       "      <td>NaN</td>\n",
       "      <td>NaN</td>\n",
       "      <td>NaN</td>\n",
       "    </tr>\n",
       "    <tr>\n",
       "      <th>28</th>\n",
       "      <td>NaN</td>\n",
       "      <td>NaN</td>\n",
       "      <td>NaN</td>\n",
       "      <td>NaN</td>\n",
       "      <td>NaN</td>\n",
       "      <td>NaN</td>\n",
       "      <td>NaN</td>\n",
       "      <td>21.0</td>\n",
       "      <td>NaN</td>\n",
       "      <td>NaN</td>\n",
       "      <td>...</td>\n",
       "      <td>NaN</td>\n",
       "      <td>NaN</td>\n",
       "      <td>NaN</td>\n",
       "      <td>NaN</td>\n",
       "      <td>NaN</td>\n",
       "      <td>NaN</td>\n",
       "      <td>NaN</td>\n",
       "      <td>NaN</td>\n",
       "      <td>NaN</td>\n",
       "      <td>NaN</td>\n",
       "    </tr>\n",
       "    <tr>\n",
       "      <th>29</th>\n",
       "      <td>NaN</td>\n",
       "      <td>NaN</td>\n",
       "      <td>NaN</td>\n",
       "      <td>NaN</td>\n",
       "      <td>NaN</td>\n",
       "      <td>NaN</td>\n",
       "      <td>53.0</td>\n",
       "      <td>51.0</td>\n",
       "      <td>NaN</td>\n",
       "      <td>47.0</td>\n",
       "      <td>...</td>\n",
       "      <td>NaN</td>\n",
       "      <td>NaN</td>\n",
       "      <td>NaN</td>\n",
       "      <td>NaN</td>\n",
       "      <td>NaN</td>\n",
       "      <td>NaN</td>\n",
       "      <td>NaN</td>\n",
       "      <td>NaN</td>\n",
       "      <td>NaN</td>\n",
       "      <td>NaN</td>\n",
       "    </tr>\n",
       "    <tr>\n",
       "      <th>30</th>\n",
       "      <td>NaN</td>\n",
       "      <td>NaN</td>\n",
       "      <td>NaN</td>\n",
       "      <td>NaN</td>\n",
       "      <td>NaN</td>\n",
       "      <td>NaN</td>\n",
       "      <td>84.0</td>\n",
       "      <td>126.0</td>\n",
       "      <td>NaN</td>\n",
       "      <td>47.0</td>\n",
       "      <td>...</td>\n",
       "      <td>NaN</td>\n",
       "      <td>NaN</td>\n",
       "      <td>NaN</td>\n",
       "      <td>NaN</td>\n",
       "      <td>NaN</td>\n",
       "      <td>NaN</td>\n",
       "      <td>NaN</td>\n",
       "      <td>NaN</td>\n",
       "      <td>NaN</td>\n",
       "      <td>NaN</td>\n",
       "    </tr>\n",
       "  </tbody>\n",
       "</table>\n",
       "<p>31 rows × 99 columns</p>\n",
       "</div>"
      ],
      "text/plain": [
       "      s1    s2    s3   s4   s5   s6    s7     s8    s9   s10  ...   s90  \\\n",
       "0    NaN   NaN   NaN  NaN  NaN  NaN   NaN    NaN   NaN   NaN  ...   NaN   \n",
       "1    NaN   NaN   NaN  NaN  NaN  NaN   NaN    NaN   NaN   NaN  ...   2.0   \n",
       "2    NaN   NaN   NaN  NaN  NaN  NaN   NaN    NaN   NaN   NaN  ...  33.0   \n",
       "3    NaN   NaN   NaN  NaN  NaN  NaN   NaN    NaN   NaN   NaN  ...  99.0   \n",
       "4    NaN   NaN   NaN  NaN  NaN  NaN   NaN    NaN   NaN   NaN  ...  69.0   \n",
       "5    NaN   NaN   NaN  NaN  NaN  NaN   NaN    NaN   NaN   NaN  ...  21.0   \n",
       "6    NaN   NaN   NaN  NaN  8.0  NaN   NaN    NaN   NaN   NaN  ...  97.0   \n",
       "7    NaN   NaN   NaN  NaN  4.0  NaN   NaN    NaN   NaN   NaN  ...  12.0   \n",
       "8    NaN   NaN   NaN  NaN  NaN  NaN   NaN    NaN   NaN   NaN  ...   NaN   \n",
       "9    NaN   NaN   3.0  3.0  NaN  6.0   NaN    NaN   NaN   NaN  ...   NaN   \n",
       "10   NaN   NaN   9.0  2.0  NaN  NaN   NaN    NaN   NaN   NaN  ...   NaN   \n",
       "11   9.0  22.0  17.0  NaN  1.0  NaN   NaN    NaN   NaN   NaN  ...   NaN   \n",
       "12  28.0  14.0  37.0  NaN  NaN  NaN   NaN    NaN   NaN   NaN  ...   NaN   \n",
       "13  26.0   7.0  16.0  NaN  NaN  1.0   NaN    NaN   NaN   NaN  ...   NaN   \n",
       "14  34.0  12.0   NaN  NaN  1.0  NaN   NaN    NaN   NaN   NaN  ...   NaN   \n",
       "15  33.0   8.0  39.0  NaN  NaN  NaN   NaN    NaN   NaN   NaN  ...   NaN   \n",
       "16  32.0  25.0  17.0  NaN  NaN  NaN   NaN    NaN  19.0   NaN  ...   NaN   \n",
       "17  55.0  96.0  36.0  NaN  NaN  NaN   NaN    NaN  59.0   NaN  ...   NaN   \n",
       "18  24.0  50.0  53.0  NaN  NaN  NaN   NaN    NaN  28.0   NaN  ...   NaN   \n",
       "19  74.0  16.0   8.0  NaN  NaN  NaN   NaN    NaN  10.0   NaN  ...   NaN   \n",
       "20  57.0   NaN   6.0  NaN  NaN  NaN   NaN    4.0  12.0   NaN  ...   NaN   \n",
       "21  27.0   NaN   NaN  NaN  NaN  NaN   NaN   38.0  19.0   NaN  ...   NaN   \n",
       "22   NaN   NaN   NaN  NaN  NaN  NaN   NaN   34.0  10.0   NaN  ...   NaN   \n",
       "23   NaN   NaN   NaN  NaN  NaN  NaN   NaN   50.0  26.0   NaN  ...   NaN   \n",
       "24   NaN   NaN   NaN  NaN  NaN  NaN   NaN   23.0  13.0   NaN  ...   NaN   \n",
       "25   NaN   NaN   NaN  NaN  NaN  NaN   NaN   17.0  51.0   NaN  ...   NaN   \n",
       "26   NaN   NaN   NaN  NaN  NaN  NaN   NaN   21.0   8.0   NaN  ...   NaN   \n",
       "27   NaN   NaN   NaN  NaN  NaN  NaN   NaN   23.0   NaN   NaN  ...   NaN   \n",
       "28   NaN   NaN   NaN  NaN  NaN  NaN   NaN   21.0   NaN   NaN  ...   NaN   \n",
       "29   NaN   NaN   NaN  NaN  NaN  NaN  53.0   51.0   NaN  47.0  ...   NaN   \n",
       "30   NaN   NaN   NaN  NaN  NaN  NaN  84.0  126.0   NaN  47.0  ...   NaN   \n",
       "\n",
       "      s91   s92    s93   s94   s95   s96   s97   s98   s99  \n",
       "0     4.0   NaN   11.0   NaN   NaN   NaN   NaN   NaN   1.0  \n",
       "1   113.0  21.0   54.0  80.0   NaN   NaN  54.0  14.0  20.0  \n",
       "2    56.0  13.0   15.0  40.0   NaN  81.0  32.0  50.0   4.0  \n",
       "3    11.0   NaN   20.0   NaN  30.0  57.0  80.0  33.0   NaN  \n",
       "4    71.0   NaN   69.0  22.0   NaN  41.0  43.0   NaN   NaN  \n",
       "5    53.0   NaN  100.0   NaN   NaN   NaN   3.0   NaN  12.0  \n",
       "6    38.0   NaN   61.0   NaN   NaN   NaN   NaN   NaN   NaN  \n",
       "7     NaN   NaN   37.0   NaN   NaN   NaN   NaN   NaN   NaN  \n",
       "8     NaN   NaN   57.0   NaN   NaN   NaN   NaN   NaN   NaN  \n",
       "9     NaN   NaN   52.0   NaN   NaN   NaN   NaN   NaN   NaN  \n",
       "10    NaN   NaN   11.0   NaN   NaN   NaN   NaN   NaN   NaN  \n",
       "11    NaN   NaN    NaN   NaN   NaN   NaN   NaN   NaN   NaN  \n",
       "12    NaN   NaN    NaN   NaN   NaN   NaN   NaN   NaN   NaN  \n",
       "13    NaN   NaN    NaN   NaN   NaN   NaN   NaN   NaN   NaN  \n",
       "14    NaN   NaN    NaN   NaN   NaN   NaN   NaN   NaN   NaN  \n",
       "15    NaN   NaN    NaN   NaN   NaN   NaN   NaN   NaN   NaN  \n",
       "16    NaN   NaN    NaN   NaN   NaN   NaN   NaN   NaN   NaN  \n",
       "17    NaN   NaN    NaN   NaN   NaN   NaN   NaN   NaN   NaN  \n",
       "18    NaN   NaN    NaN   NaN   NaN   NaN   NaN   NaN   NaN  \n",
       "19    NaN   NaN    NaN   NaN   NaN   NaN   NaN   NaN   NaN  \n",
       "20    NaN   NaN    NaN   NaN   NaN   NaN   NaN   NaN   NaN  \n",
       "21    NaN   NaN    NaN   NaN   NaN   NaN   NaN   NaN   NaN  \n",
       "22    NaN   NaN    NaN   NaN   NaN   NaN   NaN   NaN   NaN  \n",
       "23    NaN   NaN    NaN   NaN   NaN   NaN   NaN   NaN   NaN  \n",
       "24    NaN   NaN    NaN   NaN   NaN   NaN   NaN   NaN   NaN  \n",
       "25    NaN   NaN    NaN   NaN   NaN   NaN   NaN   NaN   NaN  \n",
       "26    NaN   NaN    NaN   NaN   NaN   NaN   NaN   NaN   NaN  \n",
       "27    NaN   NaN    NaN   NaN   NaN   NaN   NaN   NaN   NaN  \n",
       "28    NaN   NaN    NaN   NaN   NaN   NaN   NaN   NaN   NaN  \n",
       "29    NaN   NaN    NaN   NaN   NaN   NaN   NaN   NaN   NaN  \n",
       "30    NaN   NaN    NaN   NaN   NaN   NaN   NaN   NaN   NaN  \n",
       "\n",
       "[31 rows x 99 columns]"
      ]
     },
     "execution_count": 100,
     "metadata": {},
     "output_type": "execute_result"
    }
   ],
   "source": [
    "y_data_raw = pd.read_csv(\"../data/y_count_original.csv\")\n",
    "y_data_raw.drop(columns=[\"age\"], inplace=True)\n",
    "y_data_raw"
   ]
  },
  {
   "cell_type": "code",
   "execution_count": 101,
   "metadata": {},
   "outputs": [
    {
     "data": {
      "text/plain": [
       "312.0"
      ]
     },
     "execution_count": 101,
     "metadata": {},
     "output_type": "execute_result"
    }
   ],
   "source": [
    "np.max(y_data_raw.values.flatten()[~np.isnan(y_data_raw.values.flatten())])"
   ]
  },
  {
   "cell_type": "code",
   "execution_count": 102,
   "metadata": {},
   "outputs": [],
   "source": [
    "# DDH, FF + PCC, PKM, PKG, FFG\n",
    "ship_column_index = [(1, 7), (8, 33), (34, 76), (77, 95), (96, 99)]\n",
    "engine_types = {\n",
    "    1 : \"MTU 20V 956 TB92\",\n",
    "    2 : \"GE LM2500\",\n",
    "    3 : \"MTU 20V 538 TU90\",\n",
    "    4 : \"MTU 16V 1163 TB93\"\n",
    "}\n",
    "ship_full_displacement = [5520, 3100, 170, 570, 3300]\n",
    "engine_count = [2,2,2,2,2]\n",
    "ship_engine_type = [1, 2, 3, 4, 2]\n",
    "ship_service_year = [2003, 1988, 1993, 2008, 2013]\n",
    "propulsion_system = [\"CODOG\", \"CODOG\", \"CODAD\", \"CODAG\", \"CODOG\"]\n",
    "complexity = {\n",
    "    \"CODOG\" : 1.0,\n",
    "    \"CODAG\" : 1.0,\n",
    "    \"CODAD\" : 1.3,\n",
    "}"
   ]
  },
  {
   "cell_type": "code",
   "execution_count": 103,
   "metadata": {},
   "outputs": [],
   "source": [
    "relative_displacement = {}\n",
    "engine_type = {}\n",
    "ship_complexity_data = {}\n",
    "ship_number = {}\n",
    "ship_category = {}\n",
    "for ship in y_data_raw.columns:\n",
    "    shipnum = int(ship[1:])\n",
    "    for i, (l, u) in enumerate(ship_column_index):\n",
    "        if shipnum >= l and shipnum <= u:\n",
    "            data_index = i\n",
    "            break\n",
    "    \n",
    "    relative_displacement[f\"s{shipnum}\"] = np.round(ship_full_displacement[data_index] / np.min(ship_full_displacement), decimals=4)\n",
    "    engine_type[f\"s{shipnum}\"] = ship_engine_type[data_index]\n",
    "    ship_complexity_data[f\"s{shipnum}\"] = complexity[propulsion_system[data_index]]\n",
    "    ship_number[f\"s{shipnum}\"] = shipnum\n",
    "    ship_category[f\"s{shipnum}\"] = data_index + 1"
   ]
  },
  {
   "cell_type": "code",
   "execution_count": 104,
   "metadata": {},
   "outputs": [],
   "source": [
    "relative_displacement_df = pd.DataFrame({key: np.tile(val, y_data_raw.shape[0]) for key, val in relative_displacement.items()})\n",
    "engine_type_df = pd.DataFrame({key: np.tile(val, y_data_raw.shape[0]) for key, val in engine_type.items()})\n",
    "ship_complexity_df = pd.DataFrame({key: np.tile(val, y_data_raw.shape[0]) for key, val in ship_complexity_data.items()})\n",
    "ship_number_df = pd.DataFrame({key: np.tile(val, y_data_raw.shape[0]) for key, val in ship_number.items()})\n",
    "ship_category_df = pd.DataFrame({key: np.tile(val, y_data_raw.shape[0]) for key, val in ship_category.items()})"
   ]
  },
  {
   "cell_type": "code",
   "execution_count": 73,
   "metadata": {},
   "outputs": [],
   "source": [
    "y_data_raw = y_data_raw.loc[:, ((~y_data_raw.isnull()).sum(axis=0) >= 4)]"
   ]
  },
  {
   "cell_type": "code",
   "execution_count": 106,
   "metadata": {
    "scrolled": false
   },
   "outputs": [
    {
     "data": {
      "text/plain": [
       "Index(['s1', 's2', 's3', 's4', 's5', 's6', 's7', 's8', 's9', 's10', 's11',\n",
       "       's12', 's13', 's14', 's15', 's16', 's17', 's18', 's19', 's20', 's21',\n",
       "       's22', 's23', 's24', 's25', 's26', 's27', 's28', 's29', 's30', 's31',\n",
       "       's32', 's33', 's34', 's35', 's36', 's37', 's38', 's39', 's40', 's41',\n",
       "       's42', 's43', 's44', 's45', 's46', 's47', 's48', 's49', 's50', 's51',\n",
       "       's52', 's53', 's54', 's55', 's56', 's57', 's58', 's59', 's60', 's61',\n",
       "       's62', 's63', 's64', 's65', 's66', 's67', 's68', 's69', 's70', 's71',\n",
       "       's72', 's73', 's74', 's75', 's76', 's77', 's78', 's79', 's80', 's81',\n",
       "       's82', 's83', 's84', 's85', 's86', 's87', 's88', 's89', 's90', 's91',\n",
       "       's92', 's93', 's94', 's95', 's96', 's97', 's98', 's99'],\n",
       "      dtype='object')"
      ]
     },
     "execution_count": 106,
     "metadata": {},
     "output_type": "execute_result"
    }
   ],
   "source": [
    "y_data_raw.columns"
   ]
  },
  {
   "cell_type": "code",
   "execution_count": 107,
   "metadata": {
    "scrolled": false
   },
   "outputs": [],
   "source": [
    "relative_displacement_df = relative_displacement_df[y_data_raw.columns.tolist()]\n",
    "engine_type_df = engine_type_df[y_data_raw.columns.tolist()]\n",
    "ship_complexity_df = ship_complexity_df[y_data_raw.columns.tolist()]\n",
    "ship_number_df = ship_number_df[y_data_raw.columns.tolist()]\n",
    "ship_category_df = ship_category_df[y_data_raw.columns.tolist()]\n",
    "age_df = pd.DataFrame(columns=y_data_raw.columns.tolist())\n",
    "for x in range(31):\n",
    "    age_df.loc[x] = np.tile((x)/30, age_df.shape[1])"
   ]
  },
  {
   "cell_type": "code",
   "execution_count": 122,
   "metadata": {},
   "outputs": [],
   "source": [
    "engine_type_df.transpose().reset_index(drop=True).rename(columns={0: \"engine_type\"}).to_csv(\"engine_type.csv\", columns=[\"engine_type\"])"
   ]
  },
  {
   "cell_type": "code",
   "execution_count": 108,
   "metadata": {
    "scrolled": false
   },
   "outputs": [
    {
     "name": "stderr",
     "output_type": "stream",
     "text": [
      "/home/dashadower/git_repos/aria/venv/lib/python3.6/site-packages/ipykernel_launcher.py:5: FutureWarning: Using a non-tuple sequence for multidimensional indexing is deprecated; use `arr[tuple(seq)]` instead of `arr[seq]`. In the future this will be interpreted as an array index, `arr[np.array(seq)]`, which will result either in an error or a different result.\n",
      "  \"\"\"\n"
     ]
    },
    {
     "data": {
      "text/plain": [
       "((653,), (653,), (653,), (653,), (653,), (653,), (653,), (653,))"
      ]
     },
     "execution_count": 108,
     "metadata": {},
     "output_type": "execute_result"
    }
   ],
   "source": [
    "y_data = y_data_raw.values[~np.isnan(y_data_raw.values)].astype(np.int32)\n",
    "ship_complexity_data = ship_complexity_df.values[~np.isnan(y_data_raw.values)]\n",
    "ship_age_data = age_df.values[~np.isnan(y_data_raw.values)]\n",
    "engine_data = engine_type_df.values[~np.isnan(y_data_raw.values)]\n",
    "relative_displacement_data = relative_displacement_df.values[[~np.isnan(y_data_raw.values)]] + 1\n",
    "engine_count_data = np.tile(2, y_data_raw.values[~np.isnan(y_data_raw.values)].shape[0])\n",
    "ship_number_data = ship_number_df.values[~np.isnan(y_data_raw.values)]\n",
    "ship_category_data = ship_category_df.values[~np.isnan(y_data_raw.values)]\n",
    "y_data.shape, ship_complexity_data.shape, ship_age_data.shape, engine_data.shape, relative_displacement_data.shape, engine_count_data.shape, ship_number_data.shape, ship_category_data.shape\n"
   ]
  },
  {
   "cell_type": "code",
   "execution_count": 11,
   "metadata": {},
   "outputs": [
    {
     "data": {
      "text/plain": [
       "<matplotlib.collections.PathCollection at 0x7f3d6aa6f208>"
      ]
     },
     "execution_count": 11,
     "metadata": {},
     "output_type": "execute_result"
    },
    {
     "data": {
      "image/png": "[encoded data removed]",
      "text/plain": [
       "<Figure size 432x288 with 1 Axes>"
      ]
     },
     "metadata": {
      "needs_background": "light"
     },
     "output_type": "display_data"
    }
   ],
   "source": [
    "ax = plt.gca()\n",
    "ax.scatter(y_data, relative_displacement_data)"
   ]
  },
  {
   "cell_type": "markdown",
   "metadata": {},
   "source": [
    "### 1. Conceptial Analysis\n",
    "\n",
    "### Basic terms: \n",
    "\n",
    "MTTF(Mean Time To Failure): the average amount of time a non-repairable asset operates before it fails\n",
    "\n",
    "MTTF = (total number of hours of operations) / (number of non-repairable components in system)\n",
    "\n",
    "MTBF(Mean Time Between Failure): The average time(hours) between system breakdowns\n",
    "\n",
    "MTBF = (number of operational hours) / (number of failures)\n",
    "\n",
    "### Good references:\n",
    "\n",
    "http://www.reliabilityanalytics.com/blog/2011/08/31/poisson-distribution/\n",
    "\n",
    "\"bathtub curve\"\n",
    "\n",
    "Poisson Regression: rate $\\lambda$ = $(length\\ of\\ time) \\times (failure\\ rate)$\n",
    "\n",
    "length of  time would be in years\n",
    "\n",
    "failure rate = $\\lambda$\n",
    "\n",
    "$MTBF = \\frac{1}{\\lambda}$\n",
    "\n",
    "## Example Features\n",
    "\n",
    "1. ship relative displacement($\\frac{shipsize_i}{\\textrm{min}(shipsize)}$)\n",
    "2. oldest ship age within class. per-ship age is not available\n",
    "3. propulsion method(CODOG, CODAG, etc)\n",
    "4. number of diesel engines\n",
    "5. diesel engine horsepower\n",
    "6. effective power/weight ratio ($\\frac{combined\\_diesel\\_HP}{displacement}$)\n",
    "7. relative complexity(CODAD: 1.3, CODOG: 1.0, CODAG: 1.0). Values set at my discretion. Should be viewed as strain\n",
    "8. min-max scaled age $\\frac{age - 1}{31 - 1}$, results in domain [0, 1]\n",
    "\n",
    "### Assumptions\n",
    "\n",
    "assumed failure count proportion based on propulsion system(my hypothesis):\n",
    "~~CODAG > CODOG > CODAD~~ CODAD >>>> CODAG = CODOG\n",
    "\n",
    "the older the ship, the more failure counts(may not be true. see bathtub curve)\n",
    "\n",
    "~~engine size is proportional to ship size, hence larger engine means more complex system~~\n",
    "\n",
    "propulsion system complexity - the more propulsion subsystems an engine has, the more prone it is to failures\n",
    "\n",
    "### Example Model\n",
    "\n",
    "$\\lambda = earlyfailures + random failures + wearout$\n",
    "\n",
    "early failures: related with engine type and complexity, exponentially decaying over age\n",
    "\n",
    "random failures: unmeasurable, but believed to be proportional to complexity, deemed constant over age\n",
    "\n",
    "wearout: ship age, operation uptime, complexity, exponentially increasing over age"
   ]
  },
  {
   "cell_type": "markdown",
   "metadata": {},
   "source": [
    "## 2. Observational Space\n",
    "\n",
    "For each ship $ship_i$ where $i = 1,2,3,...,99$, and $age = 1,2,3,...,31$ failure count $y_{i, age}$ is the failure count of $ship_i$ at its age since commision $age$"
   ]
  },
  {
   "cell_type": "markdown",
   "metadata": {},
   "source": [
    "## 3. Construct Summary Statistic\n",
    "\n",
    "skipping for now"
   ]
  },
  {
   "cell_type": "markdown",
   "metadata": {},
   "source": [
    "# 4. Model Development\n",
    "\n",
    "### input data:\n",
    "\n",
    "age: min-max scaled age ($\\frac{age - 1}{31 - 1}$, results in domain [0, 1])\n",
    "\n",
    "ship: ship index(1~99)\n",
    "\n",
    "relative_displacement: ($\\frac{displacement_i}{\\textrm{min}(displacement)} + 1$)\n",
    "\n",
    "complexity: relative complexity (1, 1.2, 1.5)\n",
    "\n",
    "engine: integer engine index\n",
    "\n",
    "### model:\n",
    "\\begin{aligned}\n",
    "y \\sim \\textrm{poisson}(\\lambda_{ship,age})\n",
    "\\newline\n",
    "\\textrm{log} \\ \\lambda_{ship, age} = early_{ship, age} \\times \\textrm{failure_form}(-age + 1) + wear_{ship, age} \\times \\textrm{failure_form}(age) + \\eta_{ship}\n",
    "\\newline\n",
    "early_{ship, age} = complexity_{ship}  \\times \\alpha_{engine} + \\beta_{ship} \\ \\textrm{ln} \\ relative\\_displacement\n",
    "\\newline\n",
    "wear_{ship, age} = complexity_{ship} \\times engine\\_count \\times \\gamma_{engine} + \\delta_{ship} \\ \\textrm{ln} \\ relative\\_displacement\n",
    "\\newline\n",
    "\\textrm{failure_form}(age) = \\frac{\\textrm{exp}(\\phi)^{age} - 1}{\\textrm{exp}(\\phi) - 1}\n",
    "\\newline\n",
    "\\phi \\sim \\textrm{normal}(5, 3), \\, \\phi \\in [1, \\infty)\n",
    "\\newline\n",
    "\\alpha \\sim \\textrm{normal}(1.5, 1)\n",
    "\\newline\n",
    "\\beta \\sim \\textrm{normal}(0, 0.5)\n",
    "\\newline\n",
    "\\gamma \\sim \\textrm{normal}(0, 1)\n",
    "\\newline\n",
    "\\delta \\sim \\textrm{normal}(0, 0.5)\n",
    "\\newline\n",
    "\\eta \\sim \\textrm{normal}(0, 1)\n",
    "\\end{aligned}\n",
    "\n"
   ]
  },
  {
   "cell_type": "markdown",
   "metadata": {},
   "source": [
    "## 5. Construct Summary Function"
   ]
  },
  {
   "cell_type": "markdown",
   "metadata": {},
   "source": [
    "## 6. Simulate Bayesian Ensemble\n",
    "\n",
    "The max observed failure count is 312. Therefore, $\\lambda$ should be less than 6 ($\\textrm{exp}(6) \\approx 403$)"
   ]
  },
  {
   "cell_type": "code",
   "execution_count": 12,
   "metadata": {
    "scrolled": true
   },
   "outputs": [
    {
     "name": "stderr",
     "output_type": "stream",
     "text": [
      "INFO:pystan:COMPILING THE C++ CODE FOR MODEL anon_model_5c5f91d4ffac723d024e28e0234d9921 NOW.\n"
     ]
    }
   ],
   "source": [
    "simu_ensemble_file = os.path.join(\"./models\", \"simu_bayesian_ensemble.stan\")\n",
    "simu_ensemble_model = pystan.StanModel(file=simu_ensemble_file)"
   ]
  },
  {
   "cell_type": "code",
   "execution_count": 94,
   "metadata": {},
   "outputs": [
    {
     "name": "stderr",
     "output_type": "stream",
     "text": [
      "WARNING:pystan:`warmup=0` forced with `algorithm=\"Fixed_param\"`.\n"
     ]
    }
   ],
   "source": [
    "R = 1000\n",
    "N = 1000\n",
    "simu_age = 0.9\n",
    "simu_relative_displacement = 2\n",
    "simu_complexity = 1.3\n",
    "simu_engine_count = 2\n",
    "simu_data = {\n",
    "    \"N\" : N,\n",
    "    \"age\" : simu_age,\n",
    "    \"relative_displacement\" : simu_relative_displacement,\n",
    "    \"complexity\": simu_complexity,\n",
    "    \"engine_count\" : simu_engine_count,\n",
    "}\n",
    "simu_ensemble_fit = simu_ensemble_model.sampling(iter=R, algorithm=\"Fixed_param\", chains=1, data=simu_data)"
   ]
  },
  {
   "cell_type": "code",
   "execution_count": 95,
   "metadata": {},
   "outputs": [],
   "source": [
    "simu_lambdas = simu_ensemble_fit.extract(pars=[\"lambda\"])[\"lambda\"]\n",
    "simu_ys = simu_ensemble_fit.extract(pars=[\"y\"])[\"y\"]"
   ]
  },
  {
   "cell_type": "code",
   "execution_count": 96,
   "metadata": {
    "scrolled": true
   },
   "outputs": [
    {
     "data": {
      "text/plain": [
       "0.056350859317772256"
      ]
     },
     "execution_count": 96,
     "metadata": {},
     "output_type": "execute_result"
    }
   ],
   "source": [
    "np.mean(simu_lambdas[~np.isnan(simu_lambdas)])"
   ]
  },
  {
   "cell_type": "markdown",
   "metadata": {},
   "source": [
    "## 7. Prior Checks"
   ]
  },
  {
   "cell_type": "code",
   "execution_count": 97,
   "metadata": {},
   "outputs": [
    {
     "data": {
      "text/plain": [
       "879"
      ]
     },
     "execution_count": 97,
     "metadata": {},
     "output_type": "execute_result"
    }
   ],
   "source": [
    "np.sum(simu_lambdas[~np.isnan(simu_lambdas)] < 6)"
   ]
  },
  {
   "cell_type": "code",
   "execution_count": 98,
   "metadata": {
    "scrolled": true
   },
   "outputs": [
    {
     "data": {
      "image/png": "[encoded data removed]",
      "text/plain": [
       "<Figure size 432x288 with 1 Axes>"
      ]
     },
     "metadata": {
      "needs_background": "light"
     },
     "output_type": "display_data"
    }
   ],
   "source": [
    "ax = plt.gca()\n",
    "pd.Series(y_data).plot.hist(ax=ax)\n",
    "pd.Series(y_data[np.logical_and(ship_age_data == simu_age, relative_displacement_data == simu_relative_displacement)]).plot.hist(ax=ax)\n",
    "for x in range(100):\n",
    "    pd.Series(simu_ys[x]).plot.hist(ax=ax, histtype=\"step\")\n"
   ]
  },
  {
   "cell_type": "markdown",
   "metadata": {},
   "source": [
    "## 8. Configure Algorithm\n",
    "\n",
    "use default settings"
   ]
  },
  {
   "cell_type": "markdown",
   "metadata": {},
   "source": [
    "## 9. Fit Simulated Ensemble"
   ]
  },
  {
   "cell_type": "code",
   "execution_count": 18,
   "metadata": {},
   "outputs": [
    {
     "name": "stderr",
     "output_type": "stream",
     "text": [
      "INFO:pystan:COMPILING THE C++ CODE FOR MODEL anon_model_a211305f0880372c96d270735e9d1640 NOW.\n"
     ]
    }
   ],
   "source": [
    "fit_model_file = os.path.join(\"./models\", \"fit_data.stan\")\n",
    "fit_model = pystan.StanModel(fit_model_file)"
   ]
  },
  {
   "cell_type": "code",
   "execution_count": 19,
   "metadata": {
    "scrolled": true
   },
   "outputs": [
    {
     "name": "stderr",
     "output_type": "stream",
     "text": [
      "WARNING:pystan:Maximum (flat) parameter count (1000) exceeded: skipping diagnostic tests for n_eff and Rhat.\n",
      "To run all diagnostics call pystan.check_hmc_diagnostics(fit)\n",
      "WARNING:pystan:1 of 1000 iterations saturated the maximum tree depth of 10 (0.1 %)\n",
      "WARNING:pystan:Run again with max_treedepth larger than 10 to avoid saturation\n",
      "WARNING:pystan:Maximum (flat) parameter count (1000) exceeded: skipping diagnostic tests for n_eff and Rhat.\n",
      "To run all diagnostics call pystan.check_hmc_diagnostics(fit)\n",
      "WARNING:pystan:Maximum (flat) parameter count (1000) exceeded: skipping diagnostic tests for n_eff and Rhat.\n",
      "To run all diagnostics call pystan.check_hmc_diagnostics(fit)\n",
      "WARNING:pystan:Maximum (flat) parameter count (1000) exceeded: skipping diagnostic tests for n_eff and Rhat.\n",
      "To run all diagnostics call pystan.check_hmc_diagnostics(fit)\n",
      "WARNING:pystan:Maximum (flat) parameter count (1000) exceeded: skipping diagnostic tests for n_eff and Rhat.\n",
      "To run all diagnostics call pystan.check_hmc_diagnostics(fit)\n",
      "WARNING:pystan:Maximum (flat) parameter count (1000) exceeded: skipping diagnostic tests for n_eff and Rhat.\n",
      "To run all diagnostics call pystan.check_hmc_diagnostics(fit)\n",
      "WARNING:pystan:Maximum (flat) parameter count (1000) exceeded: skipping diagnostic tests for n_eff and Rhat.\n",
      "To run all diagnostics call pystan.check_hmc_diagnostics(fit)\n",
      "WARNING:pystan:Maximum (flat) parameter count (1000) exceeded: skipping diagnostic tests for n_eff and Rhat.\n",
      "To run all diagnostics call pystan.check_hmc_diagnostics(fit)\n",
      "WARNING:pystan:Maximum (flat) parameter count (1000) exceeded: skipping diagnostic tests for n_eff and Rhat.\n",
      "To run all diagnostics call pystan.check_hmc_diagnostics(fit)\n",
      "WARNING:pystan:Maximum (flat) parameter count (1000) exceeded: skipping diagnostic tests for n_eff and Rhat.\n",
      "To run all diagnostics call pystan.check_hmc_diagnostics(fit)\n",
      "WARNING:pystan:Maximum (flat) parameter count (1000) exceeded: skipping diagnostic tests for n_eff and Rhat.\n",
      "To run all diagnostics call pystan.check_hmc_diagnostics(fit)\n",
      "WARNING:pystan:1 of 1000 iterations ended with a divergence (0.1 %).\n",
      "WARNING:pystan:Try running with adapt_delta larger than 0.8 to remove the divergences.\n",
      "WARNING:pystan:Maximum (flat) parameter count (1000) exceeded: skipping diagnostic tests for n_eff and Rhat.\n",
      "To run all diagnostics call pystan.check_hmc_diagnostics(fit)\n",
      "WARNING:pystan:Maximum (flat) parameter count (1000) exceeded: skipping diagnostic tests for n_eff and Rhat.\n",
      "To run all diagnostics call pystan.check_hmc_diagnostics(fit)\n",
      "WARNING:pystan:1 of 1000 iterations ended with a divergence (0.1 %).\n",
      "WARNING:pystan:Try running with adapt_delta larger than 0.8 to remove the divergences.\n",
      "WARNING:pystan:Maximum (flat) parameter count (1000) exceeded: skipping diagnostic tests for n_eff and Rhat.\n",
      "To run all diagnostics call pystan.check_hmc_diagnostics(fit)\n",
      "WARNING:pystan:Maximum (flat) parameter count (1000) exceeded: skipping diagnostic tests for n_eff and Rhat.\n",
      "To run all diagnostics call pystan.check_hmc_diagnostics(fit)\n",
      "WARNING:pystan:Maximum (flat) parameter count (1000) exceeded: skipping diagnostic tests for n_eff and Rhat.\n",
      "To run all diagnostics call pystan.check_hmc_diagnostics(fit)\n",
      "WARNING:pystan:Maximum (flat) parameter count (1000) exceeded: skipping diagnostic tests for n_eff and Rhat.\n",
      "To run all diagnostics call pystan.check_hmc_diagnostics(fit)\n",
      "WARNING:pystan:966 of 1000 iterations saturated the maximum tree depth of 10 (96.6 %)\n",
      "WARNING:pystan:Run again with max_treedepth larger than 10 to avoid saturation\n",
      "WARNING:pystan:Maximum (flat) parameter count (1000) exceeded: skipping diagnostic tests for n_eff and Rhat.\n",
      "To run all diagnostics call pystan.check_hmc_diagnostics(fit)\n",
      "WARNING:pystan:Maximum (flat) parameter count (1000) exceeded: skipping diagnostic tests for n_eff and Rhat.\n",
      "To run all diagnostics call pystan.check_hmc_diagnostics(fit)\n",
      "WARNING:pystan:Maximum (flat) parameter count (1000) exceeded: skipping diagnostic tests for n_eff and Rhat.\n",
      "To run all diagnostics call pystan.check_hmc_diagnostics(fit)\n",
      "WARNING:pystan:1 of 1000 iterations ended with a divergence (0.1 %).\n",
      "WARNING:pystan:Try running with adapt_delta larger than 0.8 to remove the divergences.\n",
      "WARNING:pystan:Maximum (flat) parameter count (1000) exceeded: skipping diagnostic tests for n_eff and Rhat.\n",
      "To run all diagnostics call pystan.check_hmc_diagnostics(fit)\n",
      "WARNING:pystan:851 of 1000 iterations saturated the maximum tree depth of 10 (85.1 %)\n",
      "WARNING:pystan:Run again with max_treedepth larger than 10 to avoid saturation\n",
      "WARNING:pystan:Maximum (flat) parameter count (1000) exceeded: skipping diagnostic tests for n_eff and Rhat.\n",
      "To run all diagnostics call pystan.check_hmc_diagnostics(fit)\n",
      "WARNING:pystan:640 of 1000 iterations saturated the maximum tree depth of 10 (64 %)\n",
      "WARNING:pystan:Run again with max_treedepth larger than 10 to avoid saturation\n",
      "WARNING:pystan:Maximum (flat) parameter count (1000) exceeded: skipping diagnostic tests for n_eff and Rhat.\n",
      "To run all diagnostics call pystan.check_hmc_diagnostics(fit)\n",
      "WARNING:pystan:Maximum (flat) parameter count (1000) exceeded: skipping diagnostic tests for n_eff and Rhat.\n",
      "To run all diagnostics call pystan.check_hmc_diagnostics(fit)\n",
      "WARNING:pystan:Maximum (flat) parameter count (1000) exceeded: skipping diagnostic tests for n_eff and Rhat.\n",
      "To run all diagnostics call pystan.check_hmc_diagnostics(fit)\n",
      "WARNING:pystan:Maximum (flat) parameter count (1000) exceeded: skipping diagnostic tests for n_eff and Rhat.\n",
      "To run all diagnostics call pystan.check_hmc_diagnostics(fit)\n",
      "WARNING:pystan:Maximum (flat) parameter count (1000) exceeded: skipping diagnostic tests for n_eff and Rhat.\n",
      "To run all diagnostics call pystan.check_hmc_diagnostics(fit)\n",
      "WARNING:pystan:197 of 1000 iterations saturated the maximum tree depth of 10 (19.7 %)\n",
      "WARNING:pystan:Run again with max_treedepth larger than 10 to avoid saturation\n",
      "WARNING:pystan:Maximum (flat) parameter count (1000) exceeded: skipping diagnostic tests for n_eff and Rhat.\n",
      "To run all diagnostics call pystan.check_hmc_diagnostics(fit)\n",
      "WARNING:pystan:Maximum (flat) parameter count (1000) exceeded: skipping diagnostic tests for n_eff and Rhat.\n",
      "To run all diagnostics call pystan.check_hmc_diagnostics(fit)\n",
      "WARNING:pystan:1 of 1000 iterations ended with a divergence (0.1 %).\n",
      "WARNING:pystan:Try running with adapt_delta larger than 0.8 to remove the divergences.\n",
      "WARNING:pystan:Maximum (flat) parameter count (1000) exceeded: skipping diagnostic tests for n_eff and Rhat.\n",
      "To run all diagnostics call pystan.check_hmc_diagnostics(fit)\n",
      "WARNING:pystan:Maximum (flat) parameter count (1000) exceeded: skipping diagnostic tests for n_eff and Rhat.\n",
      "To run all diagnostics call pystan.check_hmc_diagnostics(fit)\n",
      "WARNING:pystan:Maximum (flat) parameter count (1000) exceeded: skipping diagnostic tests for n_eff and Rhat.\n",
      "To run all diagnostics call pystan.check_hmc_diagnostics(fit)\n",
      "WARNING:pystan:Maximum (flat) parameter count (1000) exceeded: skipping diagnostic tests for n_eff and Rhat.\n",
      "To run all diagnostics call pystan.check_hmc_diagnostics(fit)\n",
      "WARNING:pystan:Maximum (flat) parameter count (1000) exceeded: skipping diagnostic tests for n_eff and Rhat.\n",
      "To run all diagnostics call pystan.check_hmc_diagnostics(fit)\n",
      "WARNING:pystan:944 of 1000 iterations saturated the maximum tree depth of 10 (94.4 %)\n",
      "WARNING:pystan:Run again with max_treedepth larger than 10 to avoid saturation\n",
      "WARNING:pystan:Maximum (flat) parameter count (1000) exceeded: skipping diagnostic tests for n_eff and Rhat.\n",
      "To run all diagnostics call pystan.check_hmc_diagnostics(fit)\n",
      "WARNING:pystan:Maximum (flat) parameter count (1000) exceeded: skipping diagnostic tests for n_eff and Rhat.\n",
      "To run all diagnostics call pystan.check_hmc_diagnostics(fit)\n",
      "WARNING:pystan:1 of 1000 iterations ended with a divergence (0.1 %).\n",
      "WARNING:pystan:Try running with adapt_delta larger than 0.8 to remove the divergences.\n",
      "WARNING:pystan:Maximum (flat) parameter count (1000) exceeded: skipping diagnostic tests for n_eff and Rhat.\n",
      "To run all diagnostics call pystan.check_hmc_diagnostics(fit)\n",
      "WARNING:pystan:Maximum (flat) parameter count (1000) exceeded: skipping diagnostic tests for n_eff and Rhat.\n",
      "To run all diagnostics call pystan.check_hmc_diagnostics(fit)\n"
     ]
    },
    {
     "name": "stderr",
     "output_type": "stream",
     "text": [
      "WARNING:pystan:Maximum (flat) parameter count (1000) exceeded: skipping diagnostic tests for n_eff and Rhat.\n",
      "To run all diagnostics call pystan.check_hmc_diagnostics(fit)\n",
      "WARNING:pystan:Maximum (flat) parameter count (1000) exceeded: skipping diagnostic tests for n_eff and Rhat.\n",
      "To run all diagnostics call pystan.check_hmc_diagnostics(fit)\n",
      "WARNING:pystan:Maximum (flat) parameter count (1000) exceeded: skipping diagnostic tests for n_eff and Rhat.\n",
      "To run all diagnostics call pystan.check_hmc_diagnostics(fit)\n",
      "WARNING:pystan:Maximum (flat) parameter count (1000) exceeded: skipping diagnostic tests for n_eff and Rhat.\n",
      "To run all diagnostics call pystan.check_hmc_diagnostics(fit)\n",
      "WARNING:pystan:870 of 1000 iterations saturated the maximum tree depth of 10 (87 %)\n",
      "WARNING:pystan:Run again with max_treedepth larger than 10 to avoid saturation\n",
      "WARNING:pystan:Maximum (flat) parameter count (1000) exceeded: skipping diagnostic tests for n_eff and Rhat.\n",
      "To run all diagnostics call pystan.check_hmc_diagnostics(fit)\n",
      "WARNING:pystan:Maximum (flat) parameter count (1000) exceeded: skipping diagnostic tests for n_eff and Rhat.\n",
      "To run all diagnostics call pystan.check_hmc_diagnostics(fit)\n",
      "WARNING:pystan:Maximum (flat) parameter count (1000) exceeded: skipping diagnostic tests for n_eff and Rhat.\n",
      "To run all diagnostics call pystan.check_hmc_diagnostics(fit)\n",
      "WARNING:pystan:Maximum (flat) parameter count (1000) exceeded: skipping diagnostic tests for n_eff and Rhat.\n",
      "To run all diagnostics call pystan.check_hmc_diagnostics(fit)\n",
      "WARNING:pystan:1 of 1000 iterations saturated the maximum tree depth of 10 (0.1 %)\n",
      "WARNING:pystan:Run again with max_treedepth larger than 10 to avoid saturation\n",
      "WARNING:pystan:Maximum (flat) parameter count (1000) exceeded: skipping diagnostic tests for n_eff and Rhat.\n",
      "To run all diagnostics call pystan.check_hmc_diagnostics(fit)\n",
      "WARNING:pystan:Maximum (flat) parameter count (1000) exceeded: skipping diagnostic tests for n_eff and Rhat.\n",
      "To run all diagnostics call pystan.check_hmc_diagnostics(fit)\n",
      "WARNING:pystan:Maximum (flat) parameter count (1000) exceeded: skipping diagnostic tests for n_eff and Rhat.\n",
      "To run all diagnostics call pystan.check_hmc_diagnostics(fit)\n"
     ]
    },
    {
     "name": "stdout",
     "output_type": "stream",
     "text": [
      "skip 49\n",
      "CPU times: user 1.3 s, sys: 3.25 s, total: 4.55 s\n",
      "Wall time: 4min 11s\n"
     ]
    }
   ],
   "source": [
    "%%time\n",
    "post_lambda_zscore = []\n",
    "post_lambda_contraction = []\n",
    "prior_lambda_std = np.std(simu_lambdas[~np.isnan(simu_lambdas)], ddof=1)\n",
    "prior_lambda_mean = np.mean(simu_lambdas[~np.isnan(simu_lambdas)])\n",
    "for x in range(50):\n",
    "    if np.any(np.isnan(simu_ys[x])): \n",
    "        print(\"skip\", x)\n",
    "        continue\n",
    "    fit_model_data = {\n",
    "        \"N\" : N,\n",
    "        \"y\" : simu_ys[x].astype(np.int32),\n",
    "        \"complexity\" : simu_complexity,\n",
    "        \"age\" : simu_age,\n",
    "        \"engine_count\" : simu_engine_count,\n",
    "        \"relative_displacement\" : simu_relative_displacement,\n",
    "    }\n",
    "    fit_model_fit = fit_model.sampling(data=fit_model_data, chains=2, iter=1000)\n",
    "    fit_lambda_summary = fit_model_fit.summary(pars=\"lambda\")[\"summary\"][0]\n",
    "    post_lambda_mean = fit_lambda_summary[0]\n",
    "    post_lambda_std = fit_lambda_summary[2]\n",
    "    post_lambda_zscore.append((post_lambda_mean - simu_lambdas[x]) / prior_lambda_mean)\n",
    "    post_lambda_contraction.append(1 - (post_lambda_std / prior_lambda_std) ** 2)"
   ]
  },
  {
   "cell_type": "markdown",
   "metadata": {},
   "source": [
    "## 10. Algorithmic Calibration\n",
    "\n",
    "skipping, since per-fit diagnostic information are seen in step 9's output."
   ]
  },
  {
   "cell_type": "markdown",
   "metadata": {},
   "source": [
    "about 1 divergence during step 9!"
   ]
  },
  {
   "cell_type": "markdown",
   "metadata": {},
   "source": [
    "## 11. Inferential Calibration"
   ]
  },
  {
   "cell_type": "code",
   "execution_count": 49,
   "metadata": {
    "scrolled": false
   },
   "outputs": [
    {
     "data": {
      "text/plain": [
       "<matplotlib.collections.PathCollection at 0x7f3dbe133668>"
      ]
     },
     "execution_count": 49,
     "metadata": {},
     "output_type": "execute_result"
    },
    {
     "data": {
      "image/png": "[encoded data removed]",
      "text/plain": [
       "<Figure size 432x288 with 1 Axes>"
      ]
     },
     "metadata": {
      "needs_background": "light"
     },
     "output_type": "display_data"
    }
   ],
   "source": [
    "ax = plt.gca()\n",
    "ax.set_xlim(0, 1)\n",
    "ax.set_ylim(-5, 5)\n",
    "ax.axhline(0, linestyle=\"--\", c=\"black\")\n",
    "ax.scatter(post_lambda_contraction, post_lambda_zscore, c=\"r\")"
   ]
  },
  {
   "cell_type": "markdown",
   "metadata": {},
   "source": [
    "## 12. Fit Observed Data"
   ]
  },
  {
   "cell_type": "code",
   "execution_count": 21,
   "metadata": {
    "scrolled": true
   },
   "outputs": [],
   "source": [
    "post_pred_data = {\n",
    "    \"N\" : y_data.shape[0],\n",
    "    \"engine_types\" : np.max(ship_engine_type),\n",
    "    \"y\" : y_data.astype(np.int32),\n",
    "    \"complexity\" : ship_complexity_data,\n",
    "    \"age\" : ship_age_data,\n",
    "    \"engine_type\" : engine_data,\n",
    "    \"relative_displacement\" : relative_displacement_data,\n",
    "    \"engine_count\" : engine_count_data,\n",
    "    \"ship_number\" : ship_number_data,\n",
    "    \"ship_number_max\" : np.max(ship_number_data),\n",
    "    \"N_pred\" : y_data.shape[0],\n",
    "    \"age_pred\" : ship_age_data,\n",
    "    \"engine_type_pred\" : engine_data,\n",
    "    \"complexity_pred\" : ship_complexity_data,\n",
    "    \"relative_displacement_pred\" : relative_displacement_data,\n",
    "    \"engine_count_pred\" : engine_count_data,\n",
    "    \"ship_number_pred\" : ship_number_data,\n",
    "    \n",
    "}"
   ]
  },
  {
   "cell_type": "code",
   "execution_count": 22,
   "metadata": {
    "scrolled": false
   },
   "outputs": [
    {
     "name": "stdout",
     "output_type": "stream",
     "text": [
      "N 614\n",
      "engine_types 4\n",
      "y (614,)\n",
      "complexity (614,)\n",
      "age (614,)\n",
      "engine_type (614,)\n",
      "relative_displacement (614,)\n",
      "engine_count (614,)\n",
      "ship_number (614,)\n",
      "ship_number_max 99\n",
      "N_pred 614\n",
      "age_pred (614,)\n",
      "engine_type_pred (614,)\n",
      "complexity_pred (614,)\n",
      "relative_displacement_pred (614,)\n",
      "engine_count_pred (614,)\n",
      "ship_number_pred (614,)\n"
     ]
    }
   ],
   "source": [
    "for key, val in post_pred_data.items():\n",
    "    if isinstance(val, np.ndarray):\n",
    "        print(key, val.shape)\n",
    "    else:\n",
    "        print(key, val)"
   ]
  },
  {
   "cell_type": "code",
   "execution_count": 23,
   "metadata": {
    "scrolled": true
   },
   "outputs": [
    {
     "name": "stderr",
     "output_type": "stream",
     "text": [
      "INFO:pystan:COMPILING THE C++ CODE FOR MODEL anon_model_749c7b089968131a0a8771abd62f1af0 NOW.\n"
     ]
    }
   ],
   "source": [
    "fit_data_model = pystan.StanModel(os.path.join(\"./models\", \"fit_data_post_pred.stan\"))"
   ]
  },
  {
   "cell_type": "code",
   "execution_count": 24,
   "metadata": {
    "scrolled": true
   },
   "outputs": [
    {
     "name": "stderr",
     "output_type": "stream",
     "text": [
      "WARNING:pystan:Maximum (flat) parameter count (1000) exceeded: skipping diagnostic tests for n_eff and Rhat.\n",
      "To run all diagnostics call pystan.check_hmc_diagnostics(fit)\n"
     ]
    },
    {
     "name": "stdout",
     "output_type": "stream",
     "text": [
      "CPU times: user 271 ms, sys: 278 ms, total: 550 ms\n",
      "Wall time: 1min 54s\n"
     ]
    }
   ],
   "source": [
    "%%time\n",
    "fit_data_fit = fit_data_model.sampling(data=post_pred_data)"
   ]
  },
  {
   "cell_type": "code",
   "execution_count": 25,
   "metadata": {
    "scrolled": true
   },
   "outputs": [
    {
     "data": {
      "text/plain": [
       "(614,)"
      ]
     },
     "execution_count": 25,
     "metadata": {},
     "output_type": "execute_result"
    }
   ],
   "source": [
    "np.mean(fit_data_fit.extract(pars=[\"y_post_pred\"])[\"y_post_pred\"], axis=0).shape"
   ]
  },
  {
   "cell_type": "code",
   "execution_count": 26,
   "metadata": {},
   "outputs": [],
   "source": [
    "y_pred = np.mean(fit_data_fit.extract(pars=[\"y_post_pred\"])[\"y_post_pred\"], axis=0)"
   ]
  },
  {
   "cell_type": "code",
   "execution_count": 27,
   "metadata": {},
   "outputs": [
    {
     "data": {
      "text/plain": [
       "PowerTransformer()"
      ]
     },
     "execution_count": 27,
     "metadata": {},
     "output_type": "execute_result"
    }
   ],
   "source": [
    "transformer = PowerTransformer()\n",
    "unscaled_data = pd.read_csv(\"../data/y_count_original.csv\")\n",
    "unscaled_data.drop(columns=\"age\", inplace=True)\n",
    "transformer.fit(unscaled_data.values[~np.isnan(unscaled_data)].reshape(-1, 1))"
   ]
  },
  {
   "cell_type": "code",
   "execution_count": 28,
   "metadata": {
    "scrolled": true
   },
   "outputs": [
    {
     "data": {
      "text/plain": [
       "0.49796534419851296"
      ]
     },
     "execution_count": 28,
     "metadata": {},
     "output_type": "execute_result"
    }
   ],
   "source": [
    "mean_squared_error(transformer.transform(y_data.reshape(-1, 1)).flatten(), transformer.transform(y_pred.reshape(-1, 1)).flatten())"
   ]
  },
  {
   "cell_type": "code",
   "execution_count": 29,
   "metadata": {},
   "outputs": [
    {
     "data": {
      "text/plain": [
       "<matplotlib.collections.PathCollection at 0x7f3d6981dcf8>"
      ]
     },
     "execution_count": 29,
     "metadata": {},
     "output_type": "execute_result"
    },
    {
     "data": {
      "image/png": "[encoded data removed]",
      "text/plain": [
       "<Figure size 864x432 with 1 Axes>"
      ]
     },
     "metadata": {
      "needs_background": "light"
     },
     "output_type": "display_data"
    }
   ],
   "source": [
    "fig, ax = plt.subplots(figsize=(12, 6))\n",
    "ax.set_xlabel('age')\n",
    "ax.scatter(ship_age_data, y_data, color='m', alpha=0.3)\n",
    "ax.scatter(ship_age_data, np.mean(fit_data_fit.extract(pars=[\"y_post_pred\"])[\"y_post_pred\"], axis=0), color=\"green\", linewidth=1, alpha=0.5)"
   ]
  },
  {
   "cell_type": "code",
   "execution_count": 30,
   "metadata": {},
   "outputs": [
    {
     "data": {
      "text/plain": [
       "array([1. , 1.3])"
      ]
     },
     "execution_count": 30,
     "metadata": {},
     "output_type": "execute_result"
    }
   ],
   "source": [
    "np.unique(ship_complexity_data)"
   ]
  },
  {
   "cell_type": "code",
   "execution_count": 31,
   "metadata": {
    "scrolled": true
   },
   "outputs": [
    {
     "data": {
      "image/png": "[encoded data removed]",
      "text/plain": [
       "<Figure size 1728x1728 with 4 Axes>"
      ]
     },
     "metadata": {
      "needs_background": "light"
     },
     "output_type": "display_data"
    }
   ],
   "source": [
    "fig, ax = plt.subplots(4,1, figsize=(24, 24))\n",
    "displacement_color = dict(zip(np.unique(relative_displacement_data), (\"c\", \"m\", \"y\", \"b\", \"orange\")))\n",
    "complexity_color = dict(zip(np.unique(ship_complexity_data), (\"c\", \"m\", \"b\")))\n",
    "#color = np.array([displacement_color[x] for x in relative_displacement_data])\n",
    "color = np.array([complexity_color[x] for x in ship_complexity_data])\n",
    "for x in range(1, 5):\n",
    "    ax[x-1].set_xlabel('age')\n",
    "    ax[x-1].set_ylabel('failure count')\n",
    "    ax[x-1].set_xlim(0, 1)\n",
    "    ax[x-1].scatter(ship_age_data[engine_data == x], y_data[engine_data == x], color=color[engine_data==x])\n",
    "    ax[x-1].scatter(ship_age_data[engine_data == x], y_pred[engine_data == x], color=\"g\")"
   ]
  },
  {
   "cell_type": "markdown",
   "metadata": {},
   "source": [
    "# Second Iteration: Tweaking for better prediction accuracy"
   ]
  },
  {
   "cell_type": "markdown",
   "metadata": {},
   "source": [
    "### Tweaking Model: Changing failure_form\n",
    "\n",
    "The first model assumed that early failures and wearout shaped the same decay rate. This may not be the case so splitting $\\phi$ into $\\phi$ and $\\rho$, each respectively for early and wear rates is worth a try. Additionally, $\\phi$ and $\\rho$ would be defined for each ship type(category)"
   ]
  },
  {
   "cell_type": "markdown",
   "metadata": {},
   "source": [
    "### input data:\n",
    "\n",
    "age: min-max scaled age ($\\frac{age - 1}{31 - 1}$, results in domain [0, 1])\n",
    "\n",
    "ship: ship index(1~99)\n",
    "\n",
    "relative_displacement: ($\\frac{displacement_i}{\\textrm{min}(displacement)}$)\n",
    "\n",
    "complexity: relative complexity (1, 1.2, 1.5)\n",
    "\n",
    "engine: integer engine index(1~4)\n",
    "\n",
    "shiptype(ship_category): type of ship/category(1~5)\n",
    "\n",
    "\n",
    "### model:\n",
    "\\begin{aligned}\n",
    "y \\sim \\textrm{poisson}(\\lambda_{ship,age})\n",
    "\\newline\n",
    "\\textrm{log} \\ \\lambda_{ship, age} = early_{ship} \\times \\textrm{failure_form}(\\phi_{shiptype}, -age + 1) + wear_{ship, age} \\times \\textrm{failure_form}(\\rho_{shiptype}, age) + \\eta_{ship}\n",
    "\\newline\n",
    "early_{ship, age} = complexity_{ship}  \\times \\alpha_{engine} + \\beta_{ship} \\ \\textrm{ln} \\ relative\\_displacement\n",
    "\\newline\n",
    "wear_{ship, age} = complexity_{ship} \\times engine\\_count \\times \\gamma_{engine} + \\delta_{ship} \\ \\textrm{ln} \\ relative\\_displacement\n",
    "\\newline\n",
    "\\textrm{failure_form}(shape, age) = \\frac{\\textrm{exp}(shape)^{age} - 1}{\\textrm{exp}(shape) - 1}\n",
    "\\newline\n",
    "\\phi \\sim \\textrm{normal}(5, 3), \\, \\phi \\in [1, \\infty)\n",
    "\\newline\n",
    "\\rho \\sim \\textrm{normal}(5, 3), \\, \\rho \\in [1, \\infty)\n",
    "\\newline\n",
    "\\alpha \\sim \\textrm{normal}(1.5, 1)\n",
    "\\newline\n",
    "\\beta \\sim \\textrm{normal}(0, 0.5)\n",
    "\\newline\n",
    "\\gamma \\sim \\textrm{normal}(0, 1)\n",
    "\\newline\n",
    "\\delta \\sim \\textrm{normal}(0, 0.5)\n",
    "\\newline\n",
    "\\eta \\sim \\textrm{normal}(0, 1)\n",
    "\\end{aligned}"
   ]
  },
  {
   "cell_type": "markdown",
   "metadata": {},
   "source": [
    "## 6. Simulate Bayesian Ensemble"
   ]
  },
  {
   "cell_type": "code",
   "execution_count": 32,
   "metadata": {},
   "outputs": [
    {
     "name": "stderr",
     "output_type": "stream",
     "text": [
      "INFO:pystan:COMPILING THE C++ CODE FOR MODEL anon_model_9b561e9022c1488d654eb592b157a217 NOW.\n"
     ]
    }
   ],
   "source": [
    "simu_ensemble_file = os.path.join(\"./models\", \"simu_bayesian_ensemble-iter2.stan\")\n",
    "simu_ensemble_model = pystan.StanModel(file=simu_ensemble_file)"
   ]
  },
  {
   "cell_type": "code",
   "execution_count": 33,
   "metadata": {},
   "outputs": [
    {
     "name": "stderr",
     "output_type": "stream",
     "text": [
      "WARNING:pystan:`warmup=0` forced with `algorithm=\"Fixed_param\"`.\n"
     ]
    }
   ],
   "source": [
    "R = 1000\n",
    "N = 1000\n",
    "simu_age = 1\n",
    "simu_relative_displacement = 1\n",
    "simu_complexity = 1.5\n",
    "simu_engine_count = 2\n",
    "simu_data = {\n",
    "    \"N\" : N,\n",
    "    \"age\" : simu_age,\n",
    "    \"relative_displacement\" : simu_relative_displacement,\n",
    "    \"complexity\": simu_complexity,\n",
    "    \"engine_count\" : simu_engine_count,\n",
    "}\n",
    "simu_ensemble_fit = simu_ensemble_model.sampling(iter=R, algorithm=\"Fixed_param\", chains=1, data=simu_data)"
   ]
  },
  {
   "cell_type": "code",
   "execution_count": 34,
   "metadata": {},
   "outputs": [],
   "source": [
    "simu_lambdas = simu_ensemble_fit.extract(pars=[\"lambda\"])[\"lambda\"]\n",
    "simu_ys = simu_ensemble_fit.extract(pars=[\"y\"])[\"y\"]"
   ]
  },
  {
   "cell_type": "code",
   "execution_count": 35,
   "metadata": {},
   "outputs": [
    {
     "data": {
      "text/plain": [
       "0.23671169990717836"
      ]
     },
     "execution_count": 35,
     "metadata": {},
     "output_type": "execute_result"
    }
   ],
   "source": [
    "np.mean(simu_lambdas[~np.isnan(simu_lambdas)])"
   ]
  },
  {
   "cell_type": "markdown",
   "metadata": {},
   "source": [
    "## 7. Prior Checks"
   ]
  },
  {
   "cell_type": "code",
   "execution_count": 36,
   "metadata": {
    "scrolled": true
   },
   "outputs": [
    {
     "data": {
      "image/png": "[encoded data removed]",
      "text/plain": [
       "<Figure size 432x288 with 1 Axes>"
      ]
     },
     "metadata": {
      "needs_background": "light"
     },
     "output_type": "display_data"
    }
   ],
   "source": [
    "ax = plt.gca()\n",
    "pd.Series(y_data).plot.hist(ax=ax)\n",
    "for x in range(100):\n",
    "    pd.Series(simu_ys[x]).plot.hist(ax=ax, histtype=\"step\")\n"
   ]
  },
  {
   "cell_type": "markdown",
   "metadata": {},
   "source": [
    "## 8. Configure Algorithm"
   ]
  },
  {
   "cell_type": "markdown",
   "metadata": {},
   "source": [
    "## 9. Fit Simulated Ensemble"
   ]
  },
  {
   "cell_type": "code",
   "execution_count": 37,
   "metadata": {},
   "outputs": [
    {
     "name": "stderr",
     "output_type": "stream",
     "text": [
      "INFO:pystan:COMPILING THE C++ CODE FOR MODEL anon_model_f11d6bf1eae6bbd7bacc65752afdf598 NOW.\n"
     ]
    }
   ],
   "source": [
    "fit_model_file = os.path.join(\"./models\", \"fit_data-iter2.stan\")\n",
    "fit_model = pystan.StanModel(fit_model_file)"
   ]
  },
  {
   "cell_type": "code",
   "execution_count": 38,
   "metadata": {
    "scrolled": true
   },
   "outputs": [
    {
     "name": "stderr",
     "output_type": "stream",
     "text": [
      "WARNING:pystan:Maximum (flat) parameter count (1000) exceeded: skipping diagnostic tests for n_eff and Rhat.\n",
      "To run all diagnostics call pystan.check_hmc_diagnostics(fit)\n",
      "WARNING:pystan:Maximum (flat) parameter count (1000) exceeded: skipping diagnostic tests for n_eff and Rhat.\n",
      "To run all diagnostics call pystan.check_hmc_diagnostics(fit)\n",
      "WARNING:pystan:Maximum (flat) parameter count (1000) exceeded: skipping diagnostic tests for n_eff and Rhat.\n",
      "To run all diagnostics call pystan.check_hmc_diagnostics(fit)\n",
      "WARNING:pystan:Maximum (flat) parameter count (1000) exceeded: skipping diagnostic tests for n_eff and Rhat.\n",
      "To run all diagnostics call pystan.check_hmc_diagnostics(fit)\n",
      "WARNING:pystan:Maximum (flat) parameter count (1000) exceeded: skipping diagnostic tests for n_eff and Rhat.\n",
      "To run all diagnostics call pystan.check_hmc_diagnostics(fit)\n",
      "WARNING:pystan:938 of 1000 iterations saturated the maximum tree depth of 10 (93.8 %)\n",
      "WARNING:pystan:Run again with max_treedepth larger than 10 to avoid saturation\n"
     ]
    },
    {
     "name": "stdout",
     "output_type": "stream",
     "text": [
      "skip 5\n"
     ]
    },
    {
     "name": "stderr",
     "output_type": "stream",
     "text": [
      "WARNING:pystan:Maximum (flat) parameter count (1000) exceeded: skipping diagnostic tests for n_eff and Rhat.\n",
      "To run all diagnostics call pystan.check_hmc_diagnostics(fit)\n"
     ]
    },
    {
     "name": "stdout",
     "output_type": "stream",
     "text": [
      "skip 7\n"
     ]
    },
    {
     "name": "stderr",
     "output_type": "stream",
     "text": [
      "WARNING:pystan:Maximum (flat) parameter count (1000) exceeded: skipping diagnostic tests for n_eff and Rhat.\n",
      "To run all diagnostics call pystan.check_hmc_diagnostics(fit)\n"
     ]
    },
    {
     "name": "stdout",
     "output_type": "stream",
     "text": [
      "skip 9\n"
     ]
    },
    {
     "name": "stderr",
     "output_type": "stream",
     "text": [
      "WARNING:pystan:Maximum (flat) parameter count (1000) exceeded: skipping diagnostic tests for n_eff and Rhat.\n",
      "To run all diagnostics call pystan.check_hmc_diagnostics(fit)\n",
      "WARNING:pystan:Maximum (flat) parameter count (1000) exceeded: skipping diagnostic tests for n_eff and Rhat.\n",
      "To run all diagnostics call pystan.check_hmc_diagnostics(fit)\n",
      "WARNING:pystan:Maximum (flat) parameter count (1000) exceeded: skipping diagnostic tests for n_eff and Rhat.\n",
      "To run all diagnostics call pystan.check_hmc_diagnostics(fit)\n",
      "WARNING:pystan:Maximum (flat) parameter count (1000) exceeded: skipping diagnostic tests for n_eff and Rhat.\n",
      "To run all diagnostics call pystan.check_hmc_diagnostics(fit)\n",
      "WARNING:pystan:Maximum (flat) parameter count (1000) exceeded: skipping diagnostic tests for n_eff and Rhat.\n",
      "To run all diagnostics call pystan.check_hmc_diagnostics(fit)\n"
     ]
    },
    {
     "name": "stdout",
     "output_type": "stream",
     "text": [
      "skip 15\n"
     ]
    },
    {
     "name": "stderr",
     "output_type": "stream",
     "text": [
      "WARNING:pystan:Maximum (flat) parameter count (1000) exceeded: skipping diagnostic tests for n_eff and Rhat.\n",
      "To run all diagnostics call pystan.check_hmc_diagnostics(fit)\n",
      "WARNING:pystan:Maximum (flat) parameter count (1000) exceeded: skipping diagnostic tests for n_eff and Rhat.\n",
      "To run all diagnostics call pystan.check_hmc_diagnostics(fit)\n",
      "WARNING:pystan:948 of 1000 iterations saturated the maximum tree depth of 10 (94.8 %)\n",
      "WARNING:pystan:Run again with max_treedepth larger than 10 to avoid saturation\n",
      "WARNING:pystan:Maximum (flat) parameter count (1000) exceeded: skipping diagnostic tests for n_eff and Rhat.\n",
      "To run all diagnostics call pystan.check_hmc_diagnostics(fit)\n",
      "WARNING:pystan:Maximum (flat) parameter count (1000) exceeded: skipping diagnostic tests for n_eff and Rhat.\n",
      "To run all diagnostics call pystan.check_hmc_diagnostics(fit)\n",
      "WARNING:pystan:609 of 1000 iterations saturated the maximum tree depth of 10 (60.9 %)\n",
      "WARNING:pystan:Run again with max_treedepth larger than 10 to avoid saturation\n",
      "WARNING:pystan:Maximum (flat) parameter count (1000) exceeded: skipping diagnostic tests for n_eff and Rhat.\n",
      "To run all diagnostics call pystan.check_hmc_diagnostics(fit)\n",
      "WARNING:pystan:Maximum (flat) parameter count (1000) exceeded: skipping diagnostic tests for n_eff and Rhat.\n",
      "To run all diagnostics call pystan.check_hmc_diagnostics(fit)\n",
      "WARNING:pystan:Maximum (flat) parameter count (1000) exceeded: skipping diagnostic tests for n_eff and Rhat.\n",
      "To run all diagnostics call pystan.check_hmc_diagnostics(fit)\n",
      "WARNING:pystan:Maximum (flat) parameter count (1000) exceeded: skipping diagnostic tests for n_eff and Rhat.\n",
      "To run all diagnostics call pystan.check_hmc_diagnostics(fit)\n",
      "WARNING:pystan:612 of 1000 iterations saturated the maximum tree depth of 10 (61.2 %)\n",
      "WARNING:pystan:Run again with max_treedepth larger than 10 to avoid saturation\n",
      "WARNING:pystan:Maximum (flat) parameter count (1000) exceeded: skipping diagnostic tests for n_eff and Rhat.\n",
      "To run all diagnostics call pystan.check_hmc_diagnostics(fit)\n"
     ]
    },
    {
     "name": "stdout",
     "output_type": "stream",
     "text": [
      "skip 25\n"
     ]
    },
    {
     "name": "stderr",
     "output_type": "stream",
     "text": [
      "WARNING:pystan:Maximum (flat) parameter count (1000) exceeded: skipping diagnostic tests for n_eff and Rhat.\n",
      "To run all diagnostics call pystan.check_hmc_diagnostics(fit)\n",
      "WARNING:pystan:42 of 1000 iterations saturated the maximum tree depth of 10 (4.2 %)\n",
      "WARNING:pystan:Run again with max_treedepth larger than 10 to avoid saturation\n"
     ]
    },
    {
     "name": "stdout",
     "output_type": "stream",
     "text": [
      "skip 27\n"
     ]
    },
    {
     "name": "stderr",
     "output_type": "stream",
     "text": [
      "WARNING:pystan:Maximum (flat) parameter count (1000) exceeded: skipping diagnostic tests for n_eff and Rhat.\n",
      "To run all diagnostics call pystan.check_hmc_diagnostics(fit)\n",
      "WARNING:pystan:2 of 1000 iterations saturated the maximum tree depth of 10 (0.2 %)\n",
      "WARNING:pystan:Run again with max_treedepth larger than 10 to avoid saturation\n",
      "WARNING:pystan:Maximum (flat) parameter count (1000) exceeded: skipping diagnostic tests for n_eff and Rhat.\n",
      "To run all diagnostics call pystan.check_hmc_diagnostics(fit)\n"
     ]
    },
    {
     "name": "stdout",
     "output_type": "stream",
     "text": [
      "skip 30\n"
     ]
    },
    {
     "name": "stderr",
     "output_type": "stream",
     "text": [
      "WARNING:pystan:Maximum (flat) parameter count (1000) exceeded: skipping diagnostic tests for n_eff and Rhat.\n",
      "To run all diagnostics call pystan.check_hmc_diagnostics(fit)\n",
      "WARNING:pystan:Maximum (flat) parameter count (1000) exceeded: skipping diagnostic tests for n_eff and Rhat.\n",
      "To run all diagnostics call pystan.check_hmc_diagnostics(fit)\n",
      "WARNING:pystan:804 of 1000 iterations saturated the maximum tree depth of 10 (80.4 %)\n",
      "WARNING:pystan:Run again with max_treedepth larger than 10 to avoid saturation\n",
      "WARNING:pystan:Maximum (flat) parameter count (1000) exceeded: skipping diagnostic tests for n_eff and Rhat.\n",
      "To run all diagnostics call pystan.check_hmc_diagnostics(fit)\n",
      "WARNING:pystan:2 of 1000 iterations saturated the maximum tree depth of 10 (0.2 %)\n",
      "WARNING:pystan:Run again with max_treedepth larger than 10 to avoid saturation\n",
      "WARNING:pystan:Maximum (flat) parameter count (1000) exceeded: skipping diagnostic tests for n_eff and Rhat.\n",
      "To run all diagnostics call pystan.check_hmc_diagnostics(fit)\n",
      "WARNING:pystan:Maximum (flat) parameter count (1000) exceeded: skipping diagnostic tests for n_eff and Rhat.\n",
      "To run all diagnostics call pystan.check_hmc_diagnostics(fit)\n",
      "WARNING:pystan:Maximum (flat) parameter count (1000) exceeded: skipping diagnostic tests for n_eff and Rhat.\n",
      "To run all diagnostics call pystan.check_hmc_diagnostics(fit)\n",
      "WARNING:pystan:Maximum (flat) parameter count (1000) exceeded: skipping diagnostic tests for n_eff and Rhat.\n",
      "To run all diagnostics call pystan.check_hmc_diagnostics(fit)\n",
      "WARNING:pystan:Maximum (flat) parameter count (1000) exceeded: skipping diagnostic tests for n_eff and Rhat.\n",
      "To run all diagnostics call pystan.check_hmc_diagnostics(fit)\n"
     ]
    },
    {
     "name": "stdout",
     "output_type": "stream",
     "text": [
      "skip 39\n"
     ]
    },
    {
     "name": "stderr",
     "output_type": "stream",
     "text": [
      "WARNING:pystan:Maximum (flat) parameter count (1000) exceeded: skipping diagnostic tests for n_eff and Rhat.\n",
      "To run all diagnostics call pystan.check_hmc_diagnostics(fit)\n",
      "WARNING:pystan:Maximum (flat) parameter count (1000) exceeded: skipping diagnostic tests for n_eff and Rhat.\n",
      "To run all diagnostics call pystan.check_hmc_diagnostics(fit)\n",
      "WARNING:pystan:Maximum (flat) parameter count (1000) exceeded: skipping diagnostic tests for n_eff and Rhat.\n",
      "To run all diagnostics call pystan.check_hmc_diagnostics(fit)\n",
      "WARNING:pystan:Maximum (flat) parameter count (1000) exceeded: skipping diagnostic tests for n_eff and Rhat.\n",
      "To run all diagnostics call pystan.check_hmc_diagnostics(fit)\n",
      "WARNING:pystan:Maximum (flat) parameter count (1000) exceeded: skipping diagnostic tests for n_eff and Rhat.\n",
      "To run all diagnostics call pystan.check_hmc_diagnostics(fit)\n",
      "WARNING:pystan:Maximum (flat) parameter count (1000) exceeded: skipping diagnostic tests for n_eff and Rhat.\n",
      "To run all diagnostics call pystan.check_hmc_diagnostics(fit)\n",
      "WARNING:pystan:Maximum (flat) parameter count (1000) exceeded: skipping diagnostic tests for n_eff and Rhat.\n",
      "To run all diagnostics call pystan.check_hmc_diagnostics(fit)\n",
      "WARNING:pystan:Maximum (flat) parameter count (1000) exceeded: skipping diagnostic tests for n_eff and Rhat.\n",
      "To run all diagnostics call pystan.check_hmc_diagnostics(fit)\n",
      "WARNING:pystan:835 of 1000 iterations saturated the maximum tree depth of 10 (83.5 %)\n",
      "WARNING:pystan:Run again with max_treedepth larger than 10 to avoid saturation\n",
      "WARNING:pystan:Maximum (flat) parameter count (1000) exceeded: skipping diagnostic tests for n_eff and Rhat.\n",
      "To run all diagnostics call pystan.check_hmc_diagnostics(fit)\n",
      "WARNING:pystan:Maximum (flat) parameter count (1000) exceeded: skipping diagnostic tests for n_eff and Rhat.\n",
      "To run all diagnostics call pystan.check_hmc_diagnostics(fit)\n",
      "WARNING:pystan:2 of 1000 iterations saturated the maximum tree depth of 10 (0.2 %)\n",
      "WARNING:pystan:Run again with max_treedepth larger than 10 to avoid saturation\n"
     ]
    },
    {
     "name": "stdout",
     "output_type": "stream",
     "text": [
      "CPU times: user 1.31 s, sys: 3.85 s, total: 5.16 s\n",
      "Wall time: 4min 46s\n"
     ]
    }
   ],
   "source": [
    "%%time\n",
    "post_lambda_zscore = []\n",
    "post_lambda_contraction = []\n",
    "prior_lambda_std = np.std(simu_lambdas[~np.isnan(simu_lambdas)], ddof=1)\n",
    "prior_lambda_mean = np.mean(simu_lambdas[~np.isnan(simu_lambdas)])\n",
    "for x in range(50):\n",
    "    if np.any(np.isnan(simu_ys[x])): \n",
    "        print(\"skip\", x)\n",
    "        continue\n",
    "    fit_model_data = {\n",
    "        \"N\" : N,\n",
    "        \"y\" : simu_ys[x].astype(np.int32),\n",
    "        \"complexity\" : simu_complexity,\n",
    "        \"age\" : simu_age,\n",
    "        \"engine_count\" : simu_engine_count,\n",
    "        \"relative_displacement\" : simu_relative_displacement,\n",
    "    }\n",
    "    fit_model_fit = fit_model.sampling(data=fit_model_data, chains=2, iter=1000)\n",
    "    fit_lambda_summary = fit_model_fit.summary(pars=\"lambda\")[\"summary\"][0]\n",
    "    post_lambda_mean = fit_lambda_summary[0]\n",
    "    post_lambda_std = fit_lambda_summary[2]\n",
    "    post_lambda_zscore.append((post_lambda_mean - simu_lambdas[x]) / prior_lambda_mean)\n",
    "    post_lambda_contraction.append(1 - (post_lambda_std / prior_lambda_std) ** 2)"
   ]
  },
  {
   "cell_type": "markdown",
   "metadata": {},
   "source": [
    "## 10. Algorithmic Calibration"
   ]
  },
  {
   "cell_type": "markdown",
   "metadata": {},
   "source": [
    "## 11. Inferential Calibration"
   ]
  },
  {
   "cell_type": "code",
   "execution_count": 39,
   "metadata": {},
   "outputs": [
    {
     "data": {
      "text/plain": [
       "<matplotlib.collections.PathCollection at 0x7f3dbf72d828>"
      ]
     },
     "execution_count": 39,
     "metadata": {},
     "output_type": "execute_result"
    },
    {
     "data": {
      "image/png": "[encoded data removed]",
      "text/plain": [
       "<Figure size 432x288 with 1 Axes>"
      ]
     },
     "metadata": {
      "needs_background": "light"
     },
     "output_type": "display_data"
    }
   ],
   "source": [
    "ax = plt.gca()\n",
    "ax.set_xlim(0, 1)\n",
    "ax.set_ylim(-5, 5)\n",
    "ax.axhline(0, linestyle=\"--\", c=\"black\")\n",
    "ax.scatter(post_lambda_contraction, post_lambda_zscore, c=\"r\")"
   ]
  },
  {
   "cell_type": "markdown",
   "metadata": {},
   "source": [
    "## 12. Fit Observed Data"
   ]
  },
  {
   "cell_type": "code",
   "execution_count": 79,
   "metadata": {},
   "outputs": [],
   "source": [
    "post_pred_data = {\n",
    "    \"N\" : y_data.shape[0],\n",
    "    \"engine_types\" : np.max(ship_engine_type),\n",
    "    \"y\" : y_data.astype(np.int32),\n",
    "    \"complexity\" : ship_complexity_data,\n",
    "    \"age\" : ship_age_data,\n",
    "    \"engine_type\" : engine_data,\n",
    "    \"relative_displacement\" : relative_displacement_data,\n",
    "    \"engine_count\" : engine_count_data,\n",
    "    \"ship_number\" : ship_number_data,\n",
    "    \"ship_number_max\" : np.max(ship_number_data),\n",
    "    \"ship_category\" : ship_category_data,\n",
    "    \"ship_category_max\" : np.max(ship_category_data),\n",
    "    \"N_pred\" : y_data.shape[0],\n",
    "    \"age_pred\" : ship_age_data,\n",
    "    \"engine_type_pred\" : engine_data,\n",
    "    \"complexity_pred\" : ship_complexity_data,\n",
    "    \"relative_displacement_pred\" : relative_displacement_data,\n",
    "    \"engine_count_pred\" : engine_count_data,\n",
    "    \"ship_number_pred\" : ship_number_data,\n",
    "    \"ship_category_pred\" : ship_category_data,\n",
    "}"
   ]
  },
  {
   "cell_type": "code",
   "execution_count": 80,
   "metadata": {},
   "outputs": [
    {
     "name": "stdout",
     "output_type": "stream",
     "text": [
      "N 614\n",
      "engine_types 4\n",
      "y (614,)\n",
      "complexity (614,)\n",
      "age (614,)\n",
      "engine_type (614,)\n",
      "relative_displacement (614,)\n",
      "engine_count (614,)\n",
      "ship_number (614,)\n",
      "ship_number_max 99\n",
      "ship_category (614,)\n",
      "ship_category_max 5\n",
      "N_pred 614\n",
      "age_pred (614,)\n",
      "engine_type_pred (614,)\n",
      "complexity_pred (614,)\n",
      "relative_displacement_pred (614,)\n",
      "engine_count_pred (614,)\n",
      "ship_number_pred (614,)\n",
      "ship_category_pred (614,)\n"
     ]
    }
   ],
   "source": [
    "for key, val in post_pred_data.items():\n",
    "    if isinstance(val, np.ndarray):\n",
    "        print(key, val.shape)\n",
    "    else:\n",
    "        print(key, val)"
   ]
  },
  {
   "cell_type": "code",
   "execution_count": 81,
   "metadata": {},
   "outputs": [
    {
     "name": "stderr",
     "output_type": "stream",
     "text": [
      "INFO:pystan:COMPILING THE C++ CODE FOR MODEL anon_model_1cc0a9a307c04d690f07561ac38de993 NOW.\n"
     ]
    }
   ],
   "source": [
    "fit_data_model = pystan.StanModel(os.path.join(\"./models\", \"fit_data_post_pred-iter2.stan\"))"
   ]
  },
  {
   "cell_type": "code",
   "execution_count": 82,
   "metadata": {
    "scrolled": true
   },
   "outputs": [
    {
     "name": "stderr",
     "output_type": "stream",
     "text": [
      "WARNING:pystan:Maximum (flat) parameter count (1000) exceeded: skipping diagnostic tests for n_eff and Rhat.\n",
      "To run all diagnostics call pystan.check_hmc_diagnostics(fit)\n"
     ]
    },
    {
     "name": "stdout",
     "output_type": "stream",
     "text": [
      "CPU times: user 174 ms, sys: 261 ms, total: 435 ms\n",
      "Wall time: 1min 48s\n"
     ]
    }
   ],
   "source": [
    "%%time\n",
    "fit_data_fit = fit_data_model.sampling(data=post_pred_data)"
   ]
  },
  {
   "cell_type": "code",
   "execution_count": 83,
   "metadata": {},
   "outputs": [
    {
     "name": "stdout",
     "output_type": "stream",
     "text": [
      "Inference for Stan model: anon_model_1cc0a9a307c04d690f07561ac38de993.\n",
      "4 chains, each with iter=2000; warmup=1000; thin=1; \n",
      "post-warmup draws per chain=1000, total post-warmup draws=4000.\n",
      "\n",
      "         mean se_mean     sd   2.5%    25%    50%    75%  97.5%  n_eff   Rhat\n",
      "phi[1]   5.57    0.04    1.9   1.84   4.33   5.49   6.72   9.63   2382    1.0\n",
      "phi[2]   1.04  4.8e-4   0.04    1.0   1.01   1.03   1.05   1.15   6895    1.0\n",
      "phi[3]   1.02  2.8e-4   0.02    1.0   1.01   1.01   1.03   1.08   6054    1.0\n",
      "phi[4]   5.89    5.92    8.4    1.0   1.03   1.07   9.86  22.13      2   13.5\n",
      "phi[5]    1.6  8.8e-3   0.55   1.02   1.19   1.46   1.84   3.07   3868    1.0\n",
      "rho[1]   1.31  4.8e-3   0.32   1.01   1.09   1.21   1.42   2.17   4416    1.0\n",
      "rho[2]  11.24    0.03   1.32   8.83  10.33  11.18  12.09  13.99   2130    1.0\n",
      "rho[3]   2.19  5.2e-3   0.17   1.87   2.07   2.19   2.31   2.53   1086    1.0\n",
      "rho[4]    1.2     0.2   0.35    1.0   1.02   1.05   1.15   2.24      3   1.74\n",
      "rho[5]   5.47    0.04   2.59   1.42   3.45   5.27   7.23  10.99   3435    1.0\n",
      "\n",
      "Samples were drawn using NUTS at Thu Sep 17 19:52:39 2020.\n",
      "For each parameter, n_eff is a crude measure of effective sample size,\n",
      "and Rhat is the potential scale reduction factor on split chains (at \n",
      "convergence, Rhat=1).\n"
     ]
    }
   ],
   "source": [
    "print(fit_data_fit.stansummary(pars=[\"phi\", \"rho\"]))"
   ]
  },
  {
   "cell_type": "code",
   "execution_count": 84,
   "metadata": {},
   "outputs": [],
   "source": [
    "y_pred = np.mean(fit_data_fit.extract(pars=[\"y_post_pred\"])[\"y_post_pred\"], axis=0)"
   ]
  },
  {
   "cell_type": "code",
   "execution_count": 85,
   "metadata": {},
   "outputs": [
    {
     "data": {
      "text/plain": [
       "0.474574307894948"
      ]
     },
     "execution_count": 85,
     "metadata": {},
     "output_type": "execute_result"
    }
   ],
   "source": [
    "mean_squared_error(transformer.transform(y_data.reshape(-1, 1)).flatten(), transformer.transform(y_pred.reshape(-1, 1)).flatten())"
   ]
  },
  {
   "cell_type": "code",
   "execution_count": 86,
   "metadata": {},
   "outputs": [
    {
     "data": {
      "text/plain": [
       "<matplotlib.collections.PathCollection at 0x7f3d695d2e48>"
      ]
     },
     "execution_count": 86,
     "metadata": {},
     "output_type": "execute_result"
    },
    {
     "data": {
      "image/png": "[encoded data removed]",
      "text/plain": [
       "<Figure size 864x432 with 1 Axes>"
      ]
     },
     "metadata": {
      "needs_background": "light"
     },
     "output_type": "display_data"
    }
   ],
   "source": [
    "fig, ax = plt.subplots(figsize=(12, 6))\n",
    "ax.set_xlabel('age')\n",
    "ax.scatter(ship_age_data, y_data, color='m', alpha=0.3)\n",
    "ax.scatter(ship_age_data, np.mean(fit_data_fit.extract(pars=[\"y_post_pred\"])[\"y_post_pred\"], axis=0), color=\"green\", linewidth=1, alpha=0.5)"
   ]
  },
  {
   "cell_type": "code",
   "execution_count": 88,
   "metadata": {},
   "outputs": [
    {
     "data": {
      "image/png": "[encoded data removed]",
      "text/plain": [
       "<Figure size 1728x1728 with 4 Axes>"
      ]
     },
     "metadata": {
      "needs_background": "light"
     },
     "output_type": "display_data"
    }
   ],
   "source": [
    "fig, ax = plt.subplots(4,1, figsize=(24, 24))\n",
    "displacement_color = dict(zip(np.unique(relative_displacement_data), (\"c\", \"m\", \"y\", \"b\", \"orange\")))\n",
    "complexity_color = dict(zip(np.unique(ship_complexity_data), (\"c\", \"m\", \"b\")))\n",
    "color = np.array([displacement_color[x] for x in relative_displacement_data])\n",
    "#color = np.array([complexity_color[x] for x in ship_complexity_data])\n",
    "for x in range(1, 5):\n",
    "    ax[x-1].set_xlabel('age')\n",
    "    ax[x-1].set_ylabel('failure count')\n",
    "    ax[x-1].set_xlim(0, 1)\n",
    "    ax[x-1].scatter(ship_age_data[ship_category_data == x], y_data[ship_category_data == x], color=color[ship_category_data==x])\n",
    "    ax[x-1].scatter(ship_age_data[ship_category_data == x], y_pred[ship_category_data == x], color=\"g\")"
   ]
  },
  {
   "cell_type": "code",
   "execution_count": null,
   "metadata": {},
   "outputs": [],
   "source": []
  }
 ],
 "metadata": {
  "kernelspec": {
   "display_name": "aria-venv",
   "language": "python",
   "name": "aria-venv"
  },
  "language_info": {
   "codemirror_mode": {
    "name": "ipython",
    "version": 3
   },
   "file_extension": ".py",
   "mimetype": "text/x-python",
   "name": "python",
   "nbconvert_exporter": "python",
   "pygments_lexer": "ipython3",
   "version": "3.6.9"
  }
 },
 "nbformat": 4,
 "nbformat_minor": 4
}
