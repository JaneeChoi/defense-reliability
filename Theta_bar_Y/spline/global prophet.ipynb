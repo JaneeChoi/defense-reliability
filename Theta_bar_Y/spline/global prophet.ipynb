{
 "cells": [
  {
   "cell_type": "code",
   "execution_count": 1,
   "metadata": {},
   "outputs": [],
   "source": [
    "def lasso_regress(comp_df, y):\n",
    "    alphas = [0.0001, 0.0003, 0.0006, 0.001, 0.003, 0.006, 0.01, 0.03, 0.06, 0.1, 0.3, 0.6, 1, 10, 100, 1000, 10000, 100000]\n",
    "    model_cv = LassoCV(alphas = alphas).fit(comp_df.to_numpy(), y)\n",
    "    \n",
    "    m = Lasso(alpha = model_cv.alpha_, fit_intercept=False).fit(comp_df.to_numpy(), y) # ...??\n",
    "    return m.predict(comp_df.to_numpy())\n",
    "\n",
    "def ridge_regress(comp_df, y):\n",
    "    alphas = [0.0001, 0.0003, 0.0006, 0.001, 0.003, 0.006, 0.01, 0.03, 0.06, 0.1, 0.3, 0.6, 1, 10, 100, 1000, 10000, 100000]\n",
    "    model_cv = RidgeCV(alphas = alphas).fit(comp_df.to_numpy(), y)\n",
    "    m = Ridge(alpha = model_cv.alpha_, fit_intercept=False).fit(comp_df.to_numpy(), y) # ...??\n",
    "    return m.predict(comp_df.to_numpy())\n",
    "\n",
    "def scale(features):  # 행렬 x를 만드는 과정 스케일링하는 함수\n",
    "    for i in range(features.shape[1]):\n",
    "        f = features.iloc[:, i].copy()\n",
    "        features.iloc[:, i] = f / LA.norm(f)  # linear algebra norm() = 벡터의 길이 계산\n",
    "    return features\n",
    "\n",
    "def z_scale(feature):\n",
    "    f = feature.copy()\n",
    "    feature = (f - np.mean(f))/np.std(f)\n",
    "    return feature\n",
    "\n",
    "def mase(a, b):  # Mean Absolute Scale Error\n",
    "    a = z_scale(a)\n",
    "    b = z_scale(b)\n",
    "    return np.mean(np.abs(a - b))\n",
    "\n",
    "def rmse(a, b):  # Mean Absolute Scale Error\n",
    "    RMSE = mean_squared_error(a, b)**0.5\n",
    "    return RMSE\n",
    "\n",
    "def forward_stepwise(p_k_features, res):\n",
    "    n = len(res)\n",
    "    p = p_k_features.shape[1]\n",
    "    p_k_features = scale(p_k_features)\n",
    "    idx = np.argmax([np.abs(np.dot(p_k_features.iloc[:, i], res)) for i in range(p)])    \n",
    "    return p_k_features.columns[idx], p_k_features.iloc[:,idx]\n",
    "\n",
    "\n",
    "# train set feature 순으로 test set feature 적용\n",
    "def forward_stepwise_sort(p_k_features, res):\n",
    "    n = len(res)\n",
    "    p = p_k_features.shape[1]\n",
    "    p_k_features = scale(p_k_features)\n",
    "    idx = np.argmax(np.abs(np.dot(p_k_features.iloc[:,0], res)))  \n",
    "    return p_k_features.columns[idx], p_k_features.iloc[:,idx]\n",
    "\n",
    "\n",
    "def make_fs_df(dsy, extfeature):\n",
    "    comp = OrderedDict()\n",
    "    # add basic components\n",
    "    comp['lin'] = LinearTrend()\n",
    "    seasonalities = {}\n",
    "    comp['w'] = FourierSeasonality(7, 3)\n",
    "    comp['m'] = FourierSeasonality(30.4375, 5)\n",
    "    comp['y'] = FourierSeasonality(365.25, 10)\n",
    "\n",
    "    dsy = dsy.loc[dsy['ds'].isin(extfeature['ds'])]\n",
    "    extfeature = extfeature.loc[extfeature['ds'].isin(dsy['ds'])]\n",
    "    \n",
    "    #add custom features\n",
    "    \"\"\"for f in extfeature.columns[1:]:\n",
    "        print(extfeature.loc[:, f].shape)\n",
    "        comp[f] = DataFrameRegressor(z_scale(extfeature.loc[:, f]), name=f\"ER-{f}\")\"\"\"\n",
    "    for f in extfeature.columns[1:]:\n",
    "        ds_frame = extfeature.copy().loc[:, [\"ds\", f]]\n",
    "        ds_frame[f] = (ds_frame[f] - np.mean(ds_frame[f])) / np.std(ds_frame[f])  # scale 괄호 추가\n",
    "        comp[f\"{f}\"] = DataFrameRegressor(ds_frame, name=f\"{f}\")\n",
    "    #comp[f\"extfeature-{}\"] = DataFrameRegressor(extfeature, name=\"extfeatures\")\n",
    "    \n",
    "    m = LinearRidgeModel([*comp.values()])  # values should have been passed in the same order as the dict\n",
    "    m.fit(dsy)\n",
    "    augmented = dsy.copy()\n",
    "    df = pd.DataFrame({\n",
    "            'ds': pd.to_datetime(augmented['ds']),\n",
    "            't': m.t_scaler.fit_transform(augmented[['ds']].apply(pd.to_datetime)).flatten(),\n",
    "            'y': m.y_scaler.fit_transform(augmented[['y']]).flatten(),\n",
    "        })\n",
    "    return m.get_features(df)"
   ]
  },
  {
   "cell_type": "code",
   "execution_count": 2,
   "metadata": {},
   "outputs": [
    {
     "name": "stderr",
     "output_type": "stream",
     "text": [
      "ERROR:fbprophet.plot:Importing plotly failed. Interactive plots will not work.\n"
     ]
    }
   ],
   "source": [
    "import pandas as pd\n",
    "import numpy as np\n",
    "import matplotlib.pyplot as plt\n",
    "%matplotlib inline\n",
    "from numpy import linalg as LA\n",
    "import os\n",
    "import sys\n",
    "sys.path.append(\"/home/dashadower/git_repos/aria\")\n",
    "from aria.models.pooling import PoolingModel\n",
    "from math import log\n",
    "from sklearn.datasets import make_regression\n",
    "from sklearn.linear_model import LinearRegression\n",
    "from sklearn.metrics import mean_squared_error\n",
    "from sklearn.preprocessing import StandardScaler\n",
    "from collections import OrderedDict\n",
    "from sklearn.linear_model import Ridge, RidgeCV, Lasso, LassoCV\n",
    "from sklearn.model_selection import cross_val_score\n",
    "import scipy.stats as ss\n",
    "from aria.components.fourier_seasonality import FourierSeasonality\n",
    "from aria.components.linear_trend import LinearTrend\n",
    "from aria.components.dataframe_regressor import DataFrameRegressor\n",
    "from aria.models.linear_ridge import LinearRidgeModel\n",
    "from sklearn.preprocessing import PowerTransformer\n",
    "from fbprophet import Prophet\n",
    "# from statsmodels.graphics.tsaplots import plot_acf, plot_pacf\n",
    "import seaborn as sns\n",
    "import warnings\n",
    "warnings.filterwarnings('ignore')"
   ]
  },
  {
   "cell_type": "code",
   "execution_count": 3,
   "metadata": {},
   "outputs": [],
   "source": [
    "# import os\n",
    "# failure_df = pd.read_csv(os.path.realpath('failures.csv')).set_index('age')\n",
    "# u = np.nanmean(failure_df.values.flatten())\n",
    "# s = np.sqrt(np.nanvar(failure_df.values.flatten()))\n",
    "# failure_df = pd.DataFrame((failure_df - u) / s, index=failure_df.index, columns=failure_df.columns)\n",
    "# engine_df = pd.read_csv(os.path.realpath('engine.csv')).set_index('ship')\n",
    "\n",
    "# test_failure_df = pd.read_csv(os.path.realpath('../data/failure_count_test.csv')).set_index('age')\n",
    "# test_failure_df = pd.DataFrame((test_failure_df - u) / s, index=test_failure_df.index, columns=test_failure_df.columns)\n",
    "# test_engine_df = pd.read_csv(os.path.realpath('../data/engine_test.csv')).set_index('ship')"
   ]
  },
  {
   "cell_type": "code",
   "execution_count": 4,
   "metadata": {},
   "outputs": [],
   "source": [
    "# # power transformer\n",
    "\n",
    "\n",
    "# failure_df = pd.read_csv('failure_count2.csv').set_index('age')\n",
    "# engine_df = pd.read_csv('engine2.csv').set_index('ship')\n",
    "# test_failure_df = pd.read_csv('failure_count_test.csv').set_index('age')\n",
    "# test_engine_df = pd.read_csv('engine_test.csv').set_index('ship')\n",
    "\n",
    "# pt = PowerTransformer()\n",
    "# pt.fit(failure_df)\n",
    "# failure_df = pd.DataFrame(pt.transform(failure_df),index=failure_df.index, columns=failure_df.columns)\n",
    "# pt.fit(test_failure_df)\n",
    "# test_failure_df = pd.DataFrame(pt.transform(test_failure_df), index=test_failure_df.index, columns=test_failure_df.columns)\n",
    "\n",
    "# engine_df.engine.value_counts()"
   ]
  },
  {
   "cell_type": "code",
   "execution_count": 5,
   "metadata": {},
   "outputs": [],
   "source": [
    "# y_bar_prophet = []\n",
    "# for i in range(1, 2):\n",
    "#     ships = engine_df.index[engine_df['engine'] == i]\n",
    "# #     y_bar_prophet.append(predict_prophet(failure_df[ships].mean(axis=1).values))\n",
    "#     print(failure_df[ships].mean(axis=1).values)\n",
    "# y_bar_prophet = np.array(y_bar_prophet).transpose()"
   ]
  },
  {
   "cell_type": "markdown",
   "metadata": {},
   "source": [
    "## G-Prophet"
   ]
  },
  {
   "cell_type": "code",
   "execution_count": 40,
   "metadata": {},
   "outputs": [],
   "source": [
    "failure_df = pd.read_csv(os.path.realpath('data/failure_count2.csv')).set_index('age')\n",
    "u = np.nanmean(failure_df.iloc[:,1:].values.flatten())\n",
    "s = np.sqrt(np.nanvar(failure_df.iloc[:,1:].values.flatten()))\n",
    "failure_df = pd.DataFrame((failure_df - u) / s, index=failure_df.index, columns=failure_df.columns)\n",
    "engine_df = pd.read_csv(os.path.realpath('data/engine2.csv')).set_index('ship')\n",
    "\n",
    "# test_failure_df = pd.read_csv(os.path.realpath('data/failure_count_test.csv')).set_index('age')\n",
    "# test_failure_df = pd.DataFrame((test_failure_df - u) / s, index=test_failure_df.index, columns=test_failure_df.columns)\n",
    "# test_engine_df = pd.read_csv(os.path.realpath('data/engine_test.csv')).set_index('ship')\n",
    "\n",
    "\n",
    "# power transform\n",
    "# pt = PowerTransformer()\n",
    "# pt.fit(failure_df)\n",
    "# failure_df = pd.DataFrame(pt.transform(failure_df),index=failure_df.index, columns=failure_df.columns)\n",
    "# pt.fit(test_failure_df)\n",
    "# test_failure_df = pd.DataFrame(pt.transform(test_failure_df), index=test_failure_df.index, columns=test_failure_df.columns)"
   ]
  },
  {
   "cell_type": "code",
   "execution_count": 44,
   "metadata": {},
   "outputs": [
    {
     "name": "stderr",
     "output_type": "stream",
     "text": [
      "INFO:fbprophet:Disabling weekly seasonality. Run prophet with weekly_seasonality=True to override this.\n",
      "INFO:fbprophet:Disabling daily seasonality. Run prophet with daily_seasonality=True to override this.\n",
      "INFO:fbprophet:n_changepoints greater than number of observations. Using 23.\n",
      "INFO:fbprophet:Disabling weekly seasonality. Run prophet with weekly_seasonality=True to override this.\n",
      "INFO:fbprophet:Disabling daily seasonality. Run prophet with daily_seasonality=True to override this.\n",
      "INFO:fbprophet:n_changepoints greater than number of observations. Using 11.\n",
      "INFO:fbprophet:Disabling weekly seasonality. Run prophet with weekly_seasonality=True to override this.\n",
      "INFO:fbprophet:Disabling daily seasonality. Run prophet with daily_seasonality=True to override this.\n",
      "INFO:fbprophet:n_changepoints greater than number of observations. Using 7.\n",
      "INFO:fbprophet:Disabling weekly seasonality. Run prophet with weekly_seasonality=True to override this.\n",
      "INFO:fbprophet:Disabling daily seasonality. Run prophet with daily_seasonality=True to override this.\n",
      "INFO:fbprophet:n_changepoints greater than number of observations. Using 6.\n"
     ]
    },
    {
     "name": "stdout",
     "output_type": "stream",
     "text": [
      "s1\n"
     ]
    },
    {
     "name": "stderr",
     "output_type": "stream",
     "text": [
      "INFO:fbprophet:Disabling weekly seasonality. Run prophet with weekly_seasonality=True to override this.\n",
      "INFO:fbprophet:Disabling daily seasonality. Run prophet with daily_seasonality=True to override this.\n",
      "INFO:fbprophet:n_changepoints greater than number of observations. Using 7.\n"
     ]
    },
    {
     "name": "stdout",
     "output_type": "stream",
     "text": [
      "s2\n"
     ]
    },
    {
     "name": "stderr",
     "output_type": "stream",
     "text": [
      "INFO:fbprophet:Disabling weekly seasonality. Run prophet with weekly_seasonality=True to override this.\n",
      "INFO:fbprophet:Disabling daily seasonality. Run prophet with daily_seasonality=True to override this.\n",
      "INFO:fbprophet:n_changepoints greater than number of observations. Using 2.\n"
     ]
    },
    {
     "name": "stdout",
     "output_type": "stream",
     "text": [
      "s3\n"
     ]
    },
    {
     "name": "stderr",
     "output_type": "stream",
     "text": [
      "INFO:fbprophet:Disabling weekly seasonality. Run prophet with weekly_seasonality=True to override this.\n",
      "INFO:fbprophet:Disabling daily seasonality. Run prophet with daily_seasonality=True to override this.\n",
      "INFO:fbprophet:n_changepoints greater than number of observations. Using 0.\n"
     ]
    },
    {
     "name": "stdout",
     "output_type": "stream",
     "text": [
      "s5\n"
     ]
    },
    {
     "name": "stderr",
     "output_type": "stream",
     "text": [
      "INFO:fbprophet:Disabling weekly seasonality. Run prophet with weekly_seasonality=True to override this.\n",
      "INFO:fbprophet:Disabling daily seasonality. Run prophet with daily_seasonality=True to override this.\n",
      "INFO:fbprophet:n_changepoints greater than number of observations. Using 11.\n"
     ]
    },
    {
     "name": "stdout",
     "output_type": "stream",
     "text": [
      "s6\n"
     ]
    },
    {
     "name": "stderr",
     "output_type": "stream",
     "text": [
      "INFO:fbprophet:Disabling weekly seasonality. Run prophet with weekly_seasonality=True to override this.\n",
      "INFO:fbprophet:Disabling daily seasonality. Run prophet with daily_seasonality=True to override this.\n",
      "INFO:fbprophet:n_changepoints greater than number of observations. Using 7.\n",
      "INFO:fbprophet:Disabling weekly seasonality. Run prophet with weekly_seasonality=True to override this.\n",
      "INFO:fbprophet:Disabling daily seasonality. Run prophet with daily_seasonality=True to override this.\n",
      "INFO:fbprophet:n_changepoints greater than number of observations. Using 7.\n"
     ]
    },
    {
     "name": "stdout",
     "output_type": "stream",
     "text": [
      "s8\n"
     ]
    },
    {
     "name": "stderr",
     "output_type": "stream",
     "text": [
      "INFO:fbprophet:Disabling weekly seasonality. Run prophet with weekly_seasonality=True to override this.\n",
      "INFO:fbprophet:Disabling daily seasonality. Run prophet with daily_seasonality=True to override this.\n",
      "INFO:fbprophet:n_changepoints greater than number of observations. Using 3.\n"
     ]
    },
    {
     "name": "stdout",
     "output_type": "stream",
     "text": [
      "s9\n"
     ]
    },
    {
     "name": "stderr",
     "output_type": "stream",
     "text": [
      "INFO:fbprophet:Disabling weekly seasonality. Run prophet with weekly_seasonality=True to override this.\n",
      "INFO:fbprophet:Disabling daily seasonality. Run prophet with daily_seasonality=True to override this.\n",
      "INFO:fbprophet:n_changepoints greater than number of observations. Using 3.\n"
     ]
    },
    {
     "name": "stdout",
     "output_type": "stream",
     "text": [
      "s11\n"
     ]
    },
    {
     "name": "stderr",
     "output_type": "stream",
     "text": [
      "INFO:fbprophet:Disabling weekly seasonality. Run prophet with weekly_seasonality=True to override this.\n",
      "INFO:fbprophet:Disabling daily seasonality. Run prophet with daily_seasonality=True to override this.\n",
      "INFO:fbprophet:n_changepoints greater than number of observations. Using 2.\n"
     ]
    },
    {
     "name": "stdout",
     "output_type": "stream",
     "text": [
      "s12\n"
     ]
    },
    {
     "name": "stderr",
     "output_type": "stream",
     "text": [
      "INFO:fbprophet:Disabling weekly seasonality. Run prophet with weekly_seasonality=True to override this.\n",
      "INFO:fbprophet:Disabling daily seasonality. Run prophet with daily_seasonality=True to override this.\n",
      "INFO:fbprophet:n_changepoints greater than number of observations. Using 1.\n"
     ]
    },
    {
     "name": "stdout",
     "output_type": "stream",
     "text": [
      "s13\n"
     ]
    },
    {
     "name": "stderr",
     "output_type": "stream",
     "text": [
      "INFO:fbprophet:Disabling weekly seasonality. Run prophet with weekly_seasonality=True to override this.\n",
      "INFO:fbprophet:Disabling daily seasonality. Run prophet with daily_seasonality=True to override this.\n",
      "INFO:fbprophet:n_changepoints greater than number of observations. Using 5.\n"
     ]
    },
    {
     "name": "stdout",
     "output_type": "stream",
     "text": [
      "s14\n"
     ]
    },
    {
     "name": "stderr",
     "output_type": "stream",
     "text": [
      "INFO:fbprophet:Disabling weekly seasonality. Run prophet with weekly_seasonality=True to override this.\n",
      "INFO:fbprophet:Disabling daily seasonality. Run prophet with daily_seasonality=True to override this.\n",
      "INFO:fbprophet:n_changepoints greater than number of observations. Using 7.\n"
     ]
    },
    {
     "name": "stdout",
     "output_type": "stream",
     "text": [
      "s15\n"
     ]
    },
    {
     "name": "stderr",
     "output_type": "stream",
     "text": [
      "INFO:fbprophet:Disabling weekly seasonality. Run prophet with weekly_seasonality=True to override this.\n",
      "INFO:fbprophet:Disabling daily seasonality. Run prophet with daily_seasonality=True to override this.\n",
      "INFO:fbprophet:n_changepoints greater than number of observations. Using 7.\n"
     ]
    },
    {
     "name": "stdout",
     "output_type": "stream",
     "text": [
      "s17\n"
     ]
    },
    {
     "name": "stderr",
     "output_type": "stream",
     "text": [
      "INFO:fbprophet:Disabling weekly seasonality. Run prophet with weekly_seasonality=True to override this.\n",
      "INFO:fbprophet:Disabling daily seasonality. Run prophet with daily_seasonality=True to override this.\n",
      "INFO:fbprophet:n_changepoints greater than number of observations. Using 8.\n"
     ]
    },
    {
     "name": "stdout",
     "output_type": "stream",
     "text": [
      "s18\n"
     ]
    },
    {
     "name": "stderr",
     "output_type": "stream",
     "text": [
      "INFO:fbprophet:Disabling weekly seasonality. Run prophet with weekly_seasonality=True to override this.\n",
      "INFO:fbprophet:Disabling daily seasonality. Run prophet with daily_seasonality=True to override this.\n",
      "INFO:fbprophet:n_changepoints greater than number of observations. Using 7.\n"
     ]
    },
    {
     "name": "stdout",
     "output_type": "stream",
     "text": [
      "s19\n"
     ]
    },
    {
     "name": "stderr",
     "output_type": "stream",
     "text": [
      "INFO:fbprophet:Disabling weekly seasonality. Run prophet with weekly_seasonality=True to override this.\n",
      "INFO:fbprophet:Disabling daily seasonality. Run prophet with daily_seasonality=True to override this.\n",
      "INFO:fbprophet:n_changepoints greater than number of observations. Using 7.\n"
     ]
    },
    {
     "name": "stdout",
     "output_type": "stream",
     "text": [
      "s20\n"
     ]
    },
    {
     "name": "stderr",
     "output_type": "stream",
     "text": [
      "INFO:fbprophet:Disabling weekly seasonality. Run prophet with weekly_seasonality=True to override this.\n",
      "INFO:fbprophet:Disabling daily seasonality. Run prophet with daily_seasonality=True to override this.\n",
      "INFO:fbprophet:n_changepoints greater than number of observations. Using 8.\n"
     ]
    },
    {
     "name": "stdout",
     "output_type": "stream",
     "text": [
      "s21\n"
     ]
    },
    {
     "name": "stderr",
     "output_type": "stream",
     "text": [
      "INFO:fbprophet:Disabling weekly seasonality. Run prophet with weekly_seasonality=True to override this.\n",
      "INFO:fbprophet:Disabling daily seasonality. Run prophet with daily_seasonality=True to override this.\n",
      "INFO:fbprophet:n_changepoints greater than number of observations. Using 8.\n"
     ]
    },
    {
     "name": "stdout",
     "output_type": "stream",
     "text": [
      "s22\n"
     ]
    },
    {
     "name": "stderr",
     "output_type": "stream",
     "text": [
      "INFO:fbprophet:Disabling weekly seasonality. Run prophet with weekly_seasonality=True to override this.\n",
      "INFO:fbprophet:Disabling daily seasonality. Run prophet with daily_seasonality=True to override this.\n",
      "INFO:fbprophet:n_changepoints greater than number of observations. Using 4.\n"
     ]
    },
    {
     "name": "stdout",
     "output_type": "stream",
     "text": [
      "s23\n"
     ]
    },
    {
     "name": "stderr",
     "output_type": "stream",
     "text": [
      "INFO:fbprophet:Disabling weekly seasonality. Run prophet with weekly_seasonality=True to override this.\n",
      "INFO:fbprophet:Disabling daily seasonality. Run prophet with daily_seasonality=True to override this.\n",
      "INFO:fbprophet:n_changepoints greater than number of observations. Using 4.\n"
     ]
    },
    {
     "name": "stdout",
     "output_type": "stream",
     "text": [
      "s24\n"
     ]
    },
    {
     "name": "stderr",
     "output_type": "stream",
     "text": [
      "INFO:fbprophet:Disabling weekly seasonality. Run prophet with weekly_seasonality=True to override this.\n",
      "INFO:fbprophet:Disabling daily seasonality. Run prophet with daily_seasonality=True to override this.\n",
      "INFO:fbprophet:n_changepoints greater than number of observations. Using 6.\n"
     ]
    },
    {
     "name": "stdout",
     "output_type": "stream",
     "text": [
      "s25\n"
     ]
    },
    {
     "name": "stderr",
     "output_type": "stream",
     "text": [
      "INFO:fbprophet:Disabling weekly seasonality. Run prophet with weekly_seasonality=True to override this.\n",
      "INFO:fbprophet:Disabling daily seasonality. Run prophet with daily_seasonality=True to override this.\n",
      "INFO:fbprophet:n_changepoints greater than number of observations. Using 7.\n"
     ]
    },
    {
     "name": "stdout",
     "output_type": "stream",
     "text": [
      "s26\n"
     ]
    },
    {
     "name": "stderr",
     "output_type": "stream",
     "text": [
      "INFO:fbprophet:Disabling weekly seasonality. Run prophet with weekly_seasonality=True to override this.\n",
      "INFO:fbprophet:Disabling daily seasonality. Run prophet with daily_seasonality=True to override this.\n",
      "INFO:fbprophet:n_changepoints greater than number of observations. Using 7.\n"
     ]
    },
    {
     "name": "stdout",
     "output_type": "stream",
     "text": [
      "s27\n"
     ]
    },
    {
     "name": "stderr",
     "output_type": "stream",
     "text": [
      "INFO:fbprophet:Disabling weekly seasonality. Run prophet with weekly_seasonality=True to override this.\n",
      "INFO:fbprophet:Disabling daily seasonality. Run prophet with daily_seasonality=True to override this.\n",
      "INFO:fbprophet:n_changepoints greater than number of observations. Using 7.\n"
     ]
    },
    {
     "name": "stdout",
     "output_type": "stream",
     "text": [
      "s28\n"
     ]
    },
    {
     "name": "stderr",
     "output_type": "stream",
     "text": [
      "INFO:fbprophet:Disabling weekly seasonality. Run prophet with weekly_seasonality=True to override this.\n",
      "INFO:fbprophet:Disabling daily seasonality. Run prophet with daily_seasonality=True to override this.\n",
      "INFO:fbprophet:n_changepoints greater than number of observations. Using 3.\n"
     ]
    },
    {
     "name": "stdout",
     "output_type": "stream",
     "text": [
      "s29\n"
     ]
    },
    {
     "name": "stderr",
     "output_type": "stream",
     "text": [
      "INFO:fbprophet:Disabling weekly seasonality. Run prophet with weekly_seasonality=True to override this.\n",
      "INFO:fbprophet:Disabling daily seasonality. Run prophet with daily_seasonality=True to override this.\n",
      "INFO:fbprophet:n_changepoints greater than number of observations. Using 8.\n"
     ]
    },
    {
     "name": "stdout",
     "output_type": "stream",
     "text": [
      "s30\n"
     ]
    },
    {
     "name": "stderr",
     "output_type": "stream",
     "text": [
      "INFO:fbprophet:Disabling weekly seasonality. Run prophet with weekly_seasonality=True to override this.\n",
      "INFO:fbprophet:Disabling daily seasonality. Run prophet with daily_seasonality=True to override this.\n",
      "INFO:fbprophet:n_changepoints greater than number of observations. Using 6.\n"
     ]
    },
    {
     "name": "stdout",
     "output_type": "stream",
     "text": [
      "s31\n"
     ]
    },
    {
     "name": "stderr",
     "output_type": "stream",
     "text": [
      "INFO:fbprophet:Disabling weekly seasonality. Run prophet with weekly_seasonality=True to override this.\n",
      "INFO:fbprophet:Disabling daily seasonality. Run prophet with daily_seasonality=True to override this.\n",
      "INFO:fbprophet:n_changepoints greater than number of observations. Using 6.\n"
     ]
    },
    {
     "name": "stdout",
     "output_type": "stream",
     "text": [
      "s32\n"
     ]
    },
    {
     "name": "stderr",
     "output_type": "stream",
     "text": [
      "INFO:fbprophet:Disabling weekly seasonality. Run prophet with weekly_seasonality=True to override this.\n",
      "INFO:fbprophet:Disabling daily seasonality. Run prophet with daily_seasonality=True to override this.\n",
      "INFO:fbprophet:n_changepoints greater than number of observations. Using 10.\n"
     ]
    },
    {
     "name": "stdout",
     "output_type": "stream",
     "text": [
      "s33\n"
     ]
    },
    {
     "name": "stderr",
     "output_type": "stream",
     "text": [
      "INFO:fbprophet:Disabling weekly seasonality. Run prophet with weekly_seasonality=True to override this.\n",
      "INFO:fbprophet:Disabling daily seasonality. Run prophet with daily_seasonality=True to override this.\n",
      "INFO:fbprophet:n_changepoints greater than number of observations. Using 3.\n",
      "INFO:fbprophet:Disabling weekly seasonality. Run prophet with weekly_seasonality=True to override this.\n",
      "INFO:fbprophet:Disabling daily seasonality. Run prophet with daily_seasonality=True to override this.\n",
      "INFO:fbprophet:n_changepoints greater than number of observations. Using 3.\n"
     ]
    },
    {
     "name": "stdout",
     "output_type": "stream",
     "text": [
      "s34\n"
     ]
    },
    {
     "name": "stderr",
     "output_type": "stream",
     "text": [
      "INFO:fbprophet:Disabling weekly seasonality. Run prophet with weekly_seasonality=True to override this.\n",
      "INFO:fbprophet:Disabling daily seasonality. Run prophet with daily_seasonality=True to override this.\n",
      "INFO:fbprophet:n_changepoints greater than number of observations. Using 3.\n"
     ]
    },
    {
     "name": "stdout",
     "output_type": "stream",
     "text": [
      "s35\n"
     ]
    },
    {
     "name": "stderr",
     "output_type": "stream",
     "text": [
      "INFO:fbprophet:Disabling weekly seasonality. Run prophet with weekly_seasonality=True to override this.\n",
      "INFO:fbprophet:Disabling daily seasonality. Run prophet with daily_seasonality=True to override this.\n",
      "INFO:fbprophet:n_changepoints greater than number of observations. Using 6.\n"
     ]
    },
    {
     "name": "stdout",
     "output_type": "stream",
     "text": [
      "s36\n"
     ]
    },
    {
     "name": "stderr",
     "output_type": "stream",
     "text": [
      "INFO:fbprophet:Disabling weekly seasonality. Run prophet with weekly_seasonality=True to override this.\n",
      "INFO:fbprophet:Disabling daily seasonality. Run prophet with daily_seasonality=True to override this.\n",
      "INFO:fbprophet:n_changepoints greater than number of observations. Using 3.\n"
     ]
    },
    {
     "name": "stdout",
     "output_type": "stream",
     "text": [
      "s37\n"
     ]
    },
    {
     "name": "stderr",
     "output_type": "stream",
     "text": [
      "INFO:fbprophet:Disabling weekly seasonality. Run prophet with weekly_seasonality=True to override this.\n",
      "INFO:fbprophet:Disabling daily seasonality. Run prophet with daily_seasonality=True to override this.\n",
      "INFO:fbprophet:n_changepoints greater than number of observations. Using 3.\n"
     ]
    },
    {
     "name": "stdout",
     "output_type": "stream",
     "text": [
      "s38\n"
     ]
    },
    {
     "name": "stderr",
     "output_type": "stream",
     "text": [
      "INFO:fbprophet:Disabling weekly seasonality. Run prophet with weekly_seasonality=True to override this.\n",
      "INFO:fbprophet:Disabling daily seasonality. Run prophet with daily_seasonality=True to override this.\n",
      "INFO:fbprophet:n_changepoints greater than number of observations. Using 3.\n"
     ]
    },
    {
     "name": "stdout",
     "output_type": "stream",
     "text": [
      "s39\n"
     ]
    },
    {
     "name": "stderr",
     "output_type": "stream",
     "text": [
      "INFO:fbprophet:Disabling weekly seasonality. Run prophet with weekly_seasonality=True to override this.\n",
      "INFO:fbprophet:Disabling daily seasonality. Run prophet with daily_seasonality=True to override this.\n",
      "INFO:fbprophet:n_changepoints greater than number of observations. Using 3.\n"
     ]
    },
    {
     "name": "stdout",
     "output_type": "stream",
     "text": [
      "s40\n"
     ]
    },
    {
     "name": "stderr",
     "output_type": "stream",
     "text": [
      "INFO:fbprophet:Disabling weekly seasonality. Run prophet with weekly_seasonality=True to override this.\n",
      "INFO:fbprophet:Disabling daily seasonality. Run prophet with daily_seasonality=True to override this.\n",
      "INFO:fbprophet:n_changepoints greater than number of observations. Using 7.\n"
     ]
    },
    {
     "name": "stdout",
     "output_type": "stream",
     "text": [
      "s41\n"
     ]
    },
    {
     "name": "stderr",
     "output_type": "stream",
     "text": [
      "INFO:fbprophet:Disabling weekly seasonality. Run prophet with weekly_seasonality=True to override this.\n",
      "INFO:fbprophet:Disabling daily seasonality. Run prophet with daily_seasonality=True to override this.\n",
      "INFO:fbprophet:n_changepoints greater than number of observations. Using 3.\n"
     ]
    },
    {
     "name": "stdout",
     "output_type": "stream",
     "text": [
      "s42\n"
     ]
    },
    {
     "name": "stderr",
     "output_type": "stream",
     "text": [
      "INFO:fbprophet:Disabling weekly seasonality. Run prophet with weekly_seasonality=True to override this.\n",
      "INFO:fbprophet:Disabling daily seasonality. Run prophet with daily_seasonality=True to override this.\n",
      "INFO:fbprophet:n_changepoints greater than number of observations. Using 6.\n"
     ]
    },
    {
     "name": "stdout",
     "output_type": "stream",
     "text": [
      "s43\n"
     ]
    },
    {
     "name": "stderr",
     "output_type": "stream",
     "text": [
      "INFO:fbprophet:Disabling weekly seasonality. Run prophet with weekly_seasonality=True to override this.\n",
      "INFO:fbprophet:Disabling daily seasonality. Run prophet with daily_seasonality=True to override this.\n",
      "INFO:fbprophet:n_changepoints greater than number of observations. Using 3.\n"
     ]
    },
    {
     "name": "stdout",
     "output_type": "stream",
     "text": [
      "s44\n"
     ]
    },
    {
     "name": "stderr",
     "output_type": "stream",
     "text": [
      "INFO:fbprophet:Disabling weekly seasonality. Run prophet with weekly_seasonality=True to override this.\n",
      "INFO:fbprophet:Disabling daily seasonality. Run prophet with daily_seasonality=True to override this.\n",
      "INFO:fbprophet:n_changepoints greater than number of observations. Using 5.\n"
     ]
    },
    {
     "name": "stdout",
     "output_type": "stream",
     "text": [
      "s45\n"
     ]
    },
    {
     "name": "stderr",
     "output_type": "stream",
     "text": [
      "INFO:fbprophet:Disabling weekly seasonality. Run prophet with weekly_seasonality=True to override this.\n",
      "INFO:fbprophet:Disabling daily seasonality. Run prophet with daily_seasonality=True to override this.\n",
      "INFO:fbprophet:n_changepoints greater than number of observations. Using 4.\n"
     ]
    },
    {
     "name": "stdout",
     "output_type": "stream",
     "text": [
      "s46\n"
     ]
    },
    {
     "name": "stderr",
     "output_type": "stream",
     "text": [
      "INFO:fbprophet:Disabling weekly seasonality. Run prophet with weekly_seasonality=True to override this.\n",
      "INFO:fbprophet:Disabling daily seasonality. Run prophet with daily_seasonality=True to override this.\n",
      "INFO:fbprophet:n_changepoints greater than number of observations. Using 4.\n"
     ]
    },
    {
     "name": "stdout",
     "output_type": "stream",
     "text": [
      "s47\n"
     ]
    },
    {
     "name": "stderr",
     "output_type": "stream",
     "text": [
      "INFO:fbprophet:Disabling weekly seasonality. Run prophet with weekly_seasonality=True to override this.\n",
      "INFO:fbprophet:Disabling daily seasonality. Run prophet with daily_seasonality=True to override this.\n",
      "INFO:fbprophet:n_changepoints greater than number of observations. Using 3.\n"
     ]
    },
    {
     "name": "stdout",
     "output_type": "stream",
     "text": [
      "s48\n"
     ]
    },
    {
     "name": "stderr",
     "output_type": "stream",
     "text": [
      "INFO:fbprophet:Disabling weekly seasonality. Run prophet with weekly_seasonality=True to override this.\n",
      "INFO:fbprophet:Disabling daily seasonality. Run prophet with daily_seasonality=True to override this.\n",
      "INFO:fbprophet:n_changepoints greater than number of observations. Using 3.\n"
     ]
    },
    {
     "name": "stdout",
     "output_type": "stream",
     "text": [
      "s49\n"
     ]
    },
    {
     "name": "stderr",
     "output_type": "stream",
     "text": [
      "INFO:fbprophet:Disabling weekly seasonality. Run prophet with weekly_seasonality=True to override this.\n",
      "INFO:fbprophet:Disabling daily seasonality. Run prophet with daily_seasonality=True to override this.\n",
      "INFO:fbprophet:n_changepoints greater than number of observations. Using 3.\n"
     ]
    },
    {
     "name": "stdout",
     "output_type": "stream",
     "text": [
      "s50\n"
     ]
    },
    {
     "name": "stderr",
     "output_type": "stream",
     "text": [
      "INFO:fbprophet:Disabling weekly seasonality. Run prophet with weekly_seasonality=True to override this.\n",
      "INFO:fbprophet:Disabling daily seasonality. Run prophet with daily_seasonality=True to override this.\n",
      "INFO:fbprophet:n_changepoints greater than number of observations. Using 3.\n"
     ]
    },
    {
     "name": "stdout",
     "output_type": "stream",
     "text": [
      "s51\n"
     ]
    },
    {
     "name": "stderr",
     "output_type": "stream",
     "text": [
      "INFO:fbprophet:Disabling weekly seasonality. Run prophet with weekly_seasonality=True to override this.\n",
      "INFO:fbprophet:Disabling daily seasonality. Run prophet with daily_seasonality=True to override this.\n",
      "INFO:fbprophet:n_changepoints greater than number of observations. Using 3.\n"
     ]
    },
    {
     "name": "stdout",
     "output_type": "stream",
     "text": [
      "s52\n"
     ]
    },
    {
     "name": "stderr",
     "output_type": "stream",
     "text": [
      "INFO:fbprophet:Disabling weekly seasonality. Run prophet with weekly_seasonality=True to override this.\n",
      "INFO:fbprophet:Disabling daily seasonality. Run prophet with daily_seasonality=True to override this.\n",
      "INFO:fbprophet:n_changepoints greater than number of observations. Using 3.\n"
     ]
    },
    {
     "name": "stdout",
     "output_type": "stream",
     "text": [
      "s53\n"
     ]
    },
    {
     "name": "stderr",
     "output_type": "stream",
     "text": [
      "INFO:fbprophet:Disabling weekly seasonality. Run prophet with weekly_seasonality=True to override this.\n",
      "INFO:fbprophet:Disabling daily seasonality. Run prophet with daily_seasonality=True to override this.\n",
      "INFO:fbprophet:n_changepoints greater than number of observations. Using 5.\n"
     ]
    },
    {
     "name": "stdout",
     "output_type": "stream",
     "text": [
      "s54\n"
     ]
    },
    {
     "name": "stderr",
     "output_type": "stream",
     "text": [
      "INFO:fbprophet:Disabling weekly seasonality. Run prophet with weekly_seasonality=True to override this.\n",
      "INFO:fbprophet:Disabling daily seasonality. Run prophet with daily_seasonality=True to override this.\n",
      "INFO:fbprophet:n_changepoints greater than number of observations. Using 7.\n"
     ]
    },
    {
     "name": "stdout",
     "output_type": "stream",
     "text": [
      "s55\n"
     ]
    },
    {
     "name": "stderr",
     "output_type": "stream",
     "text": [
      "INFO:fbprophet:Disabling weekly seasonality. Run prophet with weekly_seasonality=True to override this.\n",
      "INFO:fbprophet:Disabling daily seasonality. Run prophet with daily_seasonality=True to override this.\n",
      "INFO:fbprophet:n_changepoints greater than number of observations. Using 5.\n"
     ]
    },
    {
     "name": "stdout",
     "output_type": "stream",
     "text": [
      "s56\n"
     ]
    },
    {
     "name": "stderr",
     "output_type": "stream",
     "text": [
      "INFO:fbprophet:Disabling weekly seasonality. Run prophet with weekly_seasonality=True to override this.\n",
      "INFO:fbprophet:Disabling daily seasonality. Run prophet with daily_seasonality=True to override this.\n",
      "INFO:fbprophet:n_changepoints greater than number of observations. Using 5.\n"
     ]
    },
    {
     "name": "stdout",
     "output_type": "stream",
     "text": [
      "s57\n"
     ]
    },
    {
     "name": "stderr",
     "output_type": "stream",
     "text": [
      "INFO:fbprophet:Disabling weekly seasonality. Run prophet with weekly_seasonality=True to override this.\n",
      "INFO:fbprophet:Disabling daily seasonality. Run prophet with daily_seasonality=True to override this.\n",
      "INFO:fbprophet:n_changepoints greater than number of observations. Using 5.\n"
     ]
    },
    {
     "name": "stdout",
     "output_type": "stream",
     "text": [
      "s58\n"
     ]
    },
    {
     "name": "stderr",
     "output_type": "stream",
     "text": [
      "INFO:fbprophet:Disabling weekly seasonality. Run prophet with weekly_seasonality=True to override this.\n",
      "INFO:fbprophet:Disabling daily seasonality. Run prophet with daily_seasonality=True to override this.\n",
      "INFO:fbprophet:n_changepoints greater than number of observations. Using 5.\n"
     ]
    },
    {
     "name": "stdout",
     "output_type": "stream",
     "text": [
      "s59\n"
     ]
    },
    {
     "name": "stderr",
     "output_type": "stream",
     "text": [
      "INFO:fbprophet:Disabling weekly seasonality. Run prophet with weekly_seasonality=True to override this.\n",
      "INFO:fbprophet:Disabling daily seasonality. Run prophet with daily_seasonality=True to override this.\n",
      "INFO:fbprophet:n_changepoints greater than number of observations. Using 3.\n"
     ]
    },
    {
     "name": "stdout",
     "output_type": "stream",
     "text": [
      "s61\n"
     ]
    },
    {
     "name": "stderr",
     "output_type": "stream",
     "text": [
      "INFO:fbprophet:Disabling weekly seasonality. Run prophet with weekly_seasonality=True to override this.\n",
      "INFO:fbprophet:Disabling daily seasonality. Run prophet with daily_seasonality=True to override this.\n",
      "INFO:fbprophet:n_changepoints greater than number of observations. Using 8.\n"
     ]
    },
    {
     "name": "stdout",
     "output_type": "stream",
     "text": [
      "s62\n"
     ]
    },
    {
     "name": "stderr",
     "output_type": "stream",
     "text": [
      "INFO:fbprophet:Disabling weekly seasonality. Run prophet with weekly_seasonality=True to override this.\n",
      "INFO:fbprophet:Disabling daily seasonality. Run prophet with daily_seasonality=True to override this.\n",
      "INFO:fbprophet:n_changepoints greater than number of observations. Using 3.\n"
     ]
    },
    {
     "name": "stdout",
     "output_type": "stream",
     "text": [
      "s63\n"
     ]
    },
    {
     "name": "stderr",
     "output_type": "stream",
     "text": [
      "INFO:fbprophet:Disabling weekly seasonality. Run prophet with weekly_seasonality=True to override this.\n",
      "INFO:fbprophet:Disabling daily seasonality. Run prophet with daily_seasonality=True to override this.\n",
      "INFO:fbprophet:n_changepoints greater than number of observations. Using 3.\n"
     ]
    },
    {
     "name": "stdout",
     "output_type": "stream",
     "text": [
      "s64\n"
     ]
    },
    {
     "name": "stderr",
     "output_type": "stream",
     "text": [
      "INFO:fbprophet:Disabling weekly seasonality. Run prophet with weekly_seasonality=True to override this.\n",
      "INFO:fbprophet:Disabling daily seasonality. Run prophet with daily_seasonality=True to override this.\n",
      "INFO:fbprophet:n_changepoints greater than number of observations. Using 3.\n"
     ]
    },
    {
     "name": "stdout",
     "output_type": "stream",
     "text": [
      "s65\n"
     ]
    },
    {
     "name": "stderr",
     "output_type": "stream",
     "text": [
      "INFO:fbprophet:Disabling weekly seasonality. Run prophet with weekly_seasonality=True to override this.\n",
      "INFO:fbprophet:Disabling daily seasonality. Run prophet with daily_seasonality=True to override this.\n",
      "INFO:fbprophet:n_changepoints greater than number of observations. Using 3.\n"
     ]
    },
    {
     "name": "stdout",
     "output_type": "stream",
     "text": [
      "s66\n"
     ]
    },
    {
     "name": "stderr",
     "output_type": "stream",
     "text": [
      "INFO:fbprophet:Disabling weekly seasonality. Run prophet with weekly_seasonality=True to override this.\n",
      "INFO:fbprophet:Disabling daily seasonality. Run prophet with daily_seasonality=True to override this.\n",
      "INFO:fbprophet:n_changepoints greater than number of observations. Using 3.\n"
     ]
    },
    {
     "name": "stdout",
     "output_type": "stream",
     "text": [
      "s67\n"
     ]
    },
    {
     "name": "stderr",
     "output_type": "stream",
     "text": [
      "INFO:fbprophet:Disabling weekly seasonality. Run prophet with weekly_seasonality=True to override this.\n",
      "INFO:fbprophet:Disabling daily seasonality. Run prophet with daily_seasonality=True to override this.\n",
      "INFO:fbprophet:n_changepoints greater than number of observations. Using 3.\n"
     ]
    },
    {
     "name": "stdout",
     "output_type": "stream",
     "text": [
      "s68\n"
     ]
    },
    {
     "name": "stderr",
     "output_type": "stream",
     "text": [
      "INFO:fbprophet:Disabling weekly seasonality. Run prophet with weekly_seasonality=True to override this.\n",
      "INFO:fbprophet:Disabling daily seasonality. Run prophet with daily_seasonality=True to override this.\n",
      "INFO:fbprophet:n_changepoints greater than number of observations. Using 2.\n"
     ]
    },
    {
     "name": "stdout",
     "output_type": "stream",
     "text": [
      "s69\n"
     ]
    },
    {
     "name": "stderr",
     "output_type": "stream",
     "text": [
      "INFO:fbprophet:Disabling weekly seasonality. Run prophet with weekly_seasonality=True to override this.\n",
      "INFO:fbprophet:Disabling daily seasonality. Run prophet with daily_seasonality=True to override this.\n",
      "INFO:fbprophet:n_changepoints greater than number of observations. Using 4.\n"
     ]
    },
    {
     "name": "stdout",
     "output_type": "stream",
     "text": [
      "s70\n"
     ]
    },
    {
     "name": "stderr",
     "output_type": "stream",
     "text": [
      "INFO:fbprophet:Disabling weekly seasonality. Run prophet with weekly_seasonality=True to override this.\n",
      "INFO:fbprophet:Disabling daily seasonality. Run prophet with daily_seasonality=True to override this.\n",
      "INFO:fbprophet:n_changepoints greater than number of observations. Using 4.\n"
     ]
    },
    {
     "name": "stdout",
     "output_type": "stream",
     "text": [
      "s71\n"
     ]
    },
    {
     "name": "stderr",
     "output_type": "stream",
     "text": [
      "INFO:fbprophet:Disabling weekly seasonality. Run prophet with weekly_seasonality=True to override this.\n",
      "INFO:fbprophet:Disabling daily seasonality. Run prophet with daily_seasonality=True to override this.\n",
      "INFO:fbprophet:n_changepoints greater than number of observations. Using 1.\n"
     ]
    },
    {
     "name": "stdout",
     "output_type": "stream",
     "text": [
      "s72\n"
     ]
    },
    {
     "name": "stderr",
     "output_type": "stream",
     "text": [
      "INFO:fbprophet:Disabling weekly seasonality. Run prophet with weekly_seasonality=True to override this.\n",
      "INFO:fbprophet:Disabling daily seasonality. Run prophet with daily_seasonality=True to override this.\n",
      "INFO:fbprophet:n_changepoints greater than number of observations. Using 1.\n"
     ]
    },
    {
     "name": "stdout",
     "output_type": "stream",
     "text": [
      "s73\n"
     ]
    },
    {
     "name": "stderr",
     "output_type": "stream",
     "text": [
      "INFO:fbprophet:Disabling weekly seasonality. Run prophet with weekly_seasonality=True to override this.\n",
      "INFO:fbprophet:Disabling daily seasonality. Run prophet with daily_seasonality=True to override this.\n",
      "INFO:fbprophet:n_changepoints greater than number of observations. Using 0.\n"
     ]
    },
    {
     "name": "stdout",
     "output_type": "stream",
     "text": [
      "s74\n"
     ]
    },
    {
     "name": "stderr",
     "output_type": "stream",
     "text": [
      "INFO:fbprophet:Disabling weekly seasonality. Run prophet with weekly_seasonality=True to override this.\n",
      "INFO:fbprophet:Disabling daily seasonality. Run prophet with daily_seasonality=True to override this.\n",
      "INFO:fbprophet:n_changepoints greater than number of observations. Using 1.\n"
     ]
    },
    {
     "name": "stdout",
     "output_type": "stream",
     "text": [
      "s75\n"
     ]
    },
    {
     "name": "stderr",
     "output_type": "stream",
     "text": [
      "INFO:fbprophet:Disabling weekly seasonality. Run prophet with weekly_seasonality=True to override this.\n",
      "INFO:fbprophet:Disabling daily seasonality. Run prophet with daily_seasonality=True to override this.\n",
      "INFO:fbprophet:n_changepoints greater than number of observations. Using 7.\n"
     ]
    },
    {
     "name": "stdout",
     "output_type": "stream",
     "text": [
      "s76\n"
     ]
    },
    {
     "name": "stderr",
     "output_type": "stream",
     "text": [
      "INFO:fbprophet:Disabling weekly seasonality. Run prophet with weekly_seasonality=True to override this.\n",
      "INFO:fbprophet:Disabling daily seasonality. Run prophet with daily_seasonality=True to override this.\n",
      "INFO:fbprophet:n_changepoints greater than number of observations. Using 5.\n",
      "INFO:fbprophet:Disabling weekly seasonality. Run prophet with weekly_seasonality=True to override this.\n",
      "INFO:fbprophet:Disabling daily seasonality. Run prophet with daily_seasonality=True to override this.\n",
      "INFO:fbprophet:n_changepoints greater than number of observations. Using 5.\n"
     ]
    },
    {
     "name": "stdout",
     "output_type": "stream",
     "text": [
      "s77\n"
     ]
    },
    {
     "name": "stderr",
     "output_type": "stream",
     "text": [
      "INFO:fbprophet:Disabling weekly seasonality. Run prophet with weekly_seasonality=True to override this.\n",
      "INFO:fbprophet:Disabling daily seasonality. Run prophet with daily_seasonality=True to override this.\n",
      "INFO:fbprophet:n_changepoints greater than number of observations. Using 2.\n"
     ]
    },
    {
     "name": "stdout",
     "output_type": "stream",
     "text": [
      "s78\n"
     ]
    },
    {
     "name": "stderr",
     "output_type": "stream",
     "text": [
      "INFO:fbprophet:Disabling weekly seasonality. Run prophet with weekly_seasonality=True to override this.\n",
      "INFO:fbprophet:Disabling daily seasonality. Run prophet with daily_seasonality=True to override this.\n",
      "INFO:fbprophet:n_changepoints greater than number of observations. Using 3.\n"
     ]
    },
    {
     "name": "stdout",
     "output_type": "stream",
     "text": [
      "s79\n"
     ]
    },
    {
     "name": "stderr",
     "output_type": "stream",
     "text": [
      "INFO:fbprophet:Disabling weekly seasonality. Run prophet with weekly_seasonality=True to override this.\n",
      "INFO:fbprophet:Disabling daily seasonality. Run prophet with daily_seasonality=True to override this.\n",
      "INFO:fbprophet:n_changepoints greater than number of observations. Using 2.\n"
     ]
    },
    {
     "name": "stdout",
     "output_type": "stream",
     "text": [
      "s80\n"
     ]
    },
    {
     "name": "stderr",
     "output_type": "stream",
     "text": [
      "INFO:fbprophet:Disabling weekly seasonality. Run prophet with weekly_seasonality=True to override this.\n",
      "INFO:fbprophet:Disabling daily seasonality. Run prophet with daily_seasonality=True to override this.\n",
      "INFO:fbprophet:n_changepoints greater than number of observations. Using 4.\n"
     ]
    },
    {
     "name": "stdout",
     "output_type": "stream",
     "text": [
      "s81\n"
     ]
    },
    {
     "name": "stderr",
     "output_type": "stream",
     "text": [
      "INFO:fbprophet:Disabling weekly seasonality. Run prophet with weekly_seasonality=True to override this.\n",
      "INFO:fbprophet:Disabling daily seasonality. Run prophet with daily_seasonality=True to override this.\n",
      "INFO:fbprophet:n_changepoints greater than number of observations. Using 3.\n"
     ]
    },
    {
     "name": "stdout",
     "output_type": "stream",
     "text": [
      "s82\n"
     ]
    },
    {
     "name": "stderr",
     "output_type": "stream",
     "text": [
      "INFO:fbprophet:Disabling weekly seasonality. Run prophet with weekly_seasonality=True to override this.\n",
      "INFO:fbprophet:Disabling daily seasonality. Run prophet with daily_seasonality=True to override this.\n",
      "INFO:fbprophet:n_changepoints greater than number of observations. Using 4.\n"
     ]
    },
    {
     "name": "stdout",
     "output_type": "stream",
     "text": [
      "s83\n"
     ]
    },
    {
     "name": "stderr",
     "output_type": "stream",
     "text": [
      "INFO:fbprophet:Disabling weekly seasonality. Run prophet with weekly_seasonality=True to override this.\n",
      "INFO:fbprophet:Disabling daily seasonality. Run prophet with daily_seasonality=True to override this.\n",
      "INFO:fbprophet:n_changepoints greater than number of observations. Using 3.\n"
     ]
    },
    {
     "name": "stdout",
     "output_type": "stream",
     "text": [
      "s84\n"
     ]
    },
    {
     "name": "stderr",
     "output_type": "stream",
     "text": [
      "INFO:fbprophet:Disabling weekly seasonality. Run prophet with weekly_seasonality=True to override this.\n",
      "INFO:fbprophet:Disabling daily seasonality. Run prophet with daily_seasonality=True to override this.\n",
      "INFO:fbprophet:n_changepoints greater than number of observations. Using 3.\n"
     ]
    },
    {
     "name": "stdout",
     "output_type": "stream",
     "text": [
      "s85\n"
     ]
    },
    {
     "name": "stderr",
     "output_type": "stream",
     "text": [
      "INFO:fbprophet:Disabling weekly seasonality. Run prophet with weekly_seasonality=True to override this.\n",
      "INFO:fbprophet:Disabling daily seasonality. Run prophet with daily_seasonality=True to override this.\n",
      "INFO:fbprophet:n_changepoints greater than number of observations. Using 3.\n"
     ]
    },
    {
     "name": "stdout",
     "output_type": "stream",
     "text": [
      "s86\n"
     ]
    },
    {
     "name": "stderr",
     "output_type": "stream",
     "text": [
      "INFO:fbprophet:Disabling weekly seasonality. Run prophet with weekly_seasonality=True to override this.\n",
      "INFO:fbprophet:Disabling daily seasonality. Run prophet with daily_seasonality=True to override this.\n",
      "INFO:fbprophet:n_changepoints greater than number of observations. Using 5.\n"
     ]
    },
    {
     "name": "stdout",
     "output_type": "stream",
     "text": [
      "s87\n"
     ]
    },
    {
     "name": "stderr",
     "output_type": "stream",
     "text": [
      "INFO:fbprophet:Disabling weekly seasonality. Run prophet with weekly_seasonality=True to override this.\n",
      "INFO:fbprophet:Disabling daily seasonality. Run prophet with daily_seasonality=True to override this.\n",
      "INFO:fbprophet:n_changepoints greater than number of observations. Using 4.\n"
     ]
    },
    {
     "name": "stdout",
     "output_type": "stream",
     "text": [
      "s89\n"
     ]
    },
    {
     "name": "stderr",
     "output_type": "stream",
     "text": [
      "INFO:fbprophet:Disabling weekly seasonality. Run prophet with weekly_seasonality=True to override this.\n",
      "INFO:fbprophet:Disabling daily seasonality. Run prophet with daily_seasonality=True to override this.\n",
      "INFO:fbprophet:n_changepoints greater than number of observations. Using 4.\n"
     ]
    },
    {
     "name": "stdout",
     "output_type": "stream",
     "text": [
      "s90\n"
     ]
    },
    {
     "name": "stderr",
     "output_type": "stream",
     "text": [
      "INFO:fbprophet:Disabling weekly seasonality. Run prophet with weekly_seasonality=True to override this.\n",
      "INFO:fbprophet:Disabling daily seasonality. Run prophet with daily_seasonality=True to override this.\n",
      "INFO:fbprophet:n_changepoints greater than number of observations. Using 7.\n"
     ]
    },
    {
     "name": "stdout",
     "output_type": "stream",
     "text": [
      "s91\n"
     ]
    },
    {
     "name": "stderr",
     "output_type": "stream",
     "text": [
      "INFO:fbprophet:Disabling weekly seasonality. Run prophet with weekly_seasonality=True to override this.\n",
      "INFO:fbprophet:Disabling daily seasonality. Run prophet with daily_seasonality=True to override this.\n",
      "INFO:fbprophet:n_changepoints greater than number of observations. Using 1.\n"
     ]
    },
    {
     "name": "stdout",
     "output_type": "stream",
     "text": [
      "s93\n"
     ]
    },
    {
     "name": "stderr",
     "output_type": "stream",
     "text": [
      "INFO:fbprophet:Disabling weekly seasonality. Run prophet with weekly_seasonality=True to override this.\n",
      "INFO:fbprophet:Disabling daily seasonality. Run prophet with daily_seasonality=True to override this.\n",
      "INFO:fbprophet:n_changepoints greater than number of observations. Using 3.\n"
     ]
    },
    {
     "name": "stdout",
     "output_type": "stream",
     "text": [
      "s94\n"
     ]
    },
    {
     "name": "stderr",
     "output_type": "stream",
     "text": [
      "INFO:fbprophet:Disabling weekly seasonality. Run prophet with weekly_seasonality=True to override this.\n",
      "INFO:fbprophet:Disabling daily seasonality. Run prophet with daily_seasonality=True to override this.\n",
      "INFO:fbprophet:n_changepoints greater than number of observations. Using 1.\n",
      "INFO:fbprophet:Disabling weekly seasonality. Run prophet with weekly_seasonality=True to override this.\n",
      "INFO:fbprophet:Disabling daily seasonality. Run prophet with daily_seasonality=True to override this.\n",
      "INFO:fbprophet:n_changepoints greater than number of observations. Using 3.\n"
     ]
    },
    {
     "name": "stdout",
     "output_type": "stream",
     "text": [
      "s96\n"
     ]
    },
    {
     "name": "stderr",
     "output_type": "stream",
     "text": [
      "INFO:fbprophet:Disabling weekly seasonality. Run prophet with weekly_seasonality=True to override this.\n",
      "INFO:fbprophet:Disabling daily seasonality. Run prophet with daily_seasonality=True to override this.\n",
      "INFO:fbprophet:n_changepoints greater than number of observations. Using 1.\n"
     ]
    },
    {
     "name": "stdout",
     "output_type": "stream",
     "text": [
      "s97\n"
     ]
    },
    {
     "name": "stderr",
     "output_type": "stream",
     "text": [
      "INFO:fbprophet:Disabling weekly seasonality. Run prophet with weekly_seasonality=True to override this.\n",
      "INFO:fbprophet:Disabling daily seasonality. Run prophet with daily_seasonality=True to override this.\n",
      "INFO:fbprophet:n_changepoints greater than number of observations. Using 2.\n"
     ]
    },
    {
     "name": "stdout",
     "output_type": "stream",
     "text": [
      "s98\n",
      "s99\n",
      "CPU times: user 5min 20s, sys: 1.36 s, total: 5min 21s\n",
      "Wall time: 5min 21s\n"
     ]
    }
   ],
   "source": [
    "%%time\n",
    "# 데이터 2개 이하는 prophet 불가\n",
    "# type1 제외 : s4\n",
    "# type2 제외 : s7,s10,s16\n",
    "# type3 제외 : s60\n",
    "# type4 제외 : s88, s92, s95\n",
    "from fbprophet import Prophet\n",
    "\n",
    "def predict_prophet(s):\n",
    "    ds = pd.date_range('2020-01-01', periods=s.shape[0], freq='12M')\n",
    "    training_df = pd.DataFrame({'ds': ds, 'y': s})\n",
    "    m = Prophet()\n",
    "    m.fit(training_df)\n",
    "    predict_df = pd.DataFrame({'ds': ds})\n",
    "    return m.predict(predict_df)['trend'],m.predict(predict_df)['yearly'],m.stan_backend.stan_fit['sigma_obs'],m.predict(predict_df)['yhat']\n",
    "\n",
    "y_zero_prophet = predict_prophet(failure_df.mean(axis=1).values)\n",
    "y_bar_prophet = []\n",
    "y_prophet = []\n",
    "for i in range(1, 6):\n",
    "    ships = engine_df.index[engine_df['engine'] == i]\n",
    "    y_bar_prophet.append(predict_prophet(failure_df[ships].mean(axis=1).values))\n",
    "    for j in range(0,len(ships)):\n",
    "        y_prophet.append(predict_prophet(failure_df[ships[j]].values))\n",
    "        print(ships[j])\n"
   ]
  },
  {
   "cell_type": "code",
   "execution_count": 163,
   "metadata": {},
   "outputs": [
    {
     "name": "stdout",
     "output_type": "stream",
     "text": [
      "80\n",
      "-6.529830507822126\n",
      "1.0087014728447419\n"
     ]
    },
    {
     "data": {
      "text/plain": [
       "4.636744722926443"
      ]
     },
     "execution_count": 163,
     "metadata": {},
     "output_type": "execute_result"
    }
   ],
   "source": [
    "##### layer3 train ELPD\n",
    "\n",
    "failure_df = pd.read_csv(os.path.realpath('data/failure_count2.csv')).set_index('age')\n",
    "engine_df = pd.read_csv(os.path.realpath('data/engine2.csv')).set_index('ship')\n",
    "test_failure_df = pd.read_csv(os.path.realpath('data/failure_count_test.csv')).set_index('age')\n",
    "test_engine_df = pd.read_csv(os.path.realpath('data/engine_test.csv')).set_index('ship')\n",
    "\n",
    "# standard scale\n",
    "u = np.nanmean(failure_df.iloc[:,1:].values.flatten())\n",
    "s = np.sqrt(np.nanvar(failure_df.iloc[:,1:].values.flatten()))\n",
    "failure_df = pd.DataFrame((failure_df - u) / s, index=failure_df.index, columns=failure_df.columns)\n",
    "test_failure_df = pd.DataFrame((test_failure_df - u) / s, index=test_failure_df.index, columns=test_failure_df.columns)\n",
    "\n",
    "## power transform\n",
    "# pt = PowerTransformer()\n",
    "# pt.fit(failure_df)\n",
    "# failure_df = pd.DataFrame(pt.transform(failure_df),index=failure_df.index, columns=failure_df.columns)\n",
    "# pt.fit(test_failure_df)\n",
    "# test_failure_df = pd.DataFrame(pt.transform(test_failure_df), index=test_failure_df.index, columns=test_failure_df.columns)\n",
    "\n",
    "\n",
    "from scipy.stats import norm\n",
    "margin_sum = []\n",
    "margin =[]\n",
    "new_y = []\n",
    "new_y_bar =[]\n",
    "compare_y =[]\n",
    "compare_y_bar =[]\n",
    "test_compare_y =[]\n",
    "test_compare_y_bar =[]\n",
    "\n",
    "# for i in range(0,len(y_prophet)):\n",
    "for i in range(0,91):\n",
    "    if i < 5:\n",
    "        j = 0\n",
    "    elif i < 29:\n",
    "        j=1\n",
    "    elif i < 71:\n",
    "        j=2\n",
    "    elif i < 87:\n",
    "        j=3\n",
    "    elif i >= 87:\n",
    "        j=4    \n",
    "\n",
    "    wy = 1/y_prophet[i][2]**2          # 1/layer3 sigma_obs\n",
    "    wy_bar = 1/y_bar_prophet[j][2]**2  # 1/layer2 sigma_obs\n",
    "    wy_zero = 1/y_zero_prophet[2]**2   # 1/layer1 sigma_obs\n",
    "    wy_sum = wy + wy_bar + wy_zero\n",
    "\n",
    "#     wy = y_prophet[i][0]**2          # 1/layer3 sigma_obs\n",
    "#     wy_bar = y_bar_prophet[j][0]**2  # 1/layer2 sigma_obs\n",
    "#     wy_zero = y_zero_prophet[0]**2   # 1/layer1 sigma_obs\n",
    "#     wy_sum = wy + wy_bar + wy_zero\n",
    "        \n",
    "    y_mu = ((y_prophet[i][0] * ((wy) / (wy_sum))) +          # layer3\n",
    "            (y_bar_prophet[j][0] * ((wy_bar) / (wy_sum))) +  # layer2\n",
    "             (y_zero_prophet[0] * ((wy_zero) / (wy_sum))) +  # layer1\n",
    "            y_prophet[i][1])  # y_prophet[i][1] : layer3 seasonality(yearly)\n",
    "    \n",
    "#     y_mu = (y_prophet[i][0]) + y_prophet[i][1]\n",
    "    \n",
    "    new_y.append(y_mu)\n",
    "    y_sigma = y_prophet[i][2] # layer3 sigma_obs\n",
    "    \n",
    "    y_mu2 = pd.DataFrame({'y':failure_df.iloc[:,i], 'yhat':y_mu}).dropna()\n",
    "#     y_mu2 = pd.DataFrame({'y':failure_df.iloc[:,i], 'yhat':y_prophet[i][3]}).dropna()\n",
    "\n",
    "    compare_y.append(rmse(y_mu2.y, y_mu2.yhat))\n",
    "    margin_lik = norm.logpdf(y_mu2.y, y_mu2.yhat, y_sigma)\n",
    "#     print(f'{i}', np.mean(margin_lik))\n",
    "    margin_sum.append(np.mean(margin_lik))\n",
    "#     margin.append(np.mean(margin_sum))    \n",
    "\n",
    "margin = [x for x in margin_sum if x > -100]\n",
    "print(len(margin))\n",
    "new_y = np.array(new_y).transpose()\n",
    "print(np.mean(margin))\n",
    "print(np.mean(compare_y))\n",
    "np.std(new_y)"
   ]
  },
  {
   "cell_type": "code",
   "execution_count": 164,
   "metadata": {},
   "outputs": [],
   "source": [
    "new_y_bar = []\n",
    "for i in range(0, 5):\n",
    "    new_y_bar.append(y_bar_prophet[i][3])\n",
    "new_y_bar = np.array(new_y_bar).transpose()"
   ]
  },
  {
   "cell_type": "code",
   "execution_count": 165,
   "metadata": {
    "scrolled": false
   },
   "outputs": [
    {
     "name": "stdout",
     "output_type": "stream",
     "text": [
      "31\n"
     ]
    },
    {
     "data": {
      "image/png": "[encoded data removed]",
      "text/plain": [
       "<Figure size 504x360 with 1 Axes>"
      ]
     },
     "metadata": {
      "needs_background": "light"
     },
     "output_type": "display_data"
    }
   ],
   "source": [
    "print(len(new_y))\n",
    "age_index, ship_index = np.where(~failure_df.isnull())\n",
    "Y = failure_df.values[~failure_df.isnull()]\n",
    "\n",
    "fig, ax = plt.subplots(figsize=(7, 5))\n",
    "plt.axis([0, 32, -6, 6])\n",
    "ax.set_xlabel('Age(year)')\n",
    "ax.set_ylabel('Scaled failure rates')\n",
    "ax.scatter(failure_df.index[age_index], Y, color='grey', alpha=0.2)\n",
    "ax.plot(np.arange(1, 31 + 1), new_y, color='b', alpha=0.3, linewidth=0.6)\n",
    "# ax.plot(np.arange(1, 32), new_y_bar, color='m', alpha=1, linewidth=1.5)\n",
    "# ax.plot(np.arange(1, 31 + 1), y_zero_prophet[3], color='b', alpha=1, linewidth=2.5)\n",
    "\n",
    "fig.savefig(\"Fig.10.png\", dpi = 400)\n",
    "plt.show()"
   ]
  },
  {
   "cell_type": "code",
   "execution_count": 13,
   "metadata": {},
   "outputs": [
    {
     "data": {
      "text/plain": [
       "5.3358118166076585"
      ]
     },
     "execution_count": 13,
     "metadata": {},
     "output_type": "execute_result"
    }
   ],
   "source": [
    "np.std(np.concatenate(new_y))"
   ]
  },
  {
   "cell_type": "code",
   "execution_count": 14,
   "metadata": {},
   "outputs": [
    {
     "name": "stdout",
     "output_type": "stream",
     "text": [
      "1 -2.4582841839020904\n",
      "2 -2.4437939238353192\n",
      "3 -2.489869347371037\n",
      "4 -3.2954268920241594\n",
      "5 -3.74178714794734\n",
      "\n",
      "1 1.00008403727118\n",
      "1 0.9997565780326111\n",
      "1 0.9905065817764483\n",
      "1 1.0544821712772074\n",
      "1 1.1447655589730323\n"
     ]
    }
   ],
   "source": [
    "#### layer2 train y_bar ELPD\n",
    "\n",
    "\n",
    "failure_df = pd.read_csv(os.path.realpath('data/failure_count2.csv')).set_index('age')\n",
    "engine_df = pd.read_csv(os.path.realpath('data/engine2.csv')).set_index('ship')\n",
    "test_failure_df = pd.read_csv(os.path.realpath('data/failure_count_test.csv')).set_index('age')\n",
    "test_engine_df = pd.read_csv(os.path.realpath('data/engine_test.csv')).set_index('ship')\n",
    "\n",
    "## standard scale\n",
    "# u = np.nanmean(failure_df.iloc[:,1:].values.flatten())\n",
    "# s = np.sqrt(np.nanvar(failure_df.iloc[:,1:].values.flatten()))\n",
    "# failure_df = pd.DataFrame((failure_df - u) / s, index=failure_df.index, columns=failure_df.columns)\n",
    "# test_failure_df = pd.DataFrame((test_failure_df - u) / s, index=test_failure_df.index, columns=test_failure_df.columns)\n",
    "\n",
    "## power transform\n",
    "pt = PowerTransformer()\n",
    "pt.fit(failure_df)\n",
    "failure_df = pd.DataFrame(pt.transform(failure_df),index=failure_df.index, columns=failure_df.columns)\n",
    "pt.fit(test_failure_df)\n",
    "test_failure_df = pd.DataFrame(pt.transform(test_failure_df), index=test_failure_df.index, columns=test_failure_df.columns)\n",
    "\n",
    "\n",
    "\n",
    "margin_sum = []\n",
    "new_y = []\n",
    "new_y_bar =[]\n",
    "compare_y =[]\n",
    "compare_y_bar =[]\n",
    "test_compare_y =[]\n",
    "test_compare_y_bar =[]\n",
    "\n",
    "\n",
    "for i in range(0,91):\n",
    "    if i < 5:\n",
    "        j = 0\n",
    "    elif i < 29:\n",
    "        j=1\n",
    "    elif i < 71:\n",
    "        j=2\n",
    "    elif i < 87:\n",
    "        j=3\n",
    "    elif i >= 87:\n",
    "        j=4    \n",
    "\n",
    "    y_bar_mu = ((y_bar_prophet[j][0] * ((wy_bar) / (wy_sum))) +  # layer2\n",
    "         (y_zero_prophet[0] * ((wy_zero) / (wy_sum))) +  # layer1\n",
    "        y_bar_prophet[j][1])  # y_prophet[i][1] : layer3 seasonality(yearly)\n",
    "    y_sigma = y_bar_prophet[j][2] # layer3 sigma_obs\n",
    "\n",
    "#     y_mu2 = pd.DataFrame({'y': failure_df.iloc[:,i], 'yhat':y_bar_mu}).dropna()\n",
    "    y_mu2 = pd.DataFrame({'y': failure_df.iloc[:,i], 'yhat':y_bar_prophet[j][3]}).dropna()\n",
    "    compare_y.append(rmse(y_mu2.y, y_mu2.yhat))\n",
    "    margin_lik = norm.logpdf(y_mu2.y, y_mu2.yhat, y_sigma)\n",
    "    # print(f'{i}', np.sum(margin_lik))\n",
    "    margin_sum.append(np.mean(margin_lik))\n",
    "    new_y = np.array(new_y).transpose()\n",
    "# print(((margin_sum)))\n",
    "\n",
    "print(1, np.mean(margin_sum[0:5]))\n",
    "print(2,np.mean(margin_sum[5:33]))\n",
    "print(3,np.mean(margin_sum[29:71]))\n",
    "print(4,np.mean(margin_sum[71:87]))\n",
    "print(5,np.mean(margin_sum[87:91]))\n",
    "print()\n",
    "print(1, np.mean(compare_y[0:5]))\n",
    "print(1, np.mean(compare_y[5:33]))\n",
    "print(1, np.mean(compare_y[29:71]))\n",
    "print(1, np.mean(compare_y[71:87]))\n",
    "print(1, np.mean(compare_y[87:91]))"
   ]
  },
  {
   "cell_type": "code",
   "execution_count": 15,
   "metadata": {
    "scrolled": true
   },
   "outputs": [
    {
     "name": "stdout",
     "output_type": "stream",
     "text": [
      "1 -2.5317380668306635\n",
      "2 -3.0830252146305965\n",
      "3 -2.4521005019045887\n",
      "4 -3.5193441350330277\n",
      "5 -1.6642403171485693\n",
      "-16.112210132740532\n"
     ]
    }
   ],
   "source": [
    "# layer2 y_bar test set table 3 type 1~5\n",
    "\n",
    "test_failure_df = pd.read_csv(os.path.realpath('data/failure_count_test.csv')).set_index('age')\n",
    "# test_failure_df = pd.DataFrame((test_failure_df - u) / s, index=test_failure_df.index, columns=test_failure_df.columns)\n",
    "test_engine_df = pd.read_csv(os.path.realpath('data/engine_test.csv')).set_index('ship')\n",
    "        \n",
    "\n",
    "#### power transform\n",
    "pt = PowerTransformer()\n",
    "pt.fit(test_failure_df)\n",
    "test_failure_df = pd.DataFrame(pt.transform(test_failure_df), index=test_failure_df.index, columns=test_failure_df.columns)\n",
    "\n",
    "from scipy.stats import norm\n",
    "margin_sum = []\n",
    "new_y = []\n",
    "new_y_bar =[]\n",
    "compare_y =[]\n",
    "compare_y_bar =[]\n",
    "test_compare_y =[]\n",
    "test_compare_y_bar =[]\n",
    "wy_sum=[]\n",
    "\n",
    "for j in range(0, 5):\n",
    "    wy_bar = 1/y_bar_prophet[j][2]**2  # 1/layer2 sigma_obs\n",
    "    wy_zero = 1/y_zero_prophet[2]**2\n",
    "    wy_sum = wy_bar + wy_zero\n",
    "\n",
    "    y_bar_mu = ((y_bar_prophet[j][0] * ((wy_bar) / (wy_sum))) +  # layer2\n",
    "         (y_zero_prophet[0] * ((wy_zero) / (wy_sum))) +  # layer1\n",
    "        y_bar_prophet[j][1])  # y_prophet[i][1] : layer3 seasonality(yearly)\n",
    "    y_sigma = y_bar_prophet[j][2] # layer3 sigma_obs\n",
    "\n",
    "    y_mu2 = pd.DataFrame({'y':test_failure_df.iloc[:,j], 'yhat':y_bar_mu}).dropna()\n",
    "#     y_mu2 = pd.DataFrame({'y':test_failure_df.iloc[:,j], 'yhat':y_bar_prophet[0][3]}).dropna()\n",
    "    \n",
    "    compare_y.append(rmse(y_mu2.y, y_mu2.yhat))\n",
    "    margin_lik = norm.logpdf(y_mu2.y, y_mu2.yhat, y_sigma)\n",
    "    print(f'{j+1}', np.mean(margin_lik))\n",
    "    margin_sum.append(np.sum(margin_lik))\n",
    "    new_y = np.array(new_y).transpose()\n",
    "        \n",
    "print(np.mean(margin_sum))\n",
    "# print((compare_y))\n"
   ]
  },
  {
   "cell_type": "code",
   "execution_count": 16,
   "metadata": {},
   "outputs": [
    {
     "name": "stdout",
     "output_type": "stream",
     "text": [
      "6 -4.858748376444586\n",
      "7 -5.1454227879409995\n",
      "8 -5.165168584716597\n",
      "9 -5.025801529398867\n",
      "10 -4.84731270988019\n"
     ]
    }
   ],
   "source": [
    "# y_zero\n",
    "\n",
    "test_failure_df = pd.read_csv(os.path.realpath('data/failure_count_test.csv')).set_index('age')\n",
    "# test_failure_df = pd.DataFrame((test_failure_df - u) / s, index=test_failure_df.index, columns=test_failure_df.columns)\n",
    "test_engine_df = pd.read_csv(os.path.realpath('data/engine_test.csv')).set_index('ship')\n",
    "\n",
    "# def predict_prophet(s):\n",
    "#     ds = pd.date_range('2020-01-01', periods=s.shape[0], freq='12M')\n",
    "#     training_df = pd.DataFrame({'ds': ds, 'y': s})\n",
    "#     m = Prophet()\n",
    "#     m.fit(training_df)\n",
    "#     predict_df = pd.DataFrame({'ds': ds})\n",
    "#     return m.predict(predict_df)['trend'],m.predict(predict_df)['yearly'],m.stan_backend.stan_fit['sigma_obs'],m.predict(predict_df)['yhat']\n",
    "\n",
    "# y_zero_prophet = predict_prophet(failure_df.mean(axis=1).values)\n",
    "# y_bar_prophet = []\n",
    "# y_prophet = []\n",
    "# for i in range(1, 6):\n",
    "#     ships = engine_df.index[engine_df['engine'] == i]\n",
    "#     y_bar_prophet.append(predict_prophet(failure_df[ships].mean(axis=1).values))\n",
    "#     for j in range(0,len(ships)):\n",
    "#         y_prophet.append(predict_prophet(failure_df[ships[j]].values))\n",
    "#         print(ships[j])\n",
    "        \n",
    "\n",
    "#### power transform\n",
    "pt = PowerTransformer()\n",
    "pt.fit(test_failure_df)\n",
    "test_failure_df = pd.DataFrame(pt.transform(test_failure_df), index=test_failure_df.index, columns=test_failure_df.columns)\n",
    "\n",
    "from scipy.stats import norm\n",
    "margin_sum = []\n",
    "new_y = []\n",
    "new_y_bar =[]\n",
    "compare_y =[]\n",
    "compare_y_bar =[]\n",
    "test_compare_y =[]\n",
    "test_compare_y_bar =[]\n",
    "wy_sum=[]\n",
    "\n",
    "for j in range(5, 10):\n",
    "    wy_zero = 1/y_zero_prophet[2]**2\n",
    "    wy_sum = wy_zero\n",
    "\n",
    "    y_zero_mu = (y_zero_prophet[0] * ((wy_zero) / (wy_sum))) + y_zero_prophet[1]\n",
    "    y_sigma = y_zero_prophet[2] # layer3 sigma_obs\n",
    "\n",
    "#     y_mu2 = pd.DataFrame({'y':test_failure_df.iloc[:,j], 'yhat':y_zero_mu}).dropna()\n",
    "    y_mu2 = pd.DataFrame({'y':test_failure_df.iloc[:,j], 'yhat':y_zero_prophet[3]}).dropna()\n",
    "    \n",
    "    compare_y.append(rmse(y_mu2.y, y_mu2.yhat))\n",
    "    margin_lik = norm.logpdf(y_mu2.y, y_mu2.yhat, y_sigma)\n",
    "    print(f'{j+1}', np.mean(margin_lik))\n",
    "    margin_sum.append(np.mean(margin_lik))\n",
    "    new_y = np.array(new_y).transpose()\n",
    "# print(np.mean(margin_sum))\n",
    "# print((compare_y))\n",
    "\n",
    "# from scipy.stats import norm\n",
    "# for j in range(5,10):\n",
    "#     margin_lik=[]\n",
    "# #     z = pd.DataFrame({'y':test_failure_df.iloc[:,j], 'yhat':y_bar_mu}).dropna().reset_index()\n",
    "# #     z = pd.DataFrame({'y':test_failure_df.iloc[:,j], 'yhat':y_bar_prophet[0][3]}).dropna().reset_index()\n",
    "#     z = pd.DataFrame({'y':test_failure_df.iloc[:,j], 'yhat':y_zero_prophet[3]}).dropna().reset_index()    \n",
    "#     for i in range(z.shape[0]):\n",
    "# #         margin_lik.append(np.mean(norm.logpdf(z.y[i], z.yhat[i], y_bar_prophet[j][2])))    \n",
    "#         margin_lik.append(np.mean(norm.logpdf(z.y[i], z.yhat[i], y_zero_prophet[2])))    \n",
    "#     print(np.mean(margin_lik))\n",
    "    \n",
    "\n"
   ]
  },
  {
   "cell_type": "code",
   "execution_count": 17,
   "metadata": {},
   "outputs": [
    {
     "data": {
      "text/html": [
       "<div>\n",
       "<style scoped>\n",
       "    .dataframe tbody tr th:only-of-type {\n",
       "        vertical-align: middle;\n",
       "    }\n",
       "\n",
       "    .dataframe tbody tr th {\n",
       "        vertical-align: top;\n",
       "    }\n",
       "\n",
       "    .dataframe thead th {\n",
       "        text-align: right;\n",
       "    }\n",
       "</style>\n",
       "<table border=\"1\" class=\"dataframe\">\n",
       "  <thead>\n",
       "    <tr style=\"text-align: right;\">\n",
       "      <th></th>\n",
       "      <th>y</th>\n",
       "      <th>yhat</th>\n",
       "    </tr>\n",
       "  </thead>\n",
       "  <tbody>\n",
       "    <tr>\n",
       "      <th>14</th>\n",
       "      <td>-1.854364</td>\n",
       "      <td>-0.122517</td>\n",
       "    </tr>\n",
       "    <tr>\n",
       "      <th>15</th>\n",
       "      <td>0.512508</td>\n",
       "      <td>-0.116673</td>\n",
       "    </tr>\n",
       "    <tr>\n",
       "      <th>16</th>\n",
       "      <td>-0.512053</td>\n",
       "      <td>-0.112801</td>\n",
       "    </tr>\n",
       "    <tr>\n",
       "      <th>17</th>\n",
       "      <td>1.521403</td>\n",
       "      <td>-0.083936</td>\n",
       "    </tr>\n",
       "    <tr>\n",
       "      <th>18</th>\n",
       "      <td>0.786642</td>\n",
       "      <td>-0.076113</td>\n",
       "    </tr>\n",
       "    <tr>\n",
       "      <th>19</th>\n",
       "      <td>-0.789172</td>\n",
       "      <td>-0.070270</td>\n",
       "    </tr>\n",
       "    <tr>\n",
       "      <th>20</th>\n",
       "      <td>-0.311462</td>\n",
       "      <td>-0.066398</td>\n",
       "    </tr>\n",
       "    <tr>\n",
       "      <th>21</th>\n",
       "      <td>0.130780</td>\n",
       "      <td>-0.037533</td>\n",
       "    </tr>\n",
       "    <tr>\n",
       "      <th>22</th>\n",
       "      <td>-0.564900</td>\n",
       "      <td>-0.029710</td>\n",
       "    </tr>\n",
       "    <tr>\n",
       "      <th>23</th>\n",
       "      <td>1.467936</td>\n",
       "      <td>-0.023866</td>\n",
       "    </tr>\n",
       "    <tr>\n",
       "      <th>24</th>\n",
       "      <td>1.330733</td>\n",
       "      <td>-0.019995</td>\n",
       "    </tr>\n",
       "    <tr>\n",
       "      <th>25</th>\n",
       "      <td>-0.789172</td>\n",
       "      <td>0.008871</td>\n",
       "    </tr>\n",
       "    <tr>\n",
       "      <th>26</th>\n",
       "      <td>0.548122</td>\n",
       "      <td>0.016693</td>\n",
       "    </tr>\n",
       "    <tr>\n",
       "      <th>27</th>\n",
       "      <td>0.005577</td>\n",
       "      <td>0.022537</td>\n",
       "    </tr>\n",
       "    <tr>\n",
       "      <th>28</th>\n",
       "      <td>-1.482577</td>\n",
       "      <td>0.026409</td>\n",
       "    </tr>\n",
       "  </tbody>\n",
       "</table>\n",
       "</div>"
      ],
      "text/plain": [
       "           y      yhat\n",
       "14 -1.854364 -0.122517\n",
       "15  0.512508 -0.116673\n",
       "16 -0.512053 -0.112801\n",
       "17  1.521403 -0.083936\n",
       "18  0.786642 -0.076113\n",
       "19 -0.789172 -0.070270\n",
       "20 -0.311462 -0.066398\n",
       "21  0.130780 -0.037533\n",
       "22 -0.564900 -0.029710\n",
       "23  1.467936 -0.023866\n",
       "24  1.330733 -0.019995\n",
       "25 -0.789172  0.008871\n",
       "26  0.548122  0.016693\n",
       "27  0.005577  0.022537\n",
       "28 -1.482577  0.026409"
      ]
     },
     "execution_count": 17,
     "metadata": {},
     "output_type": "execute_result"
    }
   ],
   "source": [
    "y_mu2"
   ]
  },
  {
   "cell_type": "code",
   "execution_count": 18,
   "metadata": {},
   "outputs": [],
   "source": [
    "# len(new_y)\n",
    "# age_index, ship_index = np.where(~failure_df.isnull())\n",
    "# Y = failure_df.values[~failure_df.isnull()]\n",
    "\n",
    "# fig, ax = plt.subplots(figsize=(7, 5))\n",
    "# plt.axis([0, 31, -7, 7])\n",
    "# ax.set_xlabel('age')\n",
    "# ax.set_ylabel('failures')\n",
    "# ax.scatter(failure_df.index[age_index], Y, color='grey', alpha=0.2)\n",
    "# ax.plot(np.arange(1, 31 + 1), new_y, color='g', alpha=0.3, linewidth=0.6)\n",
    "# ax.plot(np.arange(1, 32), new_y_bar, color='b', alpha=1, linewidth=1)\n",
    "# ax.plot(np.arange(1, 31 + 1), y_zero_prophet[3], color='r', alpha=1, linewidth=2)\n",
    "# plt.show()"
   ]
  },
  {
   "cell_type": "code",
   "execution_count": 19,
   "metadata": {},
   "outputs": [
    {
     "data": {
      "text/html": [
       "<div>\n",
       "<style scoped>\n",
       "    .dataframe tbody tr th:only-of-type {\n",
       "        vertical-align: middle;\n",
       "    }\n",
       "\n",
       "    .dataframe tbody tr th {\n",
       "        vertical-align: top;\n",
       "    }\n",
       "\n",
       "    .dataframe thead th {\n",
       "        text-align: right;\n",
       "    }\n",
       "</style>\n",
       "<table border=\"1\" class=\"dataframe\">\n",
       "  <thead>\n",
       "    <tr style=\"text-align: right;\">\n",
       "      <th></th>\n",
       "      <th>t1</th>\n",
       "      <th>t2</th>\n",
       "      <th>t3</th>\n",
       "      <th>t4</th>\n",
       "      <th>t5</th>\n",
       "      <th>t6</th>\n",
       "      <th>t7</th>\n",
       "      <th>t8</th>\n",
       "      <th>t9</th>\n",
       "      <th>t10</th>\n",
       "    </tr>\n",
       "    <tr>\n",
       "      <th>age</th>\n",
       "      <th></th>\n",
       "      <th></th>\n",
       "      <th></th>\n",
       "      <th></th>\n",
       "      <th></th>\n",
       "      <th></th>\n",
       "      <th></th>\n",
       "      <th></th>\n",
       "      <th></th>\n",
       "      <th></th>\n",
       "    </tr>\n",
       "  </thead>\n",
       "  <tbody>\n",
       "    <tr>\n",
       "      <th>1</th>\n",
       "      <td>NaN</td>\n",
       "      <td>NaN</td>\n",
       "      <td>NaN</td>\n",
       "      <td>-1.635340</td>\n",
       "      <td>1.239125</td>\n",
       "      <td>NaN</td>\n",
       "      <td>-0.163293</td>\n",
       "      <td>0.968719</td>\n",
       "      <td>-0.992696</td>\n",
       "      <td>NaN</td>\n",
       "    </tr>\n",
       "    <tr>\n",
       "      <th>2</th>\n",
       "      <td>NaN</td>\n",
       "      <td>NaN</td>\n",
       "      <td>NaN</td>\n",
       "      <td>-0.943078</td>\n",
       "      <td>-0.029285</td>\n",
       "      <td>NaN</td>\n",
       "      <td>-1.407551</td>\n",
       "      <td>-0.281438</td>\n",
       "      <td>-1.291941</td>\n",
       "      <td>NaN</td>\n",
       "    </tr>\n",
       "    <tr>\n",
       "      <th>3</th>\n",
       "      <td>NaN</td>\n",
       "      <td>NaN</td>\n",
       "      <td>NaN</td>\n",
       "      <td>-0.246146</td>\n",
       "      <td>NaN</td>\n",
       "      <td>NaN</td>\n",
       "      <td>0.169646</td>\n",
       "      <td>1.889487</td>\n",
       "      <td>1.579877</td>\n",
       "      <td>NaN</td>\n",
       "    </tr>\n",
       "    <tr>\n",
       "      <th>4</th>\n",
       "      <td>NaN</td>\n",
       "      <td>NaN</td>\n",
       "      <td>NaN</td>\n",
       "      <td>1.313547</td>\n",
       "      <td>-1.209840</td>\n",
       "      <td>NaN</td>\n",
       "      <td>1.401198</td>\n",
       "      <td>-0.479641</td>\n",
       "      <td>0.597833</td>\n",
       "      <td>NaN</td>\n",
       "    </tr>\n",
       "    <tr>\n",
       "      <th>5</th>\n",
       "      <td>NaN</td>\n",
       "      <td>NaN</td>\n",
       "      <td>NaN</td>\n",
       "      <td>0.095306</td>\n",
       "      <td>NaN</td>\n",
       "      <td>NaN</td>\n",
       "      <td>NaN</td>\n",
       "      <td>-1.399182</td>\n",
       "      <td>0.512409</td>\n",
       "      <td>NaN</td>\n",
       "    </tr>\n",
       "    <tr>\n",
       "      <th>6</th>\n",
       "      <td>NaN</td>\n",
       "      <td>NaN</td>\n",
       "      <td>NaN</td>\n",
       "      <td>1.273131</td>\n",
       "      <td>NaN</td>\n",
       "      <td>NaN</td>\n",
       "      <td>NaN</td>\n",
       "      <td>-1.666003</td>\n",
       "      <td>0.309040</td>\n",
       "      <td>NaN</td>\n",
       "    </tr>\n",
       "    <tr>\n",
       "      <th>7</th>\n",
       "      <td>-0.622941</td>\n",
       "      <td>NaN</td>\n",
       "      <td>NaN</td>\n",
       "      <td>0.142581</td>\n",
       "      <td>NaN</td>\n",
       "      <td>NaN</td>\n",
       "      <td>NaN</td>\n",
       "      <td>0.250822</td>\n",
       "      <td>-1.177722</td>\n",
       "      <td>NaN</td>\n",
       "    </tr>\n",
       "    <tr>\n",
       "      <th>8</th>\n",
       "      <td>1.385812</td>\n",
       "      <td>NaN</td>\n",
       "      <td>NaN</td>\n",
       "      <td>NaN</td>\n",
       "      <td>NaN</td>\n",
       "      <td>NaN</td>\n",
       "      <td>NaN</td>\n",
       "      <td>0.250822</td>\n",
       "      <td>-1.177722</td>\n",
       "      <td>NaN</td>\n",
       "    </tr>\n",
       "    <tr>\n",
       "      <th>9</th>\n",
       "      <td>1.127390</td>\n",
       "      <td>NaN</td>\n",
       "      <td>NaN</td>\n",
       "      <td>NaN</td>\n",
       "      <td>NaN</td>\n",
       "      <td>NaN</td>\n",
       "      <td>NaN</td>\n",
       "      <td>-0.094121</td>\n",
       "      <td>0.738035</td>\n",
       "      <td>NaN</td>\n",
       "    </tr>\n",
       "    <tr>\n",
       "      <th>10</th>\n",
       "      <td>NaN</td>\n",
       "      <td>NaN</td>\n",
       "      <td>NaN</td>\n",
       "      <td>NaN</td>\n",
       "      <td>NaN</td>\n",
       "      <td>NaN</td>\n",
       "      <td>NaN</td>\n",
       "      <td>0.560536</td>\n",
       "      <td>0.902887</td>\n",
       "      <td>NaN</td>\n",
       "    </tr>\n",
       "    <tr>\n",
       "      <th>11</th>\n",
       "      <td>0.403147</td>\n",
       "      <td>NaN</td>\n",
       "      <td>NaN</td>\n",
       "      <td>NaN</td>\n",
       "      <td>NaN</td>\n",
       "      <td>NaN</td>\n",
       "      <td>NaN</td>\n",
       "      <td>NaN</td>\n",
       "      <td>NaN</td>\n",
       "      <td>NaN</td>\n",
       "    </tr>\n",
       "    <tr>\n",
       "      <th>12</th>\n",
       "      <td>0.237093</td>\n",
       "      <td>NaN</td>\n",
       "      <td>NaN</td>\n",
       "      <td>NaN</td>\n",
       "      <td>NaN</td>\n",
       "      <td>-0.245553</td>\n",
       "      <td>NaN</td>\n",
       "      <td>NaN</td>\n",
       "      <td>NaN</td>\n",
       "      <td>NaN</td>\n",
       "    </tr>\n",
       "    <tr>\n",
       "      <th>13</th>\n",
       "      <td>-1.265251</td>\n",
       "      <td>NaN</td>\n",
       "      <td>NaN</td>\n",
       "      <td>NaN</td>\n",
       "      <td>NaN</td>\n",
       "      <td>-0.069294</td>\n",
       "      <td>NaN</td>\n",
       "      <td>NaN</td>\n",
       "      <td>NaN</td>\n",
       "      <td>NaN</td>\n",
       "    </tr>\n",
       "    <tr>\n",
       "      <th>14</th>\n",
       "      <td>-1.265251</td>\n",
       "      <td>NaN</td>\n",
       "      <td>NaN</td>\n",
       "      <td>NaN</td>\n",
       "      <td>NaN</td>\n",
       "      <td>0.797025</td>\n",
       "      <td>NaN</td>\n",
       "      <td>NaN</td>\n",
       "      <td>NaN</td>\n",
       "      <td>-1.854364</td>\n",
       "    </tr>\n",
       "    <tr>\n",
       "      <th>15</th>\n",
       "      <td>NaN</td>\n",
       "      <td>NaN</td>\n",
       "      <td>NaN</td>\n",
       "      <td>NaN</td>\n",
       "      <td>NaN</td>\n",
       "      <td>1.222396</td>\n",
       "      <td>NaN</td>\n",
       "      <td>NaN</td>\n",
       "      <td>NaN</td>\n",
       "      <td>0.512508</td>\n",
       "    </tr>\n",
       "    <tr>\n",
       "      <th>16</th>\n",
       "      <td>NaN</td>\n",
       "      <td>NaN</td>\n",
       "      <td>NaN</td>\n",
       "      <td>NaN</td>\n",
       "      <td>NaN</td>\n",
       "      <td>-1.239647</td>\n",
       "      <td>NaN</td>\n",
       "      <td>NaN</td>\n",
       "      <td>NaN</td>\n",
       "      <td>-0.512053</td>\n",
       "    </tr>\n",
       "    <tr>\n",
       "      <th>17</th>\n",
       "      <td>NaN</td>\n",
       "      <td>NaN</td>\n",
       "      <td>NaN</td>\n",
       "      <td>NaN</td>\n",
       "      <td>NaN</td>\n",
       "      <td>0.018420</td>\n",
       "      <td>NaN</td>\n",
       "      <td>NaN</td>\n",
       "      <td>NaN</td>\n",
       "      <td>1.521403</td>\n",
       "    </tr>\n",
       "    <tr>\n",
       "      <th>18</th>\n",
       "      <td>NaN</td>\n",
       "      <td>NaN</td>\n",
       "      <td>NaN</td>\n",
       "      <td>NaN</td>\n",
       "      <td>NaN</td>\n",
       "      <td>-0.512198</td>\n",
       "      <td>NaN</td>\n",
       "      <td>NaN</td>\n",
       "      <td>NaN</td>\n",
       "      <td>0.786642</td>\n",
       "    </tr>\n",
       "    <tr>\n",
       "      <th>19</th>\n",
       "      <td>NaN</td>\n",
       "      <td>NaN</td>\n",
       "      <td>NaN</td>\n",
       "      <td>NaN</td>\n",
       "      <td>NaN</td>\n",
       "      <td>-1.807685</td>\n",
       "      <td>NaN</td>\n",
       "      <td>NaN</td>\n",
       "      <td>NaN</td>\n",
       "      <td>-0.789172</td>\n",
       "    </tr>\n",
       "    <tr>\n",
       "      <th>20</th>\n",
       "      <td>NaN</td>\n",
       "      <td>NaN</td>\n",
       "      <td>NaN</td>\n",
       "      <td>NaN</td>\n",
       "      <td>NaN</td>\n",
       "      <td>0.193067</td>\n",
       "      <td>NaN</td>\n",
       "      <td>NaN</td>\n",
       "      <td>NaN</td>\n",
       "      <td>-0.311462</td>\n",
       "    </tr>\n",
       "    <tr>\n",
       "      <th>21</th>\n",
       "      <td>NaN</td>\n",
       "      <td>NaN</td>\n",
       "      <td>NaN</td>\n",
       "      <td>NaN</td>\n",
       "      <td>NaN</td>\n",
       "      <td>1.643469</td>\n",
       "      <td>NaN</td>\n",
       "      <td>NaN</td>\n",
       "      <td>NaN</td>\n",
       "      <td>0.130780</td>\n",
       "    </tr>\n",
       "    <tr>\n",
       "      <th>22</th>\n",
       "      <td>NaN</td>\n",
       "      <td>NaN</td>\n",
       "      <td>NaN</td>\n",
       "      <td>NaN</td>\n",
       "      <td>NaN</td>\n",
       "      <td>NaN</td>\n",
       "      <td>NaN</td>\n",
       "      <td>NaN</td>\n",
       "      <td>NaN</td>\n",
       "      <td>-0.564900</td>\n",
       "    </tr>\n",
       "    <tr>\n",
       "      <th>23</th>\n",
       "      <td>NaN</td>\n",
       "      <td>NaN</td>\n",
       "      <td>NaN</td>\n",
       "      <td>NaN</td>\n",
       "      <td>NaN</td>\n",
       "      <td>NaN</td>\n",
       "      <td>NaN</td>\n",
       "      <td>NaN</td>\n",
       "      <td>NaN</td>\n",
       "      <td>1.467936</td>\n",
       "    </tr>\n",
       "    <tr>\n",
       "      <th>24</th>\n",
       "      <td>NaN</td>\n",
       "      <td>NaN</td>\n",
       "      <td>-0.210941</td>\n",
       "      <td>NaN</td>\n",
       "      <td>NaN</td>\n",
       "      <td>NaN</td>\n",
       "      <td>NaN</td>\n",
       "      <td>NaN</td>\n",
       "      <td>NaN</td>\n",
       "      <td>1.330733</td>\n",
       "    </tr>\n",
       "    <tr>\n",
       "      <th>25</th>\n",
       "      <td>NaN</td>\n",
       "      <td>-0.876608</td>\n",
       "      <td>0.376439</td>\n",
       "      <td>NaN</td>\n",
       "      <td>NaN</td>\n",
       "      <td>NaN</td>\n",
       "      <td>NaN</td>\n",
       "      <td>NaN</td>\n",
       "      <td>NaN</td>\n",
       "      <td>-0.789172</td>\n",
       "    </tr>\n",
       "    <tr>\n",
       "      <th>26</th>\n",
       "      <td>NaN</td>\n",
       "      <td>-0.876608</td>\n",
       "      <td>-0.896572</td>\n",
       "      <td>NaN</td>\n",
       "      <td>NaN</td>\n",
       "      <td>NaN</td>\n",
       "      <td>NaN</td>\n",
       "      <td>NaN</td>\n",
       "      <td>NaN</td>\n",
       "      <td>0.548122</td>\n",
       "    </tr>\n",
       "    <tr>\n",
       "      <th>27</th>\n",
       "      <td>NaN</td>\n",
       "      <td>-0.876608</td>\n",
       "      <td>1.573422</td>\n",
       "      <td>NaN</td>\n",
       "      <td>NaN</td>\n",
       "      <td>NaN</td>\n",
       "      <td>NaN</td>\n",
       "      <td>NaN</td>\n",
       "      <td>NaN</td>\n",
       "      <td>0.005577</td>\n",
       "    </tr>\n",
       "    <tr>\n",
       "      <th>28</th>\n",
       "      <td>NaN</td>\n",
       "      <td>1.334235</td>\n",
       "      <td>0.622743</td>\n",
       "      <td>NaN</td>\n",
       "      <td>NaN</td>\n",
       "      <td>NaN</td>\n",
       "      <td>NaN</td>\n",
       "      <td>NaN</td>\n",
       "      <td>NaN</td>\n",
       "      <td>-1.482577</td>\n",
       "    </tr>\n",
       "    <tr>\n",
       "      <th>29</th>\n",
       "      <td>NaN</td>\n",
       "      <td>-0.085423</td>\n",
       "      <td>NaN</td>\n",
       "      <td>NaN</td>\n",
       "      <td>NaN</td>\n",
       "      <td>NaN</td>\n",
       "      <td>NaN</td>\n",
       "      <td>NaN</td>\n",
       "      <td>NaN</td>\n",
       "      <td>NaN</td>\n",
       "    </tr>\n",
       "    <tr>\n",
       "      <th>30</th>\n",
       "      <td>NaN</td>\n",
       "      <td>1.381012</td>\n",
       "      <td>-1.465091</td>\n",
       "      <td>NaN</td>\n",
       "      <td>NaN</td>\n",
       "      <td>NaN</td>\n",
       "      <td>NaN</td>\n",
       "      <td>NaN</td>\n",
       "      <td>NaN</td>\n",
       "      <td>NaN</td>\n",
       "    </tr>\n",
       "    <tr>\n",
       "      <th>31</th>\n",
       "      <td>NaN</td>\n",
       "      <td>NaN</td>\n",
       "      <td>NaN</td>\n",
       "      <td>NaN</td>\n",
       "      <td>NaN</td>\n",
       "      <td>NaN</td>\n",
       "      <td>NaN</td>\n",
       "      <td>NaN</td>\n",
       "      <td>NaN</td>\n",
       "      <td>NaN</td>\n",
       "    </tr>\n",
       "  </tbody>\n",
       "</table>\n",
       "</div>"
      ],
      "text/plain": [
       "           t1        t2        t3        t4        t5        t6        t7  \\\n",
       "age                                                                         \n",
       "1         NaN       NaN       NaN -1.635340  1.239125       NaN -0.163293   \n",
       "2         NaN       NaN       NaN -0.943078 -0.029285       NaN -1.407551   \n",
       "3         NaN       NaN       NaN -0.246146       NaN       NaN  0.169646   \n",
       "4         NaN       NaN       NaN  1.313547 -1.209840       NaN  1.401198   \n",
       "5         NaN       NaN       NaN  0.095306       NaN       NaN       NaN   \n",
       "6         NaN       NaN       NaN  1.273131       NaN       NaN       NaN   \n",
       "7   -0.622941       NaN       NaN  0.142581       NaN       NaN       NaN   \n",
       "8    1.385812       NaN       NaN       NaN       NaN       NaN       NaN   \n",
       "9    1.127390       NaN       NaN       NaN       NaN       NaN       NaN   \n",
       "10        NaN       NaN       NaN       NaN       NaN       NaN       NaN   \n",
       "11   0.403147       NaN       NaN       NaN       NaN       NaN       NaN   \n",
       "12   0.237093       NaN       NaN       NaN       NaN -0.245553       NaN   \n",
       "13  -1.265251       NaN       NaN       NaN       NaN -0.069294       NaN   \n",
       "14  -1.265251       NaN       NaN       NaN       NaN  0.797025       NaN   \n",
       "15        NaN       NaN       NaN       NaN       NaN  1.222396       NaN   \n",
       "16        NaN       NaN       NaN       NaN       NaN -1.239647       NaN   \n",
       "17        NaN       NaN       NaN       NaN       NaN  0.018420       NaN   \n",
       "18        NaN       NaN       NaN       NaN       NaN -0.512198       NaN   \n",
       "19        NaN       NaN       NaN       NaN       NaN -1.807685       NaN   \n",
       "20        NaN       NaN       NaN       NaN       NaN  0.193067       NaN   \n",
       "21        NaN       NaN       NaN       NaN       NaN  1.643469       NaN   \n",
       "22        NaN       NaN       NaN       NaN       NaN       NaN       NaN   \n",
       "23        NaN       NaN       NaN       NaN       NaN       NaN       NaN   \n",
       "24        NaN       NaN -0.210941       NaN       NaN       NaN       NaN   \n",
       "25        NaN -0.876608  0.376439       NaN       NaN       NaN       NaN   \n",
       "26        NaN -0.876608 -0.896572       NaN       NaN       NaN       NaN   \n",
       "27        NaN -0.876608  1.573422       NaN       NaN       NaN       NaN   \n",
       "28        NaN  1.334235  0.622743       NaN       NaN       NaN       NaN   \n",
       "29        NaN -0.085423       NaN       NaN       NaN       NaN       NaN   \n",
       "30        NaN  1.381012 -1.465091       NaN       NaN       NaN       NaN   \n",
       "31        NaN       NaN       NaN       NaN       NaN       NaN       NaN   \n",
       "\n",
       "           t8        t9       t10  \n",
       "age                                \n",
       "1    0.968719 -0.992696       NaN  \n",
       "2   -0.281438 -1.291941       NaN  \n",
       "3    1.889487  1.579877       NaN  \n",
       "4   -0.479641  0.597833       NaN  \n",
       "5   -1.399182  0.512409       NaN  \n",
       "6   -1.666003  0.309040       NaN  \n",
       "7    0.250822 -1.177722       NaN  \n",
       "8    0.250822 -1.177722       NaN  \n",
       "9   -0.094121  0.738035       NaN  \n",
       "10   0.560536  0.902887       NaN  \n",
       "11        NaN       NaN       NaN  \n",
       "12        NaN       NaN       NaN  \n",
       "13        NaN       NaN       NaN  \n",
       "14        NaN       NaN -1.854364  \n",
       "15        NaN       NaN  0.512508  \n",
       "16        NaN       NaN -0.512053  \n",
       "17        NaN       NaN  1.521403  \n",
       "18        NaN       NaN  0.786642  \n",
       "19        NaN       NaN -0.789172  \n",
       "20        NaN       NaN -0.311462  \n",
       "21        NaN       NaN  0.130780  \n",
       "22        NaN       NaN -0.564900  \n",
       "23        NaN       NaN  1.467936  \n",
       "24        NaN       NaN  1.330733  \n",
       "25        NaN       NaN -0.789172  \n",
       "26        NaN       NaN  0.548122  \n",
       "27        NaN       NaN  0.005577  \n",
       "28        NaN       NaN -1.482577  \n",
       "29        NaN       NaN       NaN  \n",
       "30        NaN       NaN       NaN  \n",
       "31        NaN       NaN       NaN  "
      ]
     },
     "execution_count": 19,
     "metadata": {},
     "output_type": "execute_result"
    }
   ],
   "source": [
    "test_failure_df"
   ]
  },
  {
   "cell_type": "code",
   "execution_count": 20,
   "metadata": {},
   "outputs": [],
   "source": [
    "# elpd\n",
    "# -5.795549313791336 -23.18819749716854 -5.324164207414657 -7.846655990109608\n",
    "\n",
    "# comp=[1.1059518361106,1.104951582403177,1.104375108654526, 1.104044995974979]"
   ]
  },
  {
   "cell_type": "code",
   "execution_count": null,
   "metadata": {},
   "outputs": [],
   "source": []
  },
  {
   "cell_type": "code",
   "execution_count": null,
   "metadata": {},
   "outputs": [],
   "source": []
  },
  {
   "cell_type": "code",
   "execution_count": null,
   "metadata": {},
   "outputs": [],
   "source": []
  },
  {
   "cell_type": "code",
   "execution_count": null,
   "metadata": {},
   "outputs": [],
   "source": []
  },
  {
   "cell_type": "code",
   "execution_count": 21,
   "metadata": {},
   "outputs": [
    {
     "ename": "NameError",
     "evalue": "name 'm' is not defined",
     "output_type": "error",
     "traceback": [
      "\u001b[0;31m---------------------------------------------------------------------------\u001b[0m",
      "\u001b[0;31mNameError\u001b[0m                                 Traceback (most recent call last)",
      "\u001b[0;32m<ipython-input-21-08262460ec8b>\u001b[0m in \u001b[0;36m<module>\u001b[0;34m\u001b[0m\n\u001b[1;32m     18\u001b[0m \u001b[0;31m# print(margin_lik(m, df))\u001b[0m\u001b[0;34m\u001b[0m\u001b[0;34m\u001b[0m\u001b[0;34m\u001b[0m\u001b[0m\n\u001b[1;32m     19\u001b[0m \u001b[0;31m# print(margin_lik(m, df2))\u001b[0m\u001b[0;34m\u001b[0m\u001b[0;34m\u001b[0m\u001b[0;34m\u001b[0m\u001b[0m\n\u001b[0;32m---> 20\u001b[0;31m \u001b[0mprint\u001b[0m\u001b[0;34m(\u001b[0m\u001b[0mmargin_lik\u001b[0m\u001b[0;34m(\u001b[0m\u001b[0mm\u001b[0m\u001b[0;34m,\u001b[0m \u001b[0mdf3\u001b[0m\u001b[0;34m)\u001b[0m\u001b[0;34m)\u001b[0m\u001b[0;34m\u001b[0m\u001b[0;34m\u001b[0m\u001b[0m\n\u001b[0m\u001b[1;32m     21\u001b[0m \u001b[0mforecast\u001b[0m\u001b[0;34m\u001b[0m\u001b[0;34m\u001b[0m\u001b[0m\n",
      "\u001b[0;31mNameError\u001b[0m: name 'm' is not defined"
     ]
    }
   ],
   "source": [
    "forecast = []\n",
    "def margin_lik(m, df):\n",
    "    from scipy.stats import norm\n",
    "    df = df.dropna()\n",
    "    m = Prophet()\n",
    "    m.fit(df) \n",
    "    future = m.make_future_dataframe(periods = 30, freq='12M')\n",
    "    forecast = m.predict(future)\n",
    "#     print(forecast)\n",
    "#     plt.plot(forecast, label = 'df')\n",
    "#     plt.legend()\n",
    "    y_mu = forecast.yhat\n",
    "    y_sigma = m.stan_backend.stan_fit['sigma_obs']\n",
    "    print(m.stan_backend.stan_fit)\n",
    "    margin_lik = norm.logpdf(y_mu, y_sigma)\n",
    "    return np.sum(margin_lik)\n",
    "\n",
    "# print(margin_lik(m, df))\n",
    "# print(margin_lik(m, df2))\n",
    "print(margin_lik(m, df3))\n",
    "forecast"
   ]
  },
  {
   "cell_type": "code",
   "execution_count": null,
   "metadata": {},
   "outputs": [],
   "source": []
  },
  {
   "cell_type": "markdown",
   "metadata": {},
   "source": [
    "## prophet"
   ]
  },
  {
   "cell_type": "code",
   "execution_count": null,
   "metadata": {},
   "outputs": [],
   "source": [
    "failure_df = pd.read_csv(os.path.realpath('data/failure_count2.csv')).set_index('age')\n",
    "u = np.nanmean(failure_df.iloc[:,1:].values.flatten())\n",
    "s = np.sqrt(np.nanvar(failure_df.iloc[:,1:].values.flatten()))\n",
    "failure_df = pd.DataFrame((failure_df - u) / s, index=failure_df.index, columns=failure_df.columns)\n",
    "engine_df = pd.read_csv(os.path.realpath('data/engine2.csv')).set_index('ship')\n",
    "\n",
    "test_failure_df = pd.read_csv(os.path.realpath('data/failure_count_test.csv')).set_index('age')\n",
    "test_failure_df = pd.DataFrame((test_failure_df - u) / s, index=test_failure_df.index, columns=test_failure_df.columns)\n",
    "test_engine_df = pd.read_csv(os.path.realpath('data/engine_test.csv')).set_index('ship')\n",
    "\n",
    "\n",
    "# power transform\n",
    "pt = PowerTransformer()\n",
    "pt.fit(failure_df)\n",
    "failure_df = pd.DataFrame(pt.transform(failure_df),index=failure_df.index, columns=failure_df.columns)\n",
    "pt.fit(test_failure_df)\n",
    "test_failure_df = pd.DataFrame(pt.transform(test_failure_df), index=test_failure_df.index, columns=test_failure_df.columns)"
   ]
  },
  {
   "cell_type": "code",
   "execution_count": null,
   "metadata": {
    "scrolled": true
   },
   "outputs": [],
   "source": [
    "%%time\n",
    "# 데이터 2개 이하는 prophet 불가 \n",
    "# type1 제외 : s4\n",
    "# type2 제외 : s7,s10,s16\n",
    "# type3 제외 : s60\n",
    "# type4 제외 : s88, s92, s95\n",
    "from fbprophet import Prophet\n",
    "\n",
    "def predict_prophet(s):\n",
    "    ds = pd.date_range('2020-01-01', periods=s.shape[0], freq='12M')\n",
    "    training_df = pd.DataFrame({'ds': ds, 'y': s})\n",
    "    m = Prophet()\n",
    "    m.fit(training_df)\n",
    "    predict_df = pd.DataFrame({'ds': ds})\n",
    "    return m.predict(predict_df)['trend'],m.predict(predict_df)['yearly'],m.stan_backend.stan_fit['sigma_obs'],m.predict(predict_df)['yhat']\n",
    "\n",
    "y_zero_prophet = predict_prophet(failure_df.mean(axis=1).values)\n",
    "y_bar_prophet = []\n",
    "y_prophet = []\n",
    "for i in range(1, 6):\n",
    "    ships = engine_df.index[engine_df['engine'] == i]\n",
    "    y_bar_prophet.append(predict_prophet(failure_df[ships].mean(axis=1).values))\n",
    "    for j in range(0,len(ships)):\n",
    "        y_prophet.append(predict_prophet(failure_df[ships[j]].values))\n",
    "        print(ships[j])\n"
   ]
  },
  {
   "cell_type": "code",
   "execution_count": null,
   "metadata": {},
   "outputs": [],
   "source": [
    "y_zero_prophet"
   ]
  },
  {
   "cell_type": "code",
   "execution_count": null,
   "metadata": {},
   "outputs": [],
   "source": [
    "from scipy.stats import norm\n",
    "margin_sum = []\n",
    "new_y = []\n",
    "new_y_bar =[]\n",
    "compare_y =[]\n",
    "compare_y_bar =[]\n",
    "test_compare_y =[]\n",
    "test_compare_y_bar =[]\n",
    "\n",
    "# for i in range(0,len(y_prophet)):\n",
    "for i in range(0,91):\n",
    "    if i < 5:\n",
    "        j = 0\n",
    "    elif i < 29:\n",
    "        j=1\n",
    "    elif i < 71:\n",
    "        j=2\n",
    "    elif i < 87:\n",
    "        j=3\n",
    "    elif i >= 87:\n",
    "        j=4    \n",
    "\n",
    "#     wy = 1/y_prophet[i][2]**2          # 1/layer3 sigma_obs\n",
    "#     wy_bar = 1/y_bar_prophet[j][2]**2  # 1/layer2 sigma_obs\n",
    "#     wy_zero = 1/y_zero_prophet[2]**2   # 1/layer1 sigma_obs\n",
    "#     wy_sum = wy + wy_bar + wy_zero\n",
    "    \n",
    "    y_mu = ((y_prophet[i][0] + y_prophet[i][1]))  # y_prophet[i][1] : layer3 seasonality(yearly)\n",
    "        \n",
    "    new_y.append(y_mu)\n",
    "    y_sigma = y_prophet[i][2] # layer3 sigma_obs\n",
    "    \n",
    "#     y_mu2 = pd.DataFrame({'y':failure_df.iloc[:,i], 'yhat':y_mu}).dropna()\n",
    "    y_mu2 = pd.DataFrame({'y':failure_df.iloc[:,i], 'yhat':y_prophet[i][3]}).dropna()\n",
    "    \n",
    "    compare_y.append(rmse(y_mu2.y, y_mu2.yhat))\n",
    "    margin_lik = norm.logpdf(y_mu2, y_sigma)\n",
    "#     print(f'{i}', np.sum(margin_lik))\n",
    "    margin_sum.append(np.sum(margin_lik))\n",
    "\n",
    "\n",
    "new_y = np.array(new_y).transpose()\n",
    "print(np.sum(margin_sum))\n",
    "print(np.mean(compare_y))\n"
   ]
  },
  {
   "cell_type": "code",
   "execution_count": null,
   "metadata": {},
   "outputs": [],
   "source": [
    "from scipy.stats import norm\n",
    "margin_sum = []\n",
    "new_y = []\n",
    "new_y_bar =[]\n",
    "compare_y =[]\n",
    "compare_y_bar =[]\n",
    "test_compare_y =[]\n",
    "test_compare_y_bar =[]\n",
    "\n",
    "# for i in range(0,len(y_prophet)):\n",
    "for i in range(0,91):\n",
    "    if i < 5:\n",
    "        j = 0\n",
    "    elif i < 29:\n",
    "        j=1\n",
    "    elif i < 71:\n",
    "        j=2\n",
    "    elif i < 87:\n",
    "        j=3\n",
    "    elif i >= 87:\n",
    "        j=4    \n",
    "\n",
    "### Layer 3 ###        \n",
    "#     wy = 1/y_prophet[i][2]**2          # 1/layer3 sigma_obs\n",
    "#     wy_bar = 1/y_bar_prophet[j][2]**2  # 1/layer2 sigma_obs\n",
    "#     wy_zero = 1/y_zero_prophet[2]**2   # 1/layer1 sigma_obs\n",
    "#     wy_sum = wy + wy_bar + wy_zero\n",
    "    \n",
    "#     y_mu = ((y_prophet[i][0] * ((wy) / (wy_sum))) +          # layer3\n",
    "#             (y_bar_prophet[j][0] * ((wy_bar) / (wy_sum))) +  # layer2\n",
    "#              (y_zero_prophet[0] * ((wy_zero) / (wy_sum))) +  # layer1\n",
    "#             y_bar_prophet[i][1])  # y_prophet[i][1] : layer3 seasonality(yearly)\n",
    "\n",
    "### Layer 2 ###\n",
    "    wy = 1/y_prophet[i][2]**2          # 1/layer3 sigma_obs\n",
    "    wy_bar = 1/y_bar_prophet[j][2]**2  # 1/layer2 sigma_obs\n",
    "    wy_zero = 1/y_zero_prophet[2]**2   # 1/layer1 sigma_obs\n",
    "    wy_sum = wy_bar + wy_zero\n",
    "    \n",
    "    y_mu = ((y_bar_prophet[j][0] * ((wy_bar) / (wy_sum))) +  # layer2\n",
    "             (y_zero_prophet[0] * ((wy_zero) / (wy_sum))) +  # layer1\n",
    "            y_bar_prophet[j][1])  # y_prophet[i][1] : layer3 seasonality(yearly)    \n",
    "    \n",
    "#################\n",
    "    \n",
    "    new_y.append(y_mu)\n",
    "#     y_sigma = y_prophet[i][2] # layer3 sigma_obs\n",
    "    y_sigma = y_bar_prophet[j][2] # layer2 sigma_obs\n",
    "    \n",
    "    y_mu2 = pd.DataFrame({'y':failure_df.iloc[:,i], 'yhat':y_mu}).dropna() # G-Prophet\n",
    "#     y_mu2 = pd.DataFrame({'y':failure_df.iloc[:,i], 'yhat':y_bar_prophet[j][3]}).dropna() #Prophet\n",
    "    \n",
    "    compare_y.append(rmse(y_mu2.y, y_mu2.yhat))\n",
    "    margin_lik = norm.logpdf(y_mu2.yhat, y_sigma)\n",
    "#     print(f'{i}', np.sum(margin_lik))\n",
    "    margin_sum.append(np.sum(margin_lik))\n",
    "\n",
    "\n",
    "new_y = np.array(new_y).transpose()\n",
    "print(np.sum(margin_sum))\n",
    "print(np.mean(compare_y))\n",
    "np.mean(margin_sum)"
   ]
  },
  {
   "cell_type": "code",
   "execution_count": null,
   "metadata": {},
   "outputs": [],
   "source": [
    "# for i in range(0,91):\n",
    "#     if i < 5:\n",
    "#         j = 0\n",
    "#     elif i < 29:\n",
    "#         j=1\n",
    "#     elif i < 71:\n",
    "#         j=2\n",
    "#     elif i < 87:\n",
    "#         j=3\n",
    "#     elif i >= 87:\n",
    "#         j=4    \n",
    "        \n",
    "a = np.std(failure_df.iloc[:,0:5].values[~failure_df.iloc[:,0:5].isnull()])\n",
    "b = np.std(failure_df.iloc[:,5:29].values[~failure_df.iloc[:,5:29].isnull()])\n",
    "\n",
    "print(a,b)"
   ]
  },
  {
   "cell_type": "code",
   "execution_count": null,
   "metadata": {},
   "outputs": [],
   "source": []
  }
 ],
 "metadata": {
  "kernelspec": {
   "display_name": "Python 3",
   "language": "python",
   "name": "python3"
  },
  "language_info": {
   "codemirror_mode": {
    "name": "ipython",
    "version": 3
   },
   "file_extension": ".py",
   "mimetype": "text/x-python",
   "name": "python",
   "nbconvert_exporter": "python",
   "pygments_lexer": "ipython3",
   "version": "3.9.1"
  }
 },
 "nbformat": 4,
 "nbformat_minor": 4
}
