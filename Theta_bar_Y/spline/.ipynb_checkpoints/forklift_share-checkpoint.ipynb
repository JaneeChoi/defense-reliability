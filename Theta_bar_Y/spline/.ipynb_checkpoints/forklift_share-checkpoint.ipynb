{
 "cells": [
  {
   "cell_type": "code",
   "execution_count": 2,
   "id": "sublime-spirituality",
   "metadata": {
    "ExecuteTime": {
     "end_time": "2021-07-11T00:47:08.642729Z",
     "start_time": "2021-07-11T00:47:08.365Z"
    }
   },
   "outputs": [],
   "source": [
    "library(\"readxl\")\n",
    "library(\"dplyr\")\n",
    "#library(\"writexl\")"
   ]
  },
  {
   "cell_type": "code",
   "execution_count": 3,
   "id": "seventh-freight",
   "metadata": {
    "ExecuteTime": {
     "end_time": "2021-07-11T00:47:18.533256Z",
     "start_time": "2021-07-11T00:47:08.368Z"
    }
   },
   "outputs": [
    {
     "ename": "ERROR",
     "evalue": "Error: `path` does not exist: ‘forklift0721.xlsx’\n",
     "output_type": "error",
     "traceback": [
      "Error: `path` does not exist: ‘forklift0721.xlsx’\nTraceback:\n",
      "1. read_xlsx(\"forklift0721.xlsx\")",
      "2. check_file(path)",
      "3. stop(\"`path` does not exist: \", sQuote(path), call. = FALSE)"
     ]
    }
   ],
   "source": [
    "df <- read_xlsx(\"../data/forklift0721.xlsx\")\n",
    "names(df) <- c(\"date\",\"cust_code\",\"cust_address\",\"manuf\",\"power\",\"model\",\"sn\",\"year_manuf\",\"oper_time\",\"visit_type\",\"maint_class\",\"parts\",\"maint_details\")\n",
    "\n",
    "# Change column datatype\n",
    "df$date <- as.Date(df$date)\n",
    "df$cust_code <- as.factor(df$cust_code)\n",
    "df$cust_address <- as.factor(df$cust_address)\n",
    "df$manuf <- as.factor(df$manuf)\n",
    "df$model <- as.factor(df$model)\n",
    "df$sn <- as.factor(df$sn)\n",
    "df$year_manuf <- as.numeric(df$year_manuf)\n",
    "df$oper_time <- as.numeric(df$oper_time)\n",
    "df$visit_type <- as.factor(df$visit_type)\n",
    "df$maint_class <- as.factor(df$maint_class)\n",
    "\n",
    "year_failure <- as.character(df$date,'%Y')\n",
    "df$year_failure <- as.numeric(year_failure)\n",
    "df$year_use <- df$year_failure-df$year_manuf+1\n",
    "df$year_use <- as.numeric(df$year_use)\n",
    "table(df$year_use)\n",
    "sum(is.na(df$year_use)) # NA : 2149\n",
    "sum(is.na(df$year_manuf))  # NA : 2149 \n",
    "sum(is.na(df$date)) # NA : 0"
   ]
  },
  {
   "cell_type": "code",
   "execution_count": null,
   "id": "b8234f1a",
   "metadata": {},
   "outputs": [],
   "source": [
    "#sn_day <- read_xlsx(\"../data/forklift_sn_day.xlsx\") #일자별 제조사 시리얼넘버별 고장발생건수\n",
    "gen <- read_xlsx(\"../data/forklift_d_gen.xlsx\") #일자별 제조사 시리얼넘버별 일반대응 발생건수\n",
    "emer <- read_xlsx(\"../data/forklift_d_emer.xlsx\") #일자별 제조사 시리얼넘버별 긴급대응 발생건수"
   ]
  },
  {
   "cell_type": "code",
   "execution_count": 3,
   "id": "special-volleyball",
   "metadata": {
    "ExecuteTime": {
     "end_time": "2021-07-11T00:47:19.761080Z",
     "start_time": "2021-07-11T00:47:08.370Z"
    }
   },
   "outputs": [],
   "source": [
    "# 전동지게차, 2013.1.1~2021.6.29, 일반/긴급대응 데이터\n",
    "\n",
    "df.1 <- df %>%\n",
    "        filter(visit_type %in% c(\"일반대응\",\"긴급대응\")) %>%\n",
    "        filter(date >= '2013-1-1') %>%\n",
    "        filter(power==\"전동\") \n",
    "df.2 <- df.1 %>%\n",
    "        select(date,cust_code,manuf,sn,oper_time,visit_type,year_use)\n",
    "df.3 <- unique(df.2)\n",
    "df.3 <- na.omit(df.3) \n",
    "\n",
    "write_xlsx(df.3,\"df.xlsx\")"
   ]
  },
  {
   "cell_type": "code",
   "execution_count": 4,
   "id": "advised-climate",
   "metadata": {
    "ExecuteTime": {
     "end_time": "2021-07-11T00:47:19.816735Z",
     "start_time": "2021-07-11T00:47:08.374Z"
    }
   },
   "outputs": [
    {
     "data": {
      "text/html": [
       "<table class=\"dataframe\">\n",
       "<caption>A data.frame: 30 × 2</caption>\n",
       "<thead>\n",
       "\t<tr><th></th><th scope=col>Var1</th><th scope=col>Freq</th></tr>\n",
       "\t<tr><th></th><th scope=col>&lt;fct&gt;</th><th scope=col>&lt;int&gt;</th></tr>\n",
       "</thead>\n",
       "<tbody>\n",
       "\t<tr><th scope=row>19</th><td>클라크        </td><td>9660</td></tr>\n",
       "\t<tr><th scope=row>1</th><td>니찌유        </td><td>8306</td></tr>\n",
       "\t<tr><th scope=row>4</th><td>도요타        </td><td>8165</td></tr>\n",
       "\t<tr><th scope=row>18</th><td>크라운        </td><td>4505</td></tr>\n",
       "\t<tr><th scope=row>11</th><td>스미토모      </td><td>4490</td></tr>\n",
       "\t<tr><th scope=row>22</th><td>하이스터      </td><td>1647</td></tr>\n",
       "\t<tr><th scope=row>6</th><td>두산          </td><td>1284</td></tr>\n",
       "\t<tr><th scope=row>24</th><td>BT            </td><td> 896</td></tr>\n",
       "\t<tr><th scope=row>23</th><td>현대중공업    </td><td> 703</td></tr>\n",
       "\t<tr><th scope=row>12</th><td>신코          </td><td> 261</td></tr>\n",
       "\t<tr><th scope=row>20</th><td>토비카        </td><td> 240</td></tr>\n",
       "\t<tr><th scope=row>2</th><td>닛산          </td><td> 117</td></tr>\n",
       "\t<tr><th scope=row>16</th><td>캐터필러      </td><td> 110</td></tr>\n",
       "\t<tr><th scope=row>14</th><td>융하인리히    </td><td>  90</td></tr>\n",
       "\t<tr><th scope=row>10</th><td>수성          </td><td>  85</td></tr>\n",
       "\t<tr><th scope=row>30</th><td>TCM           </td><td>  62</td></tr>\n",
       "\t<tr><th scope=row>15</th><td>칼마          </td><td>  29</td></tr>\n",
       "\t<tr><th scope=row>5</th><td>동명          </td><td>  26</td></tr>\n",
       "\t<tr><th scope=row>25</th><td>EP            </td><td>  19</td></tr>\n",
       "\t<tr><th scope=row>8</th><td>레이몬드      </td><td>  12</td></tr>\n",
       "\t<tr><th scope=row>27</th><td>JLG           </td><td>  11</td></tr>\n",
       "\t<tr><th scope=row>21</th><td>티엠씨        </td><td>   4</td></tr>\n",
       "\t<tr><th scope=row>9</th><td>미쓰비시      </td><td>   2</td></tr>\n",
       "\t<tr><th scope=row>26</th><td>HANGCHA       </td><td>   2</td></tr>\n",
       "\t<tr><th scope=row>13</th><td>예일          </td><td>   1</td></tr>\n",
       "\t<tr><th scope=row>17</th><td>코마츠        </td><td>   1</td></tr>\n",
       "\t<tr><th scope=row>28</th><td>Linde         </td><td>   1</td></tr>\n",
       "\t<tr><th scope=row>3</th><td>대우중공업    </td><td>   0</td></tr>\n",
       "\t<tr><th scope=row>7</th><td>두산물류지게차</td><td>   0</td></tr>\n",
       "\t<tr><th scope=row>29</th><td>NOBLELIFT     </td><td>   0</td></tr>\n",
       "</tbody>\n",
       "</table>\n"
      ],
      "text/latex": [
       "A data.frame: 30 × 2\n",
       "\\begin{tabular}{r|ll}\n",
       "  & Var1 & Freq\\\\\n",
       "  & <fct> & <int>\\\\\n",
       "\\hline\n",
       "\t19 & 클라크         & 9660\\\\\n",
       "\t1 & 니찌유         & 8306\\\\\n",
       "\t4 & 도요타         & 8165\\\\\n",
       "\t18 & 크라운         & 4505\\\\\n",
       "\t11 & 스미토모       & 4490\\\\\n",
       "\t22 & 하이스터       & 1647\\\\\n",
       "\t6 & 두산           & 1284\\\\\n",
       "\t24 & BT             &  896\\\\\n",
       "\t23 & 현대중공업     &  703\\\\\n",
       "\t12 & 신코           &  261\\\\\n",
       "\t20 & 토비카         &  240\\\\\n",
       "\t2 & 닛산           &  117\\\\\n",
       "\t16 & 캐터필러       &  110\\\\\n",
       "\t14 & 융하인리히     &   90\\\\\n",
       "\t10 & 수성           &   85\\\\\n",
       "\t30 & TCM            &   62\\\\\n",
       "\t15 & 칼마           &   29\\\\\n",
       "\t5 & 동명           &   26\\\\\n",
       "\t25 & EP             &   19\\\\\n",
       "\t8 & 레이몬드       &   12\\\\\n",
       "\t27 & JLG            &   11\\\\\n",
       "\t21 & 티엠씨         &    4\\\\\n",
       "\t9 & 미쓰비시       &    2\\\\\n",
       "\t26 & HANGCHA        &    2\\\\\n",
       "\t13 & 예일           &    1\\\\\n",
       "\t17 & 코마츠         &    1\\\\\n",
       "\t28 & Linde          &    1\\\\\n",
       "\t3 & 대우중공업     &    0\\\\\n",
       "\t7 & 두산물류지게차 &    0\\\\\n",
       "\t29 & NOBLELIFT      &    0\\\\\n",
       "\\end{tabular}\n"
      ],
      "text/markdown": [
       "\n",
       "A data.frame: 30 × 2\n",
       "\n",
       "| <!--/--> | Var1 &lt;fct&gt; | Freq &lt;int&gt; |\n",
       "|---|---|---|\n",
       "| 19 | 클라크         | 9660 |\n",
       "| 1 | 니찌유         | 8306 |\n",
       "| 4 | 도요타         | 8165 |\n",
       "| 18 | 크라운         | 4505 |\n",
       "| 11 | 스미토모       | 4490 |\n",
       "| 22 | 하이스터       | 1647 |\n",
       "| 6 | 두산           | 1284 |\n",
       "| 24 | BT             |  896 |\n",
       "| 23 | 현대중공업     |  703 |\n",
       "| 12 | 신코           |  261 |\n",
       "| 20 | 토비카         |  240 |\n",
       "| 2 | 닛산           |  117 |\n",
       "| 16 | 캐터필러       |  110 |\n",
       "| 14 | 융하인리히     |   90 |\n",
       "| 10 | 수성           |   85 |\n",
       "| 30 | TCM            |   62 |\n",
       "| 15 | 칼마           |   29 |\n",
       "| 5 | 동명           |   26 |\n",
       "| 25 | EP             |   19 |\n",
       "| 8 | 레이몬드       |   12 |\n",
       "| 27 | JLG            |   11 |\n",
       "| 21 | 티엠씨         |    4 |\n",
       "| 9 | 미쓰비시       |    2 |\n",
       "| 26 | HANGCHA        |    2 |\n",
       "| 13 | 예일           |    1 |\n",
       "| 17 | 코마츠         |    1 |\n",
       "| 28 | Linde          |    1 |\n",
       "| 3 | 대우중공업     |    0 |\n",
       "| 7 | 두산물류지게차 |    0 |\n",
       "| 29 | NOBLELIFT      |    0 |\n",
       "\n"
      ],
      "text/plain": [
       "   Var1           Freq\n",
       "19 클라크         9660\n",
       "1  니찌유         8306\n",
       "4  도요타         8165\n",
       "18 크라운         4505\n",
       "11 스미토모       4490\n",
       "22 하이스터       1647\n",
       "6  두산           1284\n",
       "24 BT              896\n",
       "23 현대중공업      703\n",
       "12 신코            261\n",
       "20 토비카          240\n",
       "2  닛산            117\n",
       "16 캐터필러        110\n",
       "14 융하인리히       90\n",
       "10 수성             85\n",
       "30 TCM              62\n",
       "15 칼마             29\n",
       "5  동명             26\n",
       "25 EP               19\n",
       "8  레이몬드         12\n",
       "27 JLG              11\n",
       "21 티엠씨            4\n",
       "9  미쓰비시          2\n",
       "26 HANGCHA           2\n",
       "13 예일              1\n",
       "17 코마츠            1\n",
       "28 Linde             1\n",
       "3  대우중공업        0\n",
       "7  두산물류지게차    0\n",
       "29 NOBLELIFT         0"
      ]
     },
     "metadata": {},
     "output_type": "display_data"
    },
    {
     "data": {
      "text/html": [
       "<table class=\"dataframe\">\n",
       "<caption>A data.frame: 7 × 2</caption>\n",
       "<thead>\n",
       "\t<tr><th></th><th scope=col>Var1</th><th scope=col>Freq</th></tr>\n",
       "\t<tr><th></th><th scope=col>&lt;fct&gt;</th><th scope=col>&lt;int&gt;</th></tr>\n",
       "</thead>\n",
       "<tbody>\n",
       "\t<tr><th scope=row>19</th><td>클라크  </td><td>9660</td></tr>\n",
       "\t<tr><th scope=row>1</th><td>니찌유  </td><td>8306</td></tr>\n",
       "\t<tr><th scope=row>4</th><td>도요타  </td><td>8165</td></tr>\n",
       "\t<tr><th scope=row>18</th><td>크라운  </td><td>4505</td></tr>\n",
       "\t<tr><th scope=row>11</th><td>스미토모</td><td>4490</td></tr>\n",
       "\t<tr><th scope=row>22</th><td>하이스터</td><td>1647</td></tr>\n",
       "\t<tr><th scope=row>6</th><td>두산    </td><td>1284</td></tr>\n",
       "</tbody>\n",
       "</table>\n"
      ],
      "text/latex": [
       "A data.frame: 7 × 2\n",
       "\\begin{tabular}{r|ll}\n",
       "  & Var1 & Freq\\\\\n",
       "  & <fct> & <int>\\\\\n",
       "\\hline\n",
       "\t19 & 클라크   & 9660\\\\\n",
       "\t1 & 니찌유   & 8306\\\\\n",
       "\t4 & 도요타   & 8165\\\\\n",
       "\t18 & 크라운   & 4505\\\\\n",
       "\t11 & 스미토모 & 4490\\\\\n",
       "\t22 & 하이스터 & 1647\\\\\n",
       "\t6 & 두산     & 1284\\\\\n",
       "\\end{tabular}\n"
      ],
      "text/markdown": [
       "\n",
       "A data.frame: 7 × 2\n",
       "\n",
       "| <!--/--> | Var1 &lt;fct&gt; | Freq &lt;int&gt; |\n",
       "|---|---|---|\n",
       "| 19 | 클라크   | 9660 |\n",
       "| 1 | 니찌유   | 8306 |\n",
       "| 4 | 도요타   | 8165 |\n",
       "| 18 | 크라운   | 4505 |\n",
       "| 11 | 스미토모 | 4490 |\n",
       "| 22 | 하이스터 | 1647 |\n",
       "| 6 | 두산     | 1284 |\n",
       "\n"
      ],
      "text/plain": [
       "   Var1     Freq\n",
       "19 클라크   9660\n",
       "1  니찌유   8306\n",
       "4  도요타   8165\n",
       "18 크라운   4505\n",
       "11 스미토모 4490\n",
       "22 하이스터 1647\n",
       "6  두산     1284"
      ]
     },
     "metadata": {},
     "output_type": "display_data"
    },
    {
     "data": {
      "text/html": [
       "<style>\n",
       ".list-inline {list-style: none; margin:0; padding: 0}\n",
       ".list-inline>li {display: inline-block}\n",
       ".list-inline>li:not(:last-child)::after {content: \"\\00b7\"; padding: 0 .5ex}\n",
       "</style>\n",
       "<ol class=list-inline><li>'클라크'</li><li>'니찌유'</li><li>'도요타'</li><li>'크라운'</li><li>'스미토모'</li><li>'하이스터'</li><li>'두산'</li></ol>\n"
      ],
      "text/latex": [
       "\\begin{enumerate*}\n",
       "\\item '클라크'\n",
       "\\item '니찌유'\n",
       "\\item '도요타'\n",
       "\\item '크라운'\n",
       "\\item '스미토모'\n",
       "\\item '하이스터'\n",
       "\\item '두산'\n",
       "\\end{enumerate*}\n"
      ],
      "text/markdown": [
       "1. '클라크'\n",
       "2. '니찌유'\n",
       "3. '도요타'\n",
       "4. '크라운'\n",
       "5. '스미토모'\n",
       "6. '하이스터'\n",
       "7. '두산'\n",
       "\n",
       "\n"
      ],
      "text/plain": [
       "[1] \"클라크\"   \"니찌유\"   \"도요타\"   \"크라운\"   \"스미토모\" \"하이스터\" \"두산\"    "
      ]
     },
     "metadata": {},
     "output_type": "display_data"
    }
   ],
   "source": [
    "# 제조사별 고장건수 분석\n",
    "a<-as.data.frame(table(df.3$manuf))\n",
    "a<-a[c(order(a$Freq,decreasing = T)),]\n",
    "a\n",
    "\n",
    "b<-a[c(a$Freq>1000),]\n",
    "b\n",
    "manu <- as.character(unlist(b$Var1))\n",
    "manu  # 고장발생 1000건 이상 7개 회사 선택"
   ]
  },
  {
   "cell_type": "code",
   "execution_count": 36,
   "id": "composite-relief",
   "metadata": {
    "ExecuteTime": {
     "end_time": "2021-07-11T00:58:06.295239Z",
     "start_time": "2021-07-11T00:58:06.196Z"
    }
   },
   "outputs": [],
   "source": [
    "# 제조사별 sn\n",
    "# clark : manu[1]\n",
    "m.sn <- df.3 %>% \n",
    "        filter(manuf==manu[1]) %>%\n",
    "        select(sn)\n",
    "clark <- as.character(unique(m.sn$sn))\n",
    "\n",
    "# nizziu : manu[2]\n",
    "m.sn <- df.3 %>% \n",
    "        filter(manuf==manu[2]) %>%\n",
    "        select(sn)\n",
    "nizziu <- unique(m.sn$sn)\n",
    "\n",
    "# toyota : manu[3]\n",
    "m.sn <- df.3 %>% \n",
    "        filter(manuf==manu[3]) %>%\n",
    "        select(sn)\n",
    "toyota <- unique(m.sn$sn)\n",
    "\n",
    "# crown : manu[4]\n",
    "m.sn <- df.3 %>% \n",
    "        filter(manuf==manu[4]) %>%\n",
    "        select(sn)\n",
    "crown <- unique(m.sn$sn)\n",
    "\n",
    "# smitomo : manu[5]\n",
    "m.sn <- df.3 %>% \n",
    "        filter(manuf==manu[5]) %>%\n",
    "        select(sn)\n",
    "smitomo <- unique(m.sn$sn)\n",
    "\n",
    "# haister : manu[6]\n",
    "m.sn <- df.3 %>% \n",
    "        filter(manuf==manu[6]) %>%\n",
    "        select(sn)\n",
    "haister <- unique(m.sn$sn)\n",
    "\n",
    "# doosan : manu[7]\n",
    "m.sn <- df.3 %>% \n",
    "        filter(manuf==manu[7]) %>%\n",
    "        select(sn)\n",
    "doosan <- unique(m.sn$sn)"
   ]
  },
  {
   "cell_type": "markdown",
   "id": "intense-eugene",
   "metadata": {},
   "source": [
    "# 제조사별 sn 추출하여 분석"
   ]
  },
  {
   "cell_type": "code",
   "execution_count": 60,
   "id": "lightweight-sweet",
   "metadata": {
    "ExecuteTime": {
     "end_time": "2021-07-11T01:12:52.529755Z",
     "start_time": "2021-07-11T01:12:52.151Z"
    }
   },
   "outputs": [],
   "source": [
    "df<-read_xlsx(\"df.xlsx\")\n",
    "df.year<-read_xlsx(\"df_sn_year.xlsx\")\n",
    "df.y.gen<-read_xlsx(\"df_sn_year_gen.xlsx\")\n",
    "df.y.emer<-read_excel(\"df_sn_year_emer.xlsx\")"
   ]
  },
  {
   "cell_type": "code",
   "execution_count": 62,
   "id": "checked-secret",
   "metadata": {
    "ExecuteTime": {
     "end_time": "2021-07-11T01:13:06.000858Z",
     "start_time": "2021-07-11T01:13:02.137Z"
    }
   },
   "outputs": [
    {
     "data": {
      "text/html": [
       "<table class=\"dataframe\">\n",
       "<caption>A tibble: 1578 × 27</caption>\n",
       "<thead>\n",
       "\t<tr><th scope=col>sn</th><th scope=col>1</th><th scope=col>2</th><th scope=col>3</th><th scope=col>4</th><th scope=col>5</th><th scope=col>6</th><th scope=col>7</th><th scope=col>8</th><th scope=col>9</th><th scope=col>⋯</th><th scope=col>17</th><th scope=col>18</th><th scope=col>19</th><th scope=col>20</th><th scope=col>21</th><th scope=col>22</th><th scope=col>23</th><th scope=col>24</th><th scope=col>25</th><th scope=col>26</th></tr>\n",
       "\t<tr><th scope=col>&lt;chr&gt;</th><th scope=col>&lt;dbl&gt;</th><th scope=col>&lt;dbl&gt;</th><th scope=col>&lt;dbl&gt;</th><th scope=col>&lt;dbl&gt;</th><th scope=col>&lt;dbl&gt;</th><th scope=col>&lt;dbl&gt;</th><th scope=col>&lt;dbl&gt;</th><th scope=col>&lt;dbl&gt;</th><th scope=col>&lt;dbl&gt;</th><th scope=col>⋯</th><th scope=col>&lt;dbl&gt;</th><th scope=col>&lt;dbl&gt;</th><th scope=col>&lt;dbl&gt;</th><th scope=col>&lt;dbl&gt;</th><th scope=col>&lt;dbl&gt;</th><th scope=col>&lt;dbl&gt;</th><th scope=col>&lt;dbl&gt;</th><th scope=col>&lt;dbl&gt;</th><th scope=col>&lt;dbl&gt;</th><th scope=col>&lt;dbl&gt;</th></tr>\n",
       "</thead>\n",
       "<tbody>\n",
       "\t<tr><td>CRX205-1559-9659KF</td><td>0</td><td> 3</td><td> 4</td><td> 3</td><td> 0</td><td>0</td><td>0</td><td>1</td><td>0</td><td>⋯</td><td>0</td><td>0</td><td>0</td><td>0</td><td>0</td><td>0</td><td>0</td><td>0</td><td>0</td><td>0</td></tr>\n",
       "\t<tr><td>CRX205-1567-9659KF</td><td>0</td><td> 5</td><td> 2</td><td> 0</td><td> 2</td><td>0</td><td>0</td><td>0</td><td>1</td><td>⋯</td><td>0</td><td>0</td><td>0</td><td>0</td><td>0</td><td>0</td><td>0</td><td>0</td><td>0</td><td>0</td></tr>\n",
       "\t<tr><td>CRX205-1906-9658KF</td><td>0</td><td> 1</td><td> 0</td><td> 2</td><td> 2</td><td>0</td><td>0</td><td>3</td><td>1</td><td>⋯</td><td>0</td><td>0</td><td>0</td><td>0</td><td>0</td><td>0</td><td>0</td><td>0</td><td>0</td><td>0</td></tr>\n",
       "\t<tr><td>EPX360-5539-9658KF</td><td>0</td><td> 2</td><td> 0</td><td> 0</td><td> 6</td><td>2</td><td>0</td><td>2</td><td>4</td><td>⋯</td><td>0</td><td>0</td><td>0</td><td>0</td><td>0</td><td>0</td><td>0</td><td>0</td><td>0</td><td>0</td></tr>\n",
       "\t<tr><td>CRX148-1942-9658KF</td><td>0</td><td> 6</td><td> 2</td><td> 4</td><td> 4</td><td>0</td><td>0</td><td>0</td><td>1</td><td>⋯</td><td>0</td><td>0</td><td>0</td><td>0</td><td>0</td><td>0</td><td>0</td><td>0</td><td>0</td><td>0</td></tr>\n",
       "\t<tr><td>CRX148-1816-9658KF</td><td>0</td><td> 2</td><td> 2</td><td> 4</td><td> 7</td><td>2</td><td>0</td><td>1</td><td>3</td><td>⋯</td><td>0</td><td>0</td><td>0</td><td>0</td><td>0</td><td>0</td><td>0</td><td>0</td><td>0</td><td>0</td></tr>\n",
       "\t<tr><td>CRX148-1941-9658KF</td><td>0</td><td> 2</td><td> 2</td><td> 3</td><td> 2</td><td>0</td><td>0</td><td>1</td><td>5</td><td>⋯</td><td>0</td><td>0</td><td>0</td><td>0</td><td>0</td><td>0</td><td>0</td><td>0</td><td>0</td><td>0</td></tr>\n",
       "\t<tr><td>EPX360-3486-9652KF</td><td>0</td><td> 0</td><td> 0</td><td>12</td><td>10</td><td>5</td><td>4</td><td>1</td><td>0</td><td>⋯</td><td>0</td><td>0</td><td>0</td><td>0</td><td>0</td><td>0</td><td>0</td><td>0</td><td>0</td><td>0</td></tr>\n",
       "\t<tr><td>EPX360-4630-9652KF</td><td>0</td><td> 0</td><td> 4</td><td> 5</td><td> 2</td><td>7</td><td>1</td><td>0</td><td>4</td><td>⋯</td><td>0</td><td>0</td><td>0</td><td>0</td><td>0</td><td>0</td><td>0</td><td>0</td><td>0</td><td>0</td></tr>\n",
       "\t<tr><td>EPX360-4632-9652KF</td><td>0</td><td> 0</td><td> 8</td><td> 0</td><td> 4</td><td>3</td><td>4</td><td>0</td><td>4</td><td>⋯</td><td>0</td><td>0</td><td>0</td><td>0</td><td>0</td><td>0</td><td>0</td><td>0</td><td>0</td><td>0</td></tr>\n",
       "\t<tr><td>EPX360-4996-9652KF</td><td>0</td><td> 5</td><td> 1</td><td> 2</td><td> 1</td><td>1</td><td>0</td><td>2</td><td>0</td><td>⋯</td><td>0</td><td>0</td><td>0</td><td>0</td><td>0</td><td>0</td><td>0</td><td>0</td><td>0</td><td>0</td></tr>\n",
       "\t<tr><td>CRX205-1886-9659KF</td><td>0</td><td> 5</td><td> 3</td><td> 2</td><td> 0</td><td>2</td><td>0</td><td>3</td><td>5</td><td>⋯</td><td>0</td><td>0</td><td>0</td><td>0</td><td>0</td><td>0</td><td>0</td><td>0</td><td>0</td><td>0</td></tr>\n",
       "\t<tr><td>EPX360-4206-9652KF</td><td>0</td><td> 0</td><td> 3</td><td> 3</td><td> 3</td><td>3</td><td>5</td><td>0</td><td>0</td><td>⋯</td><td>0</td><td>0</td><td>0</td><td>0</td><td>0</td><td>0</td><td>0</td><td>0</td><td>0</td><td>0</td></tr>\n",
       "\t<tr><td>CRX148-1963-9658KF</td><td>0</td><td> 3</td><td> 2</td><td> 7</td><td> 3</td><td>0</td><td>0</td><td>5</td><td>2</td><td>⋯</td><td>0</td><td>0</td><td>0</td><td>0</td><td>0</td><td>0</td><td>0</td><td>0</td><td>0</td><td>0</td></tr>\n",
       "\t<tr><td>CRX205-1596-9652KF</td><td>0</td><td> 3</td><td> 0</td><td> 0</td><td> 8</td><td>2</td><td>0</td><td>0</td><td>2</td><td>⋯</td><td>0</td><td>0</td><td>0</td><td>0</td><td>0</td><td>0</td><td>0</td><td>0</td><td>0</td><td>0</td></tr>\n",
       "\t<tr><td>EPX360-5089-9652KF</td><td>0</td><td> 2</td><td> 2</td><td> 1</td><td> 1</td><td>4</td><td>0</td><td>2</td><td>6</td><td>⋯</td><td>0</td><td>0</td><td>0</td><td>0</td><td>0</td><td>0</td><td>0</td><td>0</td><td>0</td><td>0</td></tr>\n",
       "\t<tr><td>CRX148-1813-9658KF</td><td>0</td><td> 4</td><td> 6</td><td> 0</td><td> 0</td><td>0</td><td>0</td><td>3</td><td>4</td><td>⋯</td><td>0</td><td>0</td><td>0</td><td>0</td><td>0</td><td>0</td><td>0</td><td>0</td><td>0</td><td>0</td></tr>\n",
       "\t<tr><td>EPX360-3922-9652KF</td><td>0</td><td> 0</td><td> 0</td><td> 3</td><td> 3</td><td>4</td><td>2</td><td>0</td><td>0</td><td>⋯</td><td>0</td><td>0</td><td>0</td><td>0</td><td>0</td><td>0</td><td>0</td><td>0</td><td>0</td><td>0</td></tr>\n",
       "\t<tr><td>CRX148-1946-9658KF</td><td>0</td><td> 2</td><td> 4</td><td> 4</td><td> 0</td><td>1</td><td>0</td><td>0</td><td>1</td><td>⋯</td><td>0</td><td>0</td><td>0</td><td>0</td><td>0</td><td>0</td><td>0</td><td>0</td><td>0</td><td>0</td></tr>\n",
       "\t<tr><td>CRX205-1955-9659KF</td><td>4</td><td> 1</td><td> 1</td><td> 0</td><td> 6</td><td>0</td><td>6</td><td>1</td><td>2</td><td>⋯</td><td>0</td><td>0</td><td>0</td><td>0</td><td>0</td><td>0</td><td>0</td><td>0</td><td>0</td><td>0</td></tr>\n",
       "\t<tr><td>EPX360-5574-9652KF</td><td>0</td><td> 1</td><td> 1</td><td> 5</td><td> 5</td><td>2</td><td>0</td><td>0</td><td>0</td><td>⋯</td><td>0</td><td>0</td><td>0</td><td>0</td><td>0</td><td>0</td><td>0</td><td>0</td><td>0</td><td>0</td></tr>\n",
       "\t<tr><td>EPX360-5575-9652KF</td><td>0</td><td> 3</td><td> 8</td><td> 9</td><td> 1</td><td>1</td><td>0</td><td>1</td><td>0</td><td>⋯</td><td>0</td><td>0</td><td>0</td><td>0</td><td>0</td><td>0</td><td>0</td><td>0</td><td>0</td><td>0</td></tr>\n",
       "\t<tr><td>EPX360-5576-9652KF</td><td>0</td><td> 3</td><td> 1</td><td> 9</td><td> 2</td><td>8</td><td>0</td><td>0</td><td>4</td><td>⋯</td><td>0</td><td>0</td><td>0</td><td>0</td><td>0</td><td>0</td><td>0</td><td>0</td><td>0</td><td>0</td></tr>\n",
       "\t<tr><td>EPX360-5578-9652KF</td><td>0</td><td> 2</td><td> 2</td><td> 1</td><td> 5</td><td>2</td><td>0</td><td>3</td><td>3</td><td>⋯</td><td>0</td><td>0</td><td>0</td><td>0</td><td>0</td><td>0</td><td>0</td><td>0</td><td>0</td><td>0</td></tr>\n",
       "\t<tr><td>EPX162-1026-9818KF</td><td>0</td><td> 8</td><td> 7</td><td> 1</td><td> 2</td><td>3</td><td>0</td><td>1</td><td>0</td><td>⋯</td><td>0</td><td>0</td><td>0</td><td>0</td><td>0</td><td>0</td><td>0</td><td>0</td><td>0</td><td>0</td></tr>\n",
       "\t<tr><td>CRX148-1826-9658KF</td><td>0</td><td> 2</td><td> 2</td><td> 1</td><td> 3</td><td>0</td><td>0</td><td>0</td><td>1</td><td>⋯</td><td>0</td><td>0</td><td>0</td><td>0</td><td>0</td><td>0</td><td>0</td><td>0</td><td>0</td><td>0</td></tr>\n",
       "\t<tr><td>EPX360-5278-9652KF</td><td>0</td><td> 5</td><td>10</td><td> 4</td><td> 3</td><td>5</td><td>0</td><td>0</td><td>0</td><td>⋯</td><td>0</td><td>0</td><td>0</td><td>0</td><td>0</td><td>0</td><td>0</td><td>0</td><td>0</td><td>0</td></tr>\n",
       "\t<tr><td>EPX360-4956-9652KF</td><td>0</td><td>10</td><td> 4</td><td> 5</td><td> 7</td><td>3</td><td>0</td><td>1</td><td>0</td><td>⋯</td><td>0</td><td>0</td><td>0</td><td>0</td><td>0</td><td>0</td><td>0</td><td>0</td><td>0</td><td>0</td></tr>\n",
       "\t<tr><td>EPX162-1028-9818KF</td><td>0</td><td> 4</td><td> 5</td><td> 5</td><td> 7</td><td>0</td><td>0</td><td>0</td><td>2</td><td>⋯</td><td>0</td><td>0</td><td>0</td><td>0</td><td>0</td><td>0</td><td>0</td><td>0</td><td>0</td><td>0</td></tr>\n",
       "\t<tr><td>EPX360-5686-9652KF</td><td>2</td><td> 2</td><td>11</td><td> 9</td><td> 1</td><td>0</td><td>1</td><td>1</td><td>0</td><td>⋯</td><td>0</td><td>0</td><td>0</td><td>0</td><td>0</td><td>0</td><td>0</td><td>0</td><td>0</td><td>0</td></tr>\n",
       "\t<tr><td>⋮</td><td>⋮</td><td>⋮</td><td>⋮</td><td>⋮</td><td>⋮</td><td>⋮</td><td>⋮</td><td>⋮</td><td>⋮</td><td>⋱</td><td>⋮</td><td>⋮</td><td>⋮</td><td>⋮</td><td>⋮</td><td>⋮</td><td>⋮</td><td>⋮</td><td>⋮</td><td>⋮</td></tr>\n",
       "\t<tr><td>CRX205-1512-9957KF  </td><td>0</td><td>0</td><td>0</td><td>1</td><td>0</td><td>0</td><td>0</td><td>0</td><td>0</td><td>⋯</td><td>0</td><td>0</td><td>0</td><td>0</td><td>0</td><td>0</td><td>0</td><td>0</td><td>0</td><td>0</td></tr>\n",
       "\t<tr><td>EPX162-2349-9958KF  </td><td>0</td><td>0</td><td>2</td><td>0</td><td>0</td><td>0</td><td>0</td><td>0</td><td>0</td><td>⋯</td><td>0</td><td>0</td><td>0</td><td>0</td><td>0</td><td>0</td><td>0</td><td>0</td><td>0</td><td>0</td></tr>\n",
       "\t<tr><td>CRX205-2750-9957KF  </td><td>0</td><td>1</td><td>0</td><td>0</td><td>0</td><td>0</td><td>0</td><td>0</td><td>0</td><td>⋯</td><td>0</td><td>0</td><td>0</td><td>0</td><td>0</td><td>0</td><td>0</td><td>0</td><td>0</td><td>0</td></tr>\n",
       "\t<tr><td>OSX15-1123-9798KF   </td><td>0</td><td>0</td><td>1</td><td>0</td><td>0</td><td>0</td><td>0</td><td>0</td><td>0</td><td>⋯</td><td>0</td><td>0</td><td>0</td><td>0</td><td>0</td><td>0</td><td>0</td><td>0</td><td>0</td><td>0</td></tr>\n",
       "\t<tr><td>OSX15-1394-9798KF   </td><td>0</td><td>1</td><td>0</td><td>0</td><td>0</td><td>0</td><td>0</td><td>0</td><td>0</td><td>⋯</td><td>0</td><td>0</td><td>0</td><td>0</td><td>0</td><td>0</td><td>0</td><td>0</td><td>0</td><td>0</td></tr>\n",
       "\t<tr><td>EPX360FL-3061-9956KF</td><td>0</td><td>0</td><td>1</td><td>0</td><td>0</td><td>0</td><td>0</td><td>0</td><td>0</td><td>⋯</td><td>0</td><td>0</td><td>0</td><td>0</td><td>0</td><td>0</td><td>0</td><td>0</td><td>0</td><td>0</td></tr>\n",
       "\t<tr><td>CRX205-0374-9659KF  </td><td>0</td><td>0</td><td>0</td><td>0</td><td>0</td><td>0</td><td>0</td><td>0</td><td>0</td><td>⋯</td><td>0</td><td>0</td><td>0</td><td>0</td><td>0</td><td>0</td><td>0</td><td>0</td><td>0</td><td>0</td></tr>\n",
       "\t<tr><td>EPX162-2357-9958KF  </td><td>0</td><td>0</td><td>1</td><td>0</td><td>0</td><td>0</td><td>0</td><td>0</td><td>0</td><td>⋯</td><td>0</td><td>0</td><td>0</td><td>0</td><td>0</td><td>0</td><td>0</td><td>0</td><td>0</td><td>0</td></tr>\n",
       "\t<tr><td>CRX148-2726-9956KF  </td><td>0</td><td>1</td><td>0</td><td>0</td><td>0</td><td>0</td><td>0</td><td>0</td><td>0</td><td>⋯</td><td>0</td><td>0</td><td>0</td><td>0</td><td>0</td><td>0</td><td>0</td><td>0</td><td>0</td><td>0</td></tr>\n",
       "\t<tr><td>CRX148-3038-9956KF  </td><td>1</td><td>0</td><td>0</td><td>0</td><td>0</td><td>0</td><td>0</td><td>0</td><td>0</td><td>⋯</td><td>0</td><td>0</td><td>0</td><td>0</td><td>0</td><td>0</td><td>0</td><td>0</td><td>0</td><td>0</td></tr>\n",
       "\t<tr><td>OSX15-1350-9798KF   </td><td>0</td><td>1</td><td>0</td><td>0</td><td>0</td><td>0</td><td>0</td><td>0</td><td>0</td><td>⋯</td><td>0</td><td>0</td><td>0</td><td>0</td><td>0</td><td>0</td><td>0</td><td>0</td><td>0</td><td>0</td></tr>\n",
       "\t<tr><td>CRX205-3087-9957KF  </td><td>1</td><td>0</td><td>0</td><td>0</td><td>0</td><td>0</td><td>0</td><td>0</td><td>0</td><td>⋯</td><td>0</td><td>0</td><td>0</td><td>0</td><td>0</td><td>0</td><td>0</td><td>0</td><td>0</td><td>0</td></tr>\n",
       "\t<tr><td>CRX205-3088-9957KF  </td><td>1</td><td>0</td><td>0</td><td>0</td><td>0</td><td>0</td><td>0</td><td>0</td><td>0</td><td>⋯</td><td>0</td><td>0</td><td>0</td><td>0</td><td>0</td><td>0</td><td>0</td><td>0</td><td>0</td><td>0</td></tr>\n",
       "\t<tr><td>CRX205-3089-9957KF  </td><td>1</td><td>0</td><td>0</td><td>0</td><td>0</td><td>0</td><td>0</td><td>0</td><td>0</td><td>⋯</td><td>0</td><td>0</td><td>0</td><td>0</td><td>0</td><td>0</td><td>0</td><td>0</td><td>0</td><td>0</td></tr>\n",
       "\t<tr><td>CRX148-3116-9956KF  </td><td>1</td><td>0</td><td>0</td><td>0</td><td>0</td><td>0</td><td>0</td><td>0</td><td>0</td><td>⋯</td><td>0</td><td>0</td><td>0</td><td>0</td><td>0</td><td>0</td><td>0</td><td>0</td><td>0</td><td>0</td></tr>\n",
       "\t<tr><td>OSX15-1190-9798KF   </td><td>0</td><td>1</td><td>0</td><td>0</td><td>0</td><td>0</td><td>0</td><td>0</td><td>0</td><td>⋯</td><td>0</td><td>0</td><td>0</td><td>0</td><td>0</td><td>0</td><td>0</td><td>0</td><td>0</td><td>0</td></tr>\n",
       "\t<tr><td>OSX15-1392-9798KF   </td><td>0</td><td>1</td><td>0</td><td>0</td><td>0</td><td>0</td><td>0</td><td>0</td><td>0</td><td>⋯</td><td>0</td><td>0</td><td>0</td><td>0</td><td>0</td><td>0</td><td>0</td><td>0</td><td>0</td><td>0</td></tr>\n",
       "\t<tr><td>OSX15-1222-9798KF   </td><td>0</td><td>1</td><td>0</td><td>0</td><td>0</td><td>0</td><td>0</td><td>0</td><td>0</td><td>⋯</td><td>0</td><td>0</td><td>0</td><td>0</td><td>0</td><td>0</td><td>0</td><td>0</td><td>0</td><td>0</td></tr>\n",
       "\t<tr><td>OSX15-1180-9798KF   </td><td>0</td><td>1</td><td>0</td><td>0</td><td>0</td><td>0</td><td>0</td><td>0</td><td>0</td><td>⋯</td><td>0</td><td>0</td><td>0</td><td>0</td><td>0</td><td>0</td><td>0</td><td>0</td><td>0</td><td>0</td></tr>\n",
       "\t<tr><td>CRX205-2853-9957KF  </td><td>0</td><td>1</td><td>0</td><td>0</td><td>0</td><td>0</td><td>0</td><td>0</td><td>0</td><td>⋯</td><td>0</td><td>0</td><td>0</td><td>0</td><td>0</td><td>0</td><td>0</td><td>0</td><td>0</td><td>0</td></tr>\n",
       "\t<tr><td>OSX15-1201-9798KF   </td><td>0</td><td>1</td><td>0</td><td>0</td><td>0</td><td>0</td><td>0</td><td>0</td><td>0</td><td>⋯</td><td>0</td><td>0</td><td>0</td><td>0</td><td>0</td><td>0</td><td>0</td><td>0</td><td>0</td><td>0</td></tr>\n",
       "\t<tr><td>OSX15-1448-9798KF   </td><td>0</td><td>1</td><td>0</td><td>0</td><td>0</td><td>0</td><td>0</td><td>0</td><td>0</td><td>⋯</td><td>0</td><td>0</td><td>0</td><td>0</td><td>0</td><td>0</td><td>0</td><td>0</td><td>0</td><td>0</td></tr>\n",
       "\t<tr><td>OSX15-1456-9798KF   </td><td>0</td><td>1</td><td>0</td><td>0</td><td>0</td><td>0</td><td>0</td><td>0</td><td>0</td><td>⋯</td><td>0</td><td>0</td><td>0</td><td>0</td><td>0</td><td>0</td><td>0</td><td>0</td><td>0</td><td>0</td></tr>\n",
       "\t<tr><td>EPX360FL-4081-9959KF</td><td>0</td><td>1</td><td>0</td><td>0</td><td>0</td><td>0</td><td>0</td><td>0</td><td>0</td><td>⋯</td><td>0</td><td>0</td><td>0</td><td>0</td><td>0</td><td>0</td><td>0</td><td>0</td><td>0</td><td>0</td></tr>\n",
       "\t<tr><td>CRX205-2056-9957KF  </td><td>0</td><td>0</td><td>1</td><td>0</td><td>0</td><td>0</td><td>0</td><td>0</td><td>0</td><td>⋯</td><td>0</td><td>0</td><td>0</td><td>0</td><td>0</td><td>0</td><td>0</td><td>0</td><td>0</td><td>0</td></tr>\n",
       "\t<tr><td>EPX360-4361-9652KF  </td><td>0</td><td>0</td><td>0</td><td>0</td><td>0</td><td>0</td><td>0</td><td>0</td><td>0</td><td>⋯</td><td>0</td><td>0</td><td>0</td><td>0</td><td>0</td><td>0</td><td>0</td><td>0</td><td>0</td><td>0</td></tr>\n",
       "\t<tr><td>EPX162-3023-9958KF  </td><td>1</td><td>0</td><td>0</td><td>0</td><td>0</td><td>0</td><td>0</td><td>0</td><td>0</td><td>⋯</td><td>0</td><td>0</td><td>0</td><td>0</td><td>0</td><td>0</td><td>0</td><td>0</td><td>0</td><td>0</td></tr>\n",
       "\t<tr><td>EPX162-3024-9958KF  </td><td>1</td><td>0</td><td>0</td><td>0</td><td>0</td><td>0</td><td>0</td><td>0</td><td>0</td><td>⋯</td><td>0</td><td>0</td><td>0</td><td>0</td><td>0</td><td>0</td><td>0</td><td>0</td><td>0</td><td>0</td></tr>\n",
       "\t<tr><td>OSX15-1389-9798KF   </td><td>0</td><td>1</td><td>0</td><td>0</td><td>0</td><td>0</td><td>0</td><td>0</td><td>0</td><td>⋯</td><td>0</td><td>0</td><td>0</td><td>0</td><td>0</td><td>0</td><td>0</td><td>0</td><td>0</td><td>0</td></tr>\n",
       "\t<tr><td>OSX15-1408-9798KF   </td><td>1</td><td>0</td><td>0</td><td>0</td><td>0</td><td>0</td><td>0</td><td>0</td><td>0</td><td>⋯</td><td>0</td><td>0</td><td>0</td><td>0</td><td>0</td><td>0</td><td>0</td><td>0</td><td>0</td><td>0</td></tr>\n",
       "</tbody>\n",
       "</table>\n"
      ],
      "text/latex": [
       "A tibble: 1578 × 27\n",
       "\\begin{tabular}{lllllllllllllllllllll}\n",
       " sn & 1 & 2 & 3 & 4 & 5 & 6 & 7 & 8 & 9 & ⋯ & 17 & 18 & 19 & 20 & 21 & 22 & 23 & 24 & 25 & 26\\\\\n",
       " <chr> & <dbl> & <dbl> & <dbl> & <dbl> & <dbl> & <dbl> & <dbl> & <dbl> & <dbl> & ⋯ & <dbl> & <dbl> & <dbl> & <dbl> & <dbl> & <dbl> & <dbl> & <dbl> & <dbl> & <dbl>\\\\\n",
       "\\hline\n",
       "\t CRX205-1559-9659KF & 0 &  3 &  4 &  3 &  0 & 0 & 0 & 1 & 0 & ⋯ & 0 & 0 & 0 & 0 & 0 & 0 & 0 & 0 & 0 & 0\\\\\n",
       "\t CRX205-1567-9659KF & 0 &  5 &  2 &  0 &  2 & 0 & 0 & 0 & 1 & ⋯ & 0 & 0 & 0 & 0 & 0 & 0 & 0 & 0 & 0 & 0\\\\\n",
       "\t CRX205-1906-9658KF & 0 &  1 &  0 &  2 &  2 & 0 & 0 & 3 & 1 & ⋯ & 0 & 0 & 0 & 0 & 0 & 0 & 0 & 0 & 0 & 0\\\\\n",
       "\t EPX360-5539-9658KF & 0 &  2 &  0 &  0 &  6 & 2 & 0 & 2 & 4 & ⋯ & 0 & 0 & 0 & 0 & 0 & 0 & 0 & 0 & 0 & 0\\\\\n",
       "\t CRX148-1942-9658KF & 0 &  6 &  2 &  4 &  4 & 0 & 0 & 0 & 1 & ⋯ & 0 & 0 & 0 & 0 & 0 & 0 & 0 & 0 & 0 & 0\\\\\n",
       "\t CRX148-1816-9658KF & 0 &  2 &  2 &  4 &  7 & 2 & 0 & 1 & 3 & ⋯ & 0 & 0 & 0 & 0 & 0 & 0 & 0 & 0 & 0 & 0\\\\\n",
       "\t CRX148-1941-9658KF & 0 &  2 &  2 &  3 &  2 & 0 & 0 & 1 & 5 & ⋯ & 0 & 0 & 0 & 0 & 0 & 0 & 0 & 0 & 0 & 0\\\\\n",
       "\t EPX360-3486-9652KF & 0 &  0 &  0 & 12 & 10 & 5 & 4 & 1 & 0 & ⋯ & 0 & 0 & 0 & 0 & 0 & 0 & 0 & 0 & 0 & 0\\\\\n",
       "\t EPX360-4630-9652KF & 0 &  0 &  4 &  5 &  2 & 7 & 1 & 0 & 4 & ⋯ & 0 & 0 & 0 & 0 & 0 & 0 & 0 & 0 & 0 & 0\\\\\n",
       "\t EPX360-4632-9652KF & 0 &  0 &  8 &  0 &  4 & 3 & 4 & 0 & 4 & ⋯ & 0 & 0 & 0 & 0 & 0 & 0 & 0 & 0 & 0 & 0\\\\\n",
       "\t EPX360-4996-9652KF & 0 &  5 &  1 &  2 &  1 & 1 & 0 & 2 & 0 & ⋯ & 0 & 0 & 0 & 0 & 0 & 0 & 0 & 0 & 0 & 0\\\\\n",
       "\t CRX205-1886-9659KF & 0 &  5 &  3 &  2 &  0 & 2 & 0 & 3 & 5 & ⋯ & 0 & 0 & 0 & 0 & 0 & 0 & 0 & 0 & 0 & 0\\\\\n",
       "\t EPX360-4206-9652KF & 0 &  0 &  3 &  3 &  3 & 3 & 5 & 0 & 0 & ⋯ & 0 & 0 & 0 & 0 & 0 & 0 & 0 & 0 & 0 & 0\\\\\n",
       "\t CRX148-1963-9658KF & 0 &  3 &  2 &  7 &  3 & 0 & 0 & 5 & 2 & ⋯ & 0 & 0 & 0 & 0 & 0 & 0 & 0 & 0 & 0 & 0\\\\\n",
       "\t CRX205-1596-9652KF & 0 &  3 &  0 &  0 &  8 & 2 & 0 & 0 & 2 & ⋯ & 0 & 0 & 0 & 0 & 0 & 0 & 0 & 0 & 0 & 0\\\\\n",
       "\t EPX360-5089-9652KF & 0 &  2 &  2 &  1 &  1 & 4 & 0 & 2 & 6 & ⋯ & 0 & 0 & 0 & 0 & 0 & 0 & 0 & 0 & 0 & 0\\\\\n",
       "\t CRX148-1813-9658KF & 0 &  4 &  6 &  0 &  0 & 0 & 0 & 3 & 4 & ⋯ & 0 & 0 & 0 & 0 & 0 & 0 & 0 & 0 & 0 & 0\\\\\n",
       "\t EPX360-3922-9652KF & 0 &  0 &  0 &  3 &  3 & 4 & 2 & 0 & 0 & ⋯ & 0 & 0 & 0 & 0 & 0 & 0 & 0 & 0 & 0 & 0\\\\\n",
       "\t CRX148-1946-9658KF & 0 &  2 &  4 &  4 &  0 & 1 & 0 & 0 & 1 & ⋯ & 0 & 0 & 0 & 0 & 0 & 0 & 0 & 0 & 0 & 0\\\\\n",
       "\t CRX205-1955-9659KF & 4 &  1 &  1 &  0 &  6 & 0 & 6 & 1 & 2 & ⋯ & 0 & 0 & 0 & 0 & 0 & 0 & 0 & 0 & 0 & 0\\\\\n",
       "\t EPX360-5574-9652KF & 0 &  1 &  1 &  5 &  5 & 2 & 0 & 0 & 0 & ⋯ & 0 & 0 & 0 & 0 & 0 & 0 & 0 & 0 & 0 & 0\\\\\n",
       "\t EPX360-5575-9652KF & 0 &  3 &  8 &  9 &  1 & 1 & 0 & 1 & 0 & ⋯ & 0 & 0 & 0 & 0 & 0 & 0 & 0 & 0 & 0 & 0\\\\\n",
       "\t EPX360-5576-9652KF & 0 &  3 &  1 &  9 &  2 & 8 & 0 & 0 & 4 & ⋯ & 0 & 0 & 0 & 0 & 0 & 0 & 0 & 0 & 0 & 0\\\\\n",
       "\t EPX360-5578-9652KF & 0 &  2 &  2 &  1 &  5 & 2 & 0 & 3 & 3 & ⋯ & 0 & 0 & 0 & 0 & 0 & 0 & 0 & 0 & 0 & 0\\\\\n",
       "\t EPX162-1026-9818KF & 0 &  8 &  7 &  1 &  2 & 3 & 0 & 1 & 0 & ⋯ & 0 & 0 & 0 & 0 & 0 & 0 & 0 & 0 & 0 & 0\\\\\n",
       "\t CRX148-1826-9658KF & 0 &  2 &  2 &  1 &  3 & 0 & 0 & 0 & 1 & ⋯ & 0 & 0 & 0 & 0 & 0 & 0 & 0 & 0 & 0 & 0\\\\\n",
       "\t EPX360-5278-9652KF & 0 &  5 & 10 &  4 &  3 & 5 & 0 & 0 & 0 & ⋯ & 0 & 0 & 0 & 0 & 0 & 0 & 0 & 0 & 0 & 0\\\\\n",
       "\t EPX360-4956-9652KF & 0 & 10 &  4 &  5 &  7 & 3 & 0 & 1 & 0 & ⋯ & 0 & 0 & 0 & 0 & 0 & 0 & 0 & 0 & 0 & 0\\\\\n",
       "\t EPX162-1028-9818KF & 0 &  4 &  5 &  5 &  7 & 0 & 0 & 0 & 2 & ⋯ & 0 & 0 & 0 & 0 & 0 & 0 & 0 & 0 & 0 & 0\\\\\n",
       "\t EPX360-5686-9652KF & 2 &  2 & 11 &  9 &  1 & 0 & 1 & 1 & 0 & ⋯ & 0 & 0 & 0 & 0 & 0 & 0 & 0 & 0 & 0 & 0\\\\\n",
       "\t ⋮ & ⋮ & ⋮ & ⋮ & ⋮ & ⋮ & ⋮ & ⋮ & ⋮ & ⋮ & ⋱ & ⋮ & ⋮ & ⋮ & ⋮ & ⋮ & ⋮ & ⋮ & ⋮ & ⋮ & ⋮\\\\\n",
       "\t CRX205-1512-9957KF   & 0 & 0 & 0 & 1 & 0 & 0 & 0 & 0 & 0 & ⋯ & 0 & 0 & 0 & 0 & 0 & 0 & 0 & 0 & 0 & 0\\\\\n",
       "\t EPX162-2349-9958KF   & 0 & 0 & 2 & 0 & 0 & 0 & 0 & 0 & 0 & ⋯ & 0 & 0 & 0 & 0 & 0 & 0 & 0 & 0 & 0 & 0\\\\\n",
       "\t CRX205-2750-9957KF   & 0 & 1 & 0 & 0 & 0 & 0 & 0 & 0 & 0 & ⋯ & 0 & 0 & 0 & 0 & 0 & 0 & 0 & 0 & 0 & 0\\\\\n",
       "\t OSX15-1123-9798KF    & 0 & 0 & 1 & 0 & 0 & 0 & 0 & 0 & 0 & ⋯ & 0 & 0 & 0 & 0 & 0 & 0 & 0 & 0 & 0 & 0\\\\\n",
       "\t OSX15-1394-9798KF    & 0 & 1 & 0 & 0 & 0 & 0 & 0 & 0 & 0 & ⋯ & 0 & 0 & 0 & 0 & 0 & 0 & 0 & 0 & 0 & 0\\\\\n",
       "\t EPX360FL-3061-9956KF & 0 & 0 & 1 & 0 & 0 & 0 & 0 & 0 & 0 & ⋯ & 0 & 0 & 0 & 0 & 0 & 0 & 0 & 0 & 0 & 0\\\\\n",
       "\t CRX205-0374-9659KF   & 0 & 0 & 0 & 0 & 0 & 0 & 0 & 0 & 0 & ⋯ & 0 & 0 & 0 & 0 & 0 & 0 & 0 & 0 & 0 & 0\\\\\n",
       "\t EPX162-2357-9958KF   & 0 & 0 & 1 & 0 & 0 & 0 & 0 & 0 & 0 & ⋯ & 0 & 0 & 0 & 0 & 0 & 0 & 0 & 0 & 0 & 0\\\\\n",
       "\t CRX148-2726-9956KF   & 0 & 1 & 0 & 0 & 0 & 0 & 0 & 0 & 0 & ⋯ & 0 & 0 & 0 & 0 & 0 & 0 & 0 & 0 & 0 & 0\\\\\n",
       "\t CRX148-3038-9956KF   & 1 & 0 & 0 & 0 & 0 & 0 & 0 & 0 & 0 & ⋯ & 0 & 0 & 0 & 0 & 0 & 0 & 0 & 0 & 0 & 0\\\\\n",
       "\t OSX15-1350-9798KF    & 0 & 1 & 0 & 0 & 0 & 0 & 0 & 0 & 0 & ⋯ & 0 & 0 & 0 & 0 & 0 & 0 & 0 & 0 & 0 & 0\\\\\n",
       "\t CRX205-3087-9957KF   & 1 & 0 & 0 & 0 & 0 & 0 & 0 & 0 & 0 & ⋯ & 0 & 0 & 0 & 0 & 0 & 0 & 0 & 0 & 0 & 0\\\\\n",
       "\t CRX205-3088-9957KF   & 1 & 0 & 0 & 0 & 0 & 0 & 0 & 0 & 0 & ⋯ & 0 & 0 & 0 & 0 & 0 & 0 & 0 & 0 & 0 & 0\\\\\n",
       "\t CRX205-3089-9957KF   & 1 & 0 & 0 & 0 & 0 & 0 & 0 & 0 & 0 & ⋯ & 0 & 0 & 0 & 0 & 0 & 0 & 0 & 0 & 0 & 0\\\\\n",
       "\t CRX148-3116-9956KF   & 1 & 0 & 0 & 0 & 0 & 0 & 0 & 0 & 0 & ⋯ & 0 & 0 & 0 & 0 & 0 & 0 & 0 & 0 & 0 & 0\\\\\n",
       "\t OSX15-1190-9798KF    & 0 & 1 & 0 & 0 & 0 & 0 & 0 & 0 & 0 & ⋯ & 0 & 0 & 0 & 0 & 0 & 0 & 0 & 0 & 0 & 0\\\\\n",
       "\t OSX15-1392-9798KF    & 0 & 1 & 0 & 0 & 0 & 0 & 0 & 0 & 0 & ⋯ & 0 & 0 & 0 & 0 & 0 & 0 & 0 & 0 & 0 & 0\\\\\n",
       "\t OSX15-1222-9798KF    & 0 & 1 & 0 & 0 & 0 & 0 & 0 & 0 & 0 & ⋯ & 0 & 0 & 0 & 0 & 0 & 0 & 0 & 0 & 0 & 0\\\\\n",
       "\t OSX15-1180-9798KF    & 0 & 1 & 0 & 0 & 0 & 0 & 0 & 0 & 0 & ⋯ & 0 & 0 & 0 & 0 & 0 & 0 & 0 & 0 & 0 & 0\\\\\n",
       "\t CRX205-2853-9957KF   & 0 & 1 & 0 & 0 & 0 & 0 & 0 & 0 & 0 & ⋯ & 0 & 0 & 0 & 0 & 0 & 0 & 0 & 0 & 0 & 0\\\\\n",
       "\t OSX15-1201-9798KF    & 0 & 1 & 0 & 0 & 0 & 0 & 0 & 0 & 0 & ⋯ & 0 & 0 & 0 & 0 & 0 & 0 & 0 & 0 & 0 & 0\\\\\n",
       "\t OSX15-1448-9798KF    & 0 & 1 & 0 & 0 & 0 & 0 & 0 & 0 & 0 & ⋯ & 0 & 0 & 0 & 0 & 0 & 0 & 0 & 0 & 0 & 0\\\\\n",
       "\t OSX15-1456-9798KF    & 0 & 1 & 0 & 0 & 0 & 0 & 0 & 0 & 0 & ⋯ & 0 & 0 & 0 & 0 & 0 & 0 & 0 & 0 & 0 & 0\\\\\n",
       "\t EPX360FL-4081-9959KF & 0 & 1 & 0 & 0 & 0 & 0 & 0 & 0 & 0 & ⋯ & 0 & 0 & 0 & 0 & 0 & 0 & 0 & 0 & 0 & 0\\\\\n",
       "\t CRX205-2056-9957KF   & 0 & 0 & 1 & 0 & 0 & 0 & 0 & 0 & 0 & ⋯ & 0 & 0 & 0 & 0 & 0 & 0 & 0 & 0 & 0 & 0\\\\\n",
       "\t EPX360-4361-9652KF   & 0 & 0 & 0 & 0 & 0 & 0 & 0 & 0 & 0 & ⋯ & 0 & 0 & 0 & 0 & 0 & 0 & 0 & 0 & 0 & 0\\\\\n",
       "\t EPX162-3023-9958KF   & 1 & 0 & 0 & 0 & 0 & 0 & 0 & 0 & 0 & ⋯ & 0 & 0 & 0 & 0 & 0 & 0 & 0 & 0 & 0 & 0\\\\\n",
       "\t EPX162-3024-9958KF   & 1 & 0 & 0 & 0 & 0 & 0 & 0 & 0 & 0 & ⋯ & 0 & 0 & 0 & 0 & 0 & 0 & 0 & 0 & 0 & 0\\\\\n",
       "\t OSX15-1389-9798KF    & 0 & 1 & 0 & 0 & 0 & 0 & 0 & 0 & 0 & ⋯ & 0 & 0 & 0 & 0 & 0 & 0 & 0 & 0 & 0 & 0\\\\\n",
       "\t OSX15-1408-9798KF    & 1 & 0 & 0 & 0 & 0 & 0 & 0 & 0 & 0 & ⋯ & 0 & 0 & 0 & 0 & 0 & 0 & 0 & 0 & 0 & 0\\\\\n",
       "\\end{tabular}\n"
      ],
      "text/markdown": [
       "\n",
       "A tibble: 1578 × 27\n",
       "\n",
       "| sn &lt;chr&gt; | 1 &lt;dbl&gt; | 2 &lt;dbl&gt; | 3 &lt;dbl&gt; | 4 &lt;dbl&gt; | 5 &lt;dbl&gt; | 6 &lt;dbl&gt; | 7 &lt;dbl&gt; | 8 &lt;dbl&gt; | 9 &lt;dbl&gt; | ⋯ ⋯ | 17 &lt;dbl&gt; | 18 &lt;dbl&gt; | 19 &lt;dbl&gt; | 20 &lt;dbl&gt; | 21 &lt;dbl&gt; | 22 &lt;dbl&gt; | 23 &lt;dbl&gt; | 24 &lt;dbl&gt; | 25 &lt;dbl&gt; | 26 &lt;dbl&gt; |\n",
       "|---|---|---|---|---|---|---|---|---|---|---|---|---|---|---|---|---|---|---|---|---|\n",
       "| CRX205-1559-9659KF | 0 |  3 |  4 |  3 |  0 | 0 | 0 | 1 | 0 | ⋯ | 0 | 0 | 0 | 0 | 0 | 0 | 0 | 0 | 0 | 0 |\n",
       "| CRX205-1567-9659KF | 0 |  5 |  2 |  0 |  2 | 0 | 0 | 0 | 1 | ⋯ | 0 | 0 | 0 | 0 | 0 | 0 | 0 | 0 | 0 | 0 |\n",
       "| CRX205-1906-9658KF | 0 |  1 |  0 |  2 |  2 | 0 | 0 | 3 | 1 | ⋯ | 0 | 0 | 0 | 0 | 0 | 0 | 0 | 0 | 0 | 0 |\n",
       "| EPX360-5539-9658KF | 0 |  2 |  0 |  0 |  6 | 2 | 0 | 2 | 4 | ⋯ | 0 | 0 | 0 | 0 | 0 | 0 | 0 | 0 | 0 | 0 |\n",
       "| CRX148-1942-9658KF | 0 |  6 |  2 |  4 |  4 | 0 | 0 | 0 | 1 | ⋯ | 0 | 0 | 0 | 0 | 0 | 0 | 0 | 0 | 0 | 0 |\n",
       "| CRX148-1816-9658KF | 0 |  2 |  2 |  4 |  7 | 2 | 0 | 1 | 3 | ⋯ | 0 | 0 | 0 | 0 | 0 | 0 | 0 | 0 | 0 | 0 |\n",
       "| CRX148-1941-9658KF | 0 |  2 |  2 |  3 |  2 | 0 | 0 | 1 | 5 | ⋯ | 0 | 0 | 0 | 0 | 0 | 0 | 0 | 0 | 0 | 0 |\n",
       "| EPX360-3486-9652KF | 0 |  0 |  0 | 12 | 10 | 5 | 4 | 1 | 0 | ⋯ | 0 | 0 | 0 | 0 | 0 | 0 | 0 | 0 | 0 | 0 |\n",
       "| EPX360-4630-9652KF | 0 |  0 |  4 |  5 |  2 | 7 | 1 | 0 | 4 | ⋯ | 0 | 0 | 0 | 0 | 0 | 0 | 0 | 0 | 0 | 0 |\n",
       "| EPX360-4632-9652KF | 0 |  0 |  8 |  0 |  4 | 3 | 4 | 0 | 4 | ⋯ | 0 | 0 | 0 | 0 | 0 | 0 | 0 | 0 | 0 | 0 |\n",
       "| EPX360-4996-9652KF | 0 |  5 |  1 |  2 |  1 | 1 | 0 | 2 | 0 | ⋯ | 0 | 0 | 0 | 0 | 0 | 0 | 0 | 0 | 0 | 0 |\n",
       "| CRX205-1886-9659KF | 0 |  5 |  3 |  2 |  0 | 2 | 0 | 3 | 5 | ⋯ | 0 | 0 | 0 | 0 | 0 | 0 | 0 | 0 | 0 | 0 |\n",
       "| EPX360-4206-9652KF | 0 |  0 |  3 |  3 |  3 | 3 | 5 | 0 | 0 | ⋯ | 0 | 0 | 0 | 0 | 0 | 0 | 0 | 0 | 0 | 0 |\n",
       "| CRX148-1963-9658KF | 0 |  3 |  2 |  7 |  3 | 0 | 0 | 5 | 2 | ⋯ | 0 | 0 | 0 | 0 | 0 | 0 | 0 | 0 | 0 | 0 |\n",
       "| CRX205-1596-9652KF | 0 |  3 |  0 |  0 |  8 | 2 | 0 | 0 | 2 | ⋯ | 0 | 0 | 0 | 0 | 0 | 0 | 0 | 0 | 0 | 0 |\n",
       "| EPX360-5089-9652KF | 0 |  2 |  2 |  1 |  1 | 4 | 0 | 2 | 6 | ⋯ | 0 | 0 | 0 | 0 | 0 | 0 | 0 | 0 | 0 | 0 |\n",
       "| CRX148-1813-9658KF | 0 |  4 |  6 |  0 |  0 | 0 | 0 | 3 | 4 | ⋯ | 0 | 0 | 0 | 0 | 0 | 0 | 0 | 0 | 0 | 0 |\n",
       "| EPX360-3922-9652KF | 0 |  0 |  0 |  3 |  3 | 4 | 2 | 0 | 0 | ⋯ | 0 | 0 | 0 | 0 | 0 | 0 | 0 | 0 | 0 | 0 |\n",
       "| CRX148-1946-9658KF | 0 |  2 |  4 |  4 |  0 | 1 | 0 | 0 | 1 | ⋯ | 0 | 0 | 0 | 0 | 0 | 0 | 0 | 0 | 0 | 0 |\n",
       "| CRX205-1955-9659KF | 4 |  1 |  1 |  0 |  6 | 0 | 6 | 1 | 2 | ⋯ | 0 | 0 | 0 | 0 | 0 | 0 | 0 | 0 | 0 | 0 |\n",
       "| EPX360-5574-9652KF | 0 |  1 |  1 |  5 |  5 | 2 | 0 | 0 | 0 | ⋯ | 0 | 0 | 0 | 0 | 0 | 0 | 0 | 0 | 0 | 0 |\n",
       "| EPX360-5575-9652KF | 0 |  3 |  8 |  9 |  1 | 1 | 0 | 1 | 0 | ⋯ | 0 | 0 | 0 | 0 | 0 | 0 | 0 | 0 | 0 | 0 |\n",
       "| EPX360-5576-9652KF | 0 |  3 |  1 |  9 |  2 | 8 | 0 | 0 | 4 | ⋯ | 0 | 0 | 0 | 0 | 0 | 0 | 0 | 0 | 0 | 0 |\n",
       "| EPX360-5578-9652KF | 0 |  2 |  2 |  1 |  5 | 2 | 0 | 3 | 3 | ⋯ | 0 | 0 | 0 | 0 | 0 | 0 | 0 | 0 | 0 | 0 |\n",
       "| EPX162-1026-9818KF | 0 |  8 |  7 |  1 |  2 | 3 | 0 | 1 | 0 | ⋯ | 0 | 0 | 0 | 0 | 0 | 0 | 0 | 0 | 0 | 0 |\n",
       "| CRX148-1826-9658KF | 0 |  2 |  2 |  1 |  3 | 0 | 0 | 0 | 1 | ⋯ | 0 | 0 | 0 | 0 | 0 | 0 | 0 | 0 | 0 | 0 |\n",
       "| EPX360-5278-9652KF | 0 |  5 | 10 |  4 |  3 | 5 | 0 | 0 | 0 | ⋯ | 0 | 0 | 0 | 0 | 0 | 0 | 0 | 0 | 0 | 0 |\n",
       "| EPX360-4956-9652KF | 0 | 10 |  4 |  5 |  7 | 3 | 0 | 1 | 0 | ⋯ | 0 | 0 | 0 | 0 | 0 | 0 | 0 | 0 | 0 | 0 |\n",
       "| EPX162-1028-9818KF | 0 |  4 |  5 |  5 |  7 | 0 | 0 | 0 | 2 | ⋯ | 0 | 0 | 0 | 0 | 0 | 0 | 0 | 0 | 0 | 0 |\n",
       "| EPX360-5686-9652KF | 2 |  2 | 11 |  9 |  1 | 0 | 1 | 1 | 0 | ⋯ | 0 | 0 | 0 | 0 | 0 | 0 | 0 | 0 | 0 | 0 |\n",
       "| ⋮ | ⋮ | ⋮ | ⋮ | ⋮ | ⋮ | ⋮ | ⋮ | ⋮ | ⋮ | ⋱ | ⋮ | ⋮ | ⋮ | ⋮ | ⋮ | ⋮ | ⋮ | ⋮ | ⋮ | ⋮ |\n",
       "| CRX205-1512-9957KF   | 0 | 0 | 0 | 1 | 0 | 0 | 0 | 0 | 0 | ⋯ | 0 | 0 | 0 | 0 | 0 | 0 | 0 | 0 | 0 | 0 |\n",
       "| EPX162-2349-9958KF   | 0 | 0 | 2 | 0 | 0 | 0 | 0 | 0 | 0 | ⋯ | 0 | 0 | 0 | 0 | 0 | 0 | 0 | 0 | 0 | 0 |\n",
       "| CRX205-2750-9957KF   | 0 | 1 | 0 | 0 | 0 | 0 | 0 | 0 | 0 | ⋯ | 0 | 0 | 0 | 0 | 0 | 0 | 0 | 0 | 0 | 0 |\n",
       "| OSX15-1123-9798KF    | 0 | 0 | 1 | 0 | 0 | 0 | 0 | 0 | 0 | ⋯ | 0 | 0 | 0 | 0 | 0 | 0 | 0 | 0 | 0 | 0 |\n",
       "| OSX15-1394-9798KF    | 0 | 1 | 0 | 0 | 0 | 0 | 0 | 0 | 0 | ⋯ | 0 | 0 | 0 | 0 | 0 | 0 | 0 | 0 | 0 | 0 |\n",
       "| EPX360FL-3061-9956KF | 0 | 0 | 1 | 0 | 0 | 0 | 0 | 0 | 0 | ⋯ | 0 | 0 | 0 | 0 | 0 | 0 | 0 | 0 | 0 | 0 |\n",
       "| CRX205-0374-9659KF   | 0 | 0 | 0 | 0 | 0 | 0 | 0 | 0 | 0 | ⋯ | 0 | 0 | 0 | 0 | 0 | 0 | 0 | 0 | 0 | 0 |\n",
       "| EPX162-2357-9958KF   | 0 | 0 | 1 | 0 | 0 | 0 | 0 | 0 | 0 | ⋯ | 0 | 0 | 0 | 0 | 0 | 0 | 0 | 0 | 0 | 0 |\n",
       "| CRX148-2726-9956KF   | 0 | 1 | 0 | 0 | 0 | 0 | 0 | 0 | 0 | ⋯ | 0 | 0 | 0 | 0 | 0 | 0 | 0 | 0 | 0 | 0 |\n",
       "| CRX148-3038-9956KF   | 1 | 0 | 0 | 0 | 0 | 0 | 0 | 0 | 0 | ⋯ | 0 | 0 | 0 | 0 | 0 | 0 | 0 | 0 | 0 | 0 |\n",
       "| OSX15-1350-9798KF    | 0 | 1 | 0 | 0 | 0 | 0 | 0 | 0 | 0 | ⋯ | 0 | 0 | 0 | 0 | 0 | 0 | 0 | 0 | 0 | 0 |\n",
       "| CRX205-3087-9957KF   | 1 | 0 | 0 | 0 | 0 | 0 | 0 | 0 | 0 | ⋯ | 0 | 0 | 0 | 0 | 0 | 0 | 0 | 0 | 0 | 0 |\n",
       "| CRX205-3088-9957KF   | 1 | 0 | 0 | 0 | 0 | 0 | 0 | 0 | 0 | ⋯ | 0 | 0 | 0 | 0 | 0 | 0 | 0 | 0 | 0 | 0 |\n",
       "| CRX205-3089-9957KF   | 1 | 0 | 0 | 0 | 0 | 0 | 0 | 0 | 0 | ⋯ | 0 | 0 | 0 | 0 | 0 | 0 | 0 | 0 | 0 | 0 |\n",
       "| CRX148-3116-9956KF   | 1 | 0 | 0 | 0 | 0 | 0 | 0 | 0 | 0 | ⋯ | 0 | 0 | 0 | 0 | 0 | 0 | 0 | 0 | 0 | 0 |\n",
       "| OSX15-1190-9798KF    | 0 | 1 | 0 | 0 | 0 | 0 | 0 | 0 | 0 | ⋯ | 0 | 0 | 0 | 0 | 0 | 0 | 0 | 0 | 0 | 0 |\n",
       "| OSX15-1392-9798KF    | 0 | 1 | 0 | 0 | 0 | 0 | 0 | 0 | 0 | ⋯ | 0 | 0 | 0 | 0 | 0 | 0 | 0 | 0 | 0 | 0 |\n",
       "| OSX15-1222-9798KF    | 0 | 1 | 0 | 0 | 0 | 0 | 0 | 0 | 0 | ⋯ | 0 | 0 | 0 | 0 | 0 | 0 | 0 | 0 | 0 | 0 |\n",
       "| OSX15-1180-9798KF    | 0 | 1 | 0 | 0 | 0 | 0 | 0 | 0 | 0 | ⋯ | 0 | 0 | 0 | 0 | 0 | 0 | 0 | 0 | 0 | 0 |\n",
       "| CRX205-2853-9957KF   | 0 | 1 | 0 | 0 | 0 | 0 | 0 | 0 | 0 | ⋯ | 0 | 0 | 0 | 0 | 0 | 0 | 0 | 0 | 0 | 0 |\n",
       "| OSX15-1201-9798KF    | 0 | 1 | 0 | 0 | 0 | 0 | 0 | 0 | 0 | ⋯ | 0 | 0 | 0 | 0 | 0 | 0 | 0 | 0 | 0 | 0 |\n",
       "| OSX15-1448-9798KF    | 0 | 1 | 0 | 0 | 0 | 0 | 0 | 0 | 0 | ⋯ | 0 | 0 | 0 | 0 | 0 | 0 | 0 | 0 | 0 | 0 |\n",
       "| OSX15-1456-9798KF    | 0 | 1 | 0 | 0 | 0 | 0 | 0 | 0 | 0 | ⋯ | 0 | 0 | 0 | 0 | 0 | 0 | 0 | 0 | 0 | 0 |\n",
       "| EPX360FL-4081-9959KF | 0 | 1 | 0 | 0 | 0 | 0 | 0 | 0 | 0 | ⋯ | 0 | 0 | 0 | 0 | 0 | 0 | 0 | 0 | 0 | 0 |\n",
       "| CRX205-2056-9957KF   | 0 | 0 | 1 | 0 | 0 | 0 | 0 | 0 | 0 | ⋯ | 0 | 0 | 0 | 0 | 0 | 0 | 0 | 0 | 0 | 0 |\n",
       "| EPX360-4361-9652KF   | 0 | 0 | 0 | 0 | 0 | 0 | 0 | 0 | 0 | ⋯ | 0 | 0 | 0 | 0 | 0 | 0 | 0 | 0 | 0 | 0 |\n",
       "| EPX162-3023-9958KF   | 1 | 0 | 0 | 0 | 0 | 0 | 0 | 0 | 0 | ⋯ | 0 | 0 | 0 | 0 | 0 | 0 | 0 | 0 | 0 | 0 |\n",
       "| EPX162-3024-9958KF   | 1 | 0 | 0 | 0 | 0 | 0 | 0 | 0 | 0 | ⋯ | 0 | 0 | 0 | 0 | 0 | 0 | 0 | 0 | 0 | 0 |\n",
       "| OSX15-1389-9798KF    | 0 | 1 | 0 | 0 | 0 | 0 | 0 | 0 | 0 | ⋯ | 0 | 0 | 0 | 0 | 0 | 0 | 0 | 0 | 0 | 0 |\n",
       "| OSX15-1408-9798KF    | 1 | 0 | 0 | 0 | 0 | 0 | 0 | 0 | 0 | ⋯ | 0 | 0 | 0 | 0 | 0 | 0 | 0 | 0 | 0 | 0 |\n",
       "\n"
      ],
      "text/plain": [
       "     sn                   1 2  3  4  5  6 7 8 9 ⋯ 17 18 19 20 21 22 23 24 25 26\n",
       "1    CRX205-1559-9659KF   0  3  4  3  0 0 0 1 0 ⋯ 0  0  0  0  0  0  0  0  0  0 \n",
       "2    CRX205-1567-9659KF   0  5  2  0  2 0 0 0 1 ⋯ 0  0  0  0  0  0  0  0  0  0 \n",
       "3    CRX205-1906-9658KF   0  1  0  2  2 0 0 3 1 ⋯ 0  0  0  0  0  0  0  0  0  0 \n",
       "4    EPX360-5539-9658KF   0  2  0  0  6 2 0 2 4 ⋯ 0  0  0  0  0  0  0  0  0  0 \n",
       "5    CRX148-1942-9658KF   0  6  2  4  4 0 0 0 1 ⋯ 0  0  0  0  0  0  0  0  0  0 \n",
       "6    CRX148-1816-9658KF   0  2  2  4  7 2 0 1 3 ⋯ 0  0  0  0  0  0  0  0  0  0 \n",
       "7    CRX148-1941-9658KF   0  2  2  3  2 0 0 1 5 ⋯ 0  0  0  0  0  0  0  0  0  0 \n",
       "8    EPX360-3486-9652KF   0  0  0 12 10 5 4 1 0 ⋯ 0  0  0  0  0  0  0  0  0  0 \n",
       "9    EPX360-4630-9652KF   0  0  4  5  2 7 1 0 4 ⋯ 0  0  0  0  0  0  0  0  0  0 \n",
       "10   EPX360-4632-9652KF   0  0  8  0  4 3 4 0 4 ⋯ 0  0  0  0  0  0  0  0  0  0 \n",
       "11   EPX360-4996-9652KF   0  5  1  2  1 1 0 2 0 ⋯ 0  0  0  0  0  0  0  0  0  0 \n",
       "12   CRX205-1886-9659KF   0  5  3  2  0 2 0 3 5 ⋯ 0  0  0  0  0  0  0  0  0  0 \n",
       "13   EPX360-4206-9652KF   0  0  3  3  3 3 5 0 0 ⋯ 0  0  0  0  0  0  0  0  0  0 \n",
       "14   CRX148-1963-9658KF   0  3  2  7  3 0 0 5 2 ⋯ 0  0  0  0  0  0  0  0  0  0 \n",
       "15   CRX205-1596-9652KF   0  3  0  0  8 2 0 0 2 ⋯ 0  0  0  0  0  0  0  0  0  0 \n",
       "16   EPX360-5089-9652KF   0  2  2  1  1 4 0 2 6 ⋯ 0  0  0  0  0  0  0  0  0  0 \n",
       "17   CRX148-1813-9658KF   0  4  6  0  0 0 0 3 4 ⋯ 0  0  0  0  0  0  0  0  0  0 \n",
       "18   EPX360-3922-9652KF   0  0  0  3  3 4 2 0 0 ⋯ 0  0  0  0  0  0  0  0  0  0 \n",
       "19   CRX148-1946-9658KF   0  2  4  4  0 1 0 0 1 ⋯ 0  0  0  0  0  0  0  0  0  0 \n",
       "20   CRX205-1955-9659KF   4  1  1  0  6 0 6 1 2 ⋯ 0  0  0  0  0  0  0  0  0  0 \n",
       "21   EPX360-5574-9652KF   0  1  1  5  5 2 0 0 0 ⋯ 0  0  0  0  0  0  0  0  0  0 \n",
       "22   EPX360-5575-9652KF   0  3  8  9  1 1 0 1 0 ⋯ 0  0  0  0  0  0  0  0  0  0 \n",
       "23   EPX360-5576-9652KF   0  3  1  9  2 8 0 0 4 ⋯ 0  0  0  0  0  0  0  0  0  0 \n",
       "24   EPX360-5578-9652KF   0  2  2  1  5 2 0 3 3 ⋯ 0  0  0  0  0  0  0  0  0  0 \n",
       "25   EPX162-1026-9818KF   0  8  7  1  2 3 0 1 0 ⋯ 0  0  0  0  0  0  0  0  0  0 \n",
       "26   CRX148-1826-9658KF   0  2  2  1  3 0 0 0 1 ⋯ 0  0  0  0  0  0  0  0  0  0 \n",
       "27   EPX360-5278-9652KF   0  5 10  4  3 5 0 0 0 ⋯ 0  0  0  0  0  0  0  0  0  0 \n",
       "28   EPX360-4956-9652KF   0 10  4  5  7 3 0 1 0 ⋯ 0  0  0  0  0  0  0  0  0  0 \n",
       "29   EPX162-1028-9818KF   0  4  5  5  7 0 0 0 2 ⋯ 0  0  0  0  0  0  0  0  0  0 \n",
       "30   EPX360-5686-9652KF   2  2 11  9  1 0 1 1 0 ⋯ 0  0  0  0  0  0  0  0  0  0 \n",
       "⋮    ⋮                    ⋮ ⋮  ⋮  ⋮  ⋮  ⋮ ⋮ ⋮ ⋮ ⋱ ⋮  ⋮  ⋮  ⋮  ⋮  ⋮  ⋮  ⋮  ⋮  ⋮ \n",
       "1549 CRX205-1512-9957KF   0 0  0  1  0  0 0 0 0 ⋯ 0  0  0  0  0  0  0  0  0  0 \n",
       "1550 EPX162-2349-9958KF   0 0  2  0  0  0 0 0 0 ⋯ 0  0  0  0  0  0  0  0  0  0 \n",
       "1551 CRX205-2750-9957KF   0 1  0  0  0  0 0 0 0 ⋯ 0  0  0  0  0  0  0  0  0  0 \n",
       "1552 OSX15-1123-9798KF    0 0  1  0  0  0 0 0 0 ⋯ 0  0  0  0  0  0  0  0  0  0 \n",
       "1553 OSX15-1394-9798KF    0 1  0  0  0  0 0 0 0 ⋯ 0  0  0  0  0  0  0  0  0  0 \n",
       "1554 EPX360FL-3061-9956KF 0 0  1  0  0  0 0 0 0 ⋯ 0  0  0  0  0  0  0  0  0  0 \n",
       "1555 CRX205-0374-9659KF   0 0  0  0  0  0 0 0 0 ⋯ 0  0  0  0  0  0  0  0  0  0 \n",
       "1556 EPX162-2357-9958KF   0 0  1  0  0  0 0 0 0 ⋯ 0  0  0  0  0  0  0  0  0  0 \n",
       "1557 CRX148-2726-9956KF   0 1  0  0  0  0 0 0 0 ⋯ 0  0  0  0  0  0  0  0  0  0 \n",
       "1558 CRX148-3038-9956KF   1 0  0  0  0  0 0 0 0 ⋯ 0  0  0  0  0  0  0  0  0  0 \n",
       "1559 OSX15-1350-9798KF    0 1  0  0  0  0 0 0 0 ⋯ 0  0  0  0  0  0  0  0  0  0 \n",
       "1560 CRX205-3087-9957KF   1 0  0  0  0  0 0 0 0 ⋯ 0  0  0  0  0  0  0  0  0  0 \n",
       "1561 CRX205-3088-9957KF   1 0  0  0  0  0 0 0 0 ⋯ 0  0  0  0  0  0  0  0  0  0 \n",
       "1562 CRX205-3089-9957KF   1 0  0  0  0  0 0 0 0 ⋯ 0  0  0  0  0  0  0  0  0  0 \n",
       "1563 CRX148-3116-9956KF   1 0  0  0  0  0 0 0 0 ⋯ 0  0  0  0  0  0  0  0  0  0 \n",
       "1564 OSX15-1190-9798KF    0 1  0  0  0  0 0 0 0 ⋯ 0  0  0  0  0  0  0  0  0  0 \n",
       "1565 OSX15-1392-9798KF    0 1  0  0  0  0 0 0 0 ⋯ 0  0  0  0  0  0  0  0  0  0 \n",
       "1566 OSX15-1222-9798KF    0 1  0  0  0  0 0 0 0 ⋯ 0  0  0  0  0  0  0  0  0  0 \n",
       "1567 OSX15-1180-9798KF    0 1  0  0  0  0 0 0 0 ⋯ 0  0  0  0  0  0  0  0  0  0 \n",
       "1568 CRX205-2853-9957KF   0 1  0  0  0  0 0 0 0 ⋯ 0  0  0  0  0  0  0  0  0  0 \n",
       "1569 OSX15-1201-9798KF    0 1  0  0  0  0 0 0 0 ⋯ 0  0  0  0  0  0  0  0  0  0 \n",
       "1570 OSX15-1448-9798KF    0 1  0  0  0  0 0 0 0 ⋯ 0  0  0  0  0  0  0  0  0  0 \n",
       "1571 OSX15-1456-9798KF    0 1  0  0  0  0 0 0 0 ⋯ 0  0  0  0  0  0  0  0  0  0 \n",
       "1572 EPX360FL-4081-9959KF 0 1  0  0  0  0 0 0 0 ⋯ 0  0  0  0  0  0  0  0  0  0 \n",
       "1573 CRX205-2056-9957KF   0 0  1  0  0  0 0 0 0 ⋯ 0  0  0  0  0  0  0  0  0  0 \n",
       "1574 EPX360-4361-9652KF   0 0  0  0  0  0 0 0 0 ⋯ 0  0  0  0  0  0  0  0  0  0 \n",
       "1575 EPX162-3023-9958KF   1 0  0  0  0  0 0 0 0 ⋯ 0  0  0  0  0  0  0  0  0  0 \n",
       "1576 EPX162-3024-9958KF   1 0  0  0  0  0 0 0 0 ⋯ 0  0  0  0  0  0  0  0  0  0 \n",
       "1577 OSX15-1389-9798KF    0 1  0  0  0  0 0 0 0 ⋯ 0  0  0  0  0  0  0  0  0  0 \n",
       "1578 OSX15-1408-9798KF    1 0  0  0  0  0 0 0 0 ⋯ 0  0  0  0  0  0  0  0  0  0 "
      ]
     },
     "metadata": {},
     "output_type": "display_data"
    }
   ],
   "source": [
    "# df.year 데이터에서 \n",
    "# clark에 해당하는 sn 행만 추출\n",
    "clark.df.year <-c()\n",
    "for (i in 1:length(clark)) {\n",
    "a <- df.year %>%\n",
    "     filter(df.year$sn==clark[i])\n",
    " clark.df.year <- rbind(clark.df.year,a)   \n",
    "}\n",
    "head(clark.df.year)"
   ]
  },
  {
   "cell_type": "code",
   "execution_count": 63,
   "id": "engaged-louis",
   "metadata": {
    "ExecuteTime": {
     "end_time": "2021-07-11T01:13:21.652544Z",
     "start_time": "2021-07-11T01:13:19.590Z"
    }
   },
   "outputs": [
    {
     "data": {
      "text/html": [
       "<table class=\"dataframe\">\n",
       "<caption>A tibble: 6 × 27</caption>\n",
       "<thead>\n",
       "\t<tr><th scope=col>sn</th><th scope=col>1</th><th scope=col>2</th><th scope=col>3</th><th scope=col>4</th><th scope=col>5</th><th scope=col>6</th><th scope=col>7</th><th scope=col>8</th><th scope=col>9</th><th scope=col>⋯</th><th scope=col>17</th><th scope=col>18</th><th scope=col>19</th><th scope=col>20</th><th scope=col>21</th><th scope=col>22</th><th scope=col>23</th><th scope=col>24</th><th scope=col>25</th><th scope=col>26</th></tr>\n",
       "\t<tr><th scope=col>&lt;chr&gt;</th><th scope=col>&lt;dbl&gt;</th><th scope=col>&lt;dbl&gt;</th><th scope=col>&lt;dbl&gt;</th><th scope=col>&lt;dbl&gt;</th><th scope=col>&lt;dbl&gt;</th><th scope=col>&lt;dbl&gt;</th><th scope=col>&lt;dbl&gt;</th><th scope=col>&lt;dbl&gt;</th><th scope=col>&lt;dbl&gt;</th><th scope=col>⋯</th><th scope=col>&lt;dbl&gt;</th><th scope=col>&lt;dbl&gt;</th><th scope=col>&lt;dbl&gt;</th><th scope=col>&lt;dbl&gt;</th><th scope=col>&lt;dbl&gt;</th><th scope=col>&lt;dbl&gt;</th><th scope=col>&lt;dbl&gt;</th><th scope=col>&lt;dbl&gt;</th><th scope=col>&lt;dbl&gt;</th><th scope=col>&lt;dbl&gt;</th></tr>\n",
       "</thead>\n",
       "<tbody>\n",
       "\t<tr><td>141AE1605</td><td>0</td><td>0</td><td>0</td><td> 0</td><td>0</td><td> 0</td><td>9</td><td>4</td><td>6</td><td>⋯</td><td>0</td><td>0</td><td>0</td><td>0</td><td>0</td><td>0</td><td>0</td><td>0</td><td>0</td><td>0</td></tr>\n",
       "\t<tr><td>131AF2421</td><td>0</td><td>0</td><td>0</td><td> 0</td><td>0</td><td> 0</td><td>9</td><td>3</td><td>9</td><td>⋯</td><td>0</td><td>0</td><td>0</td><td>0</td><td>0</td><td>0</td><td>0</td><td>0</td><td>0</td><td>0</td></tr>\n",
       "\t<tr><td>141AE4297</td><td>0</td><td>2</td><td>7</td><td>11</td><td>0</td><td> 1</td><td>0</td><td>1</td><td>5</td><td>⋯</td><td>0</td><td>0</td><td>0</td><td>0</td><td>0</td><td>0</td><td>0</td><td>0</td><td>0</td><td>0</td></tr>\n",
       "\t<tr><td>141AE4298</td><td>0</td><td>3</td><td>2</td><td> 8</td><td>5</td><td> 1</td><td>0</td><td>1</td><td>0</td><td>⋯</td><td>0</td><td>0</td><td>0</td><td>0</td><td>0</td><td>0</td><td>0</td><td>0</td><td>0</td><td>0</td></tr>\n",
       "\t<tr><td>221AE0859</td><td>0</td><td>0</td><td>0</td><td> 0</td><td>0</td><td> 0</td><td>6</td><td>3</td><td>6</td><td>⋯</td><td>0</td><td>0</td><td>0</td><td>0</td><td>0</td><td>0</td><td>0</td><td>0</td><td>0</td><td>0</td></tr>\n",
       "\t<tr><td>241AC5885</td><td>0</td><td>0</td><td>0</td><td> 0</td><td>0</td><td>11</td><td>1</td><td>2</td><td>7</td><td>⋯</td><td>0</td><td>0</td><td>0</td><td>0</td><td>0</td><td>0</td><td>0</td><td>0</td><td>0</td><td>0</td></tr>\n",
       "</tbody>\n",
       "</table>\n"
      ],
      "text/latex": [
       "A tibble: 6 × 27\n",
       "\\begin{tabular}{lllllllllllllllllllll}\n",
       " sn & 1 & 2 & 3 & 4 & 5 & 6 & 7 & 8 & 9 & ⋯ & 17 & 18 & 19 & 20 & 21 & 22 & 23 & 24 & 25 & 26\\\\\n",
       " <chr> & <dbl> & <dbl> & <dbl> & <dbl> & <dbl> & <dbl> & <dbl> & <dbl> & <dbl> & ⋯ & <dbl> & <dbl> & <dbl> & <dbl> & <dbl> & <dbl> & <dbl> & <dbl> & <dbl> & <dbl>\\\\\n",
       "\\hline\n",
       "\t 141AE1605 & 0 & 0 & 0 &  0 & 0 &  0 & 9 & 4 & 6 & ⋯ & 0 & 0 & 0 & 0 & 0 & 0 & 0 & 0 & 0 & 0\\\\\n",
       "\t 131AF2421 & 0 & 0 & 0 &  0 & 0 &  0 & 9 & 3 & 9 & ⋯ & 0 & 0 & 0 & 0 & 0 & 0 & 0 & 0 & 0 & 0\\\\\n",
       "\t 141AE4297 & 0 & 2 & 7 & 11 & 0 &  1 & 0 & 1 & 5 & ⋯ & 0 & 0 & 0 & 0 & 0 & 0 & 0 & 0 & 0 & 0\\\\\n",
       "\t 141AE4298 & 0 & 3 & 2 &  8 & 5 &  1 & 0 & 1 & 0 & ⋯ & 0 & 0 & 0 & 0 & 0 & 0 & 0 & 0 & 0 & 0\\\\\n",
       "\t 221AE0859 & 0 & 0 & 0 &  0 & 0 &  0 & 6 & 3 & 6 & ⋯ & 0 & 0 & 0 & 0 & 0 & 0 & 0 & 0 & 0 & 0\\\\\n",
       "\t 241AC5885 & 0 & 0 & 0 &  0 & 0 & 11 & 1 & 2 & 7 & ⋯ & 0 & 0 & 0 & 0 & 0 & 0 & 0 & 0 & 0 & 0\\\\\n",
       "\\end{tabular}\n"
      ],
      "text/markdown": [
       "\n",
       "A tibble: 6 × 27\n",
       "\n",
       "| sn &lt;chr&gt; | 1 &lt;dbl&gt; | 2 &lt;dbl&gt; | 3 &lt;dbl&gt; | 4 &lt;dbl&gt; | 5 &lt;dbl&gt; | 6 &lt;dbl&gt; | 7 &lt;dbl&gt; | 8 &lt;dbl&gt; | 9 &lt;dbl&gt; | ⋯ ⋯ | 17 &lt;dbl&gt; | 18 &lt;dbl&gt; | 19 &lt;dbl&gt; | 20 &lt;dbl&gt; | 21 &lt;dbl&gt; | 22 &lt;dbl&gt; | 23 &lt;dbl&gt; | 24 &lt;dbl&gt; | 25 &lt;dbl&gt; | 26 &lt;dbl&gt; |\n",
       "|---|---|---|---|---|---|---|---|---|---|---|---|---|---|---|---|---|---|---|---|---|\n",
       "| 141AE1605 | 0 | 0 | 0 |  0 | 0 |  0 | 9 | 4 | 6 | ⋯ | 0 | 0 | 0 | 0 | 0 | 0 | 0 | 0 | 0 | 0 |\n",
       "| 131AF2421 | 0 | 0 | 0 |  0 | 0 |  0 | 9 | 3 | 9 | ⋯ | 0 | 0 | 0 | 0 | 0 | 0 | 0 | 0 | 0 | 0 |\n",
       "| 141AE4297 | 0 | 2 | 7 | 11 | 0 |  1 | 0 | 1 | 5 | ⋯ | 0 | 0 | 0 | 0 | 0 | 0 | 0 | 0 | 0 | 0 |\n",
       "| 141AE4298 | 0 | 3 | 2 |  8 | 5 |  1 | 0 | 1 | 0 | ⋯ | 0 | 0 | 0 | 0 | 0 | 0 | 0 | 0 | 0 | 0 |\n",
       "| 221AE0859 | 0 | 0 | 0 |  0 | 0 |  0 | 6 | 3 | 6 | ⋯ | 0 | 0 | 0 | 0 | 0 | 0 | 0 | 0 | 0 | 0 |\n",
       "| 241AC5885 | 0 | 0 | 0 |  0 | 0 | 11 | 1 | 2 | 7 | ⋯ | 0 | 0 | 0 | 0 | 0 | 0 | 0 | 0 | 0 | 0 |\n",
       "\n"
      ],
      "text/plain": [
       "  sn        1 2 3 4  5 6  7 8 9 ⋯ 17 18 19 20 21 22 23 24 25 26\n",
       "1 141AE1605 0 0 0  0 0  0 9 4 6 ⋯ 0  0  0  0  0  0  0  0  0  0 \n",
       "2 131AF2421 0 0 0  0 0  0 9 3 9 ⋯ 0  0  0  0  0  0  0  0  0  0 \n",
       "3 141AE4297 0 2 7 11 0  1 0 1 5 ⋯ 0  0  0  0  0  0  0  0  0  0 \n",
       "4 141AE4298 0 3 2  8 5  1 0 1 0 ⋯ 0  0  0  0  0  0  0  0  0  0 \n",
       "5 221AE0859 0 0 0  0 0  0 6 3 6 ⋯ 0  0  0  0  0  0  0  0  0  0 \n",
       "6 241AC5885 0 0 0  0 0 11 1 2 7 ⋯ 0  0  0  0  0  0  0  0  0  0 "
      ]
     },
     "metadata": {},
     "output_type": "display_data"
    }
   ],
   "source": [
    "# nizziu\n",
    "nizziu.df.year<-data.frame()\n",
    "for (i in 1:length(nizziu)) {\n",
    "a <- df.year %>%\n",
    "     filter(df.year$sn==nizziu[i])\n",
    " nizziu.df.year <- rbind(nizziu.df.year,a)   \n",
    "}\n",
    "head(nizziu.df.year)"
   ]
  },
  {
   "cell_type": "code",
   "execution_count": 64,
   "id": "medieval-defendant",
   "metadata": {
    "ExecuteTime": {
     "end_time": "2021-07-11T01:17:28.926625Z",
     "start_time": "2021-07-11T01:17:25.702Z"
    }
   },
   "outputs": [
    {
     "data": {
      "text/html": [
       "<table class=\"dataframe\">\n",
       "<caption>A tibble: 6 × 27</caption>\n",
       "<thead>\n",
       "\t<tr><th scope=col>sn</th><th scope=col>1</th><th scope=col>2</th><th scope=col>3</th><th scope=col>4</th><th scope=col>5</th><th scope=col>6</th><th scope=col>7</th><th scope=col>8</th><th scope=col>9</th><th scope=col>⋯</th><th scope=col>17</th><th scope=col>18</th><th scope=col>19</th><th scope=col>20</th><th scope=col>21</th><th scope=col>22</th><th scope=col>23</th><th scope=col>24</th><th scope=col>25</th><th scope=col>26</th></tr>\n",
       "\t<tr><th scope=col>&lt;chr&gt;</th><th scope=col>&lt;dbl&gt;</th><th scope=col>&lt;dbl&gt;</th><th scope=col>&lt;dbl&gt;</th><th scope=col>&lt;dbl&gt;</th><th scope=col>&lt;dbl&gt;</th><th scope=col>&lt;dbl&gt;</th><th scope=col>&lt;dbl&gt;</th><th scope=col>&lt;dbl&gt;</th><th scope=col>&lt;dbl&gt;</th><th scope=col>⋯</th><th scope=col>&lt;dbl&gt;</th><th scope=col>&lt;dbl&gt;</th><th scope=col>&lt;dbl&gt;</th><th scope=col>&lt;dbl&gt;</th><th scope=col>&lt;dbl&gt;</th><th scope=col>&lt;dbl&gt;</th><th scope=col>&lt;dbl&gt;</th><th scope=col>&lt;dbl&gt;</th><th scope=col>&lt;dbl&gt;</th><th scope=col>&lt;dbl&gt;</th></tr>\n",
       "</thead>\n",
       "<tbody>\n",
       "\t<tr><td>7FBL18-14972</td><td>0</td><td>0</td><td>0</td><td>0</td><td>0</td><td>0</td><td>0</td><td>0</td><td>7</td><td>⋯</td><td>2</td><td>0</td><td>0</td><td>0</td><td>0</td><td>0</td><td>0</td><td>0</td><td>0</td><td>0</td></tr>\n",
       "\t<tr><td>7FB2511697  </td><td>0</td><td>0</td><td>0</td><td>0</td><td>0</td><td>0</td><td>0</td><td>0</td><td>0</td><td>⋯</td><td>2</td><td>2</td><td>0</td><td>0</td><td>1</td><td>2</td><td>0</td><td>0</td><td>0</td><td>0</td></tr>\n",
       "\t<tr><td>7FB25-20519 </td><td>0</td><td>0</td><td>0</td><td>0</td><td>0</td><td>0</td><td>0</td><td>0</td><td>0</td><td>⋯</td><td>0</td><td>7</td><td>1</td><td>0</td><td>0</td><td>0</td><td>0</td><td>0</td><td>0</td><td>0</td></tr>\n",
       "\t<tr><td>7FB25-21095 </td><td>0</td><td>0</td><td>0</td><td>0</td><td>0</td><td>0</td><td>0</td><td>0</td><td>0</td><td>⋯</td><td>0</td><td>2</td><td>0</td><td>0</td><td>0</td><td>0</td><td>0</td><td>0</td><td>0</td><td>0</td></tr>\n",
       "\t<tr><td>7FB25-22981 </td><td>0</td><td>0</td><td>0</td><td>0</td><td>0</td><td>0</td><td>0</td><td>0</td><td>0</td><td>⋯</td><td>3</td><td>0</td><td>0</td><td>0</td><td>0</td><td>0</td><td>0</td><td>0</td><td>0</td><td>0</td></tr>\n",
       "\t<tr><td>7FBR15-12418</td><td>0</td><td>0</td><td>0</td><td>0</td><td>0</td><td>0</td><td>0</td><td>0</td><td>4</td><td>⋯</td><td>1</td><td>0</td><td>0</td><td>0</td><td>0</td><td>0</td><td>0</td><td>0</td><td>0</td><td>0</td></tr>\n",
       "</tbody>\n",
       "</table>\n"
      ],
      "text/latex": [
       "A tibble: 6 × 27\n",
       "\\begin{tabular}{lllllllllllllllllllll}\n",
       " sn & 1 & 2 & 3 & 4 & 5 & 6 & 7 & 8 & 9 & ⋯ & 17 & 18 & 19 & 20 & 21 & 22 & 23 & 24 & 25 & 26\\\\\n",
       " <chr> & <dbl> & <dbl> & <dbl> & <dbl> & <dbl> & <dbl> & <dbl> & <dbl> & <dbl> & ⋯ & <dbl> & <dbl> & <dbl> & <dbl> & <dbl> & <dbl> & <dbl> & <dbl> & <dbl> & <dbl>\\\\\n",
       "\\hline\n",
       "\t 7FBL18-14972 & 0 & 0 & 0 & 0 & 0 & 0 & 0 & 0 & 7 & ⋯ & 2 & 0 & 0 & 0 & 0 & 0 & 0 & 0 & 0 & 0\\\\\n",
       "\t 7FB2511697   & 0 & 0 & 0 & 0 & 0 & 0 & 0 & 0 & 0 & ⋯ & 2 & 2 & 0 & 0 & 1 & 2 & 0 & 0 & 0 & 0\\\\\n",
       "\t 7FB25-20519  & 0 & 0 & 0 & 0 & 0 & 0 & 0 & 0 & 0 & ⋯ & 0 & 7 & 1 & 0 & 0 & 0 & 0 & 0 & 0 & 0\\\\\n",
       "\t 7FB25-21095  & 0 & 0 & 0 & 0 & 0 & 0 & 0 & 0 & 0 & ⋯ & 0 & 2 & 0 & 0 & 0 & 0 & 0 & 0 & 0 & 0\\\\\n",
       "\t 7FB25-22981  & 0 & 0 & 0 & 0 & 0 & 0 & 0 & 0 & 0 & ⋯ & 3 & 0 & 0 & 0 & 0 & 0 & 0 & 0 & 0 & 0\\\\\n",
       "\t 7FBR15-12418 & 0 & 0 & 0 & 0 & 0 & 0 & 0 & 0 & 4 & ⋯ & 1 & 0 & 0 & 0 & 0 & 0 & 0 & 0 & 0 & 0\\\\\n",
       "\\end{tabular}\n"
      ],
      "text/markdown": [
       "\n",
       "A tibble: 6 × 27\n",
       "\n",
       "| sn &lt;chr&gt; | 1 &lt;dbl&gt; | 2 &lt;dbl&gt; | 3 &lt;dbl&gt; | 4 &lt;dbl&gt; | 5 &lt;dbl&gt; | 6 &lt;dbl&gt; | 7 &lt;dbl&gt; | 8 &lt;dbl&gt; | 9 &lt;dbl&gt; | ⋯ ⋯ | 17 &lt;dbl&gt; | 18 &lt;dbl&gt; | 19 &lt;dbl&gt; | 20 &lt;dbl&gt; | 21 &lt;dbl&gt; | 22 &lt;dbl&gt; | 23 &lt;dbl&gt; | 24 &lt;dbl&gt; | 25 &lt;dbl&gt; | 26 &lt;dbl&gt; |\n",
       "|---|---|---|---|---|---|---|---|---|---|---|---|---|---|---|---|---|---|---|---|---|\n",
       "| 7FBL18-14972 | 0 | 0 | 0 | 0 | 0 | 0 | 0 | 0 | 7 | ⋯ | 2 | 0 | 0 | 0 | 0 | 0 | 0 | 0 | 0 | 0 |\n",
       "| 7FB2511697   | 0 | 0 | 0 | 0 | 0 | 0 | 0 | 0 | 0 | ⋯ | 2 | 2 | 0 | 0 | 1 | 2 | 0 | 0 | 0 | 0 |\n",
       "| 7FB25-20519  | 0 | 0 | 0 | 0 | 0 | 0 | 0 | 0 | 0 | ⋯ | 0 | 7 | 1 | 0 | 0 | 0 | 0 | 0 | 0 | 0 |\n",
       "| 7FB25-21095  | 0 | 0 | 0 | 0 | 0 | 0 | 0 | 0 | 0 | ⋯ | 0 | 2 | 0 | 0 | 0 | 0 | 0 | 0 | 0 | 0 |\n",
       "| 7FB25-22981  | 0 | 0 | 0 | 0 | 0 | 0 | 0 | 0 | 0 | ⋯ | 3 | 0 | 0 | 0 | 0 | 0 | 0 | 0 | 0 | 0 |\n",
       "| 7FBR15-12418 | 0 | 0 | 0 | 0 | 0 | 0 | 0 | 0 | 4 | ⋯ | 1 | 0 | 0 | 0 | 0 | 0 | 0 | 0 | 0 | 0 |\n",
       "\n"
      ],
      "text/plain": [
       "  sn           1 2 3 4 5 6 7 8 9 ⋯ 17 18 19 20 21 22 23 24 25 26\n",
       "1 7FBL18-14972 0 0 0 0 0 0 0 0 7 ⋯ 2  0  0  0  0  0  0  0  0  0 \n",
       "2 7FB2511697   0 0 0 0 0 0 0 0 0 ⋯ 2  2  0  0  1  2  0  0  0  0 \n",
       "3 7FB25-20519  0 0 0 0 0 0 0 0 0 ⋯ 0  7  1  0  0  0  0  0  0  0 \n",
       "4 7FB25-21095  0 0 0 0 0 0 0 0 0 ⋯ 0  2  0  0  0  0  0  0  0  0 \n",
       "5 7FB25-22981  0 0 0 0 0 0 0 0 0 ⋯ 3  0  0  0  0  0  0  0  0  0 \n",
       "6 7FBR15-12418 0 0 0 0 0 0 0 0 4 ⋯ 1  0  0  0  0  0  0  0  0  0 "
      ]
     },
     "metadata": {},
     "output_type": "display_data"
    }
   ],
   "source": [
    "# toyota\n",
    "toyota.df.year<-data.frame()\n",
    "for (i in 1:length(toyota)) {\n",
    "a <- df.year %>%\n",
    "     filter(df.year$sn==toyota[i])\n",
    " toyota.df.year <- rbind(toyota.df.year,a)   \n",
    "}\n",
    "head(toyota.df.year)"
   ]
  },
  {
   "cell_type": "code",
   "execution_count": 65,
   "id": "anonymous-calibration",
   "metadata": {
    "ExecuteTime": {
     "end_time": "2021-07-11T01:17:31.260530Z",
     "start_time": "2021-07-11T01:17:26.606Z"
    }
   },
   "outputs": [
    {
     "data": {
      "text/html": [
       "<table class=\"dataframe\">\n",
       "<caption>A tibble: 6 × 27</caption>\n",
       "<thead>\n",
       "\t<tr><th scope=col>sn</th><th scope=col>1</th><th scope=col>2</th><th scope=col>3</th><th scope=col>4</th><th scope=col>5</th><th scope=col>6</th><th scope=col>7</th><th scope=col>8</th><th scope=col>9</th><th scope=col>⋯</th><th scope=col>17</th><th scope=col>18</th><th scope=col>19</th><th scope=col>20</th><th scope=col>21</th><th scope=col>22</th><th scope=col>23</th><th scope=col>24</th><th scope=col>25</th><th scope=col>26</th></tr>\n",
       "\t<tr><th scope=col>&lt;chr&gt;</th><th scope=col>&lt;dbl&gt;</th><th scope=col>&lt;dbl&gt;</th><th scope=col>&lt;dbl&gt;</th><th scope=col>&lt;dbl&gt;</th><th scope=col>&lt;dbl&gt;</th><th scope=col>&lt;dbl&gt;</th><th scope=col>&lt;dbl&gt;</th><th scope=col>&lt;dbl&gt;</th><th scope=col>&lt;dbl&gt;</th><th scope=col>⋯</th><th scope=col>&lt;dbl&gt;</th><th scope=col>&lt;dbl&gt;</th><th scope=col>&lt;dbl&gt;</th><th scope=col>&lt;dbl&gt;</th><th scope=col>&lt;dbl&gt;</th><th scope=col>&lt;dbl&gt;</th><th scope=col>&lt;dbl&gt;</th><th scope=col>&lt;dbl&gt;</th><th scope=col>&lt;dbl&gt;</th><th scope=col>&lt;dbl&gt;</th></tr>\n",
       "</thead>\n",
       "<tbody>\n",
       "\t<tr><td>1A332832</td><td>5</td><td>14</td><td>6</td><td>3</td><td>0</td><td>0</td><td>1</td><td> 0</td><td> 0</td><td>⋯</td><td>0</td><td>0</td><td>0</td><td>0</td><td>0</td><td>0</td><td>0</td><td>0</td><td>0</td><td>0</td></tr>\n",
       "\t<tr><td>1A395474</td><td>3</td><td> 7</td><td>8</td><td>5</td><td>3</td><td>0</td><td>0</td><td> 1</td><td> 1</td><td>⋯</td><td>0</td><td>0</td><td>0</td><td>0</td><td>0</td><td>0</td><td>0</td><td>0</td><td>0</td><td>0</td></tr>\n",
       "\t<tr><td>1A395475</td><td>1</td><td>13</td><td>8</td><td>1</td><td>0</td><td>0</td><td>0</td><td> 1</td><td> 0</td><td>⋯</td><td>0</td><td>0</td><td>0</td><td>0</td><td>0</td><td>0</td><td>0</td><td>0</td><td>0</td><td>0</td></tr>\n",
       "\t<tr><td>1A405425</td><td>1</td><td> 7</td><td>9</td><td>2</td><td>0</td><td>0</td><td>0</td><td> 6</td><td> 1</td><td>⋯</td><td>0</td><td>0</td><td>0</td><td>0</td><td>0</td><td>0</td><td>0</td><td>0</td><td>0</td><td>0</td></tr>\n",
       "\t<tr><td>1A325456</td><td>0</td><td> 0</td><td>0</td><td>0</td><td>0</td><td>0</td><td>0</td><td>30</td><td>29</td><td>⋯</td><td>0</td><td>0</td><td>0</td><td>0</td><td>0</td><td>0</td><td>0</td><td>0</td><td>0</td><td>0</td></tr>\n",
       "\t<tr><td>7A282022</td><td>1</td><td> 0</td><td>2</td><td>0</td><td>1</td><td>0</td><td>0</td><td> 0</td><td> 0</td><td>⋯</td><td>0</td><td>0</td><td>0</td><td>0</td><td>0</td><td>0</td><td>0</td><td>0</td><td>0</td><td>0</td></tr>\n",
       "</tbody>\n",
       "</table>\n"
      ],
      "text/latex": [
       "A tibble: 6 × 27\n",
       "\\begin{tabular}{lllllllllllllllllllll}\n",
       " sn & 1 & 2 & 3 & 4 & 5 & 6 & 7 & 8 & 9 & ⋯ & 17 & 18 & 19 & 20 & 21 & 22 & 23 & 24 & 25 & 26\\\\\n",
       " <chr> & <dbl> & <dbl> & <dbl> & <dbl> & <dbl> & <dbl> & <dbl> & <dbl> & <dbl> & ⋯ & <dbl> & <dbl> & <dbl> & <dbl> & <dbl> & <dbl> & <dbl> & <dbl> & <dbl> & <dbl>\\\\\n",
       "\\hline\n",
       "\t 1A332832 & 5 & 14 & 6 & 3 & 0 & 0 & 1 &  0 &  0 & ⋯ & 0 & 0 & 0 & 0 & 0 & 0 & 0 & 0 & 0 & 0\\\\\n",
       "\t 1A395474 & 3 &  7 & 8 & 5 & 3 & 0 & 0 &  1 &  1 & ⋯ & 0 & 0 & 0 & 0 & 0 & 0 & 0 & 0 & 0 & 0\\\\\n",
       "\t 1A395475 & 1 & 13 & 8 & 1 & 0 & 0 & 0 &  1 &  0 & ⋯ & 0 & 0 & 0 & 0 & 0 & 0 & 0 & 0 & 0 & 0\\\\\n",
       "\t 1A405425 & 1 &  7 & 9 & 2 & 0 & 0 & 0 &  6 &  1 & ⋯ & 0 & 0 & 0 & 0 & 0 & 0 & 0 & 0 & 0 & 0\\\\\n",
       "\t 1A325456 & 0 &  0 & 0 & 0 & 0 & 0 & 0 & 30 & 29 & ⋯ & 0 & 0 & 0 & 0 & 0 & 0 & 0 & 0 & 0 & 0\\\\\n",
       "\t 7A282022 & 1 &  0 & 2 & 0 & 1 & 0 & 0 &  0 &  0 & ⋯ & 0 & 0 & 0 & 0 & 0 & 0 & 0 & 0 & 0 & 0\\\\\n",
       "\\end{tabular}\n"
      ],
      "text/markdown": [
       "\n",
       "A tibble: 6 × 27\n",
       "\n",
       "| sn &lt;chr&gt; | 1 &lt;dbl&gt; | 2 &lt;dbl&gt; | 3 &lt;dbl&gt; | 4 &lt;dbl&gt; | 5 &lt;dbl&gt; | 6 &lt;dbl&gt; | 7 &lt;dbl&gt; | 8 &lt;dbl&gt; | 9 &lt;dbl&gt; | ⋯ ⋯ | 17 &lt;dbl&gt; | 18 &lt;dbl&gt; | 19 &lt;dbl&gt; | 20 &lt;dbl&gt; | 21 &lt;dbl&gt; | 22 &lt;dbl&gt; | 23 &lt;dbl&gt; | 24 &lt;dbl&gt; | 25 &lt;dbl&gt; | 26 &lt;dbl&gt; |\n",
       "|---|---|---|---|---|---|---|---|---|---|---|---|---|---|---|---|---|---|---|---|---|\n",
       "| 1A332832 | 5 | 14 | 6 | 3 | 0 | 0 | 1 |  0 |  0 | ⋯ | 0 | 0 | 0 | 0 | 0 | 0 | 0 | 0 | 0 | 0 |\n",
       "| 1A395474 | 3 |  7 | 8 | 5 | 3 | 0 | 0 |  1 |  1 | ⋯ | 0 | 0 | 0 | 0 | 0 | 0 | 0 | 0 | 0 | 0 |\n",
       "| 1A395475 | 1 | 13 | 8 | 1 | 0 | 0 | 0 |  1 |  0 | ⋯ | 0 | 0 | 0 | 0 | 0 | 0 | 0 | 0 | 0 | 0 |\n",
       "| 1A405425 | 1 |  7 | 9 | 2 | 0 | 0 | 0 |  6 |  1 | ⋯ | 0 | 0 | 0 | 0 | 0 | 0 | 0 | 0 | 0 | 0 |\n",
       "| 1A325456 | 0 |  0 | 0 | 0 | 0 | 0 | 0 | 30 | 29 | ⋯ | 0 | 0 | 0 | 0 | 0 | 0 | 0 | 0 | 0 | 0 |\n",
       "| 7A282022 | 1 |  0 | 2 | 0 | 1 | 0 | 0 |  0 |  0 | ⋯ | 0 | 0 | 0 | 0 | 0 | 0 | 0 | 0 | 0 | 0 |\n",
       "\n"
      ],
      "text/plain": [
       "  sn       1 2  3 4 5 6 7 8  9  ⋯ 17 18 19 20 21 22 23 24 25 26\n",
       "1 1A332832 5 14 6 3 0 0 1  0  0 ⋯ 0  0  0  0  0  0  0  0  0  0 \n",
       "2 1A395474 3  7 8 5 3 0 0  1  1 ⋯ 0  0  0  0  0  0  0  0  0  0 \n",
       "3 1A395475 1 13 8 1 0 0 0  1  0 ⋯ 0  0  0  0  0  0  0  0  0  0 \n",
       "4 1A405425 1  7 9 2 0 0 0  6  1 ⋯ 0  0  0  0  0  0  0  0  0  0 \n",
       "5 1A325456 0  0 0 0 0 0 0 30 29 ⋯ 0  0  0  0  0  0  0  0  0  0 \n",
       "6 7A282022 1  0 2 0 1 0 0  0  0 ⋯ 0  0  0  0  0  0  0  0  0  0 "
      ]
     },
     "metadata": {},
     "output_type": "display_data"
    }
   ],
   "source": [
    "# crown\n",
    "crown.df.year<-data.frame()\n",
    "for (i in 1:length(crown)) {\n",
    "a <- df.year %>%\n",
    "     filter(df.year$sn==crown[i])\n",
    " crown.df.year <- rbind(crown.df.year,a)   \n",
    "}\n",
    "head(crown.df.year)"
   ]
  },
  {
   "cell_type": "code",
   "execution_count": 66,
   "id": "bound-terrorist",
   "metadata": {
    "ExecuteTime": {
     "end_time": "2021-07-11T01:17:33.781276Z",
     "start_time": "2021-07-11T01:17:27.370Z"
    }
   },
   "outputs": [
    {
     "data": {
      "text/html": [
       "<table class=\"dataframe\">\n",
       "<caption>A tibble: 6 × 27</caption>\n",
       "<thead>\n",
       "\t<tr><th scope=col>sn</th><th scope=col>1</th><th scope=col>2</th><th scope=col>3</th><th scope=col>4</th><th scope=col>5</th><th scope=col>6</th><th scope=col>7</th><th scope=col>8</th><th scope=col>9</th><th scope=col>⋯</th><th scope=col>17</th><th scope=col>18</th><th scope=col>19</th><th scope=col>20</th><th scope=col>21</th><th scope=col>22</th><th scope=col>23</th><th scope=col>24</th><th scope=col>25</th><th scope=col>26</th></tr>\n",
       "\t<tr><th scope=col>&lt;chr&gt;</th><th scope=col>&lt;dbl&gt;</th><th scope=col>&lt;dbl&gt;</th><th scope=col>&lt;dbl&gt;</th><th scope=col>&lt;dbl&gt;</th><th scope=col>&lt;dbl&gt;</th><th scope=col>&lt;dbl&gt;</th><th scope=col>&lt;dbl&gt;</th><th scope=col>&lt;dbl&gt;</th><th scope=col>&lt;dbl&gt;</th><th scope=col>⋯</th><th scope=col>&lt;dbl&gt;</th><th scope=col>&lt;dbl&gt;</th><th scope=col>&lt;dbl&gt;</th><th scope=col>&lt;dbl&gt;</th><th scope=col>&lt;dbl&gt;</th><th scope=col>&lt;dbl&gt;</th><th scope=col>&lt;dbl&gt;</th><th scope=col>&lt;dbl&gt;</th><th scope=col>&lt;dbl&gt;</th><th scope=col>&lt;dbl&gt;</th></tr>\n",
       "</thead>\n",
       "<tbody>\n",
       "\t<tr><td>R2B-01372</td><td>0</td><td>0</td><td>0</td><td>0</td><td>0</td><td>0</td><td>0</td><td>4</td><td>1</td><td>⋯</td><td>0</td><td>0</td><td>0</td><td>0</td><td>0</td><td>0</td><td>0</td><td>0</td><td>0</td><td>0</td></tr>\n",
       "\t<tr><td>B20-00082</td><td>0</td><td>0</td><td>0</td><td>0</td><td>0</td><td>0</td><td>0</td><td>0</td><td>0</td><td>⋯</td><td>8</td><td>0</td><td>0</td><td>1</td><td>0</td><td>0</td><td>0</td><td>0</td><td>0</td><td>0</td></tr>\n",
       "\t<tr><td>R1G-10239</td><td>0</td><td>0</td><td>0</td><td>0</td><td>0</td><td>0</td><td>0</td><td>5</td><td>4</td><td>⋯</td><td>0</td><td>0</td><td>0</td><td>0</td><td>0</td><td>0</td><td>0</td><td>0</td><td>0</td><td>0</td></tr>\n",
       "\t<tr><td>R1G-15171</td><td>0</td><td>0</td><td>0</td><td>0</td><td>0</td><td>1</td><td>4</td><td>5</td><td>0</td><td>⋯</td><td>0</td><td>0</td><td>0</td><td>0</td><td>0</td><td>0</td><td>0</td><td>0</td><td>0</td><td>0</td></tr>\n",
       "\t<tr><td>R1G-15172</td><td>0</td><td>0</td><td>0</td><td>0</td><td>0</td><td>1</td><td>7</td><td>1</td><td>1</td><td>⋯</td><td>0</td><td>0</td><td>0</td><td>0</td><td>0</td><td>0</td><td>0</td><td>0</td><td>0</td><td>0</td></tr>\n",
       "\t<tr><td>R1G-13093</td><td>0</td><td>0</td><td>0</td><td>0</td><td>0</td><td>0</td><td>0</td><td>6</td><td>7</td><td>⋯</td><td>0</td><td>0</td><td>0</td><td>0</td><td>0</td><td>0</td><td>0</td><td>0</td><td>0</td><td>0</td></tr>\n",
       "</tbody>\n",
       "</table>\n"
      ],
      "text/latex": [
       "A tibble: 6 × 27\n",
       "\\begin{tabular}{lllllllllllllllllllll}\n",
       " sn & 1 & 2 & 3 & 4 & 5 & 6 & 7 & 8 & 9 & ⋯ & 17 & 18 & 19 & 20 & 21 & 22 & 23 & 24 & 25 & 26\\\\\n",
       " <chr> & <dbl> & <dbl> & <dbl> & <dbl> & <dbl> & <dbl> & <dbl> & <dbl> & <dbl> & ⋯ & <dbl> & <dbl> & <dbl> & <dbl> & <dbl> & <dbl> & <dbl> & <dbl> & <dbl> & <dbl>\\\\\n",
       "\\hline\n",
       "\t R2B-01372 & 0 & 0 & 0 & 0 & 0 & 0 & 0 & 4 & 1 & ⋯ & 0 & 0 & 0 & 0 & 0 & 0 & 0 & 0 & 0 & 0\\\\\n",
       "\t B20-00082 & 0 & 0 & 0 & 0 & 0 & 0 & 0 & 0 & 0 & ⋯ & 8 & 0 & 0 & 1 & 0 & 0 & 0 & 0 & 0 & 0\\\\\n",
       "\t R1G-10239 & 0 & 0 & 0 & 0 & 0 & 0 & 0 & 5 & 4 & ⋯ & 0 & 0 & 0 & 0 & 0 & 0 & 0 & 0 & 0 & 0\\\\\n",
       "\t R1G-15171 & 0 & 0 & 0 & 0 & 0 & 1 & 4 & 5 & 0 & ⋯ & 0 & 0 & 0 & 0 & 0 & 0 & 0 & 0 & 0 & 0\\\\\n",
       "\t R1G-15172 & 0 & 0 & 0 & 0 & 0 & 1 & 7 & 1 & 1 & ⋯ & 0 & 0 & 0 & 0 & 0 & 0 & 0 & 0 & 0 & 0\\\\\n",
       "\t R1G-13093 & 0 & 0 & 0 & 0 & 0 & 0 & 0 & 6 & 7 & ⋯ & 0 & 0 & 0 & 0 & 0 & 0 & 0 & 0 & 0 & 0\\\\\n",
       "\\end{tabular}\n"
      ],
      "text/markdown": [
       "\n",
       "A tibble: 6 × 27\n",
       "\n",
       "| sn &lt;chr&gt; | 1 &lt;dbl&gt; | 2 &lt;dbl&gt; | 3 &lt;dbl&gt; | 4 &lt;dbl&gt; | 5 &lt;dbl&gt; | 6 &lt;dbl&gt; | 7 &lt;dbl&gt; | 8 &lt;dbl&gt; | 9 &lt;dbl&gt; | ⋯ ⋯ | 17 &lt;dbl&gt; | 18 &lt;dbl&gt; | 19 &lt;dbl&gt; | 20 &lt;dbl&gt; | 21 &lt;dbl&gt; | 22 &lt;dbl&gt; | 23 &lt;dbl&gt; | 24 &lt;dbl&gt; | 25 &lt;dbl&gt; | 26 &lt;dbl&gt; |\n",
       "|---|---|---|---|---|---|---|---|---|---|---|---|---|---|---|---|---|---|---|---|---|\n",
       "| R2B-01372 | 0 | 0 | 0 | 0 | 0 | 0 | 0 | 4 | 1 | ⋯ | 0 | 0 | 0 | 0 | 0 | 0 | 0 | 0 | 0 | 0 |\n",
       "| B20-00082 | 0 | 0 | 0 | 0 | 0 | 0 | 0 | 0 | 0 | ⋯ | 8 | 0 | 0 | 1 | 0 | 0 | 0 | 0 | 0 | 0 |\n",
       "| R1G-10239 | 0 | 0 | 0 | 0 | 0 | 0 | 0 | 5 | 4 | ⋯ | 0 | 0 | 0 | 0 | 0 | 0 | 0 | 0 | 0 | 0 |\n",
       "| R1G-15171 | 0 | 0 | 0 | 0 | 0 | 1 | 4 | 5 | 0 | ⋯ | 0 | 0 | 0 | 0 | 0 | 0 | 0 | 0 | 0 | 0 |\n",
       "| R1G-15172 | 0 | 0 | 0 | 0 | 0 | 1 | 7 | 1 | 1 | ⋯ | 0 | 0 | 0 | 0 | 0 | 0 | 0 | 0 | 0 | 0 |\n",
       "| R1G-13093 | 0 | 0 | 0 | 0 | 0 | 0 | 0 | 6 | 7 | ⋯ | 0 | 0 | 0 | 0 | 0 | 0 | 0 | 0 | 0 | 0 |\n",
       "\n"
      ],
      "text/plain": [
       "  sn        1 2 3 4 5 6 7 8 9 ⋯ 17 18 19 20 21 22 23 24 25 26\n",
       "1 R2B-01372 0 0 0 0 0 0 0 4 1 ⋯ 0  0  0  0  0  0  0  0  0  0 \n",
       "2 B20-00082 0 0 0 0 0 0 0 0 0 ⋯ 8  0  0  1  0  0  0  0  0  0 \n",
       "3 R1G-10239 0 0 0 0 0 0 0 5 4 ⋯ 0  0  0  0  0  0  0  0  0  0 \n",
       "4 R1G-15171 0 0 0 0 0 1 4 5 0 ⋯ 0  0  0  0  0  0  0  0  0  0 \n",
       "5 R1G-15172 0 0 0 0 0 1 7 1 1 ⋯ 0  0  0  0  0  0  0  0  0  0 \n",
       "6 R1G-13093 0 0 0 0 0 0 0 6 7 ⋯ 0  0  0  0  0  0  0  0  0  0 "
      ]
     },
     "metadata": {},
     "output_type": "display_data"
    }
   ],
   "source": [
    "# smitomo\n",
    "smitomo.df.year<-data.frame()\n",
    "for (i in 1:length(smitomo)) {\n",
    "a <- df.year %>%\n",
    "     filter(df.year$sn==smitomo[i])\n",
    " smitomo.df.year <- rbind(smitomo.df.year,a)   \n",
    "}\n",
    "head(smitomo.df.year)"
   ]
  },
  {
   "cell_type": "code",
   "execution_count": 67,
   "id": "polished-swimming",
   "metadata": {
    "ExecuteTime": {
     "end_time": "2021-07-11T01:17:34.139259Z",
     "start_time": "2021-07-11T01:17:28.406Z"
    }
   },
   "outputs": [
    {
     "data": {
      "text/html": [
       "<table class=\"dataframe\">\n",
       "<caption>A tibble: 6 × 27</caption>\n",
       "<thead>\n",
       "\t<tr><th scope=col>sn</th><th scope=col>1</th><th scope=col>2</th><th scope=col>3</th><th scope=col>4</th><th scope=col>5</th><th scope=col>6</th><th scope=col>7</th><th scope=col>8</th><th scope=col>9</th><th scope=col>⋯</th><th scope=col>17</th><th scope=col>18</th><th scope=col>19</th><th scope=col>20</th><th scope=col>21</th><th scope=col>22</th><th scope=col>23</th><th scope=col>24</th><th scope=col>25</th><th scope=col>26</th></tr>\n",
       "\t<tr><th scope=col>&lt;chr&gt;</th><th scope=col>&lt;dbl&gt;</th><th scope=col>&lt;dbl&gt;</th><th scope=col>&lt;dbl&gt;</th><th scope=col>&lt;dbl&gt;</th><th scope=col>&lt;dbl&gt;</th><th scope=col>&lt;dbl&gt;</th><th scope=col>&lt;dbl&gt;</th><th scope=col>&lt;dbl&gt;</th><th scope=col>&lt;dbl&gt;</th><th scope=col>⋯</th><th scope=col>&lt;dbl&gt;</th><th scope=col>&lt;dbl&gt;</th><th scope=col>&lt;dbl&gt;</th><th scope=col>&lt;dbl&gt;</th><th scope=col>&lt;dbl&gt;</th><th scope=col>&lt;dbl&gt;</th><th scope=col>&lt;dbl&gt;</th><th scope=col>&lt;dbl&gt;</th><th scope=col>&lt;dbl&gt;</th><th scope=col>&lt;dbl&gt;</th></tr>\n",
       "</thead>\n",
       "<tbody>\n",
       "\t<tr><td>B226R03830E</td><td>0</td><td>0</td><td> 0</td><td> 0</td><td> 0</td><td> 8</td><td> 7</td><td>7</td><td>7</td><td>⋯</td><td>0</td><td>0</td><td>0</td><td>0</td><td>0</td><td>0</td><td>0</td><td>0</td><td>0</td><td>0</td></tr>\n",
       "\t<tr><td>B915R02424F</td><td>0</td><td>0</td><td> 0</td><td> 0</td><td> 0</td><td> 7</td><td> 4</td><td>4</td><td>1</td><td>⋯</td><td>0</td><td>0</td><td>0</td><td>0</td><td>0</td><td>0</td><td>0</td><td>0</td><td>0</td><td>0</td></tr>\n",
       "\t<tr><td>C264N03336K</td><td>0</td><td>7</td><td>22</td><td>11</td><td>10</td><td>13</td><td> 0</td><td>2</td><td>1</td><td>⋯</td><td>0</td><td>0</td><td>0</td><td>0</td><td>0</td><td>0</td><td>0</td><td>0</td><td>0</td><td>0</td></tr>\n",
       "\t<tr><td>B455N01997F</td><td>0</td><td>0</td><td> 0</td><td> 0</td><td> 2</td><td> 0</td><td> 1</td><td>1</td><td>1</td><td>⋯</td><td>0</td><td>0</td><td>0</td><td>0</td><td>0</td><td>0</td><td>0</td><td>0</td><td>0</td><td>0</td></tr>\n",
       "\t<tr><td>B226R03804E</td><td>0</td><td>0</td><td> 0</td><td> 0</td><td> 0</td><td> 9</td><td>18</td><td>7</td><td>2</td><td>⋯</td><td>0</td><td>0</td><td>0</td><td>0</td><td>0</td><td>0</td><td>0</td><td>0</td><td>0</td><td>0</td></tr>\n",
       "\t<tr><td>C264N03339K</td><td>0</td><td>9</td><td> 4</td><td>25</td><td>12</td><td> 3</td><td> 0</td><td>2</td><td>1</td><td>⋯</td><td>0</td><td>0</td><td>0</td><td>0</td><td>0</td><td>0</td><td>0</td><td>0</td><td>0</td><td>0</td></tr>\n",
       "</tbody>\n",
       "</table>\n"
      ],
      "text/latex": [
       "A tibble: 6 × 27\n",
       "\\begin{tabular}{lllllllllllllllllllll}\n",
       " sn & 1 & 2 & 3 & 4 & 5 & 6 & 7 & 8 & 9 & ⋯ & 17 & 18 & 19 & 20 & 21 & 22 & 23 & 24 & 25 & 26\\\\\n",
       " <chr> & <dbl> & <dbl> & <dbl> & <dbl> & <dbl> & <dbl> & <dbl> & <dbl> & <dbl> & ⋯ & <dbl> & <dbl> & <dbl> & <dbl> & <dbl> & <dbl> & <dbl> & <dbl> & <dbl> & <dbl>\\\\\n",
       "\\hline\n",
       "\t B226R03830E & 0 & 0 &  0 &  0 &  0 &  8 &  7 & 7 & 7 & ⋯ & 0 & 0 & 0 & 0 & 0 & 0 & 0 & 0 & 0 & 0\\\\\n",
       "\t B915R02424F & 0 & 0 &  0 &  0 &  0 &  7 &  4 & 4 & 1 & ⋯ & 0 & 0 & 0 & 0 & 0 & 0 & 0 & 0 & 0 & 0\\\\\n",
       "\t C264N03336K & 0 & 7 & 22 & 11 & 10 & 13 &  0 & 2 & 1 & ⋯ & 0 & 0 & 0 & 0 & 0 & 0 & 0 & 0 & 0 & 0\\\\\n",
       "\t B455N01997F & 0 & 0 &  0 &  0 &  2 &  0 &  1 & 1 & 1 & ⋯ & 0 & 0 & 0 & 0 & 0 & 0 & 0 & 0 & 0 & 0\\\\\n",
       "\t B226R03804E & 0 & 0 &  0 &  0 &  0 &  9 & 18 & 7 & 2 & ⋯ & 0 & 0 & 0 & 0 & 0 & 0 & 0 & 0 & 0 & 0\\\\\n",
       "\t C264N03339K & 0 & 9 &  4 & 25 & 12 &  3 &  0 & 2 & 1 & ⋯ & 0 & 0 & 0 & 0 & 0 & 0 & 0 & 0 & 0 & 0\\\\\n",
       "\\end{tabular}\n"
      ],
      "text/markdown": [
       "\n",
       "A tibble: 6 × 27\n",
       "\n",
       "| sn &lt;chr&gt; | 1 &lt;dbl&gt; | 2 &lt;dbl&gt; | 3 &lt;dbl&gt; | 4 &lt;dbl&gt; | 5 &lt;dbl&gt; | 6 &lt;dbl&gt; | 7 &lt;dbl&gt; | 8 &lt;dbl&gt; | 9 &lt;dbl&gt; | ⋯ ⋯ | 17 &lt;dbl&gt; | 18 &lt;dbl&gt; | 19 &lt;dbl&gt; | 20 &lt;dbl&gt; | 21 &lt;dbl&gt; | 22 &lt;dbl&gt; | 23 &lt;dbl&gt; | 24 &lt;dbl&gt; | 25 &lt;dbl&gt; | 26 &lt;dbl&gt; |\n",
       "|---|---|---|---|---|---|---|---|---|---|---|---|---|---|---|---|---|---|---|---|---|\n",
       "| B226R03830E | 0 | 0 |  0 |  0 |  0 |  8 |  7 | 7 | 7 | ⋯ | 0 | 0 | 0 | 0 | 0 | 0 | 0 | 0 | 0 | 0 |\n",
       "| B915R02424F | 0 | 0 |  0 |  0 |  0 |  7 |  4 | 4 | 1 | ⋯ | 0 | 0 | 0 | 0 | 0 | 0 | 0 | 0 | 0 | 0 |\n",
       "| C264N03336K | 0 | 7 | 22 | 11 | 10 | 13 |  0 | 2 | 1 | ⋯ | 0 | 0 | 0 | 0 | 0 | 0 | 0 | 0 | 0 | 0 |\n",
       "| B455N01997F | 0 | 0 |  0 |  0 |  2 |  0 |  1 | 1 | 1 | ⋯ | 0 | 0 | 0 | 0 | 0 | 0 | 0 | 0 | 0 | 0 |\n",
       "| B226R03804E | 0 | 0 |  0 |  0 |  0 |  9 | 18 | 7 | 2 | ⋯ | 0 | 0 | 0 | 0 | 0 | 0 | 0 | 0 | 0 | 0 |\n",
       "| C264N03339K | 0 | 9 |  4 | 25 | 12 |  3 |  0 | 2 | 1 | ⋯ | 0 | 0 | 0 | 0 | 0 | 0 | 0 | 0 | 0 | 0 |\n",
       "\n"
      ],
      "text/plain": [
       "  sn          1 2 3  4  5  6  7  8 9 ⋯ 17 18 19 20 21 22 23 24 25 26\n",
       "1 B226R03830E 0 0  0  0  0  8  7 7 7 ⋯ 0  0  0  0  0  0  0  0  0  0 \n",
       "2 B915R02424F 0 0  0  0  0  7  4 4 1 ⋯ 0  0  0  0  0  0  0  0  0  0 \n",
       "3 C264N03336K 0 7 22 11 10 13  0 2 1 ⋯ 0  0  0  0  0  0  0  0  0  0 \n",
       "4 B455N01997F 0 0  0  0  2  0  1 1 1 ⋯ 0  0  0  0  0  0  0  0  0  0 \n",
       "5 B226R03804E 0 0  0  0  0  9 18 7 2 ⋯ 0  0  0  0  0  0  0  0  0  0 \n",
       "6 C264N03339K 0 9  4 25 12  3  0 2 1 ⋯ 0  0  0  0  0  0  0  0  0  0 "
      ]
     },
     "metadata": {},
     "output_type": "display_data"
    }
   ],
   "source": [
    "# haister\n",
    "haister.df.year<-data.frame()\n",
    "for (i in 1:length(haister)) {\n",
    "a <- df.year %>%\n",
    "     filter(df.year$sn==haister[i])\n",
    " haister.df.year <- rbind(haister.df.year,a)   \n",
    "}\n",
    "head(haister.df.year)"
   ]
  },
  {
   "cell_type": "code",
   "execution_count": 68,
   "id": "nasty-cleaning",
   "metadata": {
    "ExecuteTime": {
     "end_time": "2021-07-11T01:17:34.736609Z",
     "start_time": "2021-07-11T01:17:29.120Z"
    }
   },
   "outputs": [
    {
     "data": {
      "text/html": [
       "<table class=\"dataframe\">\n",
       "<caption>A tibble: 6 × 27</caption>\n",
       "<thead>\n",
       "\t<tr><th scope=col>sn</th><th scope=col>1</th><th scope=col>2</th><th scope=col>3</th><th scope=col>4</th><th scope=col>5</th><th scope=col>6</th><th scope=col>7</th><th scope=col>8</th><th scope=col>9</th><th scope=col>⋯</th><th scope=col>17</th><th scope=col>18</th><th scope=col>19</th><th scope=col>20</th><th scope=col>21</th><th scope=col>22</th><th scope=col>23</th><th scope=col>24</th><th scope=col>25</th><th scope=col>26</th></tr>\n",
       "\t<tr><th scope=col>&lt;chr&gt;</th><th scope=col>&lt;dbl&gt;</th><th scope=col>&lt;dbl&gt;</th><th scope=col>&lt;dbl&gt;</th><th scope=col>&lt;dbl&gt;</th><th scope=col>&lt;dbl&gt;</th><th scope=col>&lt;dbl&gt;</th><th scope=col>&lt;dbl&gt;</th><th scope=col>&lt;dbl&gt;</th><th scope=col>&lt;dbl&gt;</th><th scope=col>⋯</th><th scope=col>&lt;dbl&gt;</th><th scope=col>&lt;dbl&gt;</th><th scope=col>&lt;dbl&gt;</th><th scope=col>&lt;dbl&gt;</th><th scope=col>&lt;dbl&gt;</th><th scope=col>&lt;dbl&gt;</th><th scope=col>&lt;dbl&gt;</th><th scope=col>&lt;dbl&gt;</th><th scope=col>&lt;dbl&gt;</th><th scope=col>&lt;dbl&gt;</th></tr>\n",
       "</thead>\n",
       "<tbody>\n",
       "\t<tr><td>FRA09-1370-00451</td><td>0</td><td>5</td><td>7</td><td>5</td><td>1</td><td>0</td><td>0</td><td>0</td><td>0</td><td>⋯</td><td>0</td><td>0</td><td>0</td><td>0</td><td>0</td><td>0</td><td>0</td><td>0</td><td>0</td><td>0</td></tr>\n",
       "\t<tr><td>FRAOA-1370-00619</td><td>8</td><td>1</td><td>9</td><td>6</td><td>1</td><td>0</td><td>1</td><td>5</td><td>7</td><td>⋯</td><td>0</td><td>0</td><td>0</td><td>0</td><td>0</td><td>0</td><td>0</td><td>0</td><td>0</td><td>0</td></tr>\n",
       "\t<tr><td>FRAOA-1370-00620</td><td>4</td><td>1</td><td>2</td><td>2</td><td>4</td><td>0</td><td>2</td><td>6</td><td>1</td><td>⋯</td><td>0</td><td>0</td><td>0</td><td>0</td><td>0</td><td>0</td><td>0</td><td>0</td><td>0</td><td>0</td></tr>\n",
       "\t<tr><td>FRAOA-1370-00593</td><td>0</td><td>2</td><td>6</td><td>7</td><td>2</td><td>3</td><td>0</td><td>0</td><td>0</td><td>⋯</td><td>0</td><td>0</td><td>0</td><td>0</td><td>0</td><td>0</td><td>0</td><td>0</td><td>0</td><td>0</td></tr>\n",
       "\t<tr><td>B25S5-01497     </td><td>0</td><td>0</td><td>0</td><td>2</td><td>0</td><td>3</td><td>3</td><td>1</td><td>0</td><td>⋯</td><td>0</td><td>0</td><td>0</td><td>0</td><td>0</td><td>0</td><td>0</td><td>0</td><td>0</td><td>0</td></tr>\n",
       "\t<tr><td>FRA09-1370-00452</td><td>0</td><td>1</td><td>0</td><td>5</td><td>8</td><td>0</td><td>0</td><td>0</td><td>4</td><td>⋯</td><td>0</td><td>0</td><td>0</td><td>0</td><td>0</td><td>0</td><td>0</td><td>0</td><td>0</td><td>0</td></tr>\n",
       "</tbody>\n",
       "</table>\n"
      ],
      "text/latex": [
       "A tibble: 6 × 27\n",
       "\\begin{tabular}{lllllllllllllllllllll}\n",
       " sn & 1 & 2 & 3 & 4 & 5 & 6 & 7 & 8 & 9 & ⋯ & 17 & 18 & 19 & 20 & 21 & 22 & 23 & 24 & 25 & 26\\\\\n",
       " <chr> & <dbl> & <dbl> & <dbl> & <dbl> & <dbl> & <dbl> & <dbl> & <dbl> & <dbl> & ⋯ & <dbl> & <dbl> & <dbl> & <dbl> & <dbl> & <dbl> & <dbl> & <dbl> & <dbl> & <dbl>\\\\\n",
       "\\hline\n",
       "\t FRA09-1370-00451 & 0 & 5 & 7 & 5 & 1 & 0 & 0 & 0 & 0 & ⋯ & 0 & 0 & 0 & 0 & 0 & 0 & 0 & 0 & 0 & 0\\\\\n",
       "\t FRAOA-1370-00619 & 8 & 1 & 9 & 6 & 1 & 0 & 1 & 5 & 7 & ⋯ & 0 & 0 & 0 & 0 & 0 & 0 & 0 & 0 & 0 & 0\\\\\n",
       "\t FRAOA-1370-00620 & 4 & 1 & 2 & 2 & 4 & 0 & 2 & 6 & 1 & ⋯ & 0 & 0 & 0 & 0 & 0 & 0 & 0 & 0 & 0 & 0\\\\\n",
       "\t FRAOA-1370-00593 & 0 & 2 & 6 & 7 & 2 & 3 & 0 & 0 & 0 & ⋯ & 0 & 0 & 0 & 0 & 0 & 0 & 0 & 0 & 0 & 0\\\\\n",
       "\t B25S5-01497      & 0 & 0 & 0 & 2 & 0 & 3 & 3 & 1 & 0 & ⋯ & 0 & 0 & 0 & 0 & 0 & 0 & 0 & 0 & 0 & 0\\\\\n",
       "\t FRA09-1370-00452 & 0 & 1 & 0 & 5 & 8 & 0 & 0 & 0 & 4 & ⋯ & 0 & 0 & 0 & 0 & 0 & 0 & 0 & 0 & 0 & 0\\\\\n",
       "\\end{tabular}\n"
      ],
      "text/markdown": [
       "\n",
       "A tibble: 6 × 27\n",
       "\n",
       "| sn &lt;chr&gt; | 1 &lt;dbl&gt; | 2 &lt;dbl&gt; | 3 &lt;dbl&gt; | 4 &lt;dbl&gt; | 5 &lt;dbl&gt; | 6 &lt;dbl&gt; | 7 &lt;dbl&gt; | 8 &lt;dbl&gt; | 9 &lt;dbl&gt; | ⋯ ⋯ | 17 &lt;dbl&gt; | 18 &lt;dbl&gt; | 19 &lt;dbl&gt; | 20 &lt;dbl&gt; | 21 &lt;dbl&gt; | 22 &lt;dbl&gt; | 23 &lt;dbl&gt; | 24 &lt;dbl&gt; | 25 &lt;dbl&gt; | 26 &lt;dbl&gt; |\n",
       "|---|---|---|---|---|---|---|---|---|---|---|---|---|---|---|---|---|---|---|---|---|\n",
       "| FRA09-1370-00451 | 0 | 5 | 7 | 5 | 1 | 0 | 0 | 0 | 0 | ⋯ | 0 | 0 | 0 | 0 | 0 | 0 | 0 | 0 | 0 | 0 |\n",
       "| FRAOA-1370-00619 | 8 | 1 | 9 | 6 | 1 | 0 | 1 | 5 | 7 | ⋯ | 0 | 0 | 0 | 0 | 0 | 0 | 0 | 0 | 0 | 0 |\n",
       "| FRAOA-1370-00620 | 4 | 1 | 2 | 2 | 4 | 0 | 2 | 6 | 1 | ⋯ | 0 | 0 | 0 | 0 | 0 | 0 | 0 | 0 | 0 | 0 |\n",
       "| FRAOA-1370-00593 | 0 | 2 | 6 | 7 | 2 | 3 | 0 | 0 | 0 | ⋯ | 0 | 0 | 0 | 0 | 0 | 0 | 0 | 0 | 0 | 0 |\n",
       "| B25S5-01497      | 0 | 0 | 0 | 2 | 0 | 3 | 3 | 1 | 0 | ⋯ | 0 | 0 | 0 | 0 | 0 | 0 | 0 | 0 | 0 | 0 |\n",
       "| FRA09-1370-00452 | 0 | 1 | 0 | 5 | 8 | 0 | 0 | 0 | 4 | ⋯ | 0 | 0 | 0 | 0 | 0 | 0 | 0 | 0 | 0 | 0 |\n",
       "\n"
      ],
      "text/plain": [
       "  sn               1 2 3 4 5 6 7 8 9 ⋯ 17 18 19 20 21 22 23 24 25 26\n",
       "1 FRA09-1370-00451 0 5 7 5 1 0 0 0 0 ⋯ 0  0  0  0  0  0  0  0  0  0 \n",
       "2 FRAOA-1370-00619 8 1 9 6 1 0 1 5 7 ⋯ 0  0  0  0  0  0  0  0  0  0 \n",
       "3 FRAOA-1370-00620 4 1 2 2 4 0 2 6 1 ⋯ 0  0  0  0  0  0  0  0  0  0 \n",
       "4 FRAOA-1370-00593 0 2 6 7 2 3 0 0 0 ⋯ 0  0  0  0  0  0  0  0  0  0 \n",
       "5 B25S5-01497      0 0 0 2 0 3 3 1 0 ⋯ 0  0  0  0  0  0  0  0  0  0 \n",
       "6 FRA09-1370-00452 0 1 0 5 8 0 0 0 4 ⋯ 0  0  0  0  0  0  0  0  0  0 "
      ]
     },
     "metadata": {},
     "output_type": "display_data"
    }
   ],
   "source": [
    "# doosan\n",
    "doosan.df.year<-data.frame()\n",
    "for (i in 1:length(doosan)) {\n",
    "a <- df.year %>%\n",
    "     filter(df.year$sn==doosan[i])\n",
    " doosan.df.year <- rbind(doosan.df.year,a)   \n",
    "}\n",
    "head(doosan.df.year)"
   ]
  }
 ],
 "metadata": {
  "hide_input": false,
  "kernelspec": {
   "display_name": "R",
   "language": "R",
   "name": "ir"
  },
  "language_info": {
   "codemirror_mode": "r",
   "file_extension": ".r",
   "mimetype": "text/x-r-source",
   "name": "R",
   "pygments_lexer": "r",
   "version": "4.1.0"
  },
  "latex_envs": {
   "LaTeX_envs_menu_present": true,
   "autoclose": false,
   "autocomplete": true,
   "bibliofile": "biblio.bib",
   "cite_by": "apalike",
   "current_citInitial": 1,
   "eqLabelWithNumbers": true,
   "eqNumInitial": 1,
   "hotkeys": {
    "equation": "Ctrl-E",
    "itemize": "Ctrl-I"
   },
   "labels_anchors": false,
   "latex_user_defs": false,
   "report_style_numbering": false,
   "user_envs_cfg": false
  },
  "toc": {
   "base_numbering": 1,
   "nav_menu": {},
   "number_sections": true,
   "sideBar": true,
   "skip_h1_title": false,
   "title_cell": "Table of Contents",
   "title_sidebar": "Contents",
   "toc_cell": false,
   "toc_position": {},
   "toc_section_display": true,
   "toc_window_display": false
  }
 },
 "nbformat": 4,
 "nbformat_minor": 5
}
