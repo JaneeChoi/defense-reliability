{
 "cells": [
  {
   "cell_type": "code",
   "execution_count": 68,
   "metadata": {},
   "outputs": [],
   "source": [
    "import numpy as np\n",
    "import math\n",
    "import scipy\n",
    "import matplotlib.pyplot as plt"
   ]
  },
  {
   "cell_type": "code",
   "execution_count": 17,
   "metadata": {},
   "outputs": [],
   "source": [
    "def generate_maintenance_matrix(n_states, max_allowed_state, repair_state):\n",
    "    # state indexes start at 1!\n",
    "    mat = np.tile(0, (n_states, n_states))\n",
    "    for i in range(max_allowed_state):\n",
    "        mat[i][i] = 1\n",
    "    for i in range(max_allowed_state, n_states):\n",
    "        mat[i][repair_state - 1] = 1\n",
    "    return mat"
   ]
  },
  {
   "cell_type": "code",
   "execution_count": 23,
   "metadata": {
    "scrolled": false
   },
   "outputs": [
    {
     "data": {
      "text/plain": [
       "array([[1, 0, 0, 0, 0],\n",
       "       [0, 1, 0, 0, 0],\n",
       "       [0, 0, 1, 0, 0],\n",
       "       [0, 1, 0, 0, 0],\n",
       "       [0, 1, 0, 0, 0]])"
      ]
     },
     "execution_count": 23,
     "metadata": {},
     "output_type": "execute_result"
    }
   ],
   "source": [
    "state_count = 5\n",
    "policy_1 = generate_maintenance_matrix(state_count, 3, 2)\n",
    "policy_1"
   ]
  },
  {
   "cell_type": "code",
   "execution_count": 268,
   "metadata": {},
   "outputs": [],
   "source": [
    "def generic_cost_function(n, initial_state_vector, transition_matrix, maintenance_matrix, quantile_vector, horizon, cm_cost, pm_cost):\n",
    "    cycle_count = math.floor(horizon / n)\n",
    "    cm_count = 0\n",
    "    for i in range(1, horizon+1):\n",
    "        if i % n == 0:\n",
    "            initial_state_vector = initial_state_vector @ maintenance_matrix\n",
    "        else:\n",
    "            initial_state_vector = initial_state_vector @ transition_matrix\n",
    "            \n",
    "        #print(i, initial_state_vector, np.sum(initial_state_vector))\n",
    "        cm_count += initial_state_vector @ quantile_vector\n",
    "\n",
    "    #chain_state = initial_state_vector @ np.linalg.matrix_power(transition_matrix, horizon - cycle_count) @ np.linalg.matrix_power(maintenance_matrix, cycle_count)\n",
    "    #print(n, cycle_count,  chain_state)\n",
    "    #cm_count = chain_state @ quantile_vector\n",
    "    #print(n, cm_count)\n",
    "    return cm_count * cm_cost + cycle_count * pm_cost"
   ]
  },
  {
   "cell_type": "code",
   "execution_count": 319,
   "metadata": {},
   "outputs": [],
   "source": [
    "def minimize_failure_prob(n, initial_state_vector, transition_matrix, maintenance_matrix, horizon, threshold):\n",
    "    probs = []\n",
    "    for i in range(1, horizon+1):\n",
    "        if i % n == 0:\n",
    "            initial_state_vector = initial_state_vector @ maintenance_matrix\n",
    "        else:\n",
    "            initial_state_vector = initial_state_vector @ transition_matrix\n",
    "        \n",
    "        #print(i, initial_state_vector, np.sum(initial_state_vector[3:]))\n",
    "        probs.append(np.sum(initial_state_vector[threshold:]))\n",
    "        \n",
    "    return np.max(np.array(probs))"
   ]
  },
  {
   "cell_type": "code",
   "execution_count": 320,
   "metadata": {},
   "outputs": [],
   "source": [
    "bounds = [\n",
    "    (0, None)\n",
    "]\n",
    "state_vector = np.array([1,0,0,0,0], np.float64)\n",
    "quantile_vector = np.array([3.27, 15.62, 31, 49, 80], np.float64)\n",
    "transition_matrix = np.array([\n",
    "    [0.808896211,0.146622735,0.032948929,0.01153213,0.00000000],\n",
    "    [0.151815182, 0.595709571, 0.209570957, 0.04290429, 0.00000000],\n",
    "    [0.013536379, 0.203045685, 0.585448393, 0.18104907, 0.01692047],\n",
    "    [0.001663894, 0.036605657, 0.166389351, 0.61397671, 0.18136439],\n",
    "    [0.000000000, 0.001769912, 0.005309735, 0.13805310, 0.85486726]    \n",
    "], np.float64)\n",
    "cm_cost = 1.0\n",
    "pm_cost = 15.0\n",
    "horizon = 120"
   ]
  },
  {
   "cell_type": "code",
   "execution_count": 324,
   "metadata": {},
   "outputs": [
    {
     "name": "stdout",
     "output_type": "stream",
     "text": [
      "1 2192.3999999999996\n",
      "2 2770.0189082710604\n",
      "3 2649.071533668908\n",
      "4 2652.12372413329\n",
      "5 2700.3458800262697\n",
      "6 2767.17227573658\n",
      "7 2835.385475662654\n",
      "8 2918.147433019755\n",
      "9 2978.8726516809247\n",
      "10 3068.550780384134\n",
      "11 3136.0480904172446\n",
      "12 3208.6254513678527\n"
     ]
    },
    {
     "data": {
      "image/png": "[encoded data removed]",
      "text/plain": [
       "<Figure size 432x288 with 1 Axes>"
      ]
     },
     "metadata": {
      "needs_background": "light"
     },
     "output_type": "display_data"
    }
   ],
   "source": [
    "ax = plt.gca()\n",
    "for x in range(1, 13):\n",
    "    cost = generic_cost_function(x, state_vector.copy(), transition_matrix.copy(), policy_1.copy(), quantile_vector.copy(), horizon, cm_cost, pm_cost)\n",
    "    #cost = minimize_failure_prob(x, state_vector.copy(), transition_matrix.copy(), policy_1.copy(), horizon, 3)\n",
    "    #print(x, cost, cost / horizon)\n",
    "    ax.plot(x, cost, \"ro\")\n",
    "    print(x, cost)"
   ]
  },
  {
   "cell_type": "code",
   "execution_count": 309,
   "metadata": {
    "scrolled": true
   },
   "outputs": [
    {
     "data": {
      "text/plain": [
       "array([4, 5])"
      ]
     },
     "execution_count": 309,
     "metadata": {},
     "output_type": "execute_result"
    }
   ],
   "source": [
    "np.array([1,2,3,4,5])[3:]"
   ]
  },
  {
   "cell_type": "code",
   "execution_count": null,
   "metadata": {},
   "outputs": [],
   "source": []
  }
 ],
 "metadata": {
  "kernelspec": {
   "display_name": "aria-venv",
   "language": "python",
   "name": "aria-venv"
  },
  "language_info": {
   "codemirror_mode": {
    "name": "ipython",
    "version": 3
   },
   "file_extension": ".py",
   "mimetype": "text/x-python",
   "name": "python",
   "nbconvert_exporter": "python",
   "pygments_lexer": "ipython3",
   "version": "3.6.9"
  }
 },
 "nbformat": 4,
 "nbformat_minor": 4
}
