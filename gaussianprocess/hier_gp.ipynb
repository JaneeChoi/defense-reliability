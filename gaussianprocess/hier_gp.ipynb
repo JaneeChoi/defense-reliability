{
 "cells": [
  {
   "cell_type": "code",
   "execution_count": 1,
   "metadata": {},
   "outputs": [],
   "source": [
    "import pandas as pd\n",
    "import numpy as np\n",
    "from cmdstanpy import CmdStanModel\n",
    "import os\n",
    "import arviz as az"
   ]
  },
  {
   "cell_type": "code",
   "execution_count": 2,
   "metadata": {},
   "outputs": [],
   "source": [
    "y_data = pd.read_csv(os.path.realpath(\"../data/y_count_pwr.csv\"), usecols=[\"y\"])\n",
    "age_data = pd.read_csv(os.path.realpath(\"../data/x_age.csv\"), usecols=[\"age\"])\n",
    "ship_data = pd.read_csv(os.path.realpath(\"../data/ship_index.csv\"), usecols=[\"ship\"])\n",
    "ship_engine_mapping_data = pd.read_csv(os.path.realpath(\"../data/engine_index.csv\"), usecols=[\"engine\"])\n",
    "engine_data = pd.DataFrame({\"engine\": np.zeros(y_data.shape[0], dtype=np.int32)})\n",
    "for x in range(y_data.shape[0]):\n",
    "    engine_data.at[x, \"engine\"] = ship_engine_mapping_data.at[ship_data.at[x, \"ship\"]-1, \"engine\"]\n"
   ]
  },
  {
   "cell_type": "code",
   "execution_count": 3,
   "metadata": {},
   "outputs": [
    {
     "data": {
      "text/plain": [
       "(5, 99, 31, 653)"
      ]
     },
     "execution_count": 3,
     "metadata": {},
     "output_type": "execute_result"
    }
   ],
   "source": [
    "engine_count = np.max(engine_data[\"engine\"])\n",
    "ship_count = np.max(ship_data[\"ship\"])\n",
    "max_age = np.max(age_data[\"age\"])\n",
    "data_count = y_data.shape[0]\n",
    "engine_count, ship_count, max_age, data_count"
   ]
  },
  {
   "cell_type": "code",
   "execution_count": 4,
   "metadata": {},
   "outputs": [
    {
     "name": "stderr",
     "output_type": "stream",
     "text": [
      "INFO:cmdstanpy:compiling stan program, exe file: /home/dashadower/git_repos/aria/regression/failure_bma/gaussianprocess/models/hier_gp_weak/hier_gp_weak\n",
      "INFO:cmdstanpy:compiler options: stanc_options=None, cpp_options=None\n",
      "INFO:cmdstanpy:compiled model file: /home/dashadower/git_repos/aria/regression/failure_bma/gaussianprocess/models/hier_gp_weak/hier_gp_weak\n"
     ]
    }
   ],
   "source": [
    "gp_model_dir = \"models/hier_gp_weak/hier_gp_weak.stan\"\n",
    "gp_model = CmdStanModel(stan_file=gp_model_dir) #compile_model(layer3_path)"
   ]
  },
  {
   "cell_type": "code",
   "execution_count": 5,
   "metadata": {},
   "outputs": [],
   "source": [
    "data = {\n",
    "    \"N\": int(data_count),\n",
    "    \"N_engines\": int(engine_count),\n",
    "    \"N_ships\": int(ship_count),\n",
    "    \"N_ages_obs\": int(max_age),\n",
    "    \"N_ages\": int(max_age),\n",
    "    \"ship_engine_ind\": ship_engine_mapping_data[\"engine\"].values.tolist(),\n",
    "    \"ship_ind\": ship_data[\"ship\"].values.tolist(),\n",
    "    \"age_ind\": age_data[\"age\"].values.tolist(),\n",
    "    \"y\": y_data[\"y\"].values.tolist(),\n",
    "}"
   ]
  },
  {
   "cell_type": "code",
   "execution_count": 6,
   "metadata": {},
   "outputs": [
    {
     "name": "stderr",
     "output_type": "stream",
     "text": [
      "INFO:cmdstanpy:start chain 1\n",
      "INFO:cmdstanpy:start chain 2\n",
      "INFO:cmdstanpy:start chain 3\n",
      "INFO:cmdstanpy:start chain 4\n",
      "INFO:cmdstanpy:finish chain 2\n",
      "INFO:cmdstanpy:finish chain 3\n",
      "INFO:cmdstanpy:finish chain 4\n",
      "INFO:cmdstanpy:finish chain 1\n"
     ]
    },
    {
     "name": "stdout",
     "output_type": "stream",
     "text": [
      "CPU times: user 959 ms, sys: 43.2 ms, total: 1 s\n",
      "Wall time: 1min 47s\n"
     ]
    }
   ],
   "source": [
    "%%time\n",
    "gp_model_fit = gp_model.sample(chains=4, cores=4, data=data)"
   ]
  },
  {
   "cell_type": "code",
   "execution_count": 7,
   "metadata": {},
   "outputs": [
    {
     "name": "stderr",
     "output_type": "stream",
     "text": [
      "INFO:cmdstanpy:Processing csv files: /tmp/tmp09jvrmnr/hier_gp_weak-202008201903-1-5hkccbx1.csv, /tmp/tmp09jvrmnr/hier_gp_weak-202008201903-2-567986vk.csv, /tmp/tmp09jvrmnr/hier_gp_weak-202008201903-3-ye98k8hb.csv, /tmp/tmp09jvrmnr/hier_gp_weak-202008201903-4-g9qvasmh.csv\n",
      "\n",
      "Checking sampler transitions treedepth.\n",
      "Treedepth satisfactory for all transitions.\n",
      "\n",
      "Checking sampler transitions for divergences.\n",
      "8 of 4000 (0.2%) transitions ended with a divergence.\n",
      "These divergent transitions indicate that HMC is not fully able to explore the posterior distribution.\n",
      "Try increasing adapt delta closer to 1.\n",
      "If this doesn't remove all divergences, try to reparameterize the model.\n",
      "\n",
      "Checking E-BFMI - sampler transitions HMC potential energy.\n",
      "E-BFMI satisfactory for all transitions.\n",
      "\n",
      "Effective sample size satisfactory.\n",
      "\n",
      "Split R-hat values satisfactory all parameters.\n",
      "\n",
      "Processing complete.\n"
     ]
    },
    {
     "data": {
      "text/plain": [
       "\"Processing csv files: /tmp/tmp09jvrmnr/hier_gp_weak-202008201903-1-5hkccbx1.csv, /tmp/tmp09jvrmnr/hier_gp_weak-202008201903-2-567986vk.csv, /tmp/tmp09jvrmnr/hier_gp_weak-202008201903-3-ye98k8hb.csv, /tmp/tmp09jvrmnr/hier_gp_weak-202008201903-4-g9qvasmh.csv\\n\\nChecking sampler transitions treedepth.\\nTreedepth satisfactory for all transitions.\\n\\nChecking sampler transitions for divergences.\\n8 of 4000 (0.2%) transitions ended with a divergence.\\nThese divergent transitions indicate that HMC is not fully able to explore the posterior distribution.\\nTry increasing adapt delta closer to 1.\\nIf this doesn't remove all divergences, try to reparameterize the model.\\n\\nChecking E-BFMI - sampler transitions HMC potential energy.\\nE-BFMI satisfactory for all transitions.\\n\\nEffective sample size satisfactory.\\n\\nSplit R-hat values satisfactory all parameters.\\n\\nProcessing complete.\""
      ]
     },
     "execution_count": 7,
     "metadata": {},
     "output_type": "execute_result"
    }
   ],
   "source": [
    "gp_model_fit.diagnose()"
   ]
  },
  {
   "cell_type": "code",
   "execution_count": 8,
   "metadata": {
    "scrolled": true
   },
   "outputs": [],
   "source": [
    "pd.set_option('display.max_rows', None)\n",
    "#gp_model_fit.summary()"
   ]
  },
  {
   "cell_type": "code",
   "execution_count": 9,
   "metadata": {},
   "outputs": [],
   "source": [
    "pd.reset_option(\"display.max_rows\")"
   ]
  },
  {
   "cell_type": "code",
   "execution_count": 10,
   "metadata": {},
   "outputs": [
    {
     "ename": "ValueError",
     "evalue": "unknown parameter: y_new_pred",
     "output_type": "error",
     "traceback": [
      "\u001b[0;31m---------------------------------------------------------------------------\u001b[0m",
      "\u001b[0;31mValueError\u001b[0m                                Traceback (most recent call last)",
      "\u001b[0;32m<ipython-input-10-0439d184604e>\u001b[0m in \u001b[0;36m<module>\u001b[0;34m\u001b[0m\n\u001b[0;32m----> 1\u001b[0;31m \u001b[0my_new_pred\u001b[0m \u001b[0;34m=\u001b[0m \u001b[0mgp_model_fit\u001b[0m\u001b[0;34m.\u001b[0m\u001b[0mget_drawset\u001b[0m\u001b[0;34m(\u001b[0m\u001b[0mparams\u001b[0m \u001b[0;34m=\u001b[0m \u001b[0;34m[\u001b[0m\u001b[0;34m\"y_new_pred\"\u001b[0m\u001b[0;34m]\u001b[0m\u001b[0;34m)\u001b[0m\u001b[0;34m\u001b[0m\u001b[0;34m\u001b[0m\u001b[0m\n\u001b[0m",
      "\u001b[0;32m~/git_repos/aria/venv/lib/python3.6/site-packages/cmdstanpy/stanfit.py\u001b[0m in \u001b[0;36mget_drawset\u001b[0;34m(self, params)\u001b[0m\n\u001b[1;32m    499\u001b[0m             \u001b[0;32mfor\u001b[0m \u001b[0mparam\u001b[0m \u001b[0;32min\u001b[0m \u001b[0mparams\u001b[0m\u001b[0;34m:\u001b[0m\u001b[0;34m\u001b[0m\u001b[0;34m\u001b[0m\u001b[0m\n\u001b[1;32m    500\u001b[0m                 \u001b[0;32mif\u001b[0m \u001b[0;32mnot\u001b[0m \u001b[0;34m(\u001b[0m\u001b[0mparam\u001b[0m \u001b[0;32min\u001b[0m \u001b[0mself\u001b[0m\u001b[0;34m.\u001b[0m\u001b[0m_column_names\u001b[0m \u001b[0;32mor\u001b[0m \u001b[0mparam\u001b[0m \u001b[0;32min\u001b[0m \u001b[0mpnames_base\u001b[0m\u001b[0;34m)\u001b[0m\u001b[0;34m:\u001b[0m\u001b[0;34m\u001b[0m\u001b[0;34m\u001b[0m\u001b[0m\n\u001b[0;32m--> 501\u001b[0;31m                     \u001b[0;32mraise\u001b[0m \u001b[0mValueError\u001b[0m\u001b[0;34m(\u001b[0m\u001b[0;34m'unknown parameter: {}'\u001b[0m\u001b[0;34m.\u001b[0m\u001b[0mformat\u001b[0m\u001b[0;34m(\u001b[0m\u001b[0mparam\u001b[0m\u001b[0;34m)\u001b[0m\u001b[0;34m)\u001b[0m\u001b[0;34m\u001b[0m\u001b[0;34m\u001b[0m\u001b[0m\n\u001b[0m\u001b[1;32m    502\u001b[0m         \u001b[0mself\u001b[0m\u001b[0;34m.\u001b[0m\u001b[0m_assemble_sample\u001b[0m\u001b[0;34m(\u001b[0m\u001b[0;34m)\u001b[0m\u001b[0;34m\u001b[0m\u001b[0;34m\u001b[0m\u001b[0m\n\u001b[1;32m    503\u001b[0m         \u001b[0;31m# pylint: disable=redundant-keyword-arg\u001b[0m\u001b[0;34m\u001b[0m\u001b[0;34m\u001b[0m\u001b[0;34m\u001b[0m\u001b[0m\n",
      "\u001b[0;31mValueError\u001b[0m: unknown parameter: y_new_pred"
     ]
    }
   ],
   "source": [
    "y_new_pred = gp_model_fit.get_drawset(params = [\"y_new_pred\"])"
   ]
  },
  {
   "cell_type": "code",
   "execution_count": null,
   "metadata": {},
   "outputs": [],
   "source": [
    "az_inference = az.from_cmdstanpy(gp_model_fit, posterior_predictive=\"y_new_pred\", log_likelihood=\"loglik\", observed_data={\"y\": y_data[\"y\"].values.tolist()})"
   ]
  },
  {
   "cell_type": "code",
   "execution_count": null,
   "metadata": {},
   "outputs": [],
   "source": [
    "az_inference"
   ]
  },
  {
   "cell_type": "code",
   "execution_count": null,
   "metadata": {},
   "outputs": [],
   "source": []
  }
 ],
 "metadata": {
  "kernelspec": {
   "display_name": "aria-venv",
   "language": "python",
   "name": "aria-venv"
  },
  "language_info": {
   "codemirror_mode": {
    "name": "ipython",
    "version": 3
   },
   "file_extension": ".py",
   "mimetype": "text/x-python",
   "name": "python",
   "nbconvert_exporter": "python",
   "pygments_lexer": "ipython3",
   "version": "3.6.9"
  }
 },
 "nbformat": 4,
 "nbformat_minor": 4
}
