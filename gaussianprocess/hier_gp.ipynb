{
 "cells": [
  {
   "cell_type": "code",
   "execution_count": 29,
   "metadata": {},
   "outputs": [],
   "source": [
    "import os\n",
    "import sys\n",
    "sys.path.append(os.path.dirname(os.path.realpath(os.getcwd())))\n",
    "import pandas as pd\n",
    "import numpy as np\n",
    "from cmdstanpy import CmdStanModel\n",
    "import arviz as az\n",
    "from sklearn.metrics import mean_squared_error\n",
    "from aria.utils.evaluation import smape\n",
    "from sklearn.preprocessing import PowerTransformer\n",
    "import matplotlib.pyplot as plt"
   ]
  },
  {
   "cell_type": "code",
   "execution_count": 23,
   "metadata": {},
   "outputs": [
    {
     "data": {
      "text/plain": [
       "PowerTransformer()"
      ]
     },
     "execution_count": 23,
     "metadata": {},
     "output_type": "execute_result"
    }
   ],
   "source": [
    "transformer = PowerTransformer()\n",
    "y_data_raw = pd.read_csv(\"../data/y_count_original.csv\")\n",
    "y_data_raw.drop(columns=\"age\", inplace=True)\n",
    "transformer.fit(y_data_raw.values[~np.isnan(y_data_raw)].reshape(-1, 1))"
   ]
  },
  {
   "cell_type": "code",
   "execution_count": 2,
   "metadata": {},
   "outputs": [],
   "source": [
    "y_data = pd.read_csv(os.path.realpath(\"../data/y_count_pwr.csv\"), usecols=[\"y\"])\n",
    "age_data = pd.read_csv(os.path.realpath(\"../data/x_age.csv\"), usecols=[\"age\"])\n",
    "ship_data = pd.read_csv(os.path.realpath(\"../data/ship_index.csv\"), usecols=[\"ship\"])\n",
    "ship_engine_mapping_data = pd.read_csv(os.path.realpath(\"../data/engine_index.csv\"), usecols=[\"engine\"])\n",
    "engine_data = pd.DataFrame({\"engine\": np.zeros(y_data.shape[0], dtype=np.int32)})\n",
    "for x in range(y_data.shape[0]):\n",
    "    engine_data.at[x, \"engine\"] = ship_engine_mapping_data.at[ship_data.at[x, \"ship\"]-1, \"engine\"]\n"
   ]
  },
  {
   "cell_type": "code",
   "execution_count": 3,
   "metadata": {},
   "outputs": [
    {
     "data": {
      "text/plain": [
       "(5, 99, 31, 653)"
      ]
     },
     "execution_count": 3,
     "metadata": {},
     "output_type": "execute_result"
    }
   ],
   "source": [
    "engine_count = np.max(engine_data[\"engine\"])\n",
    "ship_count = np.max(ship_data[\"ship\"])\n",
    "max_age = np.max(age_data[\"age\"])\n",
    "data_count = y_data.shape[0]\n",
    "engine_count, ship_count, max_age, data_count"
   ]
  },
  {
   "cell_type": "code",
   "execution_count": 4,
   "metadata": {},
   "outputs": [
    {
     "name": "stderr",
     "output_type": "stream",
     "text": [
      "INFO:cmdstanpy:compiling stan program, exe file: /home/dashadower/git_repos/aria/regression/failure_bma/gaussianprocess/models/hier_gp_weak/hier_gp_weak\n",
      "INFO:cmdstanpy:compiler options: stanc_options=None, cpp_options=None\n",
      "INFO:cmdstanpy:compiled model file: /home/dashadower/git_repos/aria/regression/failure_bma/gaussianprocess/models/hier_gp_weak/hier_gp_weak\n"
     ]
    }
   ],
   "source": [
    "gp_model_dir = \"models/hier_gp_weak/hier_gp_weak.stan\"\n",
    "gp_model = CmdStanModel(stan_file=gp_model_dir) #compile_model(layer3_path)"
   ]
  },
  {
   "cell_type": "code",
   "execution_count": 5,
   "metadata": {},
   "outputs": [],
   "source": [
    "data = {\n",
    "    \"N\": int(data_count),\n",
    "    \"N_engines\": int(engine_count),\n",
    "    \"N_ships\": int(ship_count),\n",
    "    \"N_ages_obs\": int(max_age),\n",
    "    \"N_ages\": int(max_age),\n",
    "    \"ship_engine_ind\": ship_engine_mapping_data[\"engine\"].values.tolist(),\n",
    "    \"ship_ind\": ship_data[\"ship\"].values.tolist(),\n",
    "    \"age_ind\": age_data[\"age\"].values.tolist(),\n",
    "    \"y\": y_data[\"y\"].values.tolist(),\n",
    "}"
   ]
  },
  {
   "cell_type": "code",
   "execution_count": 6,
   "metadata": {},
   "outputs": [
    {
     "name": "stderr",
     "output_type": "stream",
     "text": [
      "INFO:cmdstanpy:start chain 1\n",
      "INFO:cmdstanpy:start chain 2\n",
      "INFO:cmdstanpy:start chain 3\n",
      "INFO:cmdstanpy:start chain 4\n",
      "INFO:cmdstanpy:finish chain 2\n",
      "INFO:cmdstanpy:finish chain 3\n",
      "INFO:cmdstanpy:finish chain 4\n",
      "INFO:cmdstanpy:finish chain 1\n"
     ]
    },
    {
     "name": "stdout",
     "output_type": "stream",
     "text": [
      "CPU times: user 959 ms, sys: 43.2 ms, total: 1 s\n",
      "Wall time: 1min 47s\n"
     ]
    }
   ],
   "source": [
    "%%time\n",
    "gp_model_fit = gp_model.sample(chains=4, cores=4, data=data)"
   ]
  },
  {
   "cell_type": "code",
   "execution_count": 7,
   "metadata": {},
   "outputs": [
    {
     "name": "stderr",
     "output_type": "stream",
     "text": [
      "INFO:cmdstanpy:Processing csv files: /tmp/tmp09jvrmnr/hier_gp_weak-202008201903-1-5hkccbx1.csv, /tmp/tmp09jvrmnr/hier_gp_weak-202008201903-2-567986vk.csv, /tmp/tmp09jvrmnr/hier_gp_weak-202008201903-3-ye98k8hb.csv, /tmp/tmp09jvrmnr/hier_gp_weak-202008201903-4-g9qvasmh.csv\n",
      "\n",
      "Checking sampler transitions treedepth.\n",
      "Treedepth satisfactory for all transitions.\n",
      "\n",
      "Checking sampler transitions for divergences.\n",
      "8 of 4000 (0.2%) transitions ended with a divergence.\n",
      "These divergent transitions indicate that HMC is not fully able to explore the posterior distribution.\n",
      "Try increasing adapt delta closer to 1.\n",
      "If this doesn't remove all divergences, try to reparameterize the model.\n",
      "\n",
      "Checking E-BFMI - sampler transitions HMC potential energy.\n",
      "E-BFMI satisfactory for all transitions.\n",
      "\n",
      "Effective sample size satisfactory.\n",
      "\n",
      "Split R-hat values satisfactory all parameters.\n",
      "\n",
      "Processing complete.\n"
     ]
    },
    {
     "data": {
      "text/plain": [
       "\"Processing csv files: /tmp/tmp09jvrmnr/hier_gp_weak-202008201903-1-5hkccbx1.csv, /tmp/tmp09jvrmnr/hier_gp_weak-202008201903-2-567986vk.csv, /tmp/tmp09jvrmnr/hier_gp_weak-202008201903-3-ye98k8hb.csv, /tmp/tmp09jvrmnr/hier_gp_weak-202008201903-4-g9qvasmh.csv\\n\\nChecking sampler transitions treedepth.\\nTreedepth satisfactory for all transitions.\\n\\nChecking sampler transitions for divergences.\\n8 of 4000 (0.2%) transitions ended with a divergence.\\nThese divergent transitions indicate that HMC is not fully able to explore the posterior distribution.\\nTry increasing adapt delta closer to 1.\\nIf this doesn't remove all divergences, try to reparameterize the model.\\n\\nChecking E-BFMI - sampler transitions HMC potential energy.\\nE-BFMI satisfactory for all transitions.\\n\\nEffective sample size satisfactory.\\n\\nSplit R-hat values satisfactory all parameters.\\n\\nProcessing complete.\""
      ]
     },
     "execution_count": 7,
     "metadata": {},
     "output_type": "execute_result"
    }
   ],
   "source": [
    "gp_model_fit.diagnose()"
   ]
  },
  {
   "cell_type": "code",
   "execution_count": 11,
   "metadata": {
    "scrolled": true
   },
   "outputs": [
    {
     "data": {
      "text/html": [
       "<div>\n",
       "<style scoped>\n",
       "    .dataframe tbody tr th:only-of-type {\n",
       "        vertical-align: middle;\n",
       "    }\n",
       "\n",
       "    .dataframe tbody tr th {\n",
       "        vertical-align: top;\n",
       "    }\n",
       "\n",
       "    .dataframe thead th {\n",
       "        text-align: right;\n",
       "    }\n",
       "</style>\n",
       "<table border=\"1\" class=\"dataframe\">\n",
       "  <thead>\n",
       "    <tr style=\"text-align: right;\">\n",
       "      <th></th>\n",
       "      <th>Mean</th>\n",
       "      <th>MCSE</th>\n",
       "      <th>StdDev</th>\n",
       "      <th>5%</th>\n",
       "      <th>50%</th>\n",
       "      <th>95%</th>\n",
       "      <th>N_Eff</th>\n",
       "      <th>N_Eff/s</th>\n",
       "      <th>R_hat</th>\n",
       "    </tr>\n",
       "    <tr>\n",
       "      <th>name</th>\n",
       "      <th></th>\n",
       "      <th></th>\n",
       "      <th></th>\n",
       "      <th></th>\n",
       "      <th></th>\n",
       "      <th></th>\n",
       "      <th></th>\n",
       "      <th></th>\n",
       "      <th></th>\n",
       "    </tr>\n",
       "  </thead>\n",
       "  <tbody>\n",
       "    <tr>\n",
       "      <th>lp__</th>\n",
       "      <td>-1690.530000</td>\n",
       "      <td>1.190230</td>\n",
       "      <td>44.435200</td>\n",
       "      <td>-1763.510000</td>\n",
       "      <td>-1690.030000</td>\n",
       "      <td>-1618.900000</td>\n",
       "      <td>1393.77</td>\n",
       "      <td>9.53344</td>\n",
       "      <td>1.003260</td>\n",
       "    </tr>\n",
       "    <tr>\n",
       "      <th>GP_engine_std[1,1]</th>\n",
       "      <td>-0.560002</td>\n",
       "      <td>0.015886</td>\n",
       "      <td>0.914025</td>\n",
       "      <td>-2.076010</td>\n",
       "      <td>-0.541049</td>\n",
       "      <td>0.954632</td>\n",
       "      <td>3310.46</td>\n",
       "      <td>22.64360</td>\n",
       "      <td>1.000180</td>\n",
       "    </tr>\n",
       "    <tr>\n",
       "      <th>GP_engine_std[1,2]</th>\n",
       "      <td>-0.003667</td>\n",
       "      <td>0.013634</td>\n",
       "      <td>0.985008</td>\n",
       "      <td>-1.630410</td>\n",
       "      <td>-0.002359</td>\n",
       "      <td>1.615490</td>\n",
       "      <td>5219.58</td>\n",
       "      <td>35.70210</td>\n",
       "      <td>0.999482</td>\n",
       "    </tr>\n",
       "    <tr>\n",
       "      <th>GP_engine_std[1,3]</th>\n",
       "      <td>-0.130395</td>\n",
       "      <td>0.013972</td>\n",
       "      <td>0.985673</td>\n",
       "      <td>-1.751580</td>\n",
       "      <td>-0.139653</td>\n",
       "      <td>1.527770</td>\n",
       "      <td>4977.02</td>\n",
       "      <td>34.04300</td>\n",
       "      <td>1.000440</td>\n",
       "    </tr>\n",
       "    <tr>\n",
       "      <th>GP_engine_std[1,4]</th>\n",
       "      <td>-0.239437</td>\n",
       "      <td>0.013883</td>\n",
       "      <td>0.711238</td>\n",
       "      <td>-1.386270</td>\n",
       "      <td>-0.254082</td>\n",
       "      <td>0.938996</td>\n",
       "      <td>2624.76</td>\n",
       "      <td>17.95340</td>\n",
       "      <td>0.999672</td>\n",
       "    </tr>\n",
       "    <tr>\n",
       "      <th>...</th>\n",
       "      <td>...</td>\n",
       "      <td>...</td>\n",
       "      <td>...</td>\n",
       "      <td>...</td>\n",
       "      <td>...</td>\n",
       "      <td>...</td>\n",
       "      <td>...</td>\n",
       "      <td>...</td>\n",
       "      <td>...</td>\n",
       "    </tr>\n",
       "    <tr>\n",
       "      <th>obs_mu[649]</th>\n",
       "      <td>1.995940</td>\n",
       "      <td>0.004783</td>\n",
       "      <td>0.332223</td>\n",
       "      <td>1.446380</td>\n",
       "      <td>1.992260</td>\n",
       "      <td>2.549380</td>\n",
       "      <td>4824.35</td>\n",
       "      <td>32.99870</td>\n",
       "      <td>0.999653</td>\n",
       "    </tr>\n",
       "    <tr>\n",
       "      <th>obs_mu[650]</th>\n",
       "      <td>0.575321</td>\n",
       "      <td>0.004743</td>\n",
       "      <td>0.366695</td>\n",
       "      <td>-0.031381</td>\n",
       "      <td>0.575643</td>\n",
       "      <td>1.183860</td>\n",
       "      <td>5978.39</td>\n",
       "      <td>40.89240</td>\n",
       "      <td>1.000490</td>\n",
       "    </tr>\n",
       "    <tr>\n",
       "      <th>obs_mu[651]</th>\n",
       "      <td>0.774906</td>\n",
       "      <td>0.004652</td>\n",
       "      <td>0.366392</td>\n",
       "      <td>0.166063</td>\n",
       "      <td>0.771600</td>\n",
       "      <td>1.384070</td>\n",
       "      <td>6204.33</td>\n",
       "      <td>42.43780</td>\n",
       "      <td>0.999457</td>\n",
       "    </tr>\n",
       "    <tr>\n",
       "      <th>obs_mu[652]</th>\n",
       "      <td>0.295280</td>\n",
       "      <td>0.005578</td>\n",
       "      <td>0.416426</td>\n",
       "      <td>-0.403117</td>\n",
       "      <td>0.301266</td>\n",
       "      <td>0.978050</td>\n",
       "      <td>5572.91</td>\n",
       "      <td>38.11890</td>\n",
       "      <td>0.999397</td>\n",
       "    </tr>\n",
       "    <tr>\n",
       "      <th>obs_mu[653]</th>\n",
       "      <td>1.488020</td>\n",
       "      <td>0.004807</td>\n",
       "      <td>0.369825</td>\n",
       "      <td>0.870708</td>\n",
       "      <td>1.486790</td>\n",
       "      <td>2.110890</td>\n",
       "      <td>5920.13</td>\n",
       "      <td>40.49390</td>\n",
       "      <td>1.000070</td>\n",
       "    </tr>\n",
       "  </tbody>\n",
       "</table>\n",
       "<p>7394 rows × 9 columns</p>\n",
       "</div>"
      ],
      "text/plain": [
       "                           Mean      MCSE     StdDev           5%  \\\n",
       "name                                                                \n",
       "lp__               -1690.530000  1.190230  44.435200 -1763.510000   \n",
       "GP_engine_std[1,1]    -0.560002  0.015886   0.914025    -2.076010   \n",
       "GP_engine_std[1,2]    -0.003667  0.013634   0.985008    -1.630410   \n",
       "GP_engine_std[1,3]    -0.130395  0.013972   0.985673    -1.751580   \n",
       "GP_engine_std[1,4]    -0.239437  0.013883   0.711238    -1.386270   \n",
       "...                         ...       ...        ...          ...   \n",
       "obs_mu[649]            1.995940  0.004783   0.332223     1.446380   \n",
       "obs_mu[650]            0.575321  0.004743   0.366695    -0.031381   \n",
       "obs_mu[651]            0.774906  0.004652   0.366392     0.166063   \n",
       "obs_mu[652]            0.295280  0.005578   0.416426    -0.403117   \n",
       "obs_mu[653]            1.488020  0.004807   0.369825     0.870708   \n",
       "\n",
       "                            50%          95%    N_Eff   N_Eff/s     R_hat  \n",
       "name                                                                       \n",
       "lp__               -1690.030000 -1618.900000  1393.77   9.53344  1.003260  \n",
       "GP_engine_std[1,1]    -0.541049     0.954632  3310.46  22.64360  1.000180  \n",
       "GP_engine_std[1,2]    -0.002359     1.615490  5219.58  35.70210  0.999482  \n",
       "GP_engine_std[1,3]    -0.139653     1.527770  4977.02  34.04300  1.000440  \n",
       "GP_engine_std[1,4]    -0.254082     0.938996  2624.76  17.95340  0.999672  \n",
       "...                         ...          ...      ...       ...       ...  \n",
       "obs_mu[649]            1.992260     2.549380  4824.35  32.99870  0.999653  \n",
       "obs_mu[650]            0.575643     1.183860  5978.39  40.89240  1.000490  \n",
       "obs_mu[651]            0.771600     1.384070  6204.33  42.43780  0.999457  \n",
       "obs_mu[652]            0.301266     0.978050  5572.91  38.11890  0.999397  \n",
       "obs_mu[653]            1.486790     2.110890  5920.13  40.49390  1.000070  \n",
       "\n",
       "[7394 rows x 9 columns]"
      ]
     },
     "execution_count": 11,
     "metadata": {},
     "output_type": "execute_result"
    }
   ],
   "source": [
    "#pd.set_option('display.max_rows', None)\n",
    "gp_model_fit.summary()"
   ]
  },
  {
   "cell_type": "code",
   "execution_count": 9,
   "metadata": {},
   "outputs": [],
   "source": [
    "pd.reset_option(\"display.max_rows\")"
   ]
  },
  {
   "cell_type": "code",
   "execution_count": 55,
   "metadata": {
    "scrolled": false
   },
   "outputs": [
    {
     "data": {
      "text/plain": [
       "(653,)"
      ]
     },
     "execution_count": 55,
     "metadata": {},
     "output_type": "execute_result"
    }
   ],
   "source": [
    "yhat = np.mean(gp_model_fit.get_drawset(params = [\"obs_mu\"]), axis=0).values\n",
    "yhat.shape"
   ]
  },
  {
   "cell_type": "code",
   "execution_count": 56,
   "metadata": {},
   "outputs": [
    {
     "data": {
      "text/plain": [
       "[<matplotlib.lines.Line2D at 0x7f2783859d68>]"
      ]
     },
     "execution_count": 56,
     "metadata": {},
     "output_type": "execute_result"
    },
    {
     "data": {
      "image/png": "[encoded data removed]",
      "text/plain": [
       "<Figure size 432x288 with 1 Axes>"
      ]
     },
     "metadata": {
      "needs_background": "light"
     },
     "output_type": "display_data"
    }
   ],
   "source": [
    "ax = plt.gca()\n",
    "ax.plot(np.arange(0, yhat.shape[0]), yhat)\n",
    "ax.plot(np.arange(0, yhat.shape[0]), y_data[\"y\"].values)"
   ]
  },
  {
   "cell_type": "code",
   "execution_count": 20,
   "metadata": {},
   "outputs": [
    {
     "data": {
      "text/plain": [
       "1.0763037108867184"
      ]
     },
     "execution_count": 20,
     "metadata": {},
     "output_type": "execute_result"
    }
   ],
   "source": [
    "smape(yhat,y_data[\"y\"].values)"
   ]
  },
  {
   "cell_type": "code",
   "execution_count": 21,
   "metadata": {},
   "outputs": [
    {
     "data": {
      "text/plain": [
       "0.4253616853756639"
      ]
     },
     "execution_count": 21,
     "metadata": {},
     "output_type": "execute_result"
    }
   ],
   "source": [
    "mean_squared_error(yhat, y_data[\"y\"].values)"
   ]
  },
  {
   "cell_type": "markdown",
   "metadata": {},
   "source": [
    "inverse transformed results:"
   ]
  },
  {
   "cell_type": "code",
   "execution_count": 35,
   "metadata": {},
   "outputs": [],
   "source": [
    "yhat = transformer.inverse_transform(yhat.reshape(-1, 1)).flatten()"
   ]
  },
  {
   "cell_type": "code",
   "execution_count": 36,
   "metadata": {},
   "outputs": [
    {
     "data": {
      "text/plain": [
       "0.6136954517326798"
      ]
     },
     "execution_count": 36,
     "metadata": {},
     "output_type": "execute_result"
    }
   ],
   "source": [
    "smape(yhat, transformer.inverse_transform(y_data[\"y\"].values.reshape(-1, 1)).flatten())"
   ]
  },
  {
   "cell_type": "code",
   "execution_count": 37,
   "metadata": {
    "scrolled": true
   },
   "outputs": [
    {
     "data": {
      "text/plain": [
       "689.6303441895094"
      ]
     },
     "execution_count": 37,
     "metadata": {},
     "output_type": "execute_result"
    }
   ],
   "source": [
    "mean_squared_error(yhat, transformer.inverse_transform(y_data[\"y\"].values.reshape(-1, 1)).flatten())"
   ]
  },
  {
   "cell_type": "code",
   "execution_count": 54,
   "metadata": {},
   "outputs": [
    {
     "data": {
      "text/plain": [
       "24.86230692444338"
      ]
     },
     "execution_count": 54,
     "metadata": {},
     "output_type": "execute_result"
    }
   ],
   "source": [
    "res = transformer.inverse_transform(y_data[\"y\"].values.reshape(-1, 1)).flatten() - yhat\n",
    "np.std(res)\n"
   ]
  },
  {
   "cell_type": "code",
   "execution_count": 51,
   "metadata": {},
   "outputs": [
    {
     "data": {
      "text/plain": [
       "8.455533015977407"
      ]
     },
     "execution_count": 51,
     "metadata": {},
     "output_type": "execute_result"
    }
   ],
   "source": [
    "np.mean(res)"
   ]
  },
  {
   "cell_type": "code",
   "execution_count": 52,
   "metadata": {
    "scrolled": false
   },
   "outputs": [
    {
     "data": {
      "text/plain": [
       "<matplotlib.collections.PathCollection at 0x7f27838d4898>"
      ]
     },
     "execution_count": 52,
     "metadata": {},
     "output_type": "execute_result"
    },
    {
     "data": {
      "image/png": "[encoded data removed]",
      "text/plain": [
       "<Figure size 432x288 with 1 Axes>"
      ]
     },
     "metadata": {
      "needs_background": "light"
     },
     "output_type": "display_data"
    }
   ],
   "source": [
    "ax = plt.gca()\n",
    "ax.scatter(np.arange(0, yhat.shape[0]), res, label=\"y - yhat\")"
   ]
  },
  {
   "cell_type": "code",
   "execution_count": 53,
   "metadata": {},
   "outputs": [
    {
     "data": {
      "text/plain": [
       "<matplotlib.axes._subplots.AxesSubplot at 0x7f278387b240>"
      ]
     },
     "execution_count": 53,
     "metadata": {},
     "output_type": "execute_result"
    },
    {
     "data": {
      "image/png": "[encoded data removed]",
      "text/plain": [
       "<Figure size 432x288 with 1 Axes>"
      ]
     },
     "metadata": {
      "needs_background": "light"
     },
     "output_type": "display_data"
    }
   ],
   "source": [
    "pd.Series(res).plot.kde()"
   ]
  },
  {
   "cell_type": "code",
   "execution_count": null,
   "metadata": {},
   "outputs": [],
   "source": [
    "az_inference = az.from_cmdstanpy(gp_model_fit, posterior_predictive=\"y_new_pred\", log_likelihood=\"loglik\", observed_data={\"y\": y_data[\"y\"].values.tolist()})"
   ]
  },
  {
   "cell_type": "code",
   "execution_count": null,
   "metadata": {},
   "outputs": [],
   "source": [
    "az_inference"
   ]
  },
  {
   "cell_type": "code",
   "execution_count": null,
   "metadata": {},
   "outputs": [],
   "source": []
  }
 ],
 "metadata": {
  "kernelspec": {
   "display_name": "aria-venv",
   "language": "python",
   "name": "aria-venv"
  },
  "language_info": {
   "codemirror_mode": {
    "name": "ipython",
    "version": 3
   },
   "file_extension": ".py",
   "mimetype": "text/x-python",
   "name": "python",
   "nbconvert_exporter": "python",
   "pygments_lexer": "ipython3",
   "version": "3.6.9"
  }
 },
 "nbformat": 4,
 "nbformat_minor": 4
}
